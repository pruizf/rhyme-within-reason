{
 "cells": [
  {
   "cell_type": "code",
   "execution_count": 1,
   "metadata": {},
   "outputs": [],
   "source": [
    "import pandas as pd\n",
    "import numpy as np"
   ]
  },
  {
   "cell_type": "code",
   "execution_count": 2,
   "metadata": {},
   "outputs": [],
   "source": [
    "dfname = \"../../data/dataframe-all_lem_sets_emos_with_nrc_filt.tsv\""
   ]
  },
  {
   "cell_type": "code",
   "execution_count": 3,
   "metadata": {
    "scrolled": true
   },
   "outputs": [
    {
     "name": "stderr",
     "output_type": "stream",
     "text": [
      "/tmp/ipykernel_13986/1818802837.py:1: DtypeWarning: Columns (7) have mixed types. Specify dtype option on import or set low_memory=False.\n",
      "  df = pd.read_csv(dfname, sep=\"\\t\")\n"
     ]
    }
   ],
   "source": [
    "df = pd.read_csv(dfname, sep=\"\\t\")"
   ]
  },
  {
   "cell_type": "markdown",
   "metadata": {},
   "source": [
    "## Compare octave and sestet for valence"
   ]
  },
  {
   "cell_type": "code",
   "execution_count": 4,
   "metadata": {},
   "outputs": [],
   "source": [
    "df.insert(9, 'OctSes', np.where(df['StanzaNumber'].isin((1, 2)), \"octave\", \"sestet\"))"
   ]
  },
  {
   "cell_type": "code",
   "execution_count": 5,
   "metadata": {
    "collapsed": true
   },
   "outputs": [
    {
     "data": {
      "text/html": [
       "<div>\n",
       "<style scoped>\n",
       "    .dataframe tbody tr th:only-of-type {\n",
       "        vertical-align: middle;\n",
       "    }\n",
       "\n",
       "    .dataframe tbody tr th {\n",
       "        vertical-align: top;\n",
       "    }\n",
       "\n",
       "    .dataframe thead th {\n",
       "        text-align: right;\n",
       "    }\n",
       "</style>\n",
       "<table border=\"1\" class=\"dataframe\">\n",
       "  <thead>\n",
       "    <tr style=\"text-align: right;\">\n",
       "      <th></th>\n",
       "      <th>ID</th>\n",
       "      <th>SonnetID</th>\n",
       "      <th>Incipit</th>\n",
       "      <th>AuthorID</th>\n",
       "      <th>Author</th>\n",
       "      <th>Gender</th>\n",
       "      <th>Date</th>\n",
       "      <th>LineNumber</th>\n",
       "      <th>StanzaNumber</th>\n",
       "      <th>OctSes</th>\n",
       "      <th>...</th>\n",
       "      <th>trust_call</th>\n",
       "      <th>trust_echo</th>\n",
       "      <th>arousal_call</th>\n",
       "      <th>arousal_echo</th>\n",
       "      <th>dominance_call</th>\n",
       "      <th>dominance_echo</th>\n",
       "      <th>valence_call</th>\n",
       "      <th>valence_echo</th>\n",
       "      <th>valence_call_b</th>\n",
       "      <th>valence_echo_b</th>\n",
       "    </tr>\n",
       "  </thead>\n",
       "  <tbody>\n",
       "    <tr>\n",
       "      <th>0</th>\n",
       "      <td>d823e266</td>\n",
       "      <td>s001g_0001</td>\n",
       "      <td>Valencia insigne, patria venturosa,</td>\n",
       "      <td>disco_001g</td>\n",
       "      <td>Joseph Aragonés</td>\n",
       "      <td>M</td>\n",
       "      <td>17</td>\n",
       "      <td>1.0</td>\n",
       "      <td>1.0</td>\n",
       "      <td>octave</td>\n",
       "      <td>...</td>\n",
       "      <td>NaN</td>\n",
       "      <td>NaN</td>\n",
       "      <td>0.802837</td>\n",
       "      <td>NaN</td>\n",
       "      <td>NaN</td>\n",
       "      <td>NaN</td>\n",
       "      <td>0.708280</td>\n",
       "      <td>NaN</td>\n",
       "      <td>1</td>\n",
       "      <td>9</td>\n",
       "    </tr>\n",
       "    <tr>\n",
       "      <th>1</th>\n",
       "      <td>d823e272</td>\n",
       "      <td>s001g_0001</td>\n",
       "      <td>Valencia insigne, patria venturosa,</td>\n",
       "      <td>disco_001g</td>\n",
       "      <td>Joseph Aragonés</td>\n",
       "      <td>M</td>\n",
       "      <td>17</td>\n",
       "      <td>2.0</td>\n",
       "      <td>1.0</td>\n",
       "      <td>octave</td>\n",
       "      <td>...</td>\n",
       "      <td>NaN</td>\n",
       "      <td>NaN</td>\n",
       "      <td>NaN</td>\n",
       "      <td>0.615603</td>\n",
       "      <td>NaN</td>\n",
       "      <td>NaN</td>\n",
       "      <td>NaN</td>\n",
       "      <td>0.540127</td>\n",
       "      <td>9</td>\n",
       "      <td>1</td>\n",
       "    </tr>\n",
       "    <tr>\n",
       "      <th>2</th>\n",
       "      <td>d823e278</td>\n",
       "      <td>s001g_0001</td>\n",
       "      <td>Valencia insigne, patria venturosa,</td>\n",
       "      <td>disco_001g</td>\n",
       "      <td>Joseph Aragonés</td>\n",
       "      <td>M</td>\n",
       "      <td>17</td>\n",
       "      <td>3.0</td>\n",
       "      <td>1.0</td>\n",
       "      <td>octave</td>\n",
       "      <td>...</td>\n",
       "      <td>NaN</td>\n",
       "      <td>NaN</td>\n",
       "      <td>0.615603</td>\n",
       "      <td>0.690000</td>\n",
       "      <td>NaN</td>\n",
       "      <td>0.7630</td>\n",
       "      <td>0.540127</td>\n",
       "      <td>0.875000</td>\n",
       "      <td>1</td>\n",
       "      <td>1</td>\n",
       "    </tr>\n",
       "    <tr>\n",
       "      <th>3</th>\n",
       "      <td>d823e284</td>\n",
       "      <td>s001g_0001</td>\n",
       "      <td>Valencia insigne, patria venturosa,</td>\n",
       "      <td>disco_001g</td>\n",
       "      <td>Joseph Aragonés</td>\n",
       "      <td>M</td>\n",
       "      <td>17</td>\n",
       "      <td>4.0</td>\n",
       "      <td>1.0</td>\n",
       "      <td>octave</td>\n",
       "      <td>...</td>\n",
       "      <td>NaN</td>\n",
       "      <td>NaN</td>\n",
       "      <td>NaN</td>\n",
       "      <td>0.451064</td>\n",
       "      <td>NaN</td>\n",
       "      <td>NaN</td>\n",
       "      <td>NaN</td>\n",
       "      <td>0.815287</td>\n",
       "      <td>9</td>\n",
       "      <td>1</td>\n",
       "    </tr>\n",
       "    <tr>\n",
       "      <th>4</th>\n",
       "      <td>d823e293</td>\n",
       "      <td>s001g_0001</td>\n",
       "      <td>Valencia insigne, patria venturosa,</td>\n",
       "      <td>disco_001g</td>\n",
       "      <td>Joseph Aragonés</td>\n",
       "      <td>M</td>\n",
       "      <td>17</td>\n",
       "      <td>1.0</td>\n",
       "      <td>2.0</td>\n",
       "      <td>octave</td>\n",
       "      <td>...</td>\n",
       "      <td>NaN</td>\n",
       "      <td>NaN</td>\n",
       "      <td>0.451064</td>\n",
       "      <td>0.510638</td>\n",
       "      <td>NaN</td>\n",
       "      <td>NaN</td>\n",
       "      <td>0.815287</td>\n",
       "      <td>0.796178</td>\n",
       "      <td>1</td>\n",
       "      <td>1</td>\n",
       "    </tr>\n",
       "    <tr>\n",
       "      <th>5</th>\n",
       "      <td>d823e299</td>\n",
       "      <td>s001g_0001</td>\n",
       "      <td>Valencia insigne, patria venturosa,</td>\n",
       "      <td>disco_001g</td>\n",
       "      <td>Joseph Aragonés</td>\n",
       "      <td>M</td>\n",
       "      <td>17</td>\n",
       "      <td>2.0</td>\n",
       "      <td>2.0</td>\n",
       "      <td>octave</td>\n",
       "      <td>...</td>\n",
       "      <td>NaN</td>\n",
       "      <td>0.617</td>\n",
       "      <td>0.690000</td>\n",
       "      <td>0.803500</td>\n",
       "      <td>0.7630</td>\n",
       "      <td>0.7665</td>\n",
       "      <td>0.875000</td>\n",
       "      <td>0.865000</td>\n",
       "      <td>1</td>\n",
       "      <td>1</td>\n",
       "    </tr>\n",
       "    <tr>\n",
       "      <th>6</th>\n",
       "      <td>d823e305</td>\n",
       "      <td>s001g_0001</td>\n",
       "      <td>Valencia insigne, patria venturosa,</td>\n",
       "      <td>disco_001g</td>\n",
       "      <td>Joseph Aragonés</td>\n",
       "      <td>M</td>\n",
       "      <td>17</td>\n",
       "      <td>3.0</td>\n",
       "      <td>2.0</td>\n",
       "      <td>octave</td>\n",
       "      <td>...</td>\n",
       "      <td>0.617</td>\n",
       "      <td>NaN</td>\n",
       "      <td>0.803500</td>\n",
       "      <td>NaN</td>\n",
       "      <td>0.7665</td>\n",
       "      <td>NaN</td>\n",
       "      <td>0.865000</td>\n",
       "      <td>NaN</td>\n",
       "      <td>1</td>\n",
       "      <td>9</td>\n",
       "    </tr>\n",
       "    <tr>\n",
       "      <th>7</th>\n",
       "      <td>d823e311</td>\n",
       "      <td>s001g_0001</td>\n",
       "      <td>Valencia insigne, patria venturosa,</td>\n",
       "      <td>disco_001g</td>\n",
       "      <td>Joseph Aragonés</td>\n",
       "      <td>M</td>\n",
       "      <td>17</td>\n",
       "      <td>4.0</td>\n",
       "      <td>2.0</td>\n",
       "      <td>octave</td>\n",
       "      <td>...</td>\n",
       "      <td>NaN</td>\n",
       "      <td>NaN</td>\n",
       "      <td>0.510638</td>\n",
       "      <td>NaN</td>\n",
       "      <td>NaN</td>\n",
       "      <td>NaN</td>\n",
       "      <td>0.796178</td>\n",
       "      <td>NaN</td>\n",
       "      <td>1</td>\n",
       "      <td>9</td>\n",
       "    </tr>\n",
       "    <tr>\n",
       "      <th>8</th>\n",
       "      <td>d823e320</td>\n",
       "      <td>s001g_0001</td>\n",
       "      <td>Valencia insigne, patria venturosa,</td>\n",
       "      <td>disco_001g</td>\n",
       "      <td>Joseph Aragonés</td>\n",
       "      <td>M</td>\n",
       "      <td>17</td>\n",
       "      <td>1.0</td>\n",
       "      <td>3.0</td>\n",
       "      <td>sestet</td>\n",
       "      <td>...</td>\n",
       "      <td>NaN</td>\n",
       "      <td>0.477</td>\n",
       "      <td>0.496454</td>\n",
       "      <td>0.460993</td>\n",
       "      <td>NaN</td>\n",
       "      <td>NaN</td>\n",
       "      <td>0.738854</td>\n",
       "      <td>0.764331</td>\n",
       "      <td>1</td>\n",
       "      <td>1</td>\n",
       "    </tr>\n",
       "    <tr>\n",
       "      <th>9</th>\n",
       "      <td>d823e326</td>\n",
       "      <td>s001g_0001</td>\n",
       "      <td>Valencia insigne, patria venturosa,</td>\n",
       "      <td>disco_001g</td>\n",
       "      <td>Joseph Aragonés</td>\n",
       "      <td>M</td>\n",
       "      <td>17</td>\n",
       "      <td>2.0</td>\n",
       "      <td>3.0</td>\n",
       "      <td>sestet</td>\n",
       "      <td>...</td>\n",
       "      <td>NaN</td>\n",
       "      <td>NaN</td>\n",
       "      <td>0.553191</td>\n",
       "      <td>0.659574</td>\n",
       "      <td>NaN</td>\n",
       "      <td>NaN</td>\n",
       "      <td>0.541401</td>\n",
       "      <td>0.592357</td>\n",
       "      <td>1</td>\n",
       "      <td>1</td>\n",
       "    </tr>\n",
       "    <tr>\n",
       "      <th>10</th>\n",
       "      <td>d823e332</td>\n",
       "      <td>s001g_0001</td>\n",
       "      <td>Valencia insigne, patria venturosa,</td>\n",
       "      <td>disco_001g</td>\n",
       "      <td>Joseph Aragonés</td>\n",
       "      <td>M</td>\n",
       "      <td>17</td>\n",
       "      <td>3.0</td>\n",
       "      <td>3.0</td>\n",
       "      <td>sestet</td>\n",
       "      <td>...</td>\n",
       "      <td>NaN</td>\n",
       "      <td>NaN</td>\n",
       "      <td>NaN</td>\n",
       "      <td>0.652482</td>\n",
       "      <td>NaN</td>\n",
       "      <td>NaN</td>\n",
       "      <td>NaN</td>\n",
       "      <td>0.598726</td>\n",
       "      <td>9</td>\n",
       "      <td>1</td>\n",
       "    </tr>\n",
       "    <tr>\n",
       "      <th>11</th>\n",
       "      <td>d823e341</td>\n",
       "      <td>s001g_0001</td>\n",
       "      <td>Valencia insigne, patria venturosa,</td>\n",
       "      <td>disco_001g</td>\n",
       "      <td>Joseph Aragonés</td>\n",
       "      <td>M</td>\n",
       "      <td>17</td>\n",
       "      <td>1.0</td>\n",
       "      <td>4.0</td>\n",
       "      <td>sestet</td>\n",
       "      <td>...</td>\n",
       "      <td>0.477</td>\n",
       "      <td>NaN</td>\n",
       "      <td>0.460993</td>\n",
       "      <td>NaN</td>\n",
       "      <td>NaN</td>\n",
       "      <td>NaN</td>\n",
       "      <td>0.764331</td>\n",
       "      <td>NaN</td>\n",
       "      <td>1</td>\n",
       "      <td>9</td>\n",
       "    </tr>\n",
       "    <tr>\n",
       "      <th>12</th>\n",
       "      <td>d823e347</td>\n",
       "      <td>s001g_0001</td>\n",
       "      <td>Valencia insigne, patria venturosa,</td>\n",
       "      <td>disco_001g</td>\n",
       "      <td>Joseph Aragonés</td>\n",
       "      <td>M</td>\n",
       "      <td>17</td>\n",
       "      <td>2.0</td>\n",
       "      <td>4.0</td>\n",
       "      <td>sestet</td>\n",
       "      <td>...</td>\n",
       "      <td>NaN</td>\n",
       "      <td>NaN</td>\n",
       "      <td>0.659574</td>\n",
       "      <td>NaN</td>\n",
       "      <td>NaN</td>\n",
       "      <td>NaN</td>\n",
       "      <td>0.592357</td>\n",
       "      <td>NaN</td>\n",
       "      <td>1</td>\n",
       "      <td>9</td>\n",
       "    </tr>\n",
       "    <tr>\n",
       "      <th>13</th>\n",
       "      <td>d823e353</td>\n",
       "      <td>s001g_0001</td>\n",
       "      <td>Valencia insigne, patria venturosa,</td>\n",
       "      <td>disco_001g</td>\n",
       "      <td>Joseph Aragonés</td>\n",
       "      <td>M</td>\n",
       "      <td>17</td>\n",
       "      <td>3.0</td>\n",
       "      <td>4.0</td>\n",
       "      <td>sestet</td>\n",
       "      <td>...</td>\n",
       "      <td>NaN</td>\n",
       "      <td>NaN</td>\n",
       "      <td>0.652482</td>\n",
       "      <td>NaN</td>\n",
       "      <td>NaN</td>\n",
       "      <td>NaN</td>\n",
       "      <td>0.598726</td>\n",
       "      <td>NaN</td>\n",
       "      <td>1</td>\n",
       "      <td>9</td>\n",
       "    </tr>\n",
       "    <tr>\n",
       "      <th>14</th>\n",
       "      <td>d471e279</td>\n",
       "      <td>s002g_0002</td>\n",
       "      <td>¿Qué es esto Entendimiento? ¿Qué revuelta</td>\n",
       "      <td>disco_002g</td>\n",
       "      <td>Benito Arias Montano</td>\n",
       "      <td>M</td>\n",
       "      <td>16</td>\n",
       "      <td>1.0</td>\n",
       "      <td>1.0</td>\n",
       "      <td>octave</td>\n",
       "      <td>...</td>\n",
       "      <td>NaN</td>\n",
       "      <td>NaN</td>\n",
       "      <td>0.794326</td>\n",
       "      <td>0.531915</td>\n",
       "      <td>NaN</td>\n",
       "      <td>NaN</td>\n",
       "      <td>0.356688</td>\n",
       "      <td>0.554140</td>\n",
       "      <td>0</td>\n",
       "      <td>1</td>\n",
       "    </tr>\n",
       "    <tr>\n",
       "      <th>15</th>\n",
       "      <td>d471e285</td>\n",
       "      <td>s002g_0002</td>\n",
       "      <td>¿Qué es esto Entendimiento? ¿Qué revuelta</td>\n",
       "      <td>disco_002g</td>\n",
       "      <td>Benito Arias Montano</td>\n",
       "      <td>M</td>\n",
       "      <td>16</td>\n",
       "      <td>2.0</td>\n",
       "      <td>1.0</td>\n",
       "      <td>octave</td>\n",
       "      <td>...</td>\n",
       "      <td>NaN</td>\n",
       "      <td>NaN</td>\n",
       "      <td>0.687943</td>\n",
       "      <td>0.531915</td>\n",
       "      <td>NaN</td>\n",
       "      <td>NaN</td>\n",
       "      <td>0.566879</td>\n",
       "      <td>0.331210</td>\n",
       "      <td>1</td>\n",
       "      <td>0</td>\n",
       "    </tr>\n",
       "    <tr>\n",
       "      <th>16</th>\n",
       "      <td>d471e291</td>\n",
       "      <td>s002g_0002</td>\n",
       "      <td>¿Qué es esto Entendimiento? ¿Qué revuelta</td>\n",
       "      <td>disco_002g</td>\n",
       "      <td>Benito Arias Montano</td>\n",
       "      <td>M</td>\n",
       "      <td>16</td>\n",
       "      <td>3.0</td>\n",
       "      <td>1.0</td>\n",
       "      <td>octave</td>\n",
       "      <td>...</td>\n",
       "      <td>NaN</td>\n",
       "      <td>NaN</td>\n",
       "      <td>0.531915</td>\n",
       "      <td>0.435461</td>\n",
       "      <td>NaN</td>\n",
       "      <td>NaN</td>\n",
       "      <td>0.331210</td>\n",
       "      <td>0.584713</td>\n",
       "      <td>0</td>\n",
       "      <td>1</td>\n",
       "    </tr>\n",
       "    <tr>\n",
       "      <th>17</th>\n",
       "      <td>d471e297</td>\n",
       "      <td>s002g_0002</td>\n",
       "      <td>¿Qué es esto Entendimiento? ¿Qué revuelta</td>\n",
       "      <td>disco_002g</td>\n",
       "      <td>Benito Arias Montano</td>\n",
       "      <td>M</td>\n",
       "      <td>16</td>\n",
       "      <td>4.0</td>\n",
       "      <td>1.0</td>\n",
       "      <td>octave</td>\n",
       "      <td>...</td>\n",
       "      <td>NaN</td>\n",
       "      <td>NaN</td>\n",
       "      <td>0.531915</td>\n",
       "      <td>0.482270</td>\n",
       "      <td>NaN</td>\n",
       "      <td>NaN</td>\n",
       "      <td>0.554140</td>\n",
       "      <td>0.566879</td>\n",
       "      <td>1</td>\n",
       "      <td>1</td>\n",
       "    </tr>\n",
       "    <tr>\n",
       "      <th>18</th>\n",
       "      <td>d471e306</td>\n",
       "      <td>s002g_0002</td>\n",
       "      <td>¿Qué es esto Entendimiento? ¿Qué revuelta</td>\n",
       "      <td>disco_002g</td>\n",
       "      <td>Benito Arias Montano</td>\n",
       "      <td>M</td>\n",
       "      <td>16</td>\n",
       "      <td>1.0</td>\n",
       "      <td>2.0</td>\n",
       "      <td>octave</td>\n",
       "      <td>...</td>\n",
       "      <td>NaN</td>\n",
       "      <td>NaN</td>\n",
       "      <td>0.482270</td>\n",
       "      <td>0.531915</td>\n",
       "      <td>NaN</td>\n",
       "      <td>NaN</td>\n",
       "      <td>0.566879</td>\n",
       "      <td>0.554140</td>\n",
       "      <td>1</td>\n",
       "      <td>1</td>\n",
       "    </tr>\n",
       "    <tr>\n",
       "      <th>19</th>\n",
       "      <td>d471e312</td>\n",
       "      <td>s002g_0002</td>\n",
       "      <td>¿Qué es esto Entendimiento? ¿Qué revuelta</td>\n",
       "      <td>disco_002g</td>\n",
       "      <td>Benito Arias Montano</td>\n",
       "      <td>M</td>\n",
       "      <td>16</td>\n",
       "      <td>2.0</td>\n",
       "      <td>2.0</td>\n",
       "      <td>octave</td>\n",
       "      <td>...</td>\n",
       "      <td>NaN</td>\n",
       "      <td>NaN</td>\n",
       "      <td>0.435461</td>\n",
       "      <td>0.531915</td>\n",
       "      <td>NaN</td>\n",
       "      <td>NaN</td>\n",
       "      <td>0.584713</td>\n",
       "      <td>0.564331</td>\n",
       "      <td>1</td>\n",
       "      <td>1</td>\n",
       "    </tr>\n",
       "    <tr>\n",
       "      <th>20</th>\n",
       "      <td>d471e318</td>\n",
       "      <td>s002g_0002</td>\n",
       "      <td>¿Qué es esto Entendimiento? ¿Qué revuelta</td>\n",
       "      <td>disco_002g</td>\n",
       "      <td>Benito Arias Montano</td>\n",
       "      <td>M</td>\n",
       "      <td>16</td>\n",
       "      <td>3.0</td>\n",
       "      <td>2.0</td>\n",
       "      <td>octave</td>\n",
       "      <td>...</td>\n",
       "      <td>NaN</td>\n",
       "      <td>NaN</td>\n",
       "      <td>0.531915</td>\n",
       "      <td>NaN</td>\n",
       "      <td>NaN</td>\n",
       "      <td>NaN</td>\n",
       "      <td>0.564331</td>\n",
       "      <td>NaN</td>\n",
       "      <td>1</td>\n",
       "      <td>9</td>\n",
       "    </tr>\n",
       "    <tr>\n",
       "      <th>21</th>\n",
       "      <td>d471e324</td>\n",
       "      <td>s002g_0002</td>\n",
       "      <td>¿Qué es esto Entendimiento? ¿Qué revuelta</td>\n",
       "      <td>disco_002g</td>\n",
       "      <td>Benito Arias Montano</td>\n",
       "      <td>M</td>\n",
       "      <td>16</td>\n",
       "      <td>4.0</td>\n",
       "      <td>2.0</td>\n",
       "      <td>octave</td>\n",
       "      <td>...</td>\n",
       "      <td>NaN</td>\n",
       "      <td>NaN</td>\n",
       "      <td>0.446809</td>\n",
       "      <td>NaN</td>\n",
       "      <td>NaN</td>\n",
       "      <td>NaN</td>\n",
       "      <td>0.515924</td>\n",
       "      <td>NaN</td>\n",
       "      <td>1</td>\n",
       "      <td>9</td>\n",
       "    </tr>\n",
       "    <tr>\n",
       "      <th>22</th>\n",
       "      <td>d471e333</td>\n",
       "      <td>s002g_0002</td>\n",
       "      <td>¿Qué es esto Entendimiento? ¿Qué revuelta</td>\n",
       "      <td>disco_002g</td>\n",
       "      <td>Benito Arias Montano</td>\n",
       "      <td>M</td>\n",
       "      <td>16</td>\n",
       "      <td>1.0</td>\n",
       "      <td>3.0</td>\n",
       "      <td>sestet</td>\n",
       "      <td>...</td>\n",
       "      <td>NaN</td>\n",
       "      <td>NaN</td>\n",
       "      <td>NaN</td>\n",
       "      <td>0.368794</td>\n",
       "      <td>NaN</td>\n",
       "      <td>NaN</td>\n",
       "      <td>NaN</td>\n",
       "      <td>0.636943</td>\n",
       "      <td>9</td>\n",
       "      <td>1</td>\n",
       "    </tr>\n",
       "    <tr>\n",
       "      <th>23</th>\n",
       "      <td>d471e339</td>\n",
       "      <td>s002g_0002</td>\n",
       "      <td>¿Qué es esto Entendimiento? ¿Qué revuelta</td>\n",
       "      <td>disco_002g</td>\n",
       "      <td>Benito Arias Montano</td>\n",
       "      <td>M</td>\n",
       "      <td>16</td>\n",
       "      <td>2.0</td>\n",
       "      <td>3.0</td>\n",
       "      <td>sestet</td>\n",
       "      <td>...</td>\n",
       "      <td>NaN</td>\n",
       "      <td>NaN</td>\n",
       "      <td>NaN</td>\n",
       "      <td>NaN</td>\n",
       "      <td>NaN</td>\n",
       "      <td>NaN</td>\n",
       "      <td>NaN</td>\n",
       "      <td>NaN</td>\n",
       "      <td>9</td>\n",
       "      <td>9</td>\n",
       "    </tr>\n",
       "    <tr>\n",
       "      <th>24</th>\n",
       "      <td>d471e345</td>\n",
       "      <td>s002g_0002</td>\n",
       "      <td>¿Qué es esto Entendimiento? ¿Qué revuelta</td>\n",
       "      <td>disco_002g</td>\n",
       "      <td>Benito Arias Montano</td>\n",
       "      <td>M</td>\n",
       "      <td>16</td>\n",
       "      <td>3.0</td>\n",
       "      <td>3.0</td>\n",
       "      <td>sestet</td>\n",
       "      <td>...</td>\n",
       "      <td>NaN</td>\n",
       "      <td>NaN</td>\n",
       "      <td>0.510638</td>\n",
       "      <td>0.574468</td>\n",
       "      <td>NaN</td>\n",
       "      <td>NaN</td>\n",
       "      <td>0.624204</td>\n",
       "      <td>0.757962</td>\n",
       "      <td>1</td>\n",
       "      <td>1</td>\n",
       "    </tr>\n",
       "  </tbody>\n",
       "</table>\n",
       "<p>25 rows × 62 columns</p>\n",
       "</div>"
      ],
      "text/plain": [
       "          ID    SonnetID                                    Incipit  \\\n",
       "0   d823e266  s001g_0001        Valencia insigne, patria venturosa,   \n",
       "1   d823e272  s001g_0001        Valencia insigne, patria venturosa,   \n",
       "2   d823e278  s001g_0001        Valencia insigne, patria venturosa,   \n",
       "3   d823e284  s001g_0001        Valencia insigne, patria venturosa,   \n",
       "4   d823e293  s001g_0001        Valencia insigne, patria venturosa,   \n",
       "5   d823e299  s001g_0001        Valencia insigne, patria venturosa,   \n",
       "6   d823e305  s001g_0001        Valencia insigne, patria venturosa,   \n",
       "7   d823e311  s001g_0001        Valencia insigne, patria venturosa,   \n",
       "8   d823e320  s001g_0001        Valencia insigne, patria venturosa,   \n",
       "9   d823e326  s001g_0001        Valencia insigne, patria venturosa,   \n",
       "10  d823e332  s001g_0001        Valencia insigne, patria venturosa,   \n",
       "11  d823e341  s001g_0001        Valencia insigne, patria venturosa,   \n",
       "12  d823e347  s001g_0001        Valencia insigne, patria venturosa,   \n",
       "13  d823e353  s001g_0001        Valencia insigne, patria venturosa,   \n",
       "14  d471e279  s002g_0002  ¿Qué es esto Entendimiento? ¿Qué revuelta   \n",
       "15  d471e285  s002g_0002  ¿Qué es esto Entendimiento? ¿Qué revuelta   \n",
       "16  d471e291  s002g_0002  ¿Qué es esto Entendimiento? ¿Qué revuelta   \n",
       "17  d471e297  s002g_0002  ¿Qué es esto Entendimiento? ¿Qué revuelta   \n",
       "18  d471e306  s002g_0002  ¿Qué es esto Entendimiento? ¿Qué revuelta   \n",
       "19  d471e312  s002g_0002  ¿Qué es esto Entendimiento? ¿Qué revuelta   \n",
       "20  d471e318  s002g_0002  ¿Qué es esto Entendimiento? ¿Qué revuelta   \n",
       "21  d471e324  s002g_0002  ¿Qué es esto Entendimiento? ¿Qué revuelta   \n",
       "22  d471e333  s002g_0002  ¿Qué es esto Entendimiento? ¿Qué revuelta   \n",
       "23  d471e339  s002g_0002  ¿Qué es esto Entendimiento? ¿Qué revuelta   \n",
       "24  d471e345  s002g_0002  ¿Qué es esto Entendimiento? ¿Qué revuelta   \n",
       "\n",
       "      AuthorID                Author Gender Date LineNumber  StanzaNumber  \\\n",
       "0   disco_001g       Joseph Aragonés      M   17        1.0           1.0   \n",
       "1   disco_001g       Joseph Aragonés      M   17        2.0           1.0   \n",
       "2   disco_001g       Joseph Aragonés      M   17        3.0           1.0   \n",
       "3   disco_001g       Joseph Aragonés      M   17        4.0           1.0   \n",
       "4   disco_001g       Joseph Aragonés      M   17        1.0           2.0   \n",
       "5   disco_001g       Joseph Aragonés      M   17        2.0           2.0   \n",
       "6   disco_001g       Joseph Aragonés      M   17        3.0           2.0   \n",
       "7   disco_001g       Joseph Aragonés      M   17        4.0           2.0   \n",
       "8   disco_001g       Joseph Aragonés      M   17        1.0           3.0   \n",
       "9   disco_001g       Joseph Aragonés      M   17        2.0           3.0   \n",
       "10  disco_001g       Joseph Aragonés      M   17        3.0           3.0   \n",
       "11  disco_001g       Joseph Aragonés      M   17        1.0           4.0   \n",
       "12  disco_001g       Joseph Aragonés      M   17        2.0           4.0   \n",
       "13  disco_001g       Joseph Aragonés      M   17        3.0           4.0   \n",
       "14  disco_002g  Benito Arias Montano      M   16        1.0           1.0   \n",
       "15  disco_002g  Benito Arias Montano      M   16        2.0           1.0   \n",
       "16  disco_002g  Benito Arias Montano      M   16        3.0           1.0   \n",
       "17  disco_002g  Benito Arias Montano      M   16        4.0           1.0   \n",
       "18  disco_002g  Benito Arias Montano      M   16        1.0           2.0   \n",
       "19  disco_002g  Benito Arias Montano      M   16        2.0           2.0   \n",
       "20  disco_002g  Benito Arias Montano      M   16        3.0           2.0   \n",
       "21  disco_002g  Benito Arias Montano      M   16        4.0           2.0   \n",
       "22  disco_002g  Benito Arias Montano      M   16        1.0           3.0   \n",
       "23  disco_002g  Benito Arias Montano      M   16        2.0           3.0   \n",
       "24  disco_002g  Benito Arias Montano      M   16        3.0           3.0   \n",
       "\n",
       "    OctSes  ... trust_call trust_echo arousal_call arousal_echo  \\\n",
       "0   octave  ...        NaN        NaN     0.802837          NaN   \n",
       "1   octave  ...        NaN        NaN          NaN     0.615603   \n",
       "2   octave  ...        NaN        NaN     0.615603     0.690000   \n",
       "3   octave  ...        NaN        NaN          NaN     0.451064   \n",
       "4   octave  ...        NaN        NaN     0.451064     0.510638   \n",
       "5   octave  ...        NaN      0.617     0.690000     0.803500   \n",
       "6   octave  ...      0.617        NaN     0.803500          NaN   \n",
       "7   octave  ...        NaN        NaN     0.510638          NaN   \n",
       "8   sestet  ...        NaN      0.477     0.496454     0.460993   \n",
       "9   sestet  ...        NaN        NaN     0.553191     0.659574   \n",
       "10  sestet  ...        NaN        NaN          NaN     0.652482   \n",
       "11  sestet  ...      0.477        NaN     0.460993          NaN   \n",
       "12  sestet  ...        NaN        NaN     0.659574          NaN   \n",
       "13  sestet  ...        NaN        NaN     0.652482          NaN   \n",
       "14  octave  ...        NaN        NaN     0.794326     0.531915   \n",
       "15  octave  ...        NaN        NaN     0.687943     0.531915   \n",
       "16  octave  ...        NaN        NaN     0.531915     0.435461   \n",
       "17  octave  ...        NaN        NaN     0.531915     0.482270   \n",
       "18  octave  ...        NaN        NaN     0.482270     0.531915   \n",
       "19  octave  ...        NaN        NaN     0.435461     0.531915   \n",
       "20  octave  ...        NaN        NaN     0.531915          NaN   \n",
       "21  octave  ...        NaN        NaN     0.446809          NaN   \n",
       "22  sestet  ...        NaN        NaN          NaN     0.368794   \n",
       "23  sestet  ...        NaN        NaN          NaN          NaN   \n",
       "24  sestet  ...        NaN        NaN     0.510638     0.574468   \n",
       "\n",
       "   dominance_call dominance_echo valence_call valence_echo  valence_call_b  \\\n",
       "0             NaN            NaN     0.708280          NaN               1   \n",
       "1             NaN            NaN          NaN     0.540127               9   \n",
       "2             NaN         0.7630     0.540127     0.875000               1   \n",
       "3             NaN            NaN          NaN     0.815287               9   \n",
       "4             NaN            NaN     0.815287     0.796178               1   \n",
       "5          0.7630         0.7665     0.875000     0.865000               1   \n",
       "6          0.7665            NaN     0.865000          NaN               1   \n",
       "7             NaN            NaN     0.796178          NaN               1   \n",
       "8             NaN            NaN     0.738854     0.764331               1   \n",
       "9             NaN            NaN     0.541401     0.592357               1   \n",
       "10            NaN            NaN          NaN     0.598726               9   \n",
       "11            NaN            NaN     0.764331          NaN               1   \n",
       "12            NaN            NaN     0.592357          NaN               1   \n",
       "13            NaN            NaN     0.598726          NaN               1   \n",
       "14            NaN            NaN     0.356688     0.554140               0   \n",
       "15            NaN            NaN     0.566879     0.331210               1   \n",
       "16            NaN            NaN     0.331210     0.584713               0   \n",
       "17            NaN            NaN     0.554140     0.566879               1   \n",
       "18            NaN            NaN     0.566879     0.554140               1   \n",
       "19            NaN            NaN     0.584713     0.564331               1   \n",
       "20            NaN            NaN     0.564331          NaN               1   \n",
       "21            NaN            NaN     0.515924          NaN               1   \n",
       "22            NaN            NaN          NaN     0.636943               9   \n",
       "23            NaN            NaN          NaN          NaN               9   \n",
       "24            NaN            NaN     0.624204     0.757962               1   \n",
       "\n",
       "    valence_echo_b  \n",
       "0                9  \n",
       "1                1  \n",
       "2                1  \n",
       "3                1  \n",
       "4                1  \n",
       "5                1  \n",
       "6                9  \n",
       "7                9  \n",
       "8                1  \n",
       "9                1  \n",
       "10               1  \n",
       "11               9  \n",
       "12               9  \n",
       "13               9  \n",
       "14               1  \n",
       "15               0  \n",
       "16               1  \n",
       "17               1  \n",
       "18               1  \n",
       "19               1  \n",
       "20               9  \n",
       "21               9  \n",
       "22               1  \n",
       "23               9  \n",
       "24               1  \n",
       "\n",
       "[25 rows x 62 columns]"
      ]
     },
     "execution_count": 5,
     "metadata": {},
     "output_type": "execute_result"
    }
   ],
   "source": [
    "df.head(25)"
   ]
  },
  {
   "cell_type": "code",
   "execution_count": 87,
   "metadata": {},
   "outputs": [
    {
     "name": "stdout",
     "output_type": "stream",
     "text": [
      "<class 'pandas.core.frame.DataFrame'>\n",
      "RangeIndex: 80852 entries, 0 to 80851\n",
      "Data columns (total 62 columns):\n",
      " #   Column             Non-Null Count  Dtype  \n",
      "---  ------             --------------  -----  \n",
      " 0   ID                 80852 non-null  object \n",
      " 1   SonnetID           80852 non-null  object \n",
      " 2   Incipit            80852 non-null  object \n",
      " 3   AuthorID           80852 non-null  object \n",
      " 4   Author             80852 non-null  object \n",
      " 5   Gender             80852 non-null  object \n",
      " 6   Date               80852 non-null  object \n",
      " 7   LineNumber         80852 non-null  object \n",
      " 8   StanzaNumber       80852 non-null  float64\n",
      " 9   OctSes             80852 non-null  object \n",
      " 10  Text               80852 non-null  object \n",
      " 11  Call               80852 non-null  object \n",
      " 12  Echo               54521 non-null  object \n",
      " 13  Set                80786 non-null  object \n",
      " 14  Corpus             80852 non-null  object \n",
      " 15  CallLemma          80852 non-null  object \n",
      " 16  EchoLemma          80852 non-null  object \n",
      " 17  SetLemma           80786 non-null  object \n",
      " 18  call_in_vad        61609 non-null  float64\n",
      " 19  echo_in_vad        41448 non-null  float64\n",
      " 20  call_in_ei         32805 non-null  float64\n",
      " 21  echo_in_ei         22065 non-null  float64\n",
      " 22  call_wf_in_vad     991 non-null    float64\n",
      " 23  echo_wf_in_vad     639 non-null    float64\n",
      " 24  call_wf_in_ei      2155 non-null   float64\n",
      " 25  echo_wf_in_ei      1405 non-null   float64\n",
      " 26  call_in_nvad       4959 non-null   float64\n",
      " 27  echo_in_nvad       3371 non-null   float64\n",
      " 28  call_in_nei        17857 non-null  float64\n",
      " 29  echo_in_nei        11987 non-null  float64\n",
      " 30  call_wf_in_nvad    49 non-null     float64\n",
      " 31  echo_wf_in_nvad    41 non-null     float64\n",
      " 32  call_wf_in_nei     165 non-null    float64\n",
      " 33  echo_wf_in_nei     109 non-null    float64\n",
      " 34  call_in_mls        1920 non-null   float64\n",
      " 35  echo_in_mls        1267 non-null   float64\n",
      " 36  call_wf_in_mls     51 non-null     float64\n",
      " 37  echo_wf_in_mls     38 non-null     float64\n",
      " 38  anger_call         39979 non-null  float64\n",
      " 39  anger_echo         26905 non-null  float64\n",
      " 40  anticipation_call  4843 non-null   float64\n",
      " 41  anticipation_echo  3191 non-null   float64\n",
      " 42  disgust_call       38869 non-null  float64\n",
      " 43  disgust_echo       26133 non-null  float64\n",
      " 44  fear_call          41404 non-null  float64\n",
      " 45  fear_echo          27898 non-null  float64\n",
      " 46  joy_call           42713 non-null  float64\n",
      " 47  joy_echo           28574 non-null  float64\n",
      " 48  sadness_call       40204 non-null  float64\n",
      " 49  sadness_echo       27037 non-null  float64\n",
      " 50  surprise_call      3473 non-null   float64\n",
      " 51  surprise_echo      2330 non-null   float64\n",
      " 52  trust_call         5804 non-null   float64\n",
      " 53  trust_echo         3881 non-null   float64\n",
      " 54  arousal_call       67608 non-null  float64\n",
      " 55  arousal_echo       45499 non-null  float64\n",
      " 56  dominance_call     5008 non-null   float64\n",
      " 57  dominance_echo     3412 non-null   float64\n",
      " 58  valence_call       69579 non-null  float64\n",
      " 59  valence_echo       46804 non-null  float64\n",
      " 60  valence_call_b     80852 non-null  int64  \n",
      " 61  valence_echo_b     80852 non-null  int64  \n",
      "dtypes: float64(43), int64(2), object(17)\n",
      "memory usage: 38.2+ MB\n"
     ]
    }
   ],
   "source": [
    "df.info()"
   ]
  },
  {
   "cell_type": "markdown",
   "metadata": {},
   "source": [
    "## Binary values"
   ]
  },
  {
   "cell_type": "code",
   "execution_count": 6,
   "metadata": {
    "scrolled": true
   },
   "outputs": [],
   "source": [
    "os_groups = df.groupby(['SonnetID', 'OctSes', 'valence_call_b'])['valence_call_b'].aggregate('count').unstack().unstack()"
   ]
  },
  {
   "cell_type": "code",
   "execution_count": 7,
   "metadata": {
    "scrolled": true
   },
   "outputs": [
    {
     "data": {
      "text/html": [
       "<div>\n",
       "<style scoped>\n",
       "    .dataframe tbody tr th:only-of-type {\n",
       "        vertical-align: middle;\n",
       "    }\n",
       "\n",
       "    .dataframe tbody tr th {\n",
       "        vertical-align: top;\n",
       "    }\n",
       "\n",
       "    .dataframe thead tr th {\n",
       "        text-align: left;\n",
       "    }\n",
       "\n",
       "    .dataframe thead tr:last-of-type th {\n",
       "        text-align: right;\n",
       "    }\n",
       "</style>\n",
       "<table border=\"1\" class=\"dataframe\">\n",
       "  <thead>\n",
       "    <tr>\n",
       "      <th>valence_call_b</th>\n",
       "      <th colspan=\"2\" halign=\"left\">0</th>\n",
       "      <th colspan=\"2\" halign=\"left\">1</th>\n",
       "      <th colspan=\"2\" halign=\"left\">9</th>\n",
       "    </tr>\n",
       "    <tr>\n",
       "      <th>OctSes</th>\n",
       "      <th>octave</th>\n",
       "      <th>sestet</th>\n",
       "      <th>octave</th>\n",
       "      <th>sestet</th>\n",
       "      <th>octave</th>\n",
       "      <th>sestet</th>\n",
       "    </tr>\n",
       "    <tr>\n",
       "      <th>SonnetID</th>\n",
       "      <th></th>\n",
       "      <th></th>\n",
       "      <th></th>\n",
       "      <th></th>\n",
       "      <th></th>\n",
       "      <th></th>\n",
       "    </tr>\n",
       "  </thead>\n",
       "  <tbody>\n",
       "    <tr>\n",
       "      <th>AgustinDeSalazarYTorres_1</th>\n",
       "      <td>NaN</td>\n",
       "      <td>1.0</td>\n",
       "      <td>4.0</td>\n",
       "      <td>5.0</td>\n",
       "      <td>4.0</td>\n",
       "      <td>NaN</td>\n",
       "    </tr>\n",
       "    <tr>\n",
       "      <th>AgustinDeSalazarYTorres_10</th>\n",
       "      <td>4.0</td>\n",
       "      <td>3.0</td>\n",
       "      <td>4.0</td>\n",
       "      <td>3.0</td>\n",
       "      <td>NaN</td>\n",
       "      <td>NaN</td>\n",
       "    </tr>\n",
       "    <tr>\n",
       "      <th>AgustinDeSalazarYTorres_11</th>\n",
       "      <td>2.0</td>\n",
       "      <td>3.0</td>\n",
       "      <td>4.0</td>\n",
       "      <td>3.0</td>\n",
       "      <td>2.0</td>\n",
       "      <td>NaN</td>\n",
       "    </tr>\n",
       "    <tr>\n",
       "      <th>AgustinDeSalazarYTorres_12</th>\n",
       "      <td>2.0</td>\n",
       "      <td>1.0</td>\n",
       "      <td>3.0</td>\n",
       "      <td>4.0</td>\n",
       "      <td>3.0</td>\n",
       "      <td>1.0</td>\n",
       "    </tr>\n",
       "    <tr>\n",
       "      <th>AgustinDeSalazarYTorres_13</th>\n",
       "      <td>3.0</td>\n",
       "      <td>2.0</td>\n",
       "      <td>4.0</td>\n",
       "      <td>3.0</td>\n",
       "      <td>1.0</td>\n",
       "      <td>1.0</td>\n",
       "    </tr>\n",
       "    <tr>\n",
       "      <th>...</th>\n",
       "      <td>...</td>\n",
       "      <td>...</td>\n",
       "      <td>...</td>\n",
       "      <td>...</td>\n",
       "      <td>...</td>\n",
       "      <td>...</td>\n",
       "    </tr>\n",
       "    <tr>\n",
       "      <th>s485g_1012</th>\n",
       "      <td>3.0</td>\n",
       "      <td>2.0</td>\n",
       "      <td>5.0</td>\n",
       "      <td>3.0</td>\n",
       "      <td>NaN</td>\n",
       "      <td>1.0</td>\n",
       "    </tr>\n",
       "    <tr>\n",
       "      <th>s486g_1013_01</th>\n",
       "      <td>2.0</td>\n",
       "      <td>1.0</td>\n",
       "      <td>3.0</td>\n",
       "      <td>4.0</td>\n",
       "      <td>3.0</td>\n",
       "      <td>1.0</td>\n",
       "    </tr>\n",
       "    <tr>\n",
       "      <th>s486g_1013_02</th>\n",
       "      <td>4.0</td>\n",
       "      <td>1.0</td>\n",
       "      <td>3.0</td>\n",
       "      <td>5.0</td>\n",
       "      <td>1.0</td>\n",
       "      <td>NaN</td>\n",
       "    </tr>\n",
       "    <tr>\n",
       "      <th>s487g_1014</th>\n",
       "      <td>1.0</td>\n",
       "      <td>2.0</td>\n",
       "      <td>4.0</td>\n",
       "      <td>3.0</td>\n",
       "      <td>3.0</td>\n",
       "      <td>1.0</td>\n",
       "    </tr>\n",
       "    <tr>\n",
       "      <th>s488g_1015</th>\n",
       "      <td>2.0</td>\n",
       "      <td>NaN</td>\n",
       "      <td>4.0</td>\n",
       "      <td>2.0</td>\n",
       "      <td>2.0</td>\n",
       "      <td>4.0</td>\n",
       "    </tr>\n",
       "  </tbody>\n",
       "</table>\n",
       "<p>5814 rows × 6 columns</p>\n",
       "</div>"
      ],
      "text/plain": [
       "valence_call_b                  0             1             9       \n",
       "OctSes                     octave sestet octave sestet octave sestet\n",
       "SonnetID                                                            \n",
       "AgustinDeSalazarYTorres_1     NaN    1.0    4.0    5.0    4.0    NaN\n",
       "AgustinDeSalazarYTorres_10    4.0    3.0    4.0    3.0    NaN    NaN\n",
       "AgustinDeSalazarYTorres_11    2.0    3.0    4.0    3.0    2.0    NaN\n",
       "AgustinDeSalazarYTorres_12    2.0    1.0    3.0    4.0    3.0    1.0\n",
       "AgustinDeSalazarYTorres_13    3.0    2.0    4.0    3.0    1.0    1.0\n",
       "...                           ...    ...    ...    ...    ...    ...\n",
       "s485g_1012                    3.0    2.0    5.0    3.0    NaN    1.0\n",
       "s486g_1013_01                 2.0    1.0    3.0    4.0    3.0    1.0\n",
       "s486g_1013_02                 4.0    1.0    3.0    5.0    1.0    NaN\n",
       "s487g_1014                    1.0    2.0    4.0    3.0    3.0    1.0\n",
       "s488g_1015                    2.0    NaN    4.0    2.0    2.0    4.0\n",
       "\n",
       "[5814 rows x 6 columns]"
      ]
     },
     "execution_count": 7,
     "metadata": {},
     "output_type": "execute_result"
    }
   ],
   "source": [
    "os_groups"
   ]
  },
  {
   "cell_type": "code",
   "execution_count": 8,
   "metadata": {},
   "outputs": [
    {
     "data": {
      "text/plain": [
       "pandas.core.frame.DataFrame"
      ]
     },
     "execution_count": 8,
     "metadata": {},
     "output_type": "execute_result"
    }
   ],
   "source": [
    "type(os_groups)"
   ]
  },
  {
   "cell_type": "code",
   "execution_count": 9,
   "metadata": {},
   "outputs": [],
   "source": [
    "og = os_groups"
   ]
  },
  {
   "cell_type": "code",
   "execution_count": 10,
   "metadata": {
    "scrolled": true
   },
   "outputs": [
    {
     "data": {
      "text/plain": [
       "FrozenList([[0, 1, 9], ['octave', 'sestet']])"
      ]
     },
     "execution_count": 10,
     "metadata": {},
     "output_type": "execute_result"
    }
   ],
   "source": [
    "og.columns.levels"
   ]
  },
  {
   "cell_type": "code",
   "execution_count": 11,
   "metadata": {},
   "outputs": [
    {
     "data": {
      "text/plain": [
       "SonnetID\n",
       "AgustinDeSalazarYTorres_1     NaN\n",
       "AgustinDeSalazarYTorres_10    4.0\n",
       "AgustinDeSalazarYTorres_11    2.0\n",
       "AgustinDeSalazarYTorres_12    2.0\n",
       "AgustinDeSalazarYTorres_13    3.0\n",
       "                             ... \n",
       "s485g_1012                    3.0\n",
       "s486g_1013_01                 2.0\n",
       "s486g_1013_02                 4.0\n",
       "s487g_1014                    1.0\n",
       "s488g_1015                    2.0\n",
       "Name: (0, octave), Length: 5814, dtype: float64"
      ]
     },
     "execution_count": 11,
     "metadata": {},
     "output_type": "execute_result"
    }
   ],
   "source": [
    "og.loc[:, (0, 'octave')]"
   ]
  },
  {
   "cell_type": "markdown",
   "metadata": {},
   "source": [
    "Prepare data for a new dataframe with the binary value counts"
   ]
  },
  {
   "cell_type": "code",
   "execution_count": 12,
   "metadata": {},
   "outputs": [],
   "source": [
    "og_new_data =  {'octave_0': og.loc[:, (0, 'octave')],\n",
    "                'octave_1': og.loc[:, (1, 'octave')],\n",
    "                'octave_9': og.loc[:, (9, 'octave')],\n",
    "                'sestet_0': og.loc[:, (0, 'sestet')],\n",
    "                'sestet_1': og.loc[:, (1, 'sestet')],\n",
    "                'sestet_9': og.loc[:, (9, 'sestet')]}"
   ]
  },
  {
   "cell_type": "code",
   "execution_count": 13,
   "metadata": {},
   "outputs": [],
   "source": [
    "og_new_df = pd.DataFrame(og_new_data)"
   ]
  },
  {
   "cell_type": "code",
   "execution_count": 14,
   "metadata": {
    "scrolled": true
   },
   "outputs": [
    {
     "data": {
      "text/html": [
       "<div>\n",
       "<style scoped>\n",
       "    .dataframe tbody tr th:only-of-type {\n",
       "        vertical-align: middle;\n",
       "    }\n",
       "\n",
       "    .dataframe tbody tr th {\n",
       "        vertical-align: top;\n",
       "    }\n",
       "\n",
       "    .dataframe thead th {\n",
       "        text-align: right;\n",
       "    }\n",
       "</style>\n",
       "<table border=\"1\" class=\"dataframe\">\n",
       "  <thead>\n",
       "    <tr style=\"text-align: right;\">\n",
       "      <th></th>\n",
       "      <th>octave_0</th>\n",
       "      <th>octave_1</th>\n",
       "      <th>octave_9</th>\n",
       "      <th>sestet_0</th>\n",
       "      <th>sestet_1</th>\n",
       "      <th>sestet_9</th>\n",
       "    </tr>\n",
       "    <tr>\n",
       "      <th>SonnetID</th>\n",
       "      <th></th>\n",
       "      <th></th>\n",
       "      <th></th>\n",
       "      <th></th>\n",
       "      <th></th>\n",
       "      <th></th>\n",
       "    </tr>\n",
       "  </thead>\n",
       "  <tbody>\n",
       "    <tr>\n",
       "      <th>AgustinDeSalazarYTorres_1</th>\n",
       "      <td>NaN</td>\n",
       "      <td>4.0</td>\n",
       "      <td>4.0</td>\n",
       "      <td>1.0</td>\n",
       "      <td>5.0</td>\n",
       "      <td>NaN</td>\n",
       "    </tr>\n",
       "    <tr>\n",
       "      <th>AgustinDeSalazarYTorres_10</th>\n",
       "      <td>4.0</td>\n",
       "      <td>4.0</td>\n",
       "      <td>NaN</td>\n",
       "      <td>3.0</td>\n",
       "      <td>3.0</td>\n",
       "      <td>NaN</td>\n",
       "    </tr>\n",
       "    <tr>\n",
       "      <th>AgustinDeSalazarYTorres_11</th>\n",
       "      <td>2.0</td>\n",
       "      <td>4.0</td>\n",
       "      <td>2.0</td>\n",
       "      <td>3.0</td>\n",
       "      <td>3.0</td>\n",
       "      <td>NaN</td>\n",
       "    </tr>\n",
       "    <tr>\n",
       "      <th>AgustinDeSalazarYTorres_12</th>\n",
       "      <td>2.0</td>\n",
       "      <td>3.0</td>\n",
       "      <td>3.0</td>\n",
       "      <td>1.0</td>\n",
       "      <td>4.0</td>\n",
       "      <td>1.0</td>\n",
       "    </tr>\n",
       "    <tr>\n",
       "      <th>AgustinDeSalazarYTorres_13</th>\n",
       "      <td>3.0</td>\n",
       "      <td>4.0</td>\n",
       "      <td>1.0</td>\n",
       "      <td>2.0</td>\n",
       "      <td>3.0</td>\n",
       "      <td>1.0</td>\n",
       "    </tr>\n",
       "    <tr>\n",
       "      <th>...</th>\n",
       "      <td>...</td>\n",
       "      <td>...</td>\n",
       "      <td>...</td>\n",
       "      <td>...</td>\n",
       "      <td>...</td>\n",
       "      <td>...</td>\n",
       "    </tr>\n",
       "    <tr>\n",
       "      <th>s485g_1012</th>\n",
       "      <td>3.0</td>\n",
       "      <td>5.0</td>\n",
       "      <td>NaN</td>\n",
       "      <td>2.0</td>\n",
       "      <td>3.0</td>\n",
       "      <td>1.0</td>\n",
       "    </tr>\n",
       "    <tr>\n",
       "      <th>s486g_1013_01</th>\n",
       "      <td>2.0</td>\n",
       "      <td>3.0</td>\n",
       "      <td>3.0</td>\n",
       "      <td>1.0</td>\n",
       "      <td>4.0</td>\n",
       "      <td>1.0</td>\n",
       "    </tr>\n",
       "    <tr>\n",
       "      <th>s486g_1013_02</th>\n",
       "      <td>4.0</td>\n",
       "      <td>3.0</td>\n",
       "      <td>1.0</td>\n",
       "      <td>1.0</td>\n",
       "      <td>5.0</td>\n",
       "      <td>NaN</td>\n",
       "    </tr>\n",
       "    <tr>\n",
       "      <th>s487g_1014</th>\n",
       "      <td>1.0</td>\n",
       "      <td>4.0</td>\n",
       "      <td>3.0</td>\n",
       "      <td>2.0</td>\n",
       "      <td>3.0</td>\n",
       "      <td>1.0</td>\n",
       "    </tr>\n",
       "    <tr>\n",
       "      <th>s488g_1015</th>\n",
       "      <td>2.0</td>\n",
       "      <td>4.0</td>\n",
       "      <td>2.0</td>\n",
       "      <td>NaN</td>\n",
       "      <td>2.0</td>\n",
       "      <td>4.0</td>\n",
       "    </tr>\n",
       "  </tbody>\n",
       "</table>\n",
       "<p>5814 rows × 6 columns</p>\n",
       "</div>"
      ],
      "text/plain": [
       "                            octave_0  octave_1  octave_9  sestet_0  sestet_1  \\\n",
       "SonnetID                                                                       \n",
       "AgustinDeSalazarYTorres_1        NaN       4.0       4.0       1.0       5.0   \n",
       "AgustinDeSalazarYTorres_10       4.0       4.0       NaN       3.0       3.0   \n",
       "AgustinDeSalazarYTorres_11       2.0       4.0       2.0       3.0       3.0   \n",
       "AgustinDeSalazarYTorres_12       2.0       3.0       3.0       1.0       4.0   \n",
       "AgustinDeSalazarYTorres_13       3.0       4.0       1.0       2.0       3.0   \n",
       "...                              ...       ...       ...       ...       ...   \n",
       "s485g_1012                       3.0       5.0       NaN       2.0       3.0   \n",
       "s486g_1013_01                    2.0       3.0       3.0       1.0       4.0   \n",
       "s486g_1013_02                    4.0       3.0       1.0       1.0       5.0   \n",
       "s487g_1014                       1.0       4.0       3.0       2.0       3.0   \n",
       "s488g_1015                       2.0       4.0       2.0       NaN       2.0   \n",
       "\n",
       "                            sestet_9  \n",
       "SonnetID                              \n",
       "AgustinDeSalazarYTorres_1        NaN  \n",
       "AgustinDeSalazarYTorres_10       NaN  \n",
       "AgustinDeSalazarYTorres_11       NaN  \n",
       "AgustinDeSalazarYTorres_12       1.0  \n",
       "AgustinDeSalazarYTorres_13       1.0  \n",
       "...                              ...  \n",
       "s485g_1012                       1.0  \n",
       "s486g_1013_01                    1.0  \n",
       "s486g_1013_02                    NaN  \n",
       "s487g_1014                       1.0  \n",
       "s488g_1015                       4.0  \n",
       "\n",
       "[5814 rows x 6 columns]"
      ]
     },
     "execution_count": 14,
     "metadata": {},
     "output_type": "execute_result"
    }
   ],
   "source": [
    "og_new_df"
   ]
  },
  {
   "cell_type": "code",
   "execution_count": 15,
   "metadata": {},
   "outputs": [],
   "source": [
    "og_new_df = og_new_df.rename_axis('SonnetID').reset_index()"
   ]
  },
  {
   "cell_type": "code",
   "execution_count": 16,
   "metadata": {
    "scrolled": true
   },
   "outputs": [
    {
     "data": {
      "text/html": [
       "<div>\n",
       "<style scoped>\n",
       "    .dataframe tbody tr th:only-of-type {\n",
       "        vertical-align: middle;\n",
       "    }\n",
       "\n",
       "    .dataframe tbody tr th {\n",
       "        vertical-align: top;\n",
       "    }\n",
       "\n",
       "    .dataframe thead th {\n",
       "        text-align: right;\n",
       "    }\n",
       "</style>\n",
       "<table border=\"1\" class=\"dataframe\">\n",
       "  <thead>\n",
       "    <tr style=\"text-align: right;\">\n",
       "      <th></th>\n",
       "      <th>SonnetID</th>\n",
       "      <th>octave_0</th>\n",
       "      <th>octave_1</th>\n",
       "      <th>octave_9</th>\n",
       "      <th>sestet_0</th>\n",
       "      <th>sestet_1</th>\n",
       "      <th>sestet_9</th>\n",
       "    </tr>\n",
       "  </thead>\n",
       "  <tbody>\n",
       "    <tr>\n",
       "      <th>0</th>\n",
       "      <td>AgustinDeSalazarYTorres_1</td>\n",
       "      <td>NaN</td>\n",
       "      <td>4.0</td>\n",
       "      <td>4.0</td>\n",
       "      <td>1.0</td>\n",
       "      <td>5.0</td>\n",
       "      <td>NaN</td>\n",
       "    </tr>\n",
       "    <tr>\n",
       "      <th>1</th>\n",
       "      <td>AgustinDeSalazarYTorres_10</td>\n",
       "      <td>4.0</td>\n",
       "      <td>4.0</td>\n",
       "      <td>NaN</td>\n",
       "      <td>3.0</td>\n",
       "      <td>3.0</td>\n",
       "      <td>NaN</td>\n",
       "    </tr>\n",
       "    <tr>\n",
       "      <th>2</th>\n",
       "      <td>AgustinDeSalazarYTorres_11</td>\n",
       "      <td>2.0</td>\n",
       "      <td>4.0</td>\n",
       "      <td>2.0</td>\n",
       "      <td>3.0</td>\n",
       "      <td>3.0</td>\n",
       "      <td>NaN</td>\n",
       "    </tr>\n",
       "    <tr>\n",
       "      <th>3</th>\n",
       "      <td>AgustinDeSalazarYTorres_12</td>\n",
       "      <td>2.0</td>\n",
       "      <td>3.0</td>\n",
       "      <td>3.0</td>\n",
       "      <td>1.0</td>\n",
       "      <td>4.0</td>\n",
       "      <td>1.0</td>\n",
       "    </tr>\n",
       "    <tr>\n",
       "      <th>4</th>\n",
       "      <td>AgustinDeSalazarYTorres_13</td>\n",
       "      <td>3.0</td>\n",
       "      <td>4.0</td>\n",
       "      <td>1.0</td>\n",
       "      <td>2.0</td>\n",
       "      <td>3.0</td>\n",
       "      <td>1.0</td>\n",
       "    </tr>\n",
       "    <tr>\n",
       "      <th>...</th>\n",
       "      <td>...</td>\n",
       "      <td>...</td>\n",
       "      <td>...</td>\n",
       "      <td>...</td>\n",
       "      <td>...</td>\n",
       "      <td>...</td>\n",
       "      <td>...</td>\n",
       "    </tr>\n",
       "    <tr>\n",
       "      <th>5809</th>\n",
       "      <td>s485g_1012</td>\n",
       "      <td>3.0</td>\n",
       "      <td>5.0</td>\n",
       "      <td>NaN</td>\n",
       "      <td>2.0</td>\n",
       "      <td>3.0</td>\n",
       "      <td>1.0</td>\n",
       "    </tr>\n",
       "    <tr>\n",
       "      <th>5810</th>\n",
       "      <td>s486g_1013_01</td>\n",
       "      <td>2.0</td>\n",
       "      <td>3.0</td>\n",
       "      <td>3.0</td>\n",
       "      <td>1.0</td>\n",
       "      <td>4.0</td>\n",
       "      <td>1.0</td>\n",
       "    </tr>\n",
       "    <tr>\n",
       "      <th>5811</th>\n",
       "      <td>s486g_1013_02</td>\n",
       "      <td>4.0</td>\n",
       "      <td>3.0</td>\n",
       "      <td>1.0</td>\n",
       "      <td>1.0</td>\n",
       "      <td>5.0</td>\n",
       "      <td>NaN</td>\n",
       "    </tr>\n",
       "    <tr>\n",
       "      <th>5812</th>\n",
       "      <td>s487g_1014</td>\n",
       "      <td>1.0</td>\n",
       "      <td>4.0</td>\n",
       "      <td>3.0</td>\n",
       "      <td>2.0</td>\n",
       "      <td>3.0</td>\n",
       "      <td>1.0</td>\n",
       "    </tr>\n",
       "    <tr>\n",
       "      <th>5813</th>\n",
       "      <td>s488g_1015</td>\n",
       "      <td>2.0</td>\n",
       "      <td>4.0</td>\n",
       "      <td>2.0</td>\n",
       "      <td>NaN</td>\n",
       "      <td>2.0</td>\n",
       "      <td>4.0</td>\n",
       "    </tr>\n",
       "  </tbody>\n",
       "</table>\n",
       "<p>5814 rows × 7 columns</p>\n",
       "</div>"
      ],
      "text/plain": [
       "                        SonnetID  octave_0  octave_1  octave_9  sestet_0  \\\n",
       "0      AgustinDeSalazarYTorres_1       NaN       4.0       4.0       1.0   \n",
       "1     AgustinDeSalazarYTorres_10       4.0       4.0       NaN       3.0   \n",
       "2     AgustinDeSalazarYTorres_11       2.0       4.0       2.0       3.0   \n",
       "3     AgustinDeSalazarYTorres_12       2.0       3.0       3.0       1.0   \n",
       "4     AgustinDeSalazarYTorres_13       3.0       4.0       1.0       2.0   \n",
       "...                          ...       ...       ...       ...       ...   \n",
       "5809                  s485g_1012       3.0       5.0       NaN       2.0   \n",
       "5810               s486g_1013_01       2.0       3.0       3.0       1.0   \n",
       "5811               s486g_1013_02       4.0       3.0       1.0       1.0   \n",
       "5812                  s487g_1014       1.0       4.0       3.0       2.0   \n",
       "5813                  s488g_1015       2.0       4.0       2.0       NaN   \n",
       "\n",
       "      sestet_1  sestet_9  \n",
       "0          5.0       NaN  \n",
       "1          3.0       NaN  \n",
       "2          3.0       NaN  \n",
       "3          4.0       1.0  \n",
       "4          3.0       1.0  \n",
       "...        ...       ...  \n",
       "5809       3.0       1.0  \n",
       "5810       4.0       1.0  \n",
       "5811       5.0       NaN  \n",
       "5812       3.0       1.0  \n",
       "5813       2.0       4.0  \n",
       "\n",
       "[5814 rows x 7 columns]"
      ]
     },
     "execution_count": 16,
     "metadata": {},
     "output_type": "execute_result"
    }
   ],
   "source": [
    "og_new_df"
   ]
  },
  {
   "cell_type": "code",
   "execution_count": 17,
   "metadata": {},
   "outputs": [],
   "source": [
    "df2 = og_new_df"
   ]
  },
  {
   "cell_type": "code",
   "execution_count": 18,
   "metadata": {},
   "outputs": [
    {
     "data": {
      "text/plain": [
       "5814"
      ]
     },
     "execution_count": 18,
     "metadata": {},
     "output_type": "execute_result"
    }
   ],
   "source": [
    "len(df2)"
   ]
  },
  {
   "cell_type": "markdown",
   "metadata": {},
   "source": [
    "Number of left out sonnets given octave which does not add to 8 (or na)"
   ]
  },
  {
   "cell_type": "code",
   "execution_count": 19,
   "metadata": {},
   "outputs": [],
   "source": [
    "no_adds = df2.loc[(df2['octave_0'] + df2['octave_1'] + df2['octave_9']).isin((8, np.nan)) == False]"
   ]
  },
  {
   "cell_type": "code",
   "execution_count": 20,
   "metadata": {},
   "outputs": [
    {
     "data": {
      "text/plain": [
       "98"
      ]
     },
     "execution_count": 20,
     "metadata": {},
     "output_type": "execute_result"
    }
   ],
   "source": [
    "len(no_adds)"
   ]
  },
  {
   "cell_type": "markdown",
   "metadata": {},
   "source": [
    "Number of left out sonnets given sestet which does not add to 6 (or na)"
   ]
  },
  {
   "cell_type": "code",
   "execution_count": 21,
   "metadata": {},
   "outputs": [],
   "source": [
    "no_adds_sestet = df2.loc[(df2['sestet_0'] + df2['sestet_1'] + df2['sestet_9']).isin((6, np.nan)) == False]"
   ]
  },
  {
   "cell_type": "code",
   "execution_count": 22,
   "metadata": {
    "scrolled": true
   },
   "outputs": [
    {
     "data": {
      "text/plain": [
       "86"
      ]
     },
     "execution_count": 22,
     "metadata": {},
     "output_type": "execute_result"
    }
   ],
   "source": [
    "len(no_adds_sestet)"
   ]
  },
  {
   "cell_type": "markdown",
   "metadata": {},
   "source": [
    "Filter to keep only cases where number of rhyme-words found in lexica is above a given threshold both in the octave and in the sestet. Columns ending in *\\_0* and *\\_1* are the ones we need (the *\\_9* ending means that the ryme-word is not in the lexicon)"
   ]
  },
  {
   "cell_type": "code",
   "execution_count": 23,
   "metadata": {},
   "outputs": [],
   "source": [
    "octave_min = 6\n",
    "sestet_min = 5\n",
    "df3 = df2.loc[((df2['octave_0'] + df2['octave_1']) >= octave_min) & ((df2['sestet_0'] + df2['sestet_1']) >= sestet_min)]"
   ]
  },
  {
   "cell_type": "code",
   "execution_count": 24,
   "metadata": {},
   "outputs": [
    {
     "data": {
      "text/html": [
       "<div>\n",
       "<style scoped>\n",
       "    .dataframe tbody tr th:only-of-type {\n",
       "        vertical-align: middle;\n",
       "    }\n",
       "\n",
       "    .dataframe tbody tr th {\n",
       "        vertical-align: top;\n",
       "    }\n",
       "\n",
       "    .dataframe thead th {\n",
       "        text-align: right;\n",
       "    }\n",
       "</style>\n",
       "<table border=\"1\" class=\"dataframe\">\n",
       "  <thead>\n",
       "    <tr style=\"text-align: right;\">\n",
       "      <th></th>\n",
       "      <th>SonnetID</th>\n",
       "      <th>octave_0</th>\n",
       "      <th>octave_1</th>\n",
       "      <th>octave_9</th>\n",
       "      <th>sestet_0</th>\n",
       "      <th>sestet_1</th>\n",
       "      <th>sestet_9</th>\n",
       "    </tr>\n",
       "  </thead>\n",
       "  <tbody>\n",
       "    <tr>\n",
       "      <th>1</th>\n",
       "      <td>AgustinDeSalazarYTorres_10</td>\n",
       "      <td>4.0</td>\n",
       "      <td>4.0</td>\n",
       "      <td>NaN</td>\n",
       "      <td>3.0</td>\n",
       "      <td>3.0</td>\n",
       "      <td>NaN</td>\n",
       "    </tr>\n",
       "    <tr>\n",
       "      <th>2</th>\n",
       "      <td>AgustinDeSalazarYTorres_11</td>\n",
       "      <td>2.0</td>\n",
       "      <td>4.0</td>\n",
       "      <td>2.0</td>\n",
       "      <td>3.0</td>\n",
       "      <td>3.0</td>\n",
       "      <td>NaN</td>\n",
       "    </tr>\n",
       "    <tr>\n",
       "      <th>4</th>\n",
       "      <td>AgustinDeSalazarYTorres_13</td>\n",
       "      <td>3.0</td>\n",
       "      <td>4.0</td>\n",
       "      <td>1.0</td>\n",
       "      <td>2.0</td>\n",
       "      <td>3.0</td>\n",
       "      <td>1.0</td>\n",
       "    </tr>\n",
       "    <tr>\n",
       "      <th>5</th>\n",
       "      <td>AgustinDeSalazarYTorres_14</td>\n",
       "      <td>1.0</td>\n",
       "      <td>7.0</td>\n",
       "      <td>NaN</td>\n",
       "      <td>2.0</td>\n",
       "      <td>4.0</td>\n",
       "      <td>NaN</td>\n",
       "    </tr>\n",
       "    <tr>\n",
       "      <th>8</th>\n",
       "      <td>AgustinDeSalazarYTorres_17</td>\n",
       "      <td>1.0</td>\n",
       "      <td>5.0</td>\n",
       "      <td>2.0</td>\n",
       "      <td>2.0</td>\n",
       "      <td>4.0</td>\n",
       "      <td>NaN</td>\n",
       "    </tr>\n",
       "    <tr>\n",
       "      <th>...</th>\n",
       "      <td>...</td>\n",
       "      <td>...</td>\n",
       "      <td>...</td>\n",
       "      <td>...</td>\n",
       "      <td>...</td>\n",
       "      <td>...</td>\n",
       "      <td>...</td>\n",
       "    </tr>\n",
       "    <tr>\n",
       "      <th>5802</th>\n",
       "      <td>s480g_1005</td>\n",
       "      <td>3.0</td>\n",
       "      <td>5.0</td>\n",
       "      <td>NaN</td>\n",
       "      <td>3.0</td>\n",
       "      <td>2.0</td>\n",
       "      <td>1.0</td>\n",
       "    </tr>\n",
       "    <tr>\n",
       "      <th>5806</th>\n",
       "      <td>s483g_1009</td>\n",
       "      <td>3.0</td>\n",
       "      <td>5.0</td>\n",
       "      <td>NaN</td>\n",
       "      <td>1.0</td>\n",
       "      <td>4.0</td>\n",
       "      <td>1.0</td>\n",
       "    </tr>\n",
       "    <tr>\n",
       "      <th>5808</th>\n",
       "      <td>s484g_1011</td>\n",
       "      <td>3.0</td>\n",
       "      <td>4.0</td>\n",
       "      <td>1.0</td>\n",
       "      <td>2.0</td>\n",
       "      <td>4.0</td>\n",
       "      <td>NaN</td>\n",
       "    </tr>\n",
       "    <tr>\n",
       "      <th>5809</th>\n",
       "      <td>s485g_1012</td>\n",
       "      <td>3.0</td>\n",
       "      <td>5.0</td>\n",
       "      <td>NaN</td>\n",
       "      <td>2.0</td>\n",
       "      <td>3.0</td>\n",
       "      <td>1.0</td>\n",
       "    </tr>\n",
       "    <tr>\n",
       "      <th>5811</th>\n",
       "      <td>s486g_1013_02</td>\n",
       "      <td>4.0</td>\n",
       "      <td>3.0</td>\n",
       "      <td>1.0</td>\n",
       "      <td>1.0</td>\n",
       "      <td>5.0</td>\n",
       "      <td>NaN</td>\n",
       "    </tr>\n",
       "  </tbody>\n",
       "</table>\n",
       "<p>3363 rows × 7 columns</p>\n",
       "</div>"
      ],
      "text/plain": [
       "                        SonnetID  octave_0  octave_1  octave_9  sestet_0  \\\n",
       "1     AgustinDeSalazarYTorres_10       4.0       4.0       NaN       3.0   \n",
       "2     AgustinDeSalazarYTorres_11       2.0       4.0       2.0       3.0   \n",
       "4     AgustinDeSalazarYTorres_13       3.0       4.0       1.0       2.0   \n",
       "5     AgustinDeSalazarYTorres_14       1.0       7.0       NaN       2.0   \n",
       "8     AgustinDeSalazarYTorres_17       1.0       5.0       2.0       2.0   \n",
       "...                          ...       ...       ...       ...       ...   \n",
       "5802                  s480g_1005       3.0       5.0       NaN       3.0   \n",
       "5806                  s483g_1009       3.0       5.0       NaN       1.0   \n",
       "5808                  s484g_1011       3.0       4.0       1.0       2.0   \n",
       "5809                  s485g_1012       3.0       5.0       NaN       2.0   \n",
       "5811               s486g_1013_02       4.0       3.0       1.0       1.0   \n",
       "\n",
       "      sestet_1  sestet_9  \n",
       "1          3.0       NaN  \n",
       "2          3.0       NaN  \n",
       "4          3.0       1.0  \n",
       "5          4.0       NaN  \n",
       "8          4.0       NaN  \n",
       "...        ...       ...  \n",
       "5802       2.0       1.0  \n",
       "5806       4.0       1.0  \n",
       "5808       4.0       NaN  \n",
       "5809       3.0       1.0  \n",
       "5811       5.0       NaN  \n",
       "\n",
       "[3363 rows x 7 columns]"
      ]
     },
     "execution_count": 24,
     "metadata": {},
     "output_type": "execute_result"
    }
   ],
   "source": [
    "df3"
   ]
  },
  {
   "cell_type": "code",
   "execution_count": 25,
   "metadata": {},
   "outputs": [
    {
     "data": {
      "text/plain": [
       "0.5784313725490197"
      ]
     },
     "execution_count": 25,
     "metadata": {},
     "output_type": "execute_result"
    }
   ],
   "source": [
    "len(df3)/len(df2)"
   ]
  },
  {
   "cell_type": "code",
   "execution_count": 26,
   "metadata": {},
   "outputs": [],
   "source": [
    "if False:\n",
    "    df3 = df3.drop(columns=[\"xxxx\"])"
   ]
  },
  {
   "cell_type": "code",
   "execution_count": 27,
   "metadata": {
    "scrolled": true
   },
   "outputs": [
    {
     "name": "stdout",
     "output_type": "stream",
     "text": [
      "Adding column oct0_m_ses0 based on 'octave_0' - 'sestet_0'\n",
      "Adding column oct1_m_ses1 based on 'octave_1' - 'sestet_1'\n"
     ]
    },
    {
     "name": "stderr",
     "output_type": "stream",
     "text": [
      "/tmp/ipykernel_13986/1544116957.py:4: SettingWithCopyWarning: \n",
      "A value is trying to be set on a copy of a slice from a DataFrame.\n",
      "Try using .loc[row_indexer,col_indexer] = value instead\n",
      "\n",
      "See the caveats in the documentation: https://pandas.pydata.org/pandas-docs/stable/user_guide/indexing.html#returning-a-view-versus-a-copy\n",
      "  df3[new_colname] = df3[f'octave_{negpos}'] - df3[f'sestet_{negpos}']\n",
      "/tmp/ipykernel_13986/1544116957.py:4: SettingWithCopyWarning: \n",
      "A value is trying to be set on a copy of a slice from a DataFrame.\n",
      "Try using .loc[row_indexer,col_indexer] = value instead\n",
      "\n",
      "See the caveats in the documentation: https://pandas.pydata.org/pandas-docs/stable/user_guide/indexing.html#returning-a-view-versus-a-copy\n",
      "  df3[new_colname] = df3[f'octave_{negpos}'] - df3[f'sestet_{negpos}']\n"
     ]
    }
   ],
   "source": [
    "for negpos in (\"0\", \"1\"):\n",
    "    new_colname = f\"oct{negpos}_m_ses{negpos}\"\n",
    "    print(f\"Adding column {new_colname} based on 'octave_{negpos}' - 'sestet_{negpos}'\")\n",
    "    df3[new_colname] = df3[f'octave_{negpos}'] - df3[f'sestet_{negpos}']"
   ]
  },
  {
   "cell_type": "code",
   "execution_count": 28,
   "metadata": {
    "scrolled": false
   },
   "outputs": [
    {
     "data": {
      "text/html": [
       "<div>\n",
       "<style scoped>\n",
       "    .dataframe tbody tr th:only-of-type {\n",
       "        vertical-align: middle;\n",
       "    }\n",
       "\n",
       "    .dataframe tbody tr th {\n",
       "        vertical-align: top;\n",
       "    }\n",
       "\n",
       "    .dataframe thead th {\n",
       "        text-align: right;\n",
       "    }\n",
       "</style>\n",
       "<table border=\"1\" class=\"dataframe\">\n",
       "  <thead>\n",
       "    <tr style=\"text-align: right;\">\n",
       "      <th></th>\n",
       "      <th>SonnetID</th>\n",
       "      <th>octave_0</th>\n",
       "      <th>octave_1</th>\n",
       "      <th>octave_9</th>\n",
       "      <th>sestet_0</th>\n",
       "      <th>sestet_1</th>\n",
       "      <th>sestet_9</th>\n",
       "      <th>oct0_m_ses0</th>\n",
       "      <th>oct1_m_ses1</th>\n",
       "    </tr>\n",
       "  </thead>\n",
       "  <tbody>\n",
       "    <tr>\n",
       "      <th>1</th>\n",
       "      <td>AgustinDeSalazarYTorres_10</td>\n",
       "      <td>4.0</td>\n",
       "      <td>4.0</td>\n",
       "      <td>NaN</td>\n",
       "      <td>3.0</td>\n",
       "      <td>3.0</td>\n",
       "      <td>NaN</td>\n",
       "      <td>1.0</td>\n",
       "      <td>1.0</td>\n",
       "    </tr>\n",
       "    <tr>\n",
       "      <th>2</th>\n",
       "      <td>AgustinDeSalazarYTorres_11</td>\n",
       "      <td>2.0</td>\n",
       "      <td>4.0</td>\n",
       "      <td>2.0</td>\n",
       "      <td>3.0</td>\n",
       "      <td>3.0</td>\n",
       "      <td>NaN</td>\n",
       "      <td>-1.0</td>\n",
       "      <td>1.0</td>\n",
       "    </tr>\n",
       "    <tr>\n",
       "      <th>4</th>\n",
       "      <td>AgustinDeSalazarYTorres_13</td>\n",
       "      <td>3.0</td>\n",
       "      <td>4.0</td>\n",
       "      <td>1.0</td>\n",
       "      <td>2.0</td>\n",
       "      <td>3.0</td>\n",
       "      <td>1.0</td>\n",
       "      <td>1.0</td>\n",
       "      <td>1.0</td>\n",
       "    </tr>\n",
       "    <tr>\n",
       "      <th>5</th>\n",
       "      <td>AgustinDeSalazarYTorres_14</td>\n",
       "      <td>1.0</td>\n",
       "      <td>7.0</td>\n",
       "      <td>NaN</td>\n",
       "      <td>2.0</td>\n",
       "      <td>4.0</td>\n",
       "      <td>NaN</td>\n",
       "      <td>-1.0</td>\n",
       "      <td>3.0</td>\n",
       "    </tr>\n",
       "    <tr>\n",
       "      <th>8</th>\n",
       "      <td>AgustinDeSalazarYTorres_17</td>\n",
       "      <td>1.0</td>\n",
       "      <td>5.0</td>\n",
       "      <td>2.0</td>\n",
       "      <td>2.0</td>\n",
       "      <td>4.0</td>\n",
       "      <td>NaN</td>\n",
       "      <td>-1.0</td>\n",
       "      <td>1.0</td>\n",
       "    </tr>\n",
       "    <tr>\n",
       "      <th>...</th>\n",
       "      <td>...</td>\n",
       "      <td>...</td>\n",
       "      <td>...</td>\n",
       "      <td>...</td>\n",
       "      <td>...</td>\n",
       "      <td>...</td>\n",
       "      <td>...</td>\n",
       "      <td>...</td>\n",
       "      <td>...</td>\n",
       "    </tr>\n",
       "    <tr>\n",
       "      <th>5802</th>\n",
       "      <td>s480g_1005</td>\n",
       "      <td>3.0</td>\n",
       "      <td>5.0</td>\n",
       "      <td>NaN</td>\n",
       "      <td>3.0</td>\n",
       "      <td>2.0</td>\n",
       "      <td>1.0</td>\n",
       "      <td>0.0</td>\n",
       "      <td>3.0</td>\n",
       "    </tr>\n",
       "    <tr>\n",
       "      <th>5806</th>\n",
       "      <td>s483g_1009</td>\n",
       "      <td>3.0</td>\n",
       "      <td>5.0</td>\n",
       "      <td>NaN</td>\n",
       "      <td>1.0</td>\n",
       "      <td>4.0</td>\n",
       "      <td>1.0</td>\n",
       "      <td>2.0</td>\n",
       "      <td>1.0</td>\n",
       "    </tr>\n",
       "    <tr>\n",
       "      <th>5808</th>\n",
       "      <td>s484g_1011</td>\n",
       "      <td>3.0</td>\n",
       "      <td>4.0</td>\n",
       "      <td>1.0</td>\n",
       "      <td>2.0</td>\n",
       "      <td>4.0</td>\n",
       "      <td>NaN</td>\n",
       "      <td>1.0</td>\n",
       "      <td>0.0</td>\n",
       "    </tr>\n",
       "    <tr>\n",
       "      <th>5809</th>\n",
       "      <td>s485g_1012</td>\n",
       "      <td>3.0</td>\n",
       "      <td>5.0</td>\n",
       "      <td>NaN</td>\n",
       "      <td>2.0</td>\n",
       "      <td>3.0</td>\n",
       "      <td>1.0</td>\n",
       "      <td>1.0</td>\n",
       "      <td>2.0</td>\n",
       "    </tr>\n",
       "    <tr>\n",
       "      <th>5811</th>\n",
       "      <td>s486g_1013_02</td>\n",
       "      <td>4.0</td>\n",
       "      <td>3.0</td>\n",
       "      <td>1.0</td>\n",
       "      <td>1.0</td>\n",
       "      <td>5.0</td>\n",
       "      <td>NaN</td>\n",
       "      <td>3.0</td>\n",
       "      <td>-2.0</td>\n",
       "    </tr>\n",
       "  </tbody>\n",
       "</table>\n",
       "<p>3363 rows × 9 columns</p>\n",
       "</div>"
      ],
      "text/plain": [
       "                        SonnetID  octave_0  octave_1  octave_9  sestet_0  \\\n",
       "1     AgustinDeSalazarYTorres_10       4.0       4.0       NaN       3.0   \n",
       "2     AgustinDeSalazarYTorres_11       2.0       4.0       2.0       3.0   \n",
       "4     AgustinDeSalazarYTorres_13       3.0       4.0       1.0       2.0   \n",
       "5     AgustinDeSalazarYTorres_14       1.0       7.0       NaN       2.0   \n",
       "8     AgustinDeSalazarYTorres_17       1.0       5.0       2.0       2.0   \n",
       "...                          ...       ...       ...       ...       ...   \n",
       "5802                  s480g_1005       3.0       5.0       NaN       3.0   \n",
       "5806                  s483g_1009       3.0       5.0       NaN       1.0   \n",
       "5808                  s484g_1011       3.0       4.0       1.0       2.0   \n",
       "5809                  s485g_1012       3.0       5.0       NaN       2.0   \n",
       "5811               s486g_1013_02       4.0       3.0       1.0       1.0   \n",
       "\n",
       "      sestet_1  sestet_9  oct0_m_ses0  oct1_m_ses1  \n",
       "1          3.0       NaN          1.0          1.0  \n",
       "2          3.0       NaN         -1.0          1.0  \n",
       "4          3.0       1.0          1.0          1.0  \n",
       "5          4.0       NaN         -1.0          3.0  \n",
       "8          4.0       NaN         -1.0          1.0  \n",
       "...        ...       ...          ...          ...  \n",
       "5802       2.0       1.0          0.0          3.0  \n",
       "5806       4.0       1.0          2.0          1.0  \n",
       "5808       4.0       NaN          1.0          0.0  \n",
       "5809       3.0       1.0          1.0          2.0  \n",
       "5811       5.0       NaN          3.0         -2.0  \n",
       "\n",
       "[3363 rows x 9 columns]"
      ]
     },
     "execution_count": 28,
     "metadata": {},
     "output_type": "execute_result"
    }
   ],
   "source": [
    "df3"
   ]
  },
  {
   "cell_type": "code",
   "execution_count": 171,
   "metadata": {
    "scrolled": true
   },
   "outputs": [
    {
     "name": "stderr",
     "output_type": "stream",
     "text": [
      "/tmp/ipykernel_13986/3832211717.py:1: SettingWithCopyWarning: \n",
      "A value is trying to be set on a copy of a slice from a DataFrame.\n",
      "Try using .loc[row_indexer,col_indexer] = value instead\n",
      "\n",
      "See the caveats in the documentation: https://pandas.pydata.org/pandas-docs/stable/user_guide/indexing.html#returning-a-view-versus-a-copy\n",
      "  df3['oct1_m_ses0'] = df3['octave_1'] - df3['sestet_0']\n",
      "/tmp/ipykernel_13986/3832211717.py:2: SettingWithCopyWarning: \n",
      "A value is trying to be set on a copy of a slice from a DataFrame.\n",
      "Try using .loc[row_indexer,col_indexer] = value instead\n",
      "\n",
      "See the caveats in the documentation: https://pandas.pydata.org/pandas-docs/stable/user_guide/indexing.html#returning-a-view-versus-a-copy\n",
      "  df3['oct0_m_ses1'] = df3['octave_0'] - df3['sestet_1']\n",
      "/tmp/ipykernel_13986/3832211717.py:3: SettingWithCopyWarning: \n",
      "A value is trying to be set on a copy of a slice from a DataFrame.\n",
      "Try using .loc[row_indexer,col_indexer] = value instead\n",
      "\n",
      "See the caveats in the documentation: https://pandas.pydata.org/pandas-docs/stable/user_guide/indexing.html#returning-a-view-versus-a-copy\n",
      "  df3['oct1ses1_m_oct0ses0'] = df3['octave_1'] + df3['sestet_1'] - df3['octave_0'] - df3['sestet_0']\n"
     ]
    }
   ],
   "source": [
    "df3['oct1_m_ses0'] = df3['octave_1'] - df3['sestet_0']\n",
    "df3['oct0_m_ses1'] = df3['octave_0'] - df3['sestet_1']\n",
    "df3['oct1ses1_m_oct0ses0'] = df3['octave_1'] + df3['sestet_1'] - df3['octave_0'] - df3['sestet_0']"
   ]
  },
  {
   "cell_type": "code",
   "execution_count": 172,
   "metadata": {},
   "outputs": [
    {
     "data": {
      "text/html": [
       "<div>\n",
       "<style scoped>\n",
       "    .dataframe tbody tr th:only-of-type {\n",
       "        vertical-align: middle;\n",
       "    }\n",
       "\n",
       "    .dataframe tbody tr th {\n",
       "        vertical-align: top;\n",
       "    }\n",
       "\n",
       "    .dataframe thead th {\n",
       "        text-align: right;\n",
       "    }\n",
       "</style>\n",
       "<table border=\"1\" class=\"dataframe\">\n",
       "  <thead>\n",
       "    <tr style=\"text-align: right;\">\n",
       "      <th></th>\n",
       "      <th>SonnetID</th>\n",
       "      <th>octave_0</th>\n",
       "      <th>octave_1</th>\n",
       "      <th>octave_9</th>\n",
       "      <th>sestet_0</th>\n",
       "      <th>sestet_1</th>\n",
       "      <th>sestet_9</th>\n",
       "      <th>oct0_m_ses0</th>\n",
       "      <th>oct1_m_ses1</th>\n",
       "      <th>oct1_m_ses0</th>\n",
       "      <th>oct0_m_ses1</th>\n",
       "      <th>oct1ses1_m_oct0ses0</th>\n",
       "    </tr>\n",
       "  </thead>\n",
       "  <tbody>\n",
       "    <tr>\n",
       "      <th>1</th>\n",
       "      <td>AgustinDeSalazarYTorres_10</td>\n",
       "      <td>4.0</td>\n",
       "      <td>4.0</td>\n",
       "      <td>NaN</td>\n",
       "      <td>3.0</td>\n",
       "      <td>3.0</td>\n",
       "      <td>NaN</td>\n",
       "      <td>1.0</td>\n",
       "      <td>1.0</td>\n",
       "      <td>1.0</td>\n",
       "      <td>1.0</td>\n",
       "      <td>0.0</td>\n",
       "    </tr>\n",
       "    <tr>\n",
       "      <th>2</th>\n",
       "      <td>AgustinDeSalazarYTorres_11</td>\n",
       "      <td>2.0</td>\n",
       "      <td>4.0</td>\n",
       "      <td>2.0</td>\n",
       "      <td>3.0</td>\n",
       "      <td>3.0</td>\n",
       "      <td>NaN</td>\n",
       "      <td>-1.0</td>\n",
       "      <td>1.0</td>\n",
       "      <td>1.0</td>\n",
       "      <td>-1.0</td>\n",
       "      <td>2.0</td>\n",
       "    </tr>\n",
       "    <tr>\n",
       "      <th>4</th>\n",
       "      <td>AgustinDeSalazarYTorres_13</td>\n",
       "      <td>3.0</td>\n",
       "      <td>4.0</td>\n",
       "      <td>1.0</td>\n",
       "      <td>2.0</td>\n",
       "      <td>3.0</td>\n",
       "      <td>1.0</td>\n",
       "      <td>1.0</td>\n",
       "      <td>1.0</td>\n",
       "      <td>2.0</td>\n",
       "      <td>0.0</td>\n",
       "      <td>2.0</td>\n",
       "    </tr>\n",
       "    <tr>\n",
       "      <th>5</th>\n",
       "      <td>AgustinDeSalazarYTorres_14</td>\n",
       "      <td>1.0</td>\n",
       "      <td>7.0</td>\n",
       "      <td>NaN</td>\n",
       "      <td>2.0</td>\n",
       "      <td>4.0</td>\n",
       "      <td>NaN</td>\n",
       "      <td>-1.0</td>\n",
       "      <td>3.0</td>\n",
       "      <td>5.0</td>\n",
       "      <td>-3.0</td>\n",
       "      <td>8.0</td>\n",
       "    </tr>\n",
       "    <tr>\n",
       "      <th>8</th>\n",
       "      <td>AgustinDeSalazarYTorres_17</td>\n",
       "      <td>1.0</td>\n",
       "      <td>5.0</td>\n",
       "      <td>2.0</td>\n",
       "      <td>2.0</td>\n",
       "      <td>4.0</td>\n",
       "      <td>NaN</td>\n",
       "      <td>-1.0</td>\n",
       "      <td>1.0</td>\n",
       "      <td>3.0</td>\n",
       "      <td>-3.0</td>\n",
       "      <td>6.0</td>\n",
       "    </tr>\n",
       "    <tr>\n",
       "      <th>...</th>\n",
       "      <td>...</td>\n",
       "      <td>...</td>\n",
       "      <td>...</td>\n",
       "      <td>...</td>\n",
       "      <td>...</td>\n",
       "      <td>...</td>\n",
       "      <td>...</td>\n",
       "      <td>...</td>\n",
       "      <td>...</td>\n",
       "      <td>...</td>\n",
       "      <td>...</td>\n",
       "      <td>...</td>\n",
       "    </tr>\n",
       "    <tr>\n",
       "      <th>5802</th>\n",
       "      <td>s480g_1005</td>\n",
       "      <td>3.0</td>\n",
       "      <td>5.0</td>\n",
       "      <td>NaN</td>\n",
       "      <td>3.0</td>\n",
       "      <td>2.0</td>\n",
       "      <td>1.0</td>\n",
       "      <td>0.0</td>\n",
       "      <td>3.0</td>\n",
       "      <td>2.0</td>\n",
       "      <td>1.0</td>\n",
       "      <td>1.0</td>\n",
       "    </tr>\n",
       "    <tr>\n",
       "      <th>5806</th>\n",
       "      <td>s483g_1009</td>\n",
       "      <td>3.0</td>\n",
       "      <td>5.0</td>\n",
       "      <td>NaN</td>\n",
       "      <td>1.0</td>\n",
       "      <td>4.0</td>\n",
       "      <td>1.0</td>\n",
       "      <td>2.0</td>\n",
       "      <td>1.0</td>\n",
       "      <td>4.0</td>\n",
       "      <td>-1.0</td>\n",
       "      <td>5.0</td>\n",
       "    </tr>\n",
       "    <tr>\n",
       "      <th>5808</th>\n",
       "      <td>s484g_1011</td>\n",
       "      <td>3.0</td>\n",
       "      <td>4.0</td>\n",
       "      <td>1.0</td>\n",
       "      <td>2.0</td>\n",
       "      <td>4.0</td>\n",
       "      <td>NaN</td>\n",
       "      <td>1.0</td>\n",
       "      <td>0.0</td>\n",
       "      <td>2.0</td>\n",
       "      <td>-1.0</td>\n",
       "      <td>3.0</td>\n",
       "    </tr>\n",
       "    <tr>\n",
       "      <th>5809</th>\n",
       "      <td>s485g_1012</td>\n",
       "      <td>3.0</td>\n",
       "      <td>5.0</td>\n",
       "      <td>NaN</td>\n",
       "      <td>2.0</td>\n",
       "      <td>3.0</td>\n",
       "      <td>1.0</td>\n",
       "      <td>1.0</td>\n",
       "      <td>2.0</td>\n",
       "      <td>3.0</td>\n",
       "      <td>0.0</td>\n",
       "      <td>3.0</td>\n",
       "    </tr>\n",
       "    <tr>\n",
       "      <th>5811</th>\n",
       "      <td>s486g_1013_02</td>\n",
       "      <td>4.0</td>\n",
       "      <td>3.0</td>\n",
       "      <td>1.0</td>\n",
       "      <td>1.0</td>\n",
       "      <td>5.0</td>\n",
       "      <td>NaN</td>\n",
       "      <td>3.0</td>\n",
       "      <td>-2.0</td>\n",
       "      <td>2.0</td>\n",
       "      <td>-1.0</td>\n",
       "      <td>3.0</td>\n",
       "    </tr>\n",
       "  </tbody>\n",
       "</table>\n",
       "<p>3363 rows × 12 columns</p>\n",
       "</div>"
      ],
      "text/plain": [
       "                        SonnetID  octave_0  octave_1  octave_9  sestet_0  \\\n",
       "1     AgustinDeSalazarYTorres_10       4.0       4.0       NaN       3.0   \n",
       "2     AgustinDeSalazarYTorres_11       2.0       4.0       2.0       3.0   \n",
       "4     AgustinDeSalazarYTorres_13       3.0       4.0       1.0       2.0   \n",
       "5     AgustinDeSalazarYTorres_14       1.0       7.0       NaN       2.0   \n",
       "8     AgustinDeSalazarYTorres_17       1.0       5.0       2.0       2.0   \n",
       "...                          ...       ...       ...       ...       ...   \n",
       "5802                  s480g_1005       3.0       5.0       NaN       3.0   \n",
       "5806                  s483g_1009       3.0       5.0       NaN       1.0   \n",
       "5808                  s484g_1011       3.0       4.0       1.0       2.0   \n",
       "5809                  s485g_1012       3.0       5.0       NaN       2.0   \n",
       "5811               s486g_1013_02       4.0       3.0       1.0       1.0   \n",
       "\n",
       "      sestet_1  sestet_9  oct0_m_ses0  oct1_m_ses1  oct1_m_ses0  oct0_m_ses1  \\\n",
       "1          3.0       NaN          1.0          1.0          1.0          1.0   \n",
       "2          3.0       NaN         -1.0          1.0          1.0         -1.0   \n",
       "4          3.0       1.0          1.0          1.0          2.0          0.0   \n",
       "5          4.0       NaN         -1.0          3.0          5.0         -3.0   \n",
       "8          4.0       NaN         -1.0          1.0          3.0         -3.0   \n",
       "...        ...       ...          ...          ...          ...          ...   \n",
       "5802       2.0       1.0          0.0          3.0          2.0          1.0   \n",
       "5806       4.0       1.0          2.0          1.0          4.0         -1.0   \n",
       "5808       4.0       NaN          1.0          0.0          2.0         -1.0   \n",
       "5809       3.0       1.0          1.0          2.0          3.0          0.0   \n",
       "5811       5.0       NaN          3.0         -2.0          2.0         -1.0   \n",
       "\n",
       "      oct1ses1_m_oct0ses0  \n",
       "1                     0.0  \n",
       "2                     2.0  \n",
       "4                     2.0  \n",
       "5                     8.0  \n",
       "8                     6.0  \n",
       "...                   ...  \n",
       "5802                  1.0  \n",
       "5806                  5.0  \n",
       "5808                  3.0  \n",
       "5809                  3.0  \n",
       "5811                  3.0  \n",
       "\n",
       "[3363 rows x 12 columns]"
      ]
     },
     "execution_count": 172,
     "metadata": {},
     "output_type": "execute_result"
    }
   ],
   "source": [
    "df3"
   ]
  },
  {
   "cell_type": "code",
   "execution_count": 29,
   "metadata": {},
   "outputs": [],
   "source": [
    "#df3.to_csv(f\"../../data/octave_vs_sestet_valence_binary_omin{octave_min}_smin_{sestet_min}.tsv\", index=False, sep=\"\\t\")"
   ]
  },
  {
   "cell_type": "markdown",
   "metadata": {},
   "source": [
    "## Continuous values"
   ]
  },
  {
   "cell_type": "markdown",
   "metadata": {},
   "source": [
    "### Valence"
   ]
  },
  {
   "cell_type": "code",
   "execution_count": 30,
   "metadata": {},
   "outputs": [],
   "source": [
    "os_groups_cont = df.groupby(['SonnetID', 'OctSes'])['valence_call'].aggregate('mean').unstack()"
   ]
  },
  {
   "cell_type": "code",
   "execution_count": 31,
   "metadata": {
    "scrolled": true
   },
   "outputs": [
    {
     "data": {
      "text/html": [
       "<div>\n",
       "<style scoped>\n",
       "    .dataframe tbody tr th:only-of-type {\n",
       "        vertical-align: middle;\n",
       "    }\n",
       "\n",
       "    .dataframe tbody tr th {\n",
       "        vertical-align: top;\n",
       "    }\n",
       "\n",
       "    .dataframe thead th {\n",
       "        text-align: right;\n",
       "    }\n",
       "</style>\n",
       "<table border=\"1\" class=\"dataframe\">\n",
       "  <thead>\n",
       "    <tr style=\"text-align: right;\">\n",
       "      <th>OctSes</th>\n",
       "      <th>octave</th>\n",
       "      <th>sestet</th>\n",
       "    </tr>\n",
       "    <tr>\n",
       "      <th>SonnetID</th>\n",
       "      <th></th>\n",
       "      <th></th>\n",
       "    </tr>\n",
       "  </thead>\n",
       "  <tbody>\n",
       "    <tr>\n",
       "      <th>AgustinDeSalazarYTorres_1</th>\n",
       "      <td>0.625796</td>\n",
       "      <td>0.569639</td>\n",
       "    </tr>\n",
       "    <tr>\n",
       "      <th>AgustinDeSalazarYTorres_10</th>\n",
       "      <td>0.453651</td>\n",
       "      <td>0.424204</td>\n",
       "    </tr>\n",
       "    <tr>\n",
       "      <th>AgustinDeSalazarYTorres_11</th>\n",
       "      <td>0.577928</td>\n",
       "      <td>0.439066</td>\n",
       "    </tr>\n",
       "    <tr>\n",
       "      <th>AgustinDeSalazarYTorres_12</th>\n",
       "      <td>0.558726</td>\n",
       "      <td>0.558726</td>\n",
       "    </tr>\n",
       "    <tr>\n",
       "      <th>AgustinDeSalazarYTorres_13</th>\n",
       "      <td>0.464604</td>\n",
       "      <td>0.565704</td>\n",
       "    </tr>\n",
       "    <tr>\n",
       "      <th>...</th>\n",
       "      <td>...</td>\n",
       "      <td>...</td>\n",
       "    </tr>\n",
       "    <tr>\n",
       "      <th>s485g_1012</th>\n",
       "      <td>0.503328</td>\n",
       "      <td>0.454777</td>\n",
       "    </tr>\n",
       "    <tr>\n",
       "      <th>s486g_1013_01</th>\n",
       "      <td>0.470064</td>\n",
       "      <td>0.607643</td>\n",
       "    </tr>\n",
       "    <tr>\n",
       "      <th>s486g_1013_02</th>\n",
       "      <td>0.529152</td>\n",
       "      <td>0.508280</td>\n",
       "    </tr>\n",
       "    <tr>\n",
       "      <th>s487g_1014</th>\n",
       "      <td>0.677771</td>\n",
       "      <td>0.620382</td>\n",
       "    </tr>\n",
       "    <tr>\n",
       "      <th>s488g_1015</th>\n",
       "      <td>0.579076</td>\n",
       "      <td>0.681529</td>\n",
       "    </tr>\n",
       "  </tbody>\n",
       "</table>\n",
       "<p>5814 rows × 2 columns</p>\n",
       "</div>"
      ],
      "text/plain": [
       "OctSes                        octave    sestet\n",
       "SonnetID                                      \n",
       "AgustinDeSalazarYTorres_1   0.625796  0.569639\n",
       "AgustinDeSalazarYTorres_10  0.453651  0.424204\n",
       "AgustinDeSalazarYTorres_11  0.577928  0.439066\n",
       "AgustinDeSalazarYTorres_12  0.558726  0.558726\n",
       "AgustinDeSalazarYTorres_13  0.464604  0.565704\n",
       "...                              ...       ...\n",
       "s485g_1012                  0.503328  0.454777\n",
       "s486g_1013_01               0.470064  0.607643\n",
       "s486g_1013_02               0.529152  0.508280\n",
       "s487g_1014                  0.677771  0.620382\n",
       "s488g_1015                  0.579076  0.681529\n",
       "\n",
       "[5814 rows x 2 columns]"
      ]
     },
     "execution_count": 31,
     "metadata": {},
     "output_type": "execute_result"
    }
   ],
   "source": [
    "os_groups_cont"
   ]
  },
  {
   "cell_type": "code",
   "execution_count": 32,
   "metadata": {},
   "outputs": [],
   "source": [
    "os_groups_cont = os_groups_cont.rename_axis('SonnetID').reset_index()"
   ]
  },
  {
   "cell_type": "code",
   "execution_count": 33,
   "metadata": {},
   "outputs": [],
   "source": [
    "os_groups_cont.rename(columns={\"octave\": \"octave_val\", \"sestet\": \"sestet_val\"}, inplace=True)"
   ]
  },
  {
   "cell_type": "code",
   "execution_count": 34,
   "metadata": {},
   "outputs": [
    {
     "data": {
      "text/html": [
       "<div>\n",
       "<style scoped>\n",
       "    .dataframe tbody tr th:only-of-type {\n",
       "        vertical-align: middle;\n",
       "    }\n",
       "\n",
       "    .dataframe tbody tr th {\n",
       "        vertical-align: top;\n",
       "    }\n",
       "\n",
       "    .dataframe thead th {\n",
       "        text-align: right;\n",
       "    }\n",
       "</style>\n",
       "<table border=\"1\" class=\"dataframe\">\n",
       "  <thead>\n",
       "    <tr style=\"text-align: right;\">\n",
       "      <th>OctSes</th>\n",
       "      <th>SonnetID</th>\n",
       "      <th>octave_val</th>\n",
       "      <th>sestet_val</th>\n",
       "    </tr>\n",
       "  </thead>\n",
       "  <tbody>\n",
       "    <tr>\n",
       "      <th>0</th>\n",
       "      <td>AgustinDeSalazarYTorres_1</td>\n",
       "      <td>0.625796</td>\n",
       "      <td>0.569639</td>\n",
       "    </tr>\n",
       "    <tr>\n",
       "      <th>1</th>\n",
       "      <td>AgustinDeSalazarYTorres_10</td>\n",
       "      <td>0.453651</td>\n",
       "      <td>0.424204</td>\n",
       "    </tr>\n",
       "    <tr>\n",
       "      <th>2</th>\n",
       "      <td>AgustinDeSalazarYTorres_11</td>\n",
       "      <td>0.577928</td>\n",
       "      <td>0.439066</td>\n",
       "    </tr>\n",
       "    <tr>\n",
       "      <th>3</th>\n",
       "      <td>AgustinDeSalazarYTorres_12</td>\n",
       "      <td>0.558726</td>\n",
       "      <td>0.558726</td>\n",
       "    </tr>\n",
       "    <tr>\n",
       "      <th>4</th>\n",
       "      <td>AgustinDeSalazarYTorres_13</td>\n",
       "      <td>0.464604</td>\n",
       "      <td>0.565704</td>\n",
       "    </tr>\n",
       "    <tr>\n",
       "      <th>...</th>\n",
       "      <td>...</td>\n",
       "      <td>...</td>\n",
       "      <td>...</td>\n",
       "    </tr>\n",
       "    <tr>\n",
       "      <th>5809</th>\n",
       "      <td>s485g_1012</td>\n",
       "      <td>0.503328</td>\n",
       "      <td>0.454777</td>\n",
       "    </tr>\n",
       "    <tr>\n",
       "      <th>5810</th>\n",
       "      <td>s486g_1013_01</td>\n",
       "      <td>0.470064</td>\n",
       "      <td>0.607643</td>\n",
       "    </tr>\n",
       "    <tr>\n",
       "      <th>5811</th>\n",
       "      <td>s486g_1013_02</td>\n",
       "      <td>0.529152</td>\n",
       "      <td>0.508280</td>\n",
       "    </tr>\n",
       "    <tr>\n",
       "      <th>5812</th>\n",
       "      <td>s487g_1014</td>\n",
       "      <td>0.677771</td>\n",
       "      <td>0.620382</td>\n",
       "    </tr>\n",
       "    <tr>\n",
       "      <th>5813</th>\n",
       "      <td>s488g_1015</td>\n",
       "      <td>0.579076</td>\n",
       "      <td>0.681529</td>\n",
       "    </tr>\n",
       "  </tbody>\n",
       "</table>\n",
       "<p>5814 rows × 3 columns</p>\n",
       "</div>"
      ],
      "text/plain": [
       "OctSes                    SonnetID  octave_val  sestet_val\n",
       "0        AgustinDeSalazarYTorres_1    0.625796    0.569639\n",
       "1       AgustinDeSalazarYTorres_10    0.453651    0.424204\n",
       "2       AgustinDeSalazarYTorres_11    0.577928    0.439066\n",
       "3       AgustinDeSalazarYTorres_12    0.558726    0.558726\n",
       "4       AgustinDeSalazarYTorres_13    0.464604    0.565704\n",
       "...                            ...         ...         ...\n",
       "5809                    s485g_1012    0.503328    0.454777\n",
       "5810                 s486g_1013_01    0.470064    0.607643\n",
       "5811                 s486g_1013_02    0.529152    0.508280\n",
       "5812                    s487g_1014    0.677771    0.620382\n",
       "5813                    s488g_1015    0.579076    0.681529\n",
       "\n",
       "[5814 rows x 3 columns]"
      ]
     },
     "execution_count": 34,
     "metadata": {},
     "output_type": "execute_result"
    }
   ],
   "source": [
    "os_groups_cont"
   ]
  },
  {
   "cell_type": "code",
   "execution_count": 35,
   "metadata": {
    "scrolled": true
   },
   "outputs": [
    {
     "data": {
      "text/html": [
       "<div>\n",
       "<style scoped>\n",
       "    .dataframe tbody tr th:only-of-type {\n",
       "        vertical-align: middle;\n",
       "    }\n",
       "\n",
       "    .dataframe tbody tr th {\n",
       "        vertical-align: top;\n",
       "    }\n",
       "\n",
       "    .dataframe thead th {\n",
       "        text-align: right;\n",
       "    }\n",
       "</style>\n",
       "<table border=\"1\" class=\"dataframe\">\n",
       "  <thead>\n",
       "    <tr style=\"text-align: right;\">\n",
       "      <th>OctSes</th>\n",
       "      <th>SonnetID</th>\n",
       "      <th>octave_val</th>\n",
       "      <th>sestet_val</th>\n",
       "    </tr>\n",
       "  </thead>\n",
       "  <tbody>\n",
       "    <tr>\n",
       "      <th>0</th>\n",
       "      <td>AgustinDeSalazarYTorres_1</td>\n",
       "      <td>0.625796</td>\n",
       "      <td>0.569639</td>\n",
       "    </tr>\n",
       "    <tr>\n",
       "      <th>1</th>\n",
       "      <td>AgustinDeSalazarYTorres_10</td>\n",
       "      <td>0.453651</td>\n",
       "      <td>0.424204</td>\n",
       "    </tr>\n",
       "    <tr>\n",
       "      <th>2</th>\n",
       "      <td>AgustinDeSalazarYTorres_11</td>\n",
       "      <td>0.577928</td>\n",
       "      <td>0.439066</td>\n",
       "    </tr>\n",
       "    <tr>\n",
       "      <th>3</th>\n",
       "      <td>AgustinDeSalazarYTorres_12</td>\n",
       "      <td>0.558726</td>\n",
       "      <td>0.558726</td>\n",
       "    </tr>\n",
       "    <tr>\n",
       "      <th>4</th>\n",
       "      <td>AgustinDeSalazarYTorres_13</td>\n",
       "      <td>0.464604</td>\n",
       "      <td>0.565704</td>\n",
       "    </tr>\n",
       "    <tr>\n",
       "      <th>...</th>\n",
       "      <td>...</td>\n",
       "      <td>...</td>\n",
       "      <td>...</td>\n",
       "    </tr>\n",
       "    <tr>\n",
       "      <th>5809</th>\n",
       "      <td>s485g_1012</td>\n",
       "      <td>0.503328</td>\n",
       "      <td>0.454777</td>\n",
       "    </tr>\n",
       "    <tr>\n",
       "      <th>5810</th>\n",
       "      <td>s486g_1013_01</td>\n",
       "      <td>0.470064</td>\n",
       "      <td>0.607643</td>\n",
       "    </tr>\n",
       "    <tr>\n",
       "      <th>5811</th>\n",
       "      <td>s486g_1013_02</td>\n",
       "      <td>0.529152</td>\n",
       "      <td>0.508280</td>\n",
       "    </tr>\n",
       "    <tr>\n",
       "      <th>5812</th>\n",
       "      <td>s487g_1014</td>\n",
       "      <td>0.677771</td>\n",
       "      <td>0.620382</td>\n",
       "    </tr>\n",
       "    <tr>\n",
       "      <th>5813</th>\n",
       "      <td>s488g_1015</td>\n",
       "      <td>0.579076</td>\n",
       "      <td>0.681529</td>\n",
       "    </tr>\n",
       "  </tbody>\n",
       "</table>\n",
       "<p>5814 rows × 3 columns</p>\n",
       "</div>"
      ],
      "text/plain": [
       "OctSes                    SonnetID  octave_val  sestet_val\n",
       "0        AgustinDeSalazarYTorres_1    0.625796    0.569639\n",
       "1       AgustinDeSalazarYTorres_10    0.453651    0.424204\n",
       "2       AgustinDeSalazarYTorres_11    0.577928    0.439066\n",
       "3       AgustinDeSalazarYTorres_12    0.558726    0.558726\n",
       "4       AgustinDeSalazarYTorres_13    0.464604    0.565704\n",
       "...                            ...         ...         ...\n",
       "5809                    s485g_1012    0.503328    0.454777\n",
       "5810                 s486g_1013_01    0.470064    0.607643\n",
       "5811                 s486g_1013_02    0.529152    0.508280\n",
       "5812                    s487g_1014    0.677771    0.620382\n",
       "5813                    s488g_1015    0.579076    0.681529\n",
       "\n",
       "[5814 rows x 3 columns]"
      ]
     },
     "execution_count": 35,
     "metadata": {},
     "output_type": "execute_result"
    }
   ],
   "source": [
    "os_groups_cont"
   ]
  },
  {
   "cell_type": "code",
   "execution_count": 36,
   "metadata": {
    "scrolled": false
   },
   "outputs": [
    {
     "name": "stdout",
     "output_type": "stream",
     "text": [
      "<class 'pandas.core.frame.DataFrame'>\n",
      "RangeIndex: 5814 entries, 0 to 5813\n",
      "Data columns (total 3 columns):\n",
      " #   Column      Non-Null Count  Dtype  \n",
      "---  ------      --------------  -----  \n",
      " 0   SonnetID    5814 non-null   object \n",
      " 1   octave_val  5803 non-null   float64\n",
      " 2   sestet_val  5797 non-null   float64\n",
      "dtypes: float64(2), object(1)\n",
      "memory usage: 136.4+ KB\n"
     ]
    }
   ],
   "source": [
    "os_groups_cont.info()"
   ]
  },
  {
   "cell_type": "code",
   "execution_count": 37,
   "metadata": {
    "scrolled": true
   },
   "outputs": [
    {
     "data": {
      "text/plain": [
       "array([[<AxesSubplot:title={'center':'octave_val'}>,\n",
       "        <AxesSubplot:title={'center':'sestet_val'}>]], dtype=object)"
      ]
     },
     "execution_count": 37,
     "metadata": {},
     "output_type": "execute_result"
    },
    {
     "data": {
      "image/png": "[encoded data removed]",
      "text/plain": [
       "<Figure size 432x288 with 2 Axes>"
      ]
     },
     "metadata": {
      "needs_background": "light"
     },
     "output_type": "display_data"
    }
   ],
   "source": [
    "os_groups_cont.hist(column=['octave_val', 'sestet_val'], bins=10)"
   ]
  },
  {
   "cell_type": "code",
   "execution_count": 38,
   "metadata": {
    "scrolled": true
   },
   "outputs": [
    {
     "data": {
      "text/html": [
       "<div>\n",
       "<style scoped>\n",
       "    .dataframe tbody tr th:only-of-type {\n",
       "        vertical-align: middle;\n",
       "    }\n",
       "\n",
       "    .dataframe tbody tr th {\n",
       "        vertical-align: top;\n",
       "    }\n",
       "\n",
       "    .dataframe thead th {\n",
       "        text-align: right;\n",
       "    }\n",
       "</style>\n",
       "<table border=\"1\" class=\"dataframe\">\n",
       "  <thead>\n",
       "    <tr style=\"text-align: right;\">\n",
       "      <th>OctSes</th>\n",
       "      <th>octave_val</th>\n",
       "      <th>sestet_val</th>\n",
       "    </tr>\n",
       "  </thead>\n",
       "  <tbody>\n",
       "    <tr>\n",
       "      <th>count</th>\n",
       "      <td>5803.000000</td>\n",
       "      <td>5797.000000</td>\n",
       "    </tr>\n",
       "    <tr>\n",
       "      <th>mean</th>\n",
       "      <td>0.550507</td>\n",
       "      <td>0.550323</td>\n",
       "    </tr>\n",
       "    <tr>\n",
       "      <th>std</th>\n",
       "      <td>0.091883</td>\n",
       "      <td>0.106395</td>\n",
       "    </tr>\n",
       "    <tr>\n",
       "      <th>min</th>\n",
       "      <td>0.146497</td>\n",
       "      <td>0.038217</td>\n",
       "    </tr>\n",
       "    <tr>\n",
       "      <th>25%</th>\n",
       "      <td>0.490731</td>\n",
       "      <td>0.479745</td>\n",
       "    </tr>\n",
       "    <tr>\n",
       "      <th>50%</th>\n",
       "      <td>0.554686</td>\n",
       "      <td>0.556688</td>\n",
       "    </tr>\n",
       "    <tr>\n",
       "      <th>75%</th>\n",
       "      <td>0.614192</td>\n",
       "      <td>0.626527</td>\n",
       "    </tr>\n",
       "    <tr>\n",
       "      <th>max</th>\n",
       "      <td>0.839822</td>\n",
       "      <td>0.917197</td>\n",
       "    </tr>\n",
       "  </tbody>\n",
       "</table>\n",
       "</div>"
      ],
      "text/plain": [
       "OctSes   octave_val   sestet_val\n",
       "count   5803.000000  5797.000000\n",
       "mean       0.550507     0.550323\n",
       "std        0.091883     0.106395\n",
       "min        0.146497     0.038217\n",
       "25%        0.490731     0.479745\n",
       "50%        0.554686     0.556688\n",
       "75%        0.614192     0.626527\n",
       "max        0.839822     0.917197"
      ]
     },
     "execution_count": 38,
     "metadata": {},
     "output_type": "execute_result"
    }
   ],
   "source": [
    "os_groups_cont[['octave_val', 'sestet_val']].describe(include='all')"
   ]
  },
  {
   "cell_type": "markdown",
   "metadata": {},
   "source": [
    "More extreme values in sestet may be coherent with more intensity"
   ]
  },
  {
   "cell_type": "code",
   "execution_count": 41,
   "metadata": {},
   "outputs": [],
   "source": [
    "from scipy.stats import wilcoxon, ttest_ind, mannwhitneyu"
   ]
  },
  {
   "cell_type": "code",
   "execution_count": 42,
   "metadata": {},
   "outputs": [
    {
     "data": {
      "text/plain": [
       "Ttest_indResult(statistic=0.09964919596369079, pvalue=0.9206245947324886)"
      ]
     },
     "execution_count": 42,
     "metadata": {},
     "output_type": "execute_result"
    }
   ],
   "source": [
    "ttest_ind(os_groups_cont['octave_val'], os_groups_cont['sestet_val'], nan_policy='omit', equal_var=False)"
   ]
  },
  {
   "cell_type": "code",
   "execution_count": 43,
   "metadata": {},
   "outputs": [
    {
     "data": {
      "text/plain": [
       "WilcoxonResult(statistic=nan, pvalue=nan)"
      ]
     },
     "execution_count": 43,
     "metadata": {},
     "output_type": "execute_result"
    }
   ],
   "source": [
    "wilcoxon(os_groups_cont['octave_val'], os_groups_cont['sestet_val'])"
   ]
  },
  {
   "cell_type": "markdown",
   "metadata": {},
   "source": [
    "#### Valence restricting to sonnets with number of available valence values in octave and sestet above a given value"
   ]
  },
  {
   "cell_type": "code",
   "execution_count": 81,
   "metadata": {},
   "outputs": [],
   "source": [
    "merge_bin_val = pd.merge(df3, os_groups_cont, on='SonnetID')"
   ]
  },
  {
   "cell_type": "code",
   "execution_count": 167,
   "metadata": {},
   "outputs": [
    {
     "data": {
      "text/plain": [
       "MannwhitneyuResult(statistic=5804722.5, pvalue=0.05986310785966859)"
      ]
     },
     "execution_count": 167,
     "metadata": {},
     "output_type": "execute_result"
    }
   ],
   "source": [
    "mannwhitneyu(merge_bin_val['octave_val'], merge_bin_val['sestet_val'], nan_policy='omit')"
   ]
  },
  {
   "cell_type": "code",
   "execution_count": 168,
   "metadata": {},
   "outputs": [
    {
     "data": {
      "text/plain": [
       "WilcoxonResult(statistic=2697364.5, pvalue=0.0200772439249592)"
      ]
     },
     "execution_count": 168,
     "metadata": {},
     "output_type": "execute_result"
    }
   ],
   "source": [
    "wilcoxon(merge_bin_val['octave_val'], merge_bin_val['sestet_val'], nan_policy='omit')"
   ]
  },
  {
   "cell_type": "code",
   "execution_count": 169,
   "metadata": {
    "scrolled": true
   },
   "outputs": [
    {
     "data": {
      "text/html": [
       "<div>\n",
       "<style scoped>\n",
       "    .dataframe tbody tr th:only-of-type {\n",
       "        vertical-align: middle;\n",
       "    }\n",
       "\n",
       "    .dataframe tbody tr th {\n",
       "        vertical-align: top;\n",
       "    }\n",
       "\n",
       "    .dataframe thead th {\n",
       "        text-align: right;\n",
       "    }\n",
       "</style>\n",
       "<table border=\"1\" class=\"dataframe\">\n",
       "  <thead>\n",
       "    <tr style=\"text-align: right;\">\n",
       "      <th></th>\n",
       "      <th>octave_val</th>\n",
       "      <th>sestet_val</th>\n",
       "    </tr>\n",
       "  </thead>\n",
       "  <tbody>\n",
       "    <tr>\n",
       "      <th>count</th>\n",
       "      <td>3363.000000</td>\n",
       "      <td>3363.000000</td>\n",
       "    </tr>\n",
       "    <tr>\n",
       "      <th>mean</th>\n",
       "      <td>0.539083</td>\n",
       "      <td>0.533740</td>\n",
       "    </tr>\n",
       "    <tr>\n",
       "      <th>std</th>\n",
       "      <td>0.082741</td>\n",
       "      <td>0.092978</td>\n",
       "    </tr>\n",
       "    <tr>\n",
       "      <th>min</th>\n",
       "      <td>0.224932</td>\n",
       "      <td>0.235669</td>\n",
       "    </tr>\n",
       "    <tr>\n",
       "      <th>25%</th>\n",
       "      <td>0.484622</td>\n",
       "      <td>0.472386</td>\n",
       "    </tr>\n",
       "    <tr>\n",
       "      <th>50%</th>\n",
       "      <td>0.545868</td>\n",
       "      <td>0.540340</td>\n",
       "    </tr>\n",
       "    <tr>\n",
       "      <th>75%</th>\n",
       "      <td>0.597522</td>\n",
       "      <td>0.602771</td>\n",
       "    </tr>\n",
       "    <tr>\n",
       "      <th>max</th>\n",
       "      <td>0.750620</td>\n",
       "      <td>0.788535</td>\n",
       "    </tr>\n",
       "  </tbody>\n",
       "</table>\n",
       "</div>"
      ],
      "text/plain": [
       "        octave_val   sestet_val\n",
       "count  3363.000000  3363.000000\n",
       "mean      0.539083     0.533740\n",
       "std       0.082741     0.092978\n",
       "min       0.224932     0.235669\n",
       "25%       0.484622     0.472386\n",
       "50%       0.545868     0.540340\n",
       "75%       0.597522     0.602771\n",
       "max       0.750620     0.788535"
      ]
     },
     "execution_count": 169,
     "metadata": {},
     "output_type": "execute_result"
    }
   ],
   "source": [
    "merge_bin_val[['octave_val', 'sestet_val']].describe(include='all')"
   ]
  },
  {
   "cell_type": "code",
   "execution_count": 170,
   "metadata": {},
   "outputs": [
    {
     "data": {
      "text/plain": [
       "3363"
      ]
     },
     "execution_count": 170,
     "metadata": {},
     "output_type": "execute_result"
    }
   ],
   "source": [
    "len(merge_bin_val)"
   ]
  },
  {
   "cell_type": "code",
   "execution_count": 174,
   "metadata": {},
   "outputs": [
    {
     "data": {
      "text/plain": [
       "<AxesSubplot:>"
      ]
     },
     "execution_count": 174,
     "metadata": {},
     "output_type": "execute_result"
    },
    {
     "data": {
      "image/png": "[encoded data removed]",
      "text/plain": [
       "<Figure size 432x288 with 1 Axes>"
      ]
     },
     "metadata": {
      "needs_background": "light"
     },
     "output_type": "display_data"
    }
   ],
   "source": [
    "merge_bin_val.boxplot(column=['octave_val', 'sestet_val'])"
   ]
  },
  {
   "cell_type": "markdown",
   "metadata": {},
   "source": [
    "Before restricting to poems where have a number of valence values higher than a threshold is below here:"
   ]
  },
  {
   "cell_type": "code",
   "execution_count": 177,
   "metadata": {},
   "outputs": [
    {
     "data": {
      "text/plain": [
       "<AxesSubplot:>"
      ]
     },
     "execution_count": 177,
     "metadata": {},
     "output_type": "execute_result"
    },
    {
     "data": {
      "image/png": "[encoded data removed]",
      "text/plain": [
       "<Figure size 432x288 with 1 Axes>"
      ]
     },
     "metadata": {
      "needs_background": "light"
     },
     "output_type": "display_data"
    }
   ],
   "source": [
    "os_groups_cont.boxplot(column=['octave_val', 'sestet_val'])"
   ]
  },
  {
   "cell_type": "markdown",
   "metadata": {},
   "source": [
    "### Arousal"
   ]
  },
  {
   "cell_type": "code",
   "execution_count": 44,
   "metadata": {},
   "outputs": [],
   "source": [
    "os_groups_aro_cont = df.groupby(['SonnetID', 'OctSes'])['arousal_call'].aggregate('mean').unstack()"
   ]
  },
  {
   "cell_type": "code",
   "execution_count": 45,
   "metadata": {},
   "outputs": [],
   "source": [
    "os_groups_aro_cont = os_groups_aro_cont.rename_axis('SonnetID').reset_index()"
   ]
  },
  {
   "cell_type": "code",
   "execution_count": 46,
   "metadata": {},
   "outputs": [],
   "source": [
    "os_groups_aro_cont.rename(columns={\"octave\": \"octave_aro\", \"sestet\": \"sestet_aro\"}, inplace=True)"
   ]
  },
  {
   "cell_type": "code",
   "execution_count": 47,
   "metadata": {
    "scrolled": true
   },
   "outputs": [
    {
     "data": {
      "text/html": [
       "<div>\n",
       "<style scoped>\n",
       "    .dataframe tbody tr th:only-of-type {\n",
       "        vertical-align: middle;\n",
       "    }\n",
       "\n",
       "    .dataframe tbody tr th {\n",
       "        vertical-align: top;\n",
       "    }\n",
       "\n",
       "    .dataframe thead th {\n",
       "        text-align: right;\n",
       "    }\n",
       "</style>\n",
       "<table border=\"1\" class=\"dataframe\">\n",
       "  <thead>\n",
       "    <tr style=\"text-align: right;\">\n",
       "      <th>OctSes</th>\n",
       "      <th>SonnetID</th>\n",
       "      <th>octave_aro</th>\n",
       "      <th>sestet_aro</th>\n",
       "    </tr>\n",
       "  </thead>\n",
       "  <tbody>\n",
       "    <tr>\n",
       "      <th>0</th>\n",
       "      <td>AgustinDeSalazarYTorres_1</td>\n",
       "      <td>0.418440</td>\n",
       "      <td>0.520095</td>\n",
       "    </tr>\n",
       "    <tr>\n",
       "      <th>1</th>\n",
       "      <td>AgustinDeSalazarYTorres_10</td>\n",
       "      <td>0.617110</td>\n",
       "      <td>0.604019</td>\n",
       "    </tr>\n",
       "    <tr>\n",
       "      <th>2</th>\n",
       "      <td>AgustinDeSalazarYTorres_11</td>\n",
       "      <td>0.514401</td>\n",
       "      <td>0.690307</td>\n",
       "    </tr>\n",
       "    <tr>\n",
       "      <th>3</th>\n",
       "      <td>AgustinDeSalazarYTorres_12</td>\n",
       "      <td>0.480567</td>\n",
       "      <td>0.591489</td>\n",
       "    </tr>\n",
       "    <tr>\n",
       "      <th>4</th>\n",
       "      <td>AgustinDeSalazarYTorres_13</td>\n",
       "      <td>0.570415</td>\n",
       "      <td>0.576409</td>\n",
       "    </tr>\n",
       "    <tr>\n",
       "      <th>...</th>\n",
       "      <td>...</td>\n",
       "      <td>...</td>\n",
       "      <td>...</td>\n",
       "    </tr>\n",
       "    <tr>\n",
       "      <th>5809</th>\n",
       "      <td>s485g_1012</td>\n",
       "      <td>0.628194</td>\n",
       "      <td>0.634894</td>\n",
       "    </tr>\n",
       "    <tr>\n",
       "      <th>5810</th>\n",
       "      <td>s486g_1013_01</td>\n",
       "      <td>0.520567</td>\n",
       "      <td>0.521418</td>\n",
       "    </tr>\n",
       "    <tr>\n",
       "      <th>5811</th>\n",
       "      <td>s486g_1013_02</td>\n",
       "      <td>0.505437</td>\n",
       "      <td>0.603546</td>\n",
       "    </tr>\n",
       "    <tr>\n",
       "      <th>5812</th>\n",
       "      <td>s487g_1014</td>\n",
       "      <td>0.532023</td>\n",
       "      <td>0.584681</td>\n",
       "    </tr>\n",
       "    <tr>\n",
       "      <th>5813</th>\n",
       "      <td>s488g_1015</td>\n",
       "      <td>0.591518</td>\n",
       "      <td>0.570922</td>\n",
       "    </tr>\n",
       "  </tbody>\n",
       "</table>\n",
       "<p>5814 rows × 3 columns</p>\n",
       "</div>"
      ],
      "text/plain": [
       "OctSes                    SonnetID  octave_aro  sestet_aro\n",
       "0        AgustinDeSalazarYTorres_1    0.418440    0.520095\n",
       "1       AgustinDeSalazarYTorres_10    0.617110    0.604019\n",
       "2       AgustinDeSalazarYTorres_11    0.514401    0.690307\n",
       "3       AgustinDeSalazarYTorres_12    0.480567    0.591489\n",
       "4       AgustinDeSalazarYTorres_13    0.570415    0.576409\n",
       "...                            ...         ...         ...\n",
       "5809                    s485g_1012    0.628194    0.634894\n",
       "5810                 s486g_1013_01    0.520567    0.521418\n",
       "5811                 s486g_1013_02    0.505437    0.603546\n",
       "5812                    s487g_1014    0.532023    0.584681\n",
       "5813                    s488g_1015    0.591518    0.570922\n",
       "\n",
       "[5814 rows x 3 columns]"
      ]
     },
     "execution_count": 47,
     "metadata": {},
     "output_type": "execute_result"
    }
   ],
   "source": [
    "os_groups_aro_cont"
   ]
  },
  {
   "cell_type": "code",
   "execution_count": 48,
   "metadata": {
    "scrolled": true
   },
   "outputs": [
    {
     "data": {
      "text/plain": [
       "array([[<AxesSubplot:title={'center':'octave_aro'}>,\n",
       "        <AxesSubplot:title={'center':'sestet_aro'}>]], dtype=object)"
      ]
     },
     "execution_count": 48,
     "metadata": {},
     "output_type": "execute_result"
    },
    {
     "data": {
      "image/png": "[encoded data removed]",
      "text/plain": [
       "<Figure size 432x288 with 2 Axes>"
      ]
     },
     "metadata": {
      "needs_background": "light"
     },
     "output_type": "display_data"
    }
   ],
   "source": [
    "os_groups_aro_cont.hist(column=['octave_aro', 'sestet_aro'], bins=10)"
   ]
  },
  {
   "cell_type": "code",
   "execution_count": 49,
   "metadata": {},
   "outputs": [
    {
     "data": {
      "text/html": [
       "<div>\n",
       "<style scoped>\n",
       "    .dataframe tbody tr th:only-of-type {\n",
       "        vertical-align: middle;\n",
       "    }\n",
       "\n",
       "    .dataframe tbody tr th {\n",
       "        vertical-align: top;\n",
       "    }\n",
       "\n",
       "    .dataframe thead th {\n",
       "        text-align: right;\n",
       "    }\n",
       "</style>\n",
       "<table border=\"1\" class=\"dataframe\">\n",
       "  <thead>\n",
       "    <tr style=\"text-align: right;\">\n",
       "      <th>OctSes</th>\n",
       "      <th>octave_aro</th>\n",
       "      <th>sestet_aro</th>\n",
       "    </tr>\n",
       "  </thead>\n",
       "  <tbody>\n",
       "    <tr>\n",
       "      <th>count</th>\n",
       "      <td>5803.000000</td>\n",
       "      <td>5796.000000</td>\n",
       "    </tr>\n",
       "    <tr>\n",
       "      <th>mean</th>\n",
       "      <td>0.559036</td>\n",
       "      <td>0.567289</td>\n",
       "    </tr>\n",
       "    <tr>\n",
       "      <th>std</th>\n",
       "      <td>0.069385</td>\n",
       "      <td>0.078913</td>\n",
       "    </tr>\n",
       "    <tr>\n",
       "      <th>min</th>\n",
       "      <td>0.297872</td>\n",
       "      <td>0.278684</td>\n",
       "    </tr>\n",
       "    <tr>\n",
       "      <th>25%</th>\n",
       "      <td>0.511677</td>\n",
       "      <td>0.513475</td>\n",
       "    </tr>\n",
       "    <tr>\n",
       "      <th>50%</th>\n",
       "      <td>0.555556</td>\n",
       "      <td>0.565025</td>\n",
       "    </tr>\n",
       "    <tr>\n",
       "      <th>75%</th>\n",
       "      <td>0.603850</td>\n",
       "      <td>0.617021</td>\n",
       "    </tr>\n",
       "    <tr>\n",
       "      <th>max</th>\n",
       "      <td>0.845390</td>\n",
       "      <td>0.926241</td>\n",
       "    </tr>\n",
       "  </tbody>\n",
       "</table>\n",
       "</div>"
      ],
      "text/plain": [
       "OctSes   octave_aro   sestet_aro\n",
       "count   5803.000000  5796.000000\n",
       "mean       0.559036     0.567289\n",
       "std        0.069385     0.078913\n",
       "min        0.297872     0.278684\n",
       "25%        0.511677     0.513475\n",
       "50%        0.555556     0.565025\n",
       "75%        0.603850     0.617021\n",
       "max        0.845390     0.926241"
      ]
     },
     "execution_count": 49,
     "metadata": {},
     "output_type": "execute_result"
    }
   ],
   "source": [
    "os_groups_aro_cont[['octave_aro', 'sestet_aro']].describe(include='all')"
   ]
  },
  {
   "cell_type": "code",
   "execution_count": 50,
   "metadata": {},
   "outputs": [],
   "source": [
    "from scipy.stats import ttest_ind, mannwhitneyu, levene"
   ]
  },
  {
   "cell_type": "code",
   "execution_count": 51,
   "metadata": {},
   "outputs": [],
   "source": [
    "def repna(x):\n",
    "    return "
   ]
  },
  {
   "cell_type": "code",
   "execution_count": 52,
   "metadata": {},
   "outputs": [
    {
     "data": {
      "text/plain": [
       "0.5590364932567575"
      ]
     },
     "execution_count": 52,
     "metadata": {},
     "output_type": "execute_result"
    }
   ],
   "source": [
    "np.mean(os_groups_aro_cont['octave_aro'])"
   ]
  },
  {
   "cell_type": "code",
   "execution_count": 53,
   "metadata": {},
   "outputs": [
    {
     "data": {
      "text/plain": [
       "LeveneResult(statistic=74.41467141134197, pvalue=7.15138261513861e-18)"
      ]
     },
     "execution_count": 53,
     "metadata": {},
     "output_type": "execute_result"
    }
   ],
   "source": [
    "levene(os_groups_aro_cont['octave_aro'].apply(lambda x:x if not pd.isna(x) else np.mean(os_groups_aro_cont['octave_aro'])), os_groups_aro_cont['sestet_aro'].apply(lambda x:x if not pd.isna(x) else np.mean(os_groups_aro_cont['sestet_aro'])), center= 'mean')"
   ]
  },
  {
   "cell_type": "code",
   "execution_count": 54,
   "metadata": {},
   "outputs": [
    {
     "data": {
      "text/plain": [
       "Ttest_indResult(statistic=-5.981382951029345, pvalue=2.2777468960097984e-09)"
      ]
     },
     "execution_count": 54,
     "metadata": {},
     "output_type": "execute_result"
    }
   ],
   "source": [
    "ttest_ind(os_groups_aro_cont['octave_aro'], os_groups_aro_cont['sestet_aro'], nan_policy='omit')"
   ]
  },
  {
   "cell_type": "code",
   "execution_count": 55,
   "metadata": {},
   "outputs": [
    {
     "data": {
      "text/plain": [
       "Ttest_indResult(statistic=-5.980920963525428, pvalue=2.2853024788610114e-09)"
      ]
     },
     "execution_count": 55,
     "metadata": {},
     "output_type": "execute_result"
    }
   ],
   "source": [
    "ttest_ind(os_groups_aro_cont['octave_aro'], os_groups_aro_cont['sestet_aro'], nan_policy='omit', equal_var=False)"
   ]
  },
  {
   "cell_type": "code",
   "execution_count": 84,
   "metadata": {},
   "outputs": [
    {
     "data": {
      "text/plain": [
       "WilcoxonResult(statistic=7638914.0, pvalue=5.732372436436034e-09)"
      ]
     },
     "execution_count": 84,
     "metadata": {},
     "output_type": "execute_result"
    }
   ],
   "source": [
    "wilcoxon(os_groups_aro_cont['octave_aro'], os_groups_aro_cont['sestet_aro'], nan_policy='omit')"
   ]
  },
  {
   "cell_type": "code",
   "execution_count": 85,
   "metadata": {},
   "outputs": [
    {
     "data": {
      "text/plain": [
       "MannwhitneyuResult(statistic=15777341.5, pvalue=8.100682052291474e-09)"
      ]
     },
     "execution_count": 85,
     "metadata": {},
     "output_type": "execute_result"
    }
   ],
   "source": [
    "mannwhitneyu(os_groups_aro_cont['octave_aro'], os_groups_aro_cont['sestet_aro'], nan_policy='omit')"
   ]
  },
  {
   "cell_type": "code",
   "execution_count": 58,
   "metadata": {},
   "outputs": [
    {
     "data": {
      "text/plain": [
       "11"
      ]
     },
     "execution_count": 58,
     "metadata": {},
     "output_type": "execute_result"
    }
   ],
   "source": [
    "os_groups_aro_cont['octave_aro'].isna().sum()"
   ]
  },
  {
   "cell_type": "code",
   "execution_count": 59,
   "metadata": {},
   "outputs": [
    {
     "data": {
      "text/plain": [
       "18"
      ]
     },
     "execution_count": 59,
     "metadata": {},
     "output_type": "execute_result"
    }
   ],
   "source": [
    "os_groups_aro_cont['sestet_aro'].isna().sum()"
   ]
  },
  {
   "cell_type": "markdown",
   "metadata": {},
   "source": [
    "#### Arousal when number of rhyme-words in the sonnet present in lexica above a given threshold"
   ]
  },
  {
   "cell_type": "code",
   "execution_count": 89,
   "metadata": {},
   "outputs": [
    {
     "data": {
      "text/plain": [
       "0         True\n",
       "1        False\n",
       "2         True\n",
       "3        False\n",
       "4         True\n",
       "         ...  \n",
       "80847     True\n",
       "80848     True\n",
       "80849     True\n",
       "80850     True\n",
       "80851     True\n",
       "Name: arousal_call, Length: 80852, dtype: bool"
      ]
     },
     "execution_count": 89,
     "metadata": {},
     "output_type": "execute_result"
    }
   ],
   "source": [
    "df['arousal_call'].notna()"
   ]
  },
  {
   "cell_type": "code",
   "execution_count": 90,
   "metadata": {},
   "outputs": [],
   "source": [
    "df['aro_call_b'] = np.where(df['arousal_call'].notna(), 1, 0)"
   ]
  },
  {
   "cell_type": "code",
   "execution_count": 91,
   "metadata": {
    "scrolled": true
   },
   "outputs": [],
   "source": [
    "os_aro_groups = df.groupby(['SonnetID', 'OctSes', 'aro_call_b'])['aro_call_b'].aggregate('count').unstack().unstack()"
   ]
  },
  {
   "cell_type": "code",
   "execution_count": 92,
   "metadata": {
    "scrolled": true
   },
   "outputs": [
    {
     "data": {
      "text/html": [
       "<div>\n",
       "<style scoped>\n",
       "    .dataframe tbody tr th:only-of-type {\n",
       "        vertical-align: middle;\n",
       "    }\n",
       "\n",
       "    .dataframe tbody tr th {\n",
       "        vertical-align: top;\n",
       "    }\n",
       "\n",
       "    .dataframe thead tr th {\n",
       "        text-align: left;\n",
       "    }\n",
       "\n",
       "    .dataframe thead tr:last-of-type th {\n",
       "        text-align: right;\n",
       "    }\n",
       "</style>\n",
       "<table border=\"1\" class=\"dataframe\">\n",
       "  <thead>\n",
       "    <tr>\n",
       "      <th>aro_call_b</th>\n",
       "      <th colspan=\"2\" halign=\"left\">0</th>\n",
       "      <th colspan=\"2\" halign=\"left\">1</th>\n",
       "    </tr>\n",
       "    <tr>\n",
       "      <th>OctSes</th>\n",
       "      <th>octave</th>\n",
       "      <th>sestet</th>\n",
       "      <th>octave</th>\n",
       "      <th>sestet</th>\n",
       "    </tr>\n",
       "    <tr>\n",
       "      <th>SonnetID</th>\n",
       "      <th></th>\n",
       "      <th></th>\n",
       "      <th></th>\n",
       "      <th></th>\n",
       "    </tr>\n",
       "  </thead>\n",
       "  <tbody>\n",
       "    <tr>\n",
       "      <th>AgustinDeSalazarYTorres_1</th>\n",
       "      <td>4.0</td>\n",
       "      <td>NaN</td>\n",
       "      <td>4.0</td>\n",
       "      <td>6.0</td>\n",
       "    </tr>\n",
       "    <tr>\n",
       "      <th>AgustinDeSalazarYTorres_10</th>\n",
       "      <td>NaN</td>\n",
       "      <td>NaN</td>\n",
       "      <td>8.0</td>\n",
       "      <td>6.0</td>\n",
       "    </tr>\n",
       "    <tr>\n",
       "      <th>AgustinDeSalazarYTorres_11</th>\n",
       "      <td>2.0</td>\n",
       "      <td>NaN</td>\n",
       "      <td>6.0</td>\n",
       "      <td>6.0</td>\n",
       "    </tr>\n",
       "    <tr>\n",
       "      <th>AgustinDeSalazarYTorres_12</th>\n",
       "      <td>3.0</td>\n",
       "      <td>1.0</td>\n",
       "      <td>5.0</td>\n",
       "      <td>5.0</td>\n",
       "    </tr>\n",
       "    <tr>\n",
       "      <th>AgustinDeSalazarYTorres_13</th>\n",
       "      <td>1.0</td>\n",
       "      <td>1.0</td>\n",
       "      <td>7.0</td>\n",
       "      <td>5.0</td>\n",
       "    </tr>\n",
       "    <tr>\n",
       "      <th>...</th>\n",
       "      <td>...</td>\n",
       "      <td>...</td>\n",
       "      <td>...</td>\n",
       "      <td>...</td>\n",
       "    </tr>\n",
       "    <tr>\n",
       "      <th>s485g_1012</th>\n",
       "      <td>NaN</td>\n",
       "      <td>1.0</td>\n",
       "      <td>8.0</td>\n",
       "      <td>5.0</td>\n",
       "    </tr>\n",
       "    <tr>\n",
       "      <th>s486g_1013_01</th>\n",
       "      <td>3.0</td>\n",
       "      <td>1.0</td>\n",
       "      <td>5.0</td>\n",
       "      <td>5.0</td>\n",
       "    </tr>\n",
       "    <tr>\n",
       "      <th>s486g_1013_02</th>\n",
       "      <td>2.0</td>\n",
       "      <td>NaN</td>\n",
       "      <td>6.0</td>\n",
       "      <td>6.0</td>\n",
       "    </tr>\n",
       "    <tr>\n",
       "      <th>s487g_1014</th>\n",
       "      <td>4.0</td>\n",
       "      <td>1.0</td>\n",
       "      <td>4.0</td>\n",
       "      <td>5.0</td>\n",
       "    </tr>\n",
       "    <tr>\n",
       "      <th>s488g_1015</th>\n",
       "      <td>3.0</td>\n",
       "      <td>4.0</td>\n",
       "      <td>5.0</td>\n",
       "      <td>2.0</td>\n",
       "    </tr>\n",
       "  </tbody>\n",
       "</table>\n",
       "<p>5814 rows × 4 columns</p>\n",
       "</div>"
      ],
      "text/plain": [
       "aro_call_b                      0             1       \n",
       "OctSes                     octave sestet octave sestet\n",
       "SonnetID                                              \n",
       "AgustinDeSalazarYTorres_1     4.0    NaN    4.0    6.0\n",
       "AgustinDeSalazarYTorres_10    NaN    NaN    8.0    6.0\n",
       "AgustinDeSalazarYTorres_11    2.0    NaN    6.0    6.0\n",
       "AgustinDeSalazarYTorres_12    3.0    1.0    5.0    5.0\n",
       "AgustinDeSalazarYTorres_13    1.0    1.0    7.0    5.0\n",
       "...                           ...    ...    ...    ...\n",
       "s485g_1012                    NaN    1.0    8.0    5.0\n",
       "s486g_1013_01                 3.0    1.0    5.0    5.0\n",
       "s486g_1013_02                 2.0    NaN    6.0    6.0\n",
       "s487g_1014                    4.0    1.0    4.0    5.0\n",
       "s488g_1015                    3.0    4.0    5.0    2.0\n",
       "\n",
       "[5814 rows x 4 columns]"
      ]
     },
     "execution_count": 92,
     "metadata": {},
     "output_type": "execute_result"
    }
   ],
   "source": [
    "os_aro_groups"
   ]
  },
  {
   "cell_type": "code",
   "execution_count": 96,
   "metadata": {},
   "outputs": [],
   "source": [
    "oag = os_aro_groups"
   ]
  },
  {
   "cell_type": "code",
   "execution_count": 97,
   "metadata": {
    "scrolled": true
   },
   "outputs": [
    {
     "data": {
      "text/plain": [
       "FrozenList([[0, 1], ['octave', 'sestet']])"
      ]
     },
     "execution_count": 97,
     "metadata": {},
     "output_type": "execute_result"
    }
   ],
   "source": [
    "oag.columns.levels"
   ]
  },
  {
   "cell_type": "code",
   "execution_count": 98,
   "metadata": {},
   "outputs": [
    {
     "data": {
      "text/plain": [
       "SonnetID\n",
       "AgustinDeSalazarYTorres_1     4.0\n",
       "AgustinDeSalazarYTorres_10    NaN\n",
       "AgustinDeSalazarYTorres_11    2.0\n",
       "AgustinDeSalazarYTorres_12    3.0\n",
       "AgustinDeSalazarYTorres_13    1.0\n",
       "                             ... \n",
       "s485g_1012                    NaN\n",
       "s486g_1013_01                 3.0\n",
       "s486g_1013_02                 2.0\n",
       "s487g_1014                    4.0\n",
       "s488g_1015                    3.0\n",
       "Name: (0, octave), Length: 5814, dtype: float64"
      ]
     },
     "execution_count": 98,
     "metadata": {},
     "output_type": "execute_result"
    }
   ],
   "source": [
    "oag.loc[:, (0, 'octave')]"
   ]
  },
  {
   "cell_type": "markdown",
   "metadata": {},
   "source": [
    "Prepare data for a new dataframe with the binary value counts"
   ]
  },
  {
   "cell_type": "code",
   "execution_count": 99,
   "metadata": {},
   "outputs": [],
   "source": [
    "oag_new_data =  {'octave_aro_0': oag.loc[:, (0, 'octave')],\n",
    "                 'octave_aro_1': oag.loc[:, (1, 'octave')],\n",
    "                 'sestet_aro_0': oag.loc[:, (0, 'sestet')],\n",
    "                 'sestet_aro_1': oag.loc[:, (1, 'sestet')]}"
   ]
  },
  {
   "cell_type": "code",
   "execution_count": 100,
   "metadata": {},
   "outputs": [],
   "source": [
    "oag_new_df = pd.DataFrame(oag_new_data)"
   ]
  },
  {
   "cell_type": "code",
   "execution_count": 101,
   "metadata": {
    "scrolled": true
   },
   "outputs": [
    {
     "data": {
      "text/html": [
       "<div>\n",
       "<style scoped>\n",
       "    .dataframe tbody tr th:only-of-type {\n",
       "        vertical-align: middle;\n",
       "    }\n",
       "\n",
       "    .dataframe tbody tr th {\n",
       "        vertical-align: top;\n",
       "    }\n",
       "\n",
       "    .dataframe thead th {\n",
       "        text-align: right;\n",
       "    }\n",
       "</style>\n",
       "<table border=\"1\" class=\"dataframe\">\n",
       "  <thead>\n",
       "    <tr style=\"text-align: right;\">\n",
       "      <th></th>\n",
       "      <th>octave_aro_0</th>\n",
       "      <th>octave_aro_1</th>\n",
       "      <th>sestet_aro_0</th>\n",
       "      <th>sestet_aro_1</th>\n",
       "    </tr>\n",
       "    <tr>\n",
       "      <th>SonnetID</th>\n",
       "      <th></th>\n",
       "      <th></th>\n",
       "      <th></th>\n",
       "      <th></th>\n",
       "    </tr>\n",
       "  </thead>\n",
       "  <tbody>\n",
       "    <tr>\n",
       "      <th>AgustinDeSalazarYTorres_1</th>\n",
       "      <td>4.0</td>\n",
       "      <td>4.0</td>\n",
       "      <td>NaN</td>\n",
       "      <td>6.0</td>\n",
       "    </tr>\n",
       "    <tr>\n",
       "      <th>AgustinDeSalazarYTorres_10</th>\n",
       "      <td>NaN</td>\n",
       "      <td>8.0</td>\n",
       "      <td>NaN</td>\n",
       "      <td>6.0</td>\n",
       "    </tr>\n",
       "    <tr>\n",
       "      <th>AgustinDeSalazarYTorres_11</th>\n",
       "      <td>2.0</td>\n",
       "      <td>6.0</td>\n",
       "      <td>NaN</td>\n",
       "      <td>6.0</td>\n",
       "    </tr>\n",
       "    <tr>\n",
       "      <th>AgustinDeSalazarYTorres_12</th>\n",
       "      <td>3.0</td>\n",
       "      <td>5.0</td>\n",
       "      <td>1.0</td>\n",
       "      <td>5.0</td>\n",
       "    </tr>\n",
       "    <tr>\n",
       "      <th>AgustinDeSalazarYTorres_13</th>\n",
       "      <td>1.0</td>\n",
       "      <td>7.0</td>\n",
       "      <td>1.0</td>\n",
       "      <td>5.0</td>\n",
       "    </tr>\n",
       "    <tr>\n",
       "      <th>...</th>\n",
       "      <td>...</td>\n",
       "      <td>...</td>\n",
       "      <td>...</td>\n",
       "      <td>...</td>\n",
       "    </tr>\n",
       "    <tr>\n",
       "      <th>s485g_1012</th>\n",
       "      <td>NaN</td>\n",
       "      <td>8.0</td>\n",
       "      <td>1.0</td>\n",
       "      <td>5.0</td>\n",
       "    </tr>\n",
       "    <tr>\n",
       "      <th>s486g_1013_01</th>\n",
       "      <td>3.0</td>\n",
       "      <td>5.0</td>\n",
       "      <td>1.0</td>\n",
       "      <td>5.0</td>\n",
       "    </tr>\n",
       "    <tr>\n",
       "      <th>s486g_1013_02</th>\n",
       "      <td>2.0</td>\n",
       "      <td>6.0</td>\n",
       "      <td>NaN</td>\n",
       "      <td>6.0</td>\n",
       "    </tr>\n",
       "    <tr>\n",
       "      <th>s487g_1014</th>\n",
       "      <td>4.0</td>\n",
       "      <td>4.0</td>\n",
       "      <td>1.0</td>\n",
       "      <td>5.0</td>\n",
       "    </tr>\n",
       "    <tr>\n",
       "      <th>s488g_1015</th>\n",
       "      <td>3.0</td>\n",
       "      <td>5.0</td>\n",
       "      <td>4.0</td>\n",
       "      <td>2.0</td>\n",
       "    </tr>\n",
       "  </tbody>\n",
       "</table>\n",
       "<p>5814 rows × 4 columns</p>\n",
       "</div>"
      ],
      "text/plain": [
       "                            octave_aro_0  octave_aro_1  sestet_aro_0  \\\n",
       "SonnetID                                                               \n",
       "AgustinDeSalazarYTorres_1            4.0           4.0           NaN   \n",
       "AgustinDeSalazarYTorres_10           NaN           8.0           NaN   \n",
       "AgustinDeSalazarYTorres_11           2.0           6.0           NaN   \n",
       "AgustinDeSalazarYTorres_12           3.0           5.0           1.0   \n",
       "AgustinDeSalazarYTorres_13           1.0           7.0           1.0   \n",
       "...                                  ...           ...           ...   \n",
       "s485g_1012                           NaN           8.0           1.0   \n",
       "s486g_1013_01                        3.0           5.0           1.0   \n",
       "s486g_1013_02                        2.0           6.0           NaN   \n",
       "s487g_1014                           4.0           4.0           1.0   \n",
       "s488g_1015                           3.0           5.0           4.0   \n",
       "\n",
       "                            sestet_aro_1  \n",
       "SonnetID                                  \n",
       "AgustinDeSalazarYTorres_1            6.0  \n",
       "AgustinDeSalazarYTorres_10           6.0  \n",
       "AgustinDeSalazarYTorres_11           6.0  \n",
       "AgustinDeSalazarYTorres_12           5.0  \n",
       "AgustinDeSalazarYTorres_13           5.0  \n",
       "...                                  ...  \n",
       "s485g_1012                           5.0  \n",
       "s486g_1013_01                        5.0  \n",
       "s486g_1013_02                        6.0  \n",
       "s487g_1014                           5.0  \n",
       "s488g_1015                           2.0  \n",
       "\n",
       "[5814 rows x 4 columns]"
      ]
     },
     "execution_count": 101,
     "metadata": {},
     "output_type": "execute_result"
    }
   ],
   "source": [
    "oag_new_df"
   ]
  },
  {
   "cell_type": "code",
   "execution_count": 102,
   "metadata": {},
   "outputs": [],
   "source": [
    "oag_new_df = oag_new_df.rename_axis('SonnetID').reset_index()"
   ]
  },
  {
   "cell_type": "code",
   "execution_count": 103,
   "metadata": {
    "scrolled": true
   },
   "outputs": [
    {
     "data": {
      "text/html": [
       "<div>\n",
       "<style scoped>\n",
       "    .dataframe tbody tr th:only-of-type {\n",
       "        vertical-align: middle;\n",
       "    }\n",
       "\n",
       "    .dataframe tbody tr th {\n",
       "        vertical-align: top;\n",
       "    }\n",
       "\n",
       "    .dataframe thead th {\n",
       "        text-align: right;\n",
       "    }\n",
       "</style>\n",
       "<table border=\"1\" class=\"dataframe\">\n",
       "  <thead>\n",
       "    <tr style=\"text-align: right;\">\n",
       "      <th></th>\n",
       "      <th>SonnetID</th>\n",
       "      <th>octave_aro_0</th>\n",
       "      <th>octave_aro_1</th>\n",
       "      <th>sestet_aro_0</th>\n",
       "      <th>sestet_aro_1</th>\n",
       "    </tr>\n",
       "  </thead>\n",
       "  <tbody>\n",
       "    <tr>\n",
       "      <th>0</th>\n",
       "      <td>AgustinDeSalazarYTorres_1</td>\n",
       "      <td>4.0</td>\n",
       "      <td>4.0</td>\n",
       "      <td>NaN</td>\n",
       "      <td>6.0</td>\n",
       "    </tr>\n",
       "    <tr>\n",
       "      <th>1</th>\n",
       "      <td>AgustinDeSalazarYTorres_10</td>\n",
       "      <td>NaN</td>\n",
       "      <td>8.0</td>\n",
       "      <td>NaN</td>\n",
       "      <td>6.0</td>\n",
       "    </tr>\n",
       "    <tr>\n",
       "      <th>2</th>\n",
       "      <td>AgustinDeSalazarYTorres_11</td>\n",
       "      <td>2.0</td>\n",
       "      <td>6.0</td>\n",
       "      <td>NaN</td>\n",
       "      <td>6.0</td>\n",
       "    </tr>\n",
       "    <tr>\n",
       "      <th>3</th>\n",
       "      <td>AgustinDeSalazarYTorres_12</td>\n",
       "      <td>3.0</td>\n",
       "      <td>5.0</td>\n",
       "      <td>1.0</td>\n",
       "      <td>5.0</td>\n",
       "    </tr>\n",
       "    <tr>\n",
       "      <th>4</th>\n",
       "      <td>AgustinDeSalazarYTorres_13</td>\n",
       "      <td>1.0</td>\n",
       "      <td>7.0</td>\n",
       "      <td>1.0</td>\n",
       "      <td>5.0</td>\n",
       "    </tr>\n",
       "    <tr>\n",
       "      <th>...</th>\n",
       "      <td>...</td>\n",
       "      <td>...</td>\n",
       "      <td>...</td>\n",
       "      <td>...</td>\n",
       "      <td>...</td>\n",
       "    </tr>\n",
       "    <tr>\n",
       "      <th>5809</th>\n",
       "      <td>s485g_1012</td>\n",
       "      <td>NaN</td>\n",
       "      <td>8.0</td>\n",
       "      <td>1.0</td>\n",
       "      <td>5.0</td>\n",
       "    </tr>\n",
       "    <tr>\n",
       "      <th>5810</th>\n",
       "      <td>s486g_1013_01</td>\n",
       "      <td>3.0</td>\n",
       "      <td>5.0</td>\n",
       "      <td>1.0</td>\n",
       "      <td>5.0</td>\n",
       "    </tr>\n",
       "    <tr>\n",
       "      <th>5811</th>\n",
       "      <td>s486g_1013_02</td>\n",
       "      <td>2.0</td>\n",
       "      <td>6.0</td>\n",
       "      <td>NaN</td>\n",
       "      <td>6.0</td>\n",
       "    </tr>\n",
       "    <tr>\n",
       "      <th>5812</th>\n",
       "      <td>s487g_1014</td>\n",
       "      <td>4.0</td>\n",
       "      <td>4.0</td>\n",
       "      <td>1.0</td>\n",
       "      <td>5.0</td>\n",
       "    </tr>\n",
       "    <tr>\n",
       "      <th>5813</th>\n",
       "      <td>s488g_1015</td>\n",
       "      <td>3.0</td>\n",
       "      <td>5.0</td>\n",
       "      <td>4.0</td>\n",
       "      <td>2.0</td>\n",
       "    </tr>\n",
       "  </tbody>\n",
       "</table>\n",
       "<p>5814 rows × 5 columns</p>\n",
       "</div>"
      ],
      "text/plain": [
       "                        SonnetID  octave_aro_0  octave_aro_1  sestet_aro_0  \\\n",
       "0      AgustinDeSalazarYTorres_1           4.0           4.0           NaN   \n",
       "1     AgustinDeSalazarYTorres_10           NaN           8.0           NaN   \n",
       "2     AgustinDeSalazarYTorres_11           2.0           6.0           NaN   \n",
       "3     AgustinDeSalazarYTorres_12           3.0           5.0           1.0   \n",
       "4     AgustinDeSalazarYTorres_13           1.0           7.0           1.0   \n",
       "...                          ...           ...           ...           ...   \n",
       "5809                  s485g_1012           NaN           8.0           1.0   \n",
       "5810               s486g_1013_01           3.0           5.0           1.0   \n",
       "5811               s486g_1013_02           2.0           6.0           NaN   \n",
       "5812                  s487g_1014           4.0           4.0           1.0   \n",
       "5813                  s488g_1015           3.0           5.0           4.0   \n",
       "\n",
       "      sestet_aro_1  \n",
       "0              6.0  \n",
       "1              6.0  \n",
       "2              6.0  \n",
       "3              5.0  \n",
       "4              5.0  \n",
       "...            ...  \n",
       "5809           5.0  \n",
       "5810           5.0  \n",
       "5811           6.0  \n",
       "5812           5.0  \n",
       "5813           2.0  \n",
       "\n",
       "[5814 rows x 5 columns]"
      ]
     },
     "execution_count": 103,
     "metadata": {},
     "output_type": "execute_result"
    }
   ],
   "source": [
    "oag_new_df"
   ]
  },
  {
   "cell_type": "code",
   "execution_count": 104,
   "metadata": {},
   "outputs": [],
   "source": [
    "df2_aro = oag_new_df"
   ]
  },
  {
   "cell_type": "code",
   "execution_count": 105,
   "metadata": {},
   "outputs": [
    {
     "data": {
      "text/plain": [
       "5814"
      ]
     },
     "execution_count": 105,
     "metadata": {},
     "output_type": "execute_result"
    }
   ],
   "source": [
    "len(df2_aro)"
   ]
  },
  {
   "cell_type": "markdown",
   "metadata": {},
   "source": [
    "Number of left out sonnets given octave which does not add to 8 (or na)"
   ]
  },
  {
   "cell_type": "code",
   "execution_count": 107,
   "metadata": {},
   "outputs": [],
   "source": [
    "no_adds_aro = df2_aro.loc[(df2_aro['octave_aro_0'] + df2_aro['octave_aro_1']).isin((8, np.nan)) == False]"
   ]
  },
  {
   "cell_type": "code",
   "execution_count": 108,
   "metadata": {},
   "outputs": [
    {
     "data": {
      "text/plain": [
       "123"
      ]
     },
     "execution_count": 108,
     "metadata": {},
     "output_type": "execute_result"
    }
   ],
   "source": [
    "len(no_adds_aro)"
   ]
  },
  {
   "cell_type": "markdown",
   "metadata": {},
   "source": [
    "Number of left out sonnets given sestet which does not add to 6 (or na)"
   ]
  },
  {
   "cell_type": "code",
   "execution_count": 110,
   "metadata": {},
   "outputs": [],
   "source": [
    "no_adds_aro_sestet = df2_aro.loc[(df2_aro['sestet_aro_0'] + df2_aro['sestet_aro_1']).isin((6, np.nan)) == False]"
   ]
  },
  {
   "cell_type": "code",
   "execution_count": 22,
   "metadata": {
    "scrolled": true
   },
   "outputs": [
    {
     "data": {
      "text/plain": [
       "86"
      ]
     },
     "execution_count": 22,
     "metadata": {},
     "output_type": "execute_result"
    }
   ],
   "source": [
    "len(no_adds_sestet)"
   ]
  },
  {
   "cell_type": "markdown",
   "metadata": {},
   "source": [
    "Filter to keep only cases where number of rhyme-words found in lexica is above a given threshold both in the octave and in the sestet. Columns ending in *\\_0* and *\\_1* are the ones we need (the *\\_9* ending means that the ryme-word is not in the lexicon)"
   ]
  },
  {
   "cell_type": "code",
   "execution_count": 147,
   "metadata": {},
   "outputs": [],
   "source": [
    "octave_aro_min = 6\n",
    "sestet_aro_min = 4\n",
    "df3_aro = df2_aro.loc[(df2_aro['octave_aro_1'] >= octave_aro_min) & (df2_aro['sestet_aro_1'] >= sestet_aro_min)]"
   ]
  },
  {
   "cell_type": "code",
   "execution_count": 148,
   "metadata": {},
   "outputs": [
    {
     "data": {
      "text/html": [
       "<div>\n",
       "<style scoped>\n",
       "    .dataframe tbody tr th:only-of-type {\n",
       "        vertical-align: middle;\n",
       "    }\n",
       "\n",
       "    .dataframe tbody tr th {\n",
       "        vertical-align: top;\n",
       "    }\n",
       "\n",
       "    .dataframe thead th {\n",
       "        text-align: right;\n",
       "    }\n",
       "</style>\n",
       "<table border=\"1\" class=\"dataframe\">\n",
       "  <thead>\n",
       "    <tr style=\"text-align: right;\">\n",
       "      <th></th>\n",
       "      <th>SonnetID</th>\n",
       "      <th>octave_aro_0</th>\n",
       "      <th>octave_aro_1</th>\n",
       "      <th>sestet_aro_0</th>\n",
       "      <th>sestet_aro_1</th>\n",
       "    </tr>\n",
       "  </thead>\n",
       "  <tbody>\n",
       "    <tr>\n",
       "      <th>1</th>\n",
       "      <td>AgustinDeSalazarYTorres_10</td>\n",
       "      <td>NaN</td>\n",
       "      <td>8.0</td>\n",
       "      <td>NaN</td>\n",
       "      <td>6.0</td>\n",
       "    </tr>\n",
       "    <tr>\n",
       "      <th>2</th>\n",
       "      <td>AgustinDeSalazarYTorres_11</td>\n",
       "      <td>2.0</td>\n",
       "      <td>6.0</td>\n",
       "      <td>NaN</td>\n",
       "      <td>6.0</td>\n",
       "    </tr>\n",
       "    <tr>\n",
       "      <th>4</th>\n",
       "      <td>AgustinDeSalazarYTorres_13</td>\n",
       "      <td>1.0</td>\n",
       "      <td>7.0</td>\n",
       "      <td>1.0</td>\n",
       "      <td>5.0</td>\n",
       "    </tr>\n",
       "    <tr>\n",
       "      <th>5</th>\n",
       "      <td>AgustinDeSalazarYTorres_14</td>\n",
       "      <td>NaN</td>\n",
       "      <td>8.0</td>\n",
       "      <td>1.0</td>\n",
       "      <td>5.0</td>\n",
       "    </tr>\n",
       "    <tr>\n",
       "      <th>7</th>\n",
       "      <td>AgustinDeSalazarYTorres_16</td>\n",
       "      <td>1.0</td>\n",
       "      <td>7.0</td>\n",
       "      <td>1.0</td>\n",
       "      <td>4.0</td>\n",
       "    </tr>\n",
       "    <tr>\n",
       "      <th>...</th>\n",
       "      <td>...</td>\n",
       "      <td>...</td>\n",
       "      <td>...</td>\n",
       "      <td>...</td>\n",
       "      <td>...</td>\n",
       "    </tr>\n",
       "    <tr>\n",
       "      <th>5806</th>\n",
       "      <td>s483g_1009</td>\n",
       "      <td>NaN</td>\n",
       "      <td>8.0</td>\n",
       "      <td>1.0</td>\n",
       "      <td>5.0</td>\n",
       "    </tr>\n",
       "    <tr>\n",
       "      <th>5807</th>\n",
       "      <td>s483g_1010</td>\n",
       "      <td>2.0</td>\n",
       "      <td>6.0</td>\n",
       "      <td>2.0</td>\n",
       "      <td>4.0</td>\n",
       "    </tr>\n",
       "    <tr>\n",
       "      <th>5808</th>\n",
       "      <td>s484g_1011</td>\n",
       "      <td>1.0</td>\n",
       "      <td>7.0</td>\n",
       "      <td>NaN</td>\n",
       "      <td>6.0</td>\n",
       "    </tr>\n",
       "    <tr>\n",
       "      <th>5809</th>\n",
       "      <td>s485g_1012</td>\n",
       "      <td>NaN</td>\n",
       "      <td>8.0</td>\n",
       "      <td>1.0</td>\n",
       "      <td>5.0</td>\n",
       "    </tr>\n",
       "    <tr>\n",
       "      <th>5811</th>\n",
       "      <td>s486g_1013_02</td>\n",
       "      <td>2.0</td>\n",
       "      <td>6.0</td>\n",
       "      <td>NaN</td>\n",
       "      <td>6.0</td>\n",
       "    </tr>\n",
       "  </tbody>\n",
       "</table>\n",
       "<p>4411 rows × 5 columns</p>\n",
       "</div>"
      ],
      "text/plain": [
       "                        SonnetID  octave_aro_0  octave_aro_1  sestet_aro_0  \\\n",
       "1     AgustinDeSalazarYTorres_10           NaN           8.0           NaN   \n",
       "2     AgustinDeSalazarYTorres_11           2.0           6.0           NaN   \n",
       "4     AgustinDeSalazarYTorres_13           1.0           7.0           1.0   \n",
       "5     AgustinDeSalazarYTorres_14           NaN           8.0           1.0   \n",
       "7     AgustinDeSalazarYTorres_16           1.0           7.0           1.0   \n",
       "...                          ...           ...           ...           ...   \n",
       "5806                  s483g_1009           NaN           8.0           1.0   \n",
       "5807                  s483g_1010           2.0           6.0           2.0   \n",
       "5808                  s484g_1011           1.0           7.0           NaN   \n",
       "5809                  s485g_1012           NaN           8.0           1.0   \n",
       "5811               s486g_1013_02           2.0           6.0           NaN   \n",
       "\n",
       "      sestet_aro_1  \n",
       "1              6.0  \n",
       "2              6.0  \n",
       "4              5.0  \n",
       "5              5.0  \n",
       "7              4.0  \n",
       "...            ...  \n",
       "5806           5.0  \n",
       "5807           4.0  \n",
       "5808           6.0  \n",
       "5809           5.0  \n",
       "5811           6.0  \n",
       "\n",
       "[4411 rows x 5 columns]"
      ]
     },
     "execution_count": 148,
     "metadata": {},
     "output_type": "execute_result"
    }
   ],
   "source": [
    "df3_aro"
   ]
  },
  {
   "cell_type": "code",
   "execution_count": 149,
   "metadata": {},
   "outputs": [
    {
     "data": {
      "text/plain": [
       "0.758685930512556"
      ]
     },
     "execution_count": 149,
     "metadata": {},
     "output_type": "execute_result"
    }
   ],
   "source": [
    "len(df3_aro)/len(df2_aro)"
   ]
  },
  {
   "cell_type": "markdown",
   "metadata": {},
   "source": [
    "Merge the dataframes so that keep only IDs in df3_aro (i. e. count above threshold), but with continuous average values for arousal"
   ]
  },
  {
   "cell_type": "code",
   "execution_count": 150,
   "metadata": {
    "scrolled": true
   },
   "outputs": [
    {
     "data": {
      "text/html": [
       "<div>\n",
       "<style scoped>\n",
       "    .dataframe tbody tr th:only-of-type {\n",
       "        vertical-align: middle;\n",
       "    }\n",
       "\n",
       "    .dataframe tbody tr th {\n",
       "        vertical-align: top;\n",
       "    }\n",
       "\n",
       "    .dataframe thead th {\n",
       "        text-align: right;\n",
       "    }\n",
       "</style>\n",
       "<table border=\"1\" class=\"dataframe\">\n",
       "  <thead>\n",
       "    <tr style=\"text-align: right;\">\n",
       "      <th>OctSes</th>\n",
       "      <th>SonnetID</th>\n",
       "      <th>octave_aro</th>\n",
       "      <th>sestet_aro</th>\n",
       "    </tr>\n",
       "  </thead>\n",
       "  <tbody>\n",
       "    <tr>\n",
       "      <th>0</th>\n",
       "      <td>AgustinDeSalazarYTorres_1</td>\n",
       "      <td>0.418440</td>\n",
       "      <td>0.520095</td>\n",
       "    </tr>\n",
       "    <tr>\n",
       "      <th>1</th>\n",
       "      <td>AgustinDeSalazarYTorres_10</td>\n",
       "      <td>0.617110</td>\n",
       "      <td>0.604019</td>\n",
       "    </tr>\n",
       "    <tr>\n",
       "      <th>2</th>\n",
       "      <td>AgustinDeSalazarYTorres_11</td>\n",
       "      <td>0.514401</td>\n",
       "      <td>0.690307</td>\n",
       "    </tr>\n",
       "    <tr>\n",
       "      <th>3</th>\n",
       "      <td>AgustinDeSalazarYTorres_12</td>\n",
       "      <td>0.480567</td>\n",
       "      <td>0.591489</td>\n",
       "    </tr>\n",
       "    <tr>\n",
       "      <th>4</th>\n",
       "      <td>AgustinDeSalazarYTorres_13</td>\n",
       "      <td>0.570415</td>\n",
       "      <td>0.576409</td>\n",
       "    </tr>\n",
       "    <tr>\n",
       "      <th>...</th>\n",
       "      <td>...</td>\n",
       "      <td>...</td>\n",
       "      <td>...</td>\n",
       "    </tr>\n",
       "    <tr>\n",
       "      <th>5809</th>\n",
       "      <td>s485g_1012</td>\n",
       "      <td>0.628194</td>\n",
       "      <td>0.634894</td>\n",
       "    </tr>\n",
       "    <tr>\n",
       "      <th>5810</th>\n",
       "      <td>s486g_1013_01</td>\n",
       "      <td>0.520567</td>\n",
       "      <td>0.521418</td>\n",
       "    </tr>\n",
       "    <tr>\n",
       "      <th>5811</th>\n",
       "      <td>s486g_1013_02</td>\n",
       "      <td>0.505437</td>\n",
       "      <td>0.603546</td>\n",
       "    </tr>\n",
       "    <tr>\n",
       "      <th>5812</th>\n",
       "      <td>s487g_1014</td>\n",
       "      <td>0.532023</td>\n",
       "      <td>0.584681</td>\n",
       "    </tr>\n",
       "    <tr>\n",
       "      <th>5813</th>\n",
       "      <td>s488g_1015</td>\n",
       "      <td>0.591518</td>\n",
       "      <td>0.570922</td>\n",
       "    </tr>\n",
       "  </tbody>\n",
       "</table>\n",
       "<p>5814 rows × 3 columns</p>\n",
       "</div>"
      ],
      "text/plain": [
       "OctSes                    SonnetID  octave_aro  sestet_aro\n",
       "0        AgustinDeSalazarYTorres_1    0.418440    0.520095\n",
       "1       AgustinDeSalazarYTorres_10    0.617110    0.604019\n",
       "2       AgustinDeSalazarYTorres_11    0.514401    0.690307\n",
       "3       AgustinDeSalazarYTorres_12    0.480567    0.591489\n",
       "4       AgustinDeSalazarYTorres_13    0.570415    0.576409\n",
       "...                            ...         ...         ...\n",
       "5809                    s485g_1012    0.628194    0.634894\n",
       "5810                 s486g_1013_01    0.520567    0.521418\n",
       "5811                 s486g_1013_02    0.505437    0.603546\n",
       "5812                    s487g_1014    0.532023    0.584681\n",
       "5813                    s488g_1015    0.591518    0.570922\n",
       "\n",
       "[5814 rows x 3 columns]"
      ]
     },
     "execution_count": 150,
     "metadata": {},
     "output_type": "execute_result"
    }
   ],
   "source": [
    "os_groups_aro_cont"
   ]
  },
  {
   "cell_type": "code",
   "execution_count": 176,
   "metadata": {},
   "outputs": [
    {
     "data": {
      "text/plain": [
       "<AxesSubplot:>"
      ]
     },
     "execution_count": 176,
     "metadata": {},
     "output_type": "execute_result"
    },
    {
     "data": {
      "image/png": "[encoded data removed]",
      "text/plain": [
       "<Figure size 432x288 with 1 Axes>"
      ]
     },
     "metadata": {
      "needs_background": "light"
     },
     "output_type": "display_data"
    }
   ],
   "source": [
    "os_groups_aro_cont.boxplot(column=['octave_aro', 'sestet_aro'])"
   ]
  },
  {
   "cell_type": "code",
   "execution_count": 151,
   "metadata": {},
   "outputs": [],
   "source": [
    "merge_bin_aro = pd.merge(df3_aro, os_groups_aro_cont, on='SonnetID')"
   ]
  },
  {
   "cell_type": "code",
   "execution_count": 152,
   "metadata": {},
   "outputs": [
    {
     "data": {
      "text/html": [
       "<div>\n",
       "<style scoped>\n",
       "    .dataframe tbody tr th:only-of-type {\n",
       "        vertical-align: middle;\n",
       "    }\n",
       "\n",
       "    .dataframe tbody tr th {\n",
       "        vertical-align: top;\n",
       "    }\n",
       "\n",
       "    .dataframe thead th {\n",
       "        text-align: right;\n",
       "    }\n",
       "</style>\n",
       "<table border=\"1\" class=\"dataframe\">\n",
       "  <thead>\n",
       "    <tr style=\"text-align: right;\">\n",
       "      <th></th>\n",
       "      <th>SonnetID</th>\n",
       "      <th>octave_aro_0</th>\n",
       "      <th>octave_aro_1</th>\n",
       "      <th>sestet_aro_0</th>\n",
       "      <th>sestet_aro_1</th>\n",
       "      <th>octave_aro</th>\n",
       "      <th>sestet_aro</th>\n",
       "    </tr>\n",
       "  </thead>\n",
       "  <tbody>\n",
       "    <tr>\n",
       "      <th>0</th>\n",
       "      <td>AgustinDeSalazarYTorres_10</td>\n",
       "      <td>NaN</td>\n",
       "      <td>8.0</td>\n",
       "      <td>NaN</td>\n",
       "      <td>6.0</td>\n",
       "      <td>0.617110</td>\n",
       "      <td>0.604019</td>\n",
       "    </tr>\n",
       "    <tr>\n",
       "      <th>1</th>\n",
       "      <td>AgustinDeSalazarYTorres_11</td>\n",
       "      <td>2.0</td>\n",
       "      <td>6.0</td>\n",
       "      <td>NaN</td>\n",
       "      <td>6.0</td>\n",
       "      <td>0.514401</td>\n",
       "      <td>0.690307</td>\n",
       "    </tr>\n",
       "    <tr>\n",
       "      <th>2</th>\n",
       "      <td>AgustinDeSalazarYTorres_13</td>\n",
       "      <td>1.0</td>\n",
       "      <td>7.0</td>\n",
       "      <td>1.0</td>\n",
       "      <td>5.0</td>\n",
       "      <td>0.570415</td>\n",
       "      <td>0.576409</td>\n",
       "    </tr>\n",
       "    <tr>\n",
       "      <th>3</th>\n",
       "      <td>AgustinDeSalazarYTorres_14</td>\n",
       "      <td>NaN</td>\n",
       "      <td>8.0</td>\n",
       "      <td>1.0</td>\n",
       "      <td>5.0</td>\n",
       "      <td>0.531915</td>\n",
       "      <td>0.556028</td>\n",
       "    </tr>\n",
       "    <tr>\n",
       "      <th>4</th>\n",
       "      <td>AgustinDeSalazarYTorres_16</td>\n",
       "      <td>1.0</td>\n",
       "      <td>7.0</td>\n",
       "      <td>1.0</td>\n",
       "      <td>4.0</td>\n",
       "      <td>0.588652</td>\n",
       "      <td>0.574645</td>\n",
       "    </tr>\n",
       "    <tr>\n",
       "      <th>...</th>\n",
       "      <td>...</td>\n",
       "      <td>...</td>\n",
       "      <td>...</td>\n",
       "      <td>...</td>\n",
       "      <td>...</td>\n",
       "      <td>...</td>\n",
       "      <td>...</td>\n",
       "    </tr>\n",
       "    <tr>\n",
       "      <th>4406</th>\n",
       "      <td>s483g_1009</td>\n",
       "      <td>NaN</td>\n",
       "      <td>8.0</td>\n",
       "      <td>1.0</td>\n",
       "      <td>5.0</td>\n",
       "      <td>0.525709</td>\n",
       "      <td>0.483688</td>\n",
       "    </tr>\n",
       "    <tr>\n",
       "      <th>4407</th>\n",
       "      <td>s483g_1010</td>\n",
       "      <td>2.0</td>\n",
       "      <td>6.0</td>\n",
       "      <td>2.0</td>\n",
       "      <td>4.0</td>\n",
       "      <td>0.483452</td>\n",
       "      <td>0.521631</td>\n",
       "    </tr>\n",
       "    <tr>\n",
       "      <th>4408</th>\n",
       "      <td>s484g_1011</td>\n",
       "      <td>1.0</td>\n",
       "      <td>7.0</td>\n",
       "      <td>NaN</td>\n",
       "      <td>6.0</td>\n",
       "      <td>0.512503</td>\n",
       "      <td>0.604492</td>\n",
       "    </tr>\n",
       "    <tr>\n",
       "      <th>4409</th>\n",
       "      <td>s485g_1012</td>\n",
       "      <td>NaN</td>\n",
       "      <td>8.0</td>\n",
       "      <td>1.0</td>\n",
       "      <td>5.0</td>\n",
       "      <td>0.628194</td>\n",
       "      <td>0.634894</td>\n",
       "    </tr>\n",
       "    <tr>\n",
       "      <th>4410</th>\n",
       "      <td>s486g_1013_02</td>\n",
       "      <td>2.0</td>\n",
       "      <td>6.0</td>\n",
       "      <td>NaN</td>\n",
       "      <td>6.0</td>\n",
       "      <td>0.505437</td>\n",
       "      <td>0.603546</td>\n",
       "    </tr>\n",
       "  </tbody>\n",
       "</table>\n",
       "<p>4411 rows × 7 columns</p>\n",
       "</div>"
      ],
      "text/plain": [
       "                        SonnetID  octave_aro_0  octave_aro_1  sestet_aro_0  \\\n",
       "0     AgustinDeSalazarYTorres_10           NaN           8.0           NaN   \n",
       "1     AgustinDeSalazarYTorres_11           2.0           6.0           NaN   \n",
       "2     AgustinDeSalazarYTorres_13           1.0           7.0           1.0   \n",
       "3     AgustinDeSalazarYTorres_14           NaN           8.0           1.0   \n",
       "4     AgustinDeSalazarYTorres_16           1.0           7.0           1.0   \n",
       "...                          ...           ...           ...           ...   \n",
       "4406                  s483g_1009           NaN           8.0           1.0   \n",
       "4407                  s483g_1010           2.0           6.0           2.0   \n",
       "4408                  s484g_1011           1.0           7.0           NaN   \n",
       "4409                  s485g_1012           NaN           8.0           1.0   \n",
       "4410               s486g_1013_02           2.0           6.0           NaN   \n",
       "\n",
       "      sestet_aro_1  octave_aro  sestet_aro  \n",
       "0              6.0    0.617110    0.604019  \n",
       "1              6.0    0.514401    0.690307  \n",
       "2              5.0    0.570415    0.576409  \n",
       "3              5.0    0.531915    0.556028  \n",
       "4              4.0    0.588652    0.574645  \n",
       "...            ...         ...         ...  \n",
       "4406           5.0    0.525709    0.483688  \n",
       "4407           4.0    0.483452    0.521631  \n",
       "4408           6.0    0.512503    0.604492  \n",
       "4409           5.0    0.628194    0.634894  \n",
       "4410           6.0    0.505437    0.603546  \n",
       "\n",
       "[4411 rows x 7 columns]"
      ]
     },
     "execution_count": 152,
     "metadata": {},
     "output_type": "execute_result"
    }
   ],
   "source": [
    "merge_bin_aro"
   ]
  },
  {
   "cell_type": "code",
   "execution_count": 156,
   "metadata": {},
   "outputs": [
    {
     "data": {
      "text/plain": [
       "MannwhitneyuResult(statistic=9199414.0, pvalue=9.723888615990332e-06)"
      ]
     },
     "execution_count": 156,
     "metadata": {},
     "output_type": "execute_result"
    }
   ],
   "source": [
    "mannwhitneyu(merge_bin_aro['octave_aro'], merge_bin_aro['sestet_aro'], nan_policy='omit')"
   ]
  },
  {
   "cell_type": "code",
   "execution_count": 157,
   "metadata": {},
   "outputs": [
    {
     "data": {
      "text/plain": [
       "WilcoxonResult(statistic=4499512.5, pvalue=1.5257921781015558e-05)"
      ]
     },
     "execution_count": 157,
     "metadata": {},
     "output_type": "execute_result"
    }
   ],
   "source": [
    "wilcoxon(merge_bin_aro['octave_aro'], merge_bin_aro['sestet_aro'], nan_policy='omit')"
   ]
  },
  {
   "cell_type": "code",
   "execution_count": 158,
   "metadata": {},
   "outputs": [
    {
     "data": {
      "text/html": [
       "<div>\n",
       "<style scoped>\n",
       "    .dataframe tbody tr th:only-of-type {\n",
       "        vertical-align: middle;\n",
       "    }\n",
       "\n",
       "    .dataframe tbody tr th {\n",
       "        vertical-align: top;\n",
       "    }\n",
       "\n",
       "    .dataframe thead th {\n",
       "        text-align: right;\n",
       "    }\n",
       "</style>\n",
       "<table border=\"1\" class=\"dataframe\">\n",
       "  <thead>\n",
       "    <tr style=\"text-align: right;\">\n",
       "      <th></th>\n",
       "      <th>octave_aro</th>\n",
       "      <th>sestet_aro</th>\n",
       "    </tr>\n",
       "  </thead>\n",
       "  <tbody>\n",
       "    <tr>\n",
       "      <th>count</th>\n",
       "      <td>4411.000000</td>\n",
       "      <td>4411.000000</td>\n",
       "    </tr>\n",
       "    <tr>\n",
       "      <th>mean</th>\n",
       "      <td>0.562116</td>\n",
       "      <td>0.569274</td>\n",
       "    </tr>\n",
       "    <tr>\n",
       "      <th>std</th>\n",
       "      <td>0.067007</td>\n",
       "      <td>0.077399</td>\n",
       "    </tr>\n",
       "    <tr>\n",
       "      <th>min</th>\n",
       "      <td>0.342452</td>\n",
       "      <td>0.319149</td>\n",
       "    </tr>\n",
       "    <tr>\n",
       "      <th>25%</th>\n",
       "      <td>0.516401</td>\n",
       "      <td>0.514894</td>\n",
       "    </tr>\n",
       "    <tr>\n",
       "      <th>50%</th>\n",
       "      <td>0.558663</td>\n",
       "      <td>0.567376</td>\n",
       "    </tr>\n",
       "    <tr>\n",
       "      <th>75%</th>\n",
       "      <td>0.606224</td>\n",
       "      <td>0.618392</td>\n",
       "    </tr>\n",
       "    <tr>\n",
       "      <th>max</th>\n",
       "      <td>0.845154</td>\n",
       "      <td>0.859858</td>\n",
       "    </tr>\n",
       "  </tbody>\n",
       "</table>\n",
       "</div>"
      ],
      "text/plain": [
       "        octave_aro   sestet_aro\n",
       "count  4411.000000  4411.000000\n",
       "mean      0.562116     0.569274\n",
       "std       0.067007     0.077399\n",
       "min       0.342452     0.319149\n",
       "25%       0.516401     0.514894\n",
       "50%       0.558663     0.567376\n",
       "75%       0.606224     0.618392\n",
       "max       0.845154     0.859858"
      ]
     },
     "execution_count": 158,
     "metadata": {},
     "output_type": "execute_result"
    }
   ],
   "source": [
    "merge_bin_aro[['octave_aro', 'sestet_aro']].describe(include='all')"
   ]
  },
  {
   "cell_type": "code",
   "execution_count": 173,
   "metadata": {},
   "outputs": [
    {
     "data": {
      "text/plain": [
       "<AxesSubplot:>"
      ]
     },
     "execution_count": 173,
     "metadata": {},
     "output_type": "execute_result"
    },
    {
     "data": {
      "image/png": "[encoded data removed]",
      "text/plain": [
       "<Figure size 432x288 with 1 Axes>"
      ]
     },
     "metadata": {
      "needs_background": "light"
     },
     "output_type": "display_data"
    }
   ],
   "source": [
    "merge_bin_aro.boxplot(column=['octave_aro', 'sestet_aro'])"
   ]
  },
  {
   "cell_type": "markdown",
   "metadata": {},
   "source": [
    "### Dominance"
   ]
  },
  {
   "cell_type": "code",
   "execution_count": 60,
   "metadata": {},
   "outputs": [],
   "source": [
    "os_groups_dom_cont = df.groupby(['SonnetID', 'OctSes'])['dominance_call'].aggregate('mean').unstack()"
   ]
  },
  {
   "cell_type": "code",
   "execution_count": 61,
   "metadata": {},
   "outputs": [],
   "source": [
    "os_groups_dom_cont = os_groups_dom_cont.rename_axis('SonnetID').reset_index()"
   ]
  },
  {
   "cell_type": "code",
   "execution_count": 62,
   "metadata": {},
   "outputs": [],
   "source": [
    "os_groups_dom_cont.rename(columns={\"octave\": \"octave_dom\", \"sestet\": \"sestet_dom\"}, inplace=True)"
   ]
  },
  {
   "cell_type": "code",
   "execution_count": 63,
   "metadata": {
    "scrolled": true
   },
   "outputs": [
    {
     "data": {
      "text/html": [
       "<div>\n",
       "<style scoped>\n",
       "    .dataframe tbody tr th:only-of-type {\n",
       "        vertical-align: middle;\n",
       "    }\n",
       "\n",
       "    .dataframe tbody tr th {\n",
       "        vertical-align: top;\n",
       "    }\n",
       "\n",
       "    .dataframe thead th {\n",
       "        text-align: right;\n",
       "    }\n",
       "</style>\n",
       "<table border=\"1\" class=\"dataframe\">\n",
       "  <thead>\n",
       "    <tr style=\"text-align: right;\">\n",
       "      <th>OctSes</th>\n",
       "      <th>SonnetID</th>\n",
       "      <th>octave_dom</th>\n",
       "      <th>sestet_dom</th>\n",
       "    </tr>\n",
       "  </thead>\n",
       "  <tbody>\n",
       "    <tr>\n",
       "      <th>0</th>\n",
       "      <td>AgustinDeSalazarYTorres_1</td>\n",
       "      <td>NaN</td>\n",
       "      <td>NaN</td>\n",
       "    </tr>\n",
       "    <tr>\n",
       "      <th>1</th>\n",
       "      <td>AgustinDeSalazarYTorres_10</td>\n",
       "      <td>0.885000</td>\n",
       "      <td>NaN</td>\n",
       "    </tr>\n",
       "    <tr>\n",
       "      <th>2</th>\n",
       "      <td>AgustinDeSalazarYTorres_11</td>\n",
       "      <td>0.352000</td>\n",
       "      <td>NaN</td>\n",
       "    </tr>\n",
       "    <tr>\n",
       "      <th>3</th>\n",
       "      <td>AgustinDeSalazarYTorres_12</td>\n",
       "      <td>NaN</td>\n",
       "      <td>NaN</td>\n",
       "    </tr>\n",
       "    <tr>\n",
       "      <th>4</th>\n",
       "      <td>AgustinDeSalazarYTorres_13</td>\n",
       "      <td>NaN</td>\n",
       "      <td>0.87</td>\n",
       "    </tr>\n",
       "    <tr>\n",
       "      <th>...</th>\n",
       "      <td>...</td>\n",
       "      <td>...</td>\n",
       "      <td>...</td>\n",
       "    </tr>\n",
       "    <tr>\n",
       "      <th>5809</th>\n",
       "      <td>s485g_1012</td>\n",
       "      <td>0.833000</td>\n",
       "      <td>NaN</td>\n",
       "    </tr>\n",
       "    <tr>\n",
       "      <th>5810</th>\n",
       "      <td>s486g_1013_01</td>\n",
       "      <td>NaN</td>\n",
       "      <td>NaN</td>\n",
       "    </tr>\n",
       "    <tr>\n",
       "      <th>5811</th>\n",
       "      <td>s486g_1013_02</td>\n",
       "      <td>NaN</td>\n",
       "      <td>NaN</td>\n",
       "    </tr>\n",
       "    <tr>\n",
       "      <th>5812</th>\n",
       "      <td>s487g_1014</td>\n",
       "      <td>0.484000</td>\n",
       "      <td>NaN</td>\n",
       "    </tr>\n",
       "    <tr>\n",
       "      <th>5813</th>\n",
       "      <td>s488g_1015</td>\n",
       "      <td>0.500375</td>\n",
       "      <td>NaN</td>\n",
       "    </tr>\n",
       "  </tbody>\n",
       "</table>\n",
       "<p>5814 rows × 3 columns</p>\n",
       "</div>"
      ],
      "text/plain": [
       "OctSes                    SonnetID  octave_dom  sestet_dom\n",
       "0        AgustinDeSalazarYTorres_1         NaN         NaN\n",
       "1       AgustinDeSalazarYTorres_10    0.885000         NaN\n",
       "2       AgustinDeSalazarYTorres_11    0.352000         NaN\n",
       "3       AgustinDeSalazarYTorres_12         NaN         NaN\n",
       "4       AgustinDeSalazarYTorres_13         NaN        0.87\n",
       "...                            ...         ...         ...\n",
       "5809                    s485g_1012    0.833000         NaN\n",
       "5810                 s486g_1013_01         NaN         NaN\n",
       "5811                 s486g_1013_02         NaN         NaN\n",
       "5812                    s487g_1014    0.484000         NaN\n",
       "5813                    s488g_1015    0.500375         NaN\n",
       "\n",
       "[5814 rows x 3 columns]"
      ]
     },
     "execution_count": 63,
     "metadata": {},
     "output_type": "execute_result"
    }
   ],
   "source": [
    "os_groups_dom_cont"
   ]
  },
  {
   "cell_type": "code",
   "execution_count": 64,
   "metadata": {},
   "outputs": [
    {
     "data": {
      "text/html": [
       "<div>\n",
       "<style scoped>\n",
       "    .dataframe tbody tr th:only-of-type {\n",
       "        vertical-align: middle;\n",
       "    }\n",
       "\n",
       "    .dataframe tbody tr th {\n",
       "        vertical-align: top;\n",
       "    }\n",
       "\n",
       "    .dataframe thead th {\n",
       "        text-align: right;\n",
       "    }\n",
       "</style>\n",
       "<table border=\"1\" class=\"dataframe\">\n",
       "  <thead>\n",
       "    <tr style=\"text-align: right;\">\n",
       "      <th>OctSes</th>\n",
       "      <th>octave_dom</th>\n",
       "      <th>sestet_dom</th>\n",
       "    </tr>\n",
       "  </thead>\n",
       "  <tbody>\n",
       "    <tr>\n",
       "      <th>count</th>\n",
       "      <td>2332.000000</td>\n",
       "      <td>1575.000000</td>\n",
       "    </tr>\n",
       "    <tr>\n",
       "      <th>mean</th>\n",
       "      <td>0.526420</td>\n",
       "      <td>0.525970</td>\n",
       "    </tr>\n",
       "    <tr>\n",
       "      <th>std</th>\n",
       "      <td>0.177109</td>\n",
       "      <td>0.178475</td>\n",
       "    </tr>\n",
       "    <tr>\n",
       "      <th>min</th>\n",
       "      <td>0.109000</td>\n",
       "      <td>0.098000</td>\n",
       "    </tr>\n",
       "    <tr>\n",
       "      <th>25%</th>\n",
       "      <td>0.388000</td>\n",
       "      <td>0.379000</td>\n",
       "    </tr>\n",
       "    <tr>\n",
       "      <th>50%</th>\n",
       "      <td>0.527250</td>\n",
       "      <td>0.528000</td>\n",
       "    </tr>\n",
       "    <tr>\n",
       "      <th>75%</th>\n",
       "      <td>0.634500</td>\n",
       "      <td>0.634000</td>\n",
       "    </tr>\n",
       "    <tr>\n",
       "      <th>max</th>\n",
       "      <td>0.904000</td>\n",
       "      <td>0.904000</td>\n",
       "    </tr>\n",
       "  </tbody>\n",
       "</table>\n",
       "</div>"
      ],
      "text/plain": [
       "OctSes   octave_dom   sestet_dom\n",
       "count   2332.000000  1575.000000\n",
       "mean       0.526420     0.525970\n",
       "std        0.177109     0.178475\n",
       "min        0.109000     0.098000\n",
       "25%        0.388000     0.379000\n",
       "50%        0.527250     0.528000\n",
       "75%        0.634500     0.634000\n",
       "max        0.904000     0.904000"
      ]
     },
     "execution_count": 64,
     "metadata": {},
     "output_type": "execute_result"
    }
   ],
   "source": [
    "os_groups_dom_cont[['octave_dom', 'sestet_dom']].describe(include='all')"
   ]
  },
  {
   "cell_type": "code",
   "execution_count": 65,
   "metadata": {},
   "outputs": [
    {
     "data": {
      "text/plain": [
       "'1.8.1'"
      ]
     },
     "execution_count": 65,
     "metadata": {},
     "output_type": "execute_result"
    }
   ],
   "source": [
    "import scipy\n",
    "scipy.__version__"
   ]
  },
  {
   "cell_type": "code",
   "execution_count": 66,
   "metadata": {},
   "outputs": [
    {
     "data": {
      "text/plain": [
       "Ttest_indResult(statistic=0.0775692125389478, pvalue=0.9381747074500822)"
      ]
     },
     "execution_count": 66,
     "metadata": {},
     "output_type": "execute_result"
    }
   ],
   "source": [
    "ttest_ind(os_groups_dom_cont['octave_dom'], os_groups_dom_cont['sestet_dom'], nan_policy='omit')"
   ]
  },
  {
   "cell_type": "code",
   "execution_count": 67,
   "metadata": {},
   "outputs": [
    {
     "data": {
      "text/plain": [
       "Ttest_indResult(statistic=0.07745382151223738, pvalue=0.9382671373050028)"
      ]
     },
     "execution_count": 67,
     "metadata": {},
     "output_type": "execute_result"
    }
   ],
   "source": [
    "ttest_ind(os_groups_dom_cont['octave_dom'], os_groups_dom_cont['sestet_dom'], nan_policy='omit', equal_var=False)"
   ]
  },
  {
   "cell_type": "code",
   "execution_count": 68,
   "metadata": {},
   "outputs": [
    {
     "data": {
      "text/plain": [
       "WilcoxonResult(statistic=nan, pvalue=nan)"
      ]
     },
     "execution_count": 68,
     "metadata": {},
     "output_type": "execute_result"
    }
   ],
   "source": [
    "wilcoxon(os_groups_dom_cont['octave_dom'], os_groups_dom_cont['sestet_dom'])"
   ]
  },
  {
   "cell_type": "code",
   "execution_count": 71,
   "metadata": {},
   "outputs": [
    {
     "data": {
      "text/plain": [
       "WilcoxonResult(statistic=92850.0, pvalue=0.40614048090642985)"
      ]
     },
     "execution_count": 71,
     "metadata": {},
     "output_type": "execute_result"
    }
   ],
   "source": [
    "wilcoxon(os_groups_dom_cont['octave_dom'], os_groups_dom_cont['sestet_dom'], nan_policy='omit')"
   ]
  },
  {
   "cell_type": "code",
   "execution_count": 72,
   "metadata": {},
   "outputs": [
    {
     "data": {
      "text/plain": [
       "MannwhitneyuResult(statistic=nan, pvalue=nan)"
      ]
     },
     "execution_count": 72,
     "metadata": {},
     "output_type": "execute_result"
    }
   ],
   "source": [
    "mannwhitneyu(os_groups_dom_cont['octave_dom'], os_groups_dom_cont['sestet_dom'])"
   ]
  },
  {
   "cell_type": "code",
   "execution_count": 73,
   "metadata": {},
   "outputs": [
    {
     "data": {
      "text/plain": [
       "MannwhitneyuResult(statistic=24267549.0, pvalue=0.0)"
      ]
     },
     "execution_count": 73,
     "metadata": {},
     "output_type": "execute_result"
    }
   ],
   "source": [
    "mannwhitneyu(os_groups_dom_cont['octave_dom'].apply(lambda x:x if not pd.isna(x) else np.mean(os_groups_dom_cont['octave_dom'])),\n",
    "             os_groups_dom_cont['sestet_dom'].apply(lambda x:x if not pd.isna(x) else np.mean(os_groups_dom_cont['sestet_dom'])))"
   ]
  },
  {
   "cell_type": "code",
   "execution_count": 74,
   "metadata": {},
   "outputs": [
    {
     "data": {
      "text/plain": [
       "4239"
      ]
     },
     "execution_count": 74,
     "metadata": {},
     "output_type": "execute_result"
    }
   ],
   "source": [
    "os_groups_dom_cont['sestet_dom'].isna().sum()"
   ]
  },
  {
   "cell_type": "code",
   "execution_count": 75,
   "metadata": {},
   "outputs": [
    {
     "data": {
      "text/plain": [
       "3482"
      ]
     },
     "execution_count": 75,
     "metadata": {},
     "output_type": "execute_result"
    }
   ],
   "source": [
    "os_groups_dom_cont['octave_dom'].isna().sum()"
   ]
  },
  {
   "cell_type": "code",
   "execution_count": 76,
   "metadata": {},
   "outputs": [],
   "source": [
    "os_groups_dom_cont_both_notna = os_groups_dom_cont.loc[~(os_groups_dom_cont['octave_dom'].isna())\n",
    "                                                       & ~(os_groups_dom_cont['sestet_dom'].isna())]"
   ]
  },
  {
   "cell_type": "code",
   "execution_count": 77,
   "metadata": {},
   "outputs": [
    {
     "data": {
      "text/plain": [
       "624"
      ]
     },
     "execution_count": 77,
     "metadata": {},
     "output_type": "execute_result"
    }
   ],
   "source": [
    "len(os_groups_dom_cont_both_notna)"
   ]
  },
  {
   "cell_type": "code",
   "execution_count": 78,
   "metadata": {},
   "outputs": [
    {
     "data": {
      "text/html": [
       "<div>\n",
       "<style scoped>\n",
       "    .dataframe tbody tr th:only-of-type {\n",
       "        vertical-align: middle;\n",
       "    }\n",
       "\n",
       "    .dataframe tbody tr th {\n",
       "        vertical-align: top;\n",
       "    }\n",
       "\n",
       "    .dataframe thead th {\n",
       "        text-align: right;\n",
       "    }\n",
       "</style>\n",
       "<table border=\"1\" class=\"dataframe\">\n",
       "  <thead>\n",
       "    <tr style=\"text-align: right;\">\n",
       "      <th>OctSes</th>\n",
       "      <th>SonnetID</th>\n",
       "      <th>octave_dom</th>\n",
       "      <th>sestet_dom</th>\n",
       "    </tr>\n",
       "  </thead>\n",
       "  <tbody>\n",
       "    <tr>\n",
       "      <th>14</th>\n",
       "      <td>AgustinDeSalazarYTorres_22</td>\n",
       "      <td>0.657000</td>\n",
       "      <td>0.46300</td>\n",
       "    </tr>\n",
       "    <tr>\n",
       "      <th>26</th>\n",
       "      <td>AgustinDeSalazarYTorres_6</td>\n",
       "      <td>0.204000</td>\n",
       "      <td>0.88500</td>\n",
       "    </tr>\n",
       "    <tr>\n",
       "      <th>27</th>\n",
       "      <td>AgustinDeSalazarYTorres_7</td>\n",
       "      <td>0.578000</td>\n",
       "      <td>0.52925</td>\n",
       "    </tr>\n",
       "    <tr>\n",
       "      <th>29</th>\n",
       "      <td>AgustinDeSalazarYTorres_9</td>\n",
       "      <td>0.620125</td>\n",
       "      <td>0.36800</td>\n",
       "    </tr>\n",
       "    <tr>\n",
       "      <th>33</th>\n",
       "      <td>AntonioEnriquezGomez_12</td>\n",
       "      <td>0.746000</td>\n",
       "      <td>0.78800</td>\n",
       "    </tr>\n",
       "    <tr>\n",
       "      <th>...</th>\n",
       "      <td>...</td>\n",
       "      <td>...</td>\n",
       "      <td>...</td>\n",
       "    </tr>\n",
       "    <tr>\n",
       "      <th>5764</th>\n",
       "      <td>s450g_0963</td>\n",
       "      <td>0.515000</td>\n",
       "      <td>0.32700</td>\n",
       "    </tr>\n",
       "    <tr>\n",
       "      <th>5768</th>\n",
       "      <td>s454g_0967</td>\n",
       "      <td>0.354000</td>\n",
       "      <td>0.35200</td>\n",
       "    </tr>\n",
       "    <tr>\n",
       "      <th>5771</th>\n",
       "      <td>s455g_0970</td>\n",
       "      <td>0.429000</td>\n",
       "      <td>0.37300</td>\n",
       "    </tr>\n",
       "    <tr>\n",
       "      <th>5795</th>\n",
       "      <td>s474g_0998</td>\n",
       "      <td>0.409000</td>\n",
       "      <td>0.39200</td>\n",
       "    </tr>\n",
       "    <tr>\n",
       "      <th>5803</th>\n",
       "      <td>s481g_1006</td>\n",
       "      <td>0.885000</td>\n",
       "      <td>0.70200</td>\n",
       "    </tr>\n",
       "  </tbody>\n",
       "</table>\n",
       "<p>624 rows × 3 columns</p>\n",
       "</div>"
      ],
      "text/plain": [
       "OctSes                    SonnetID  octave_dom  sestet_dom\n",
       "14      AgustinDeSalazarYTorres_22    0.657000     0.46300\n",
       "26       AgustinDeSalazarYTorres_6    0.204000     0.88500\n",
       "27       AgustinDeSalazarYTorres_7    0.578000     0.52925\n",
       "29       AgustinDeSalazarYTorres_9    0.620125     0.36800\n",
       "33         AntonioEnriquezGomez_12    0.746000     0.78800\n",
       "...                            ...         ...         ...\n",
       "5764                    s450g_0963    0.515000     0.32700\n",
       "5768                    s454g_0967    0.354000     0.35200\n",
       "5771                    s455g_0970    0.429000     0.37300\n",
       "5795                    s474g_0998    0.409000     0.39200\n",
       "5803                    s481g_1006    0.885000     0.70200\n",
       "\n",
       "[624 rows x 3 columns]"
      ]
     },
     "execution_count": 78,
     "metadata": {},
     "output_type": "execute_result"
    }
   ],
   "source": [
    "os_groups_dom_cont_both_notna"
   ]
  },
  {
   "cell_type": "code",
   "execution_count": 79,
   "metadata": {},
   "outputs": [
    {
     "data": {
      "text/plain": [
       "MannwhitneyuResult(statistic=200005.5, pvalue=0.4034213427020439)"
      ]
     },
     "execution_count": 79,
     "metadata": {},
     "output_type": "execute_result"
    }
   ],
   "source": [
    "mannwhitneyu(os_groups_dom_cont_both_notna['octave_dom'], os_groups_dom_cont_both_notna['sestet_dom'])"
   ]
  },
  {
   "cell_type": "code",
   "execution_count": 80,
   "metadata": {},
   "outputs": [
    {
     "data": {
      "text/plain": [
       "WilcoxonResult(statistic=92850.0, pvalue=0.40614048090642985)"
      ]
     },
     "execution_count": 80,
     "metadata": {},
     "output_type": "execute_result"
    }
   ],
   "source": [
    "wilcoxon(os_groups_dom_cont_both_notna['octave_dom'], os_groups_dom_cont_both_notna['sestet_dom'])\n"
   ]
  },
  {
   "cell_type": "markdown",
   "metadata": {},
   "source": [
    "no significance if we take cases where both are not nan and anyway there weren't many cases with both covered per sonnet, so analysis was not even warranted"
   ]
  },
  {
   "cell_type": "markdown",
   "metadata": {},
   "source": [
    "## Merge binary with continuous"
   ]
  },
  {
   "cell_type": "markdown",
   "metadata": {},
   "source": [
    "`df3` has binary values, can now merge with matrices that have continuous scores for valence and arousal"
   ]
  }
 ],
 "metadata": {
  "kernelspec": {
   "display_name": "Python 3 (ipykernel)",
   "language": "python",
   "name": "python3"
  },
  "language_info": {
   "codemirror_mode": {
    "name": "ipython",
    "version": 3
   },
   "file_extension": ".py",
   "mimetype": "text/x-python",
   "name": "python",
   "nbconvert_exporter": "python",
   "pygments_lexer": "ipython3",
   "version": "3.9.12"
  }
 },
 "nbformat": 4,
 "nbformat_minor": 4
}
