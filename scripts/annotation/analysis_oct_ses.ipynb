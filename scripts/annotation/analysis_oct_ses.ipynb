{
 "cells": [
  {
   "cell_type": "code",
   "execution_count": 2,
   "metadata": {},
   "outputs": [],
   "source": [
    "import pandas as pd\n",
    "import numpy as np"
   ]
  },
  {
   "cell_type": "code",
   "execution_count": 3,
   "metadata": {},
   "outputs": [],
   "source": [
    "dfname = \"../../data/dataframe-all_lem_sets_emos_with_nrc_filt.tsv\""
   ]
  },
  {
   "cell_type": "code",
   "execution_count": 4,
   "metadata": {
    "scrolled": true
   },
   "outputs": [
    {
     "name": "stderr",
     "output_type": "stream",
     "text": [
      "/tmp/ipykernel_687/1818802837.py:1: DtypeWarning: Columns (7) have mixed types. Specify dtype option on import or set low_memory=False.\n",
      "  df = pd.read_csv(dfname, sep=\"\\t\")\n"
     ]
    }
   ],
   "source": [
    "df = pd.read_csv(dfname, sep=\"\\t\")"
   ]
  },
  {
   "cell_type": "code",
   "execution_count": 5,
   "metadata": {
    "scrolled": true
   },
   "outputs": [
    {
     "name": "stdout",
     "output_type": "stream",
     "text": [
      "-0.4610127852903817\n",
      "-0.3754649518496317\n",
      "-0.2737774065019886\n"
     ]
    }
   ],
   "source": [
    "for method in ('pearson', 'spearman', 'kendall'):\n",
    "    print(df.valence_call.corr(df.arousal_call, method=method))"
   ]
  },
  {
   "cell_type": "code",
   "execution_count": 6,
   "metadata": {},
   "outputs": [],
   "source": [
    "from scipy.stats import pearsonr, spearmanr, kendalltau"
   ]
  },
  {
   "cell_type": "code",
   "execution_count": 7,
   "metadata": {},
   "outputs": [],
   "source": [
    "#print(pearsonr(call_notna.valence_call, call_notna.arousal_call))\n",
    "#print(spearmanr(call_notna.valence_call, call_notna.arousal_call))"
   ]
  },
  {
   "cell_type": "code",
   "execution_count": 8,
   "metadata": {},
   "outputs": [],
   "source": [
    "call_notna =  df.loc[(df['valence_call'].notna()) & (df['arousal_call'].notna())]"
   ]
  },
  {
   "cell_type": "code",
   "execution_count": 9,
   "metadata": {},
   "outputs": [
    {
     "data": {
      "text/plain": [
       "80852"
      ]
     },
     "execution_count": 9,
     "metadata": {},
     "output_type": "execute_result"
    }
   ],
   "source": [
    "len(df)"
   ]
  },
  {
   "cell_type": "code",
   "execution_count": 10,
   "metadata": {},
   "outputs": [
    {
     "data": {
      "text/plain": [
       "67608"
      ]
     },
     "execution_count": 10,
     "metadata": {},
     "output_type": "execute_result"
    }
   ],
   "source": [
    "len(call_notna)"
   ]
  },
  {
   "cell_type": "code",
   "execution_count": 11,
   "metadata": {},
   "outputs": [
    {
     "name": "stdout",
     "output_type": "stream",
     "text": [
      "-0.4610127852903817\n",
      "-0.3754649518496317\n",
      "-0.2737774065019886\n"
     ]
    }
   ],
   "source": [
    "for method in ('pearson', 'spearman', 'kendall'):\n",
    "    print(call_notna.valence_call.corr(call_notna.arousal_call, method=method))"
   ]
  },
  {
   "cell_type": "code",
   "execution_count": 12,
   "metadata": {},
   "outputs": [],
   "source": [
    "from scipy.stats import normaltest"
   ]
  },
  {
   "cell_type": "code",
   "execution_count": 13,
   "metadata": {},
   "outputs": [
    {
     "data": {
      "text/plain": [
       "NormaltestResult(statistic=4751.7617482624555, pvalue=0.0)"
      ]
     },
     "execution_count": 13,
     "metadata": {},
     "output_type": "execute_result"
    }
   ],
   "source": [
    "normaltest(call_notna.valence_call)"
   ]
  },
  {
   "cell_type": "markdown",
   "metadata": {},
   "source": [
    "## Compare octave and sestet for valence"
   ]
  },
  {
   "cell_type": "code",
   "execution_count": 14,
   "metadata": {},
   "outputs": [],
   "source": [
    "df.insert(9, 'OctSes', np.where(df['StanzaNumber'].isin((1, 2)), \"octave\", \"sestet\"))"
   ]
  },
  {
   "cell_type": "code",
   "execution_count": 15,
   "metadata": {},
   "outputs": [
    {
     "data": {
      "text/html": [
       "<div>\n",
       "<style scoped>\n",
       "    .dataframe tbody tr th:only-of-type {\n",
       "        vertical-align: middle;\n",
       "    }\n",
       "\n",
       "    .dataframe tbody tr th {\n",
       "        vertical-align: top;\n",
       "    }\n",
       "\n",
       "    .dataframe thead th {\n",
       "        text-align: right;\n",
       "    }\n",
       "</style>\n",
       "<table border=\"1\" class=\"dataframe\">\n",
       "  <thead>\n",
       "    <tr style=\"text-align: right;\">\n",
       "      <th></th>\n",
       "      <th>ID</th>\n",
       "      <th>SonnetID</th>\n",
       "      <th>Incipit</th>\n",
       "      <th>AuthorID</th>\n",
       "      <th>Author</th>\n",
       "      <th>Gender</th>\n",
       "      <th>Date</th>\n",
       "      <th>LineNumber</th>\n",
       "      <th>StanzaNumber</th>\n",
       "      <th>OctSes</th>\n",
       "      <th>...</th>\n",
       "      <th>trust_call</th>\n",
       "      <th>trust_echo</th>\n",
       "      <th>arousal_call</th>\n",
       "      <th>arousal_echo</th>\n",
       "      <th>dominance_call</th>\n",
       "      <th>dominance_echo</th>\n",
       "      <th>valence_call</th>\n",
       "      <th>valence_echo</th>\n",
       "      <th>valence_call_b</th>\n",
       "      <th>valence_echo_b</th>\n",
       "    </tr>\n",
       "  </thead>\n",
       "  <tbody>\n",
       "    <tr>\n",
       "      <th>0</th>\n",
       "      <td>d823e266</td>\n",
       "      <td>s001g_0001</td>\n",
       "      <td>Valencia insigne, patria venturosa,</td>\n",
       "      <td>disco_001g</td>\n",
       "      <td>Joseph Aragonés</td>\n",
       "      <td>M</td>\n",
       "      <td>17</td>\n",
       "      <td>1.0</td>\n",
       "      <td>1.0</td>\n",
       "      <td>octave</td>\n",
       "      <td>...</td>\n",
       "      <td>NaN</td>\n",
       "      <td>NaN</td>\n",
       "      <td>0.802837</td>\n",
       "      <td>NaN</td>\n",
       "      <td>NaN</td>\n",
       "      <td>NaN</td>\n",
       "      <td>0.708280</td>\n",
       "      <td>NaN</td>\n",
       "      <td>1</td>\n",
       "      <td>9</td>\n",
       "    </tr>\n",
       "    <tr>\n",
       "      <th>1</th>\n",
       "      <td>d823e272</td>\n",
       "      <td>s001g_0001</td>\n",
       "      <td>Valencia insigne, patria venturosa,</td>\n",
       "      <td>disco_001g</td>\n",
       "      <td>Joseph Aragonés</td>\n",
       "      <td>M</td>\n",
       "      <td>17</td>\n",
       "      <td>2.0</td>\n",
       "      <td>1.0</td>\n",
       "      <td>octave</td>\n",
       "      <td>...</td>\n",
       "      <td>NaN</td>\n",
       "      <td>NaN</td>\n",
       "      <td>NaN</td>\n",
       "      <td>0.615603</td>\n",
       "      <td>NaN</td>\n",
       "      <td>NaN</td>\n",
       "      <td>NaN</td>\n",
       "      <td>0.540127</td>\n",
       "      <td>9</td>\n",
       "      <td>1</td>\n",
       "    </tr>\n",
       "    <tr>\n",
       "      <th>2</th>\n",
       "      <td>d823e278</td>\n",
       "      <td>s001g_0001</td>\n",
       "      <td>Valencia insigne, patria venturosa,</td>\n",
       "      <td>disco_001g</td>\n",
       "      <td>Joseph Aragonés</td>\n",
       "      <td>M</td>\n",
       "      <td>17</td>\n",
       "      <td>3.0</td>\n",
       "      <td>1.0</td>\n",
       "      <td>octave</td>\n",
       "      <td>...</td>\n",
       "      <td>NaN</td>\n",
       "      <td>NaN</td>\n",
       "      <td>0.615603</td>\n",
       "      <td>0.690000</td>\n",
       "      <td>NaN</td>\n",
       "      <td>0.7630</td>\n",
       "      <td>0.540127</td>\n",
       "      <td>0.875000</td>\n",
       "      <td>1</td>\n",
       "      <td>1</td>\n",
       "    </tr>\n",
       "    <tr>\n",
       "      <th>3</th>\n",
       "      <td>d823e284</td>\n",
       "      <td>s001g_0001</td>\n",
       "      <td>Valencia insigne, patria venturosa,</td>\n",
       "      <td>disco_001g</td>\n",
       "      <td>Joseph Aragonés</td>\n",
       "      <td>M</td>\n",
       "      <td>17</td>\n",
       "      <td>4.0</td>\n",
       "      <td>1.0</td>\n",
       "      <td>octave</td>\n",
       "      <td>...</td>\n",
       "      <td>NaN</td>\n",
       "      <td>NaN</td>\n",
       "      <td>NaN</td>\n",
       "      <td>0.451064</td>\n",
       "      <td>NaN</td>\n",
       "      <td>NaN</td>\n",
       "      <td>NaN</td>\n",
       "      <td>0.815287</td>\n",
       "      <td>9</td>\n",
       "      <td>1</td>\n",
       "    </tr>\n",
       "    <tr>\n",
       "      <th>4</th>\n",
       "      <td>d823e293</td>\n",
       "      <td>s001g_0001</td>\n",
       "      <td>Valencia insigne, patria venturosa,</td>\n",
       "      <td>disco_001g</td>\n",
       "      <td>Joseph Aragonés</td>\n",
       "      <td>M</td>\n",
       "      <td>17</td>\n",
       "      <td>1.0</td>\n",
       "      <td>2.0</td>\n",
       "      <td>octave</td>\n",
       "      <td>...</td>\n",
       "      <td>NaN</td>\n",
       "      <td>NaN</td>\n",
       "      <td>0.451064</td>\n",
       "      <td>0.510638</td>\n",
       "      <td>NaN</td>\n",
       "      <td>NaN</td>\n",
       "      <td>0.815287</td>\n",
       "      <td>0.796178</td>\n",
       "      <td>1</td>\n",
       "      <td>1</td>\n",
       "    </tr>\n",
       "    <tr>\n",
       "      <th>5</th>\n",
       "      <td>d823e299</td>\n",
       "      <td>s001g_0001</td>\n",
       "      <td>Valencia insigne, patria venturosa,</td>\n",
       "      <td>disco_001g</td>\n",
       "      <td>Joseph Aragonés</td>\n",
       "      <td>M</td>\n",
       "      <td>17</td>\n",
       "      <td>2.0</td>\n",
       "      <td>2.0</td>\n",
       "      <td>octave</td>\n",
       "      <td>...</td>\n",
       "      <td>NaN</td>\n",
       "      <td>0.617</td>\n",
       "      <td>0.690000</td>\n",
       "      <td>0.803500</td>\n",
       "      <td>0.7630</td>\n",
       "      <td>0.7665</td>\n",
       "      <td>0.875000</td>\n",
       "      <td>0.865000</td>\n",
       "      <td>1</td>\n",
       "      <td>1</td>\n",
       "    </tr>\n",
       "    <tr>\n",
       "      <th>6</th>\n",
       "      <td>d823e305</td>\n",
       "      <td>s001g_0001</td>\n",
       "      <td>Valencia insigne, patria venturosa,</td>\n",
       "      <td>disco_001g</td>\n",
       "      <td>Joseph Aragonés</td>\n",
       "      <td>M</td>\n",
       "      <td>17</td>\n",
       "      <td>3.0</td>\n",
       "      <td>2.0</td>\n",
       "      <td>octave</td>\n",
       "      <td>...</td>\n",
       "      <td>0.617</td>\n",
       "      <td>NaN</td>\n",
       "      <td>0.803500</td>\n",
       "      <td>NaN</td>\n",
       "      <td>0.7665</td>\n",
       "      <td>NaN</td>\n",
       "      <td>0.865000</td>\n",
       "      <td>NaN</td>\n",
       "      <td>1</td>\n",
       "      <td>9</td>\n",
       "    </tr>\n",
       "    <tr>\n",
       "      <th>7</th>\n",
       "      <td>d823e311</td>\n",
       "      <td>s001g_0001</td>\n",
       "      <td>Valencia insigne, patria venturosa,</td>\n",
       "      <td>disco_001g</td>\n",
       "      <td>Joseph Aragonés</td>\n",
       "      <td>M</td>\n",
       "      <td>17</td>\n",
       "      <td>4.0</td>\n",
       "      <td>2.0</td>\n",
       "      <td>octave</td>\n",
       "      <td>...</td>\n",
       "      <td>NaN</td>\n",
       "      <td>NaN</td>\n",
       "      <td>0.510638</td>\n",
       "      <td>NaN</td>\n",
       "      <td>NaN</td>\n",
       "      <td>NaN</td>\n",
       "      <td>0.796178</td>\n",
       "      <td>NaN</td>\n",
       "      <td>1</td>\n",
       "      <td>9</td>\n",
       "    </tr>\n",
       "    <tr>\n",
       "      <th>8</th>\n",
       "      <td>d823e320</td>\n",
       "      <td>s001g_0001</td>\n",
       "      <td>Valencia insigne, patria venturosa,</td>\n",
       "      <td>disco_001g</td>\n",
       "      <td>Joseph Aragonés</td>\n",
       "      <td>M</td>\n",
       "      <td>17</td>\n",
       "      <td>1.0</td>\n",
       "      <td>3.0</td>\n",
       "      <td>sestet</td>\n",
       "      <td>...</td>\n",
       "      <td>NaN</td>\n",
       "      <td>0.477</td>\n",
       "      <td>0.496454</td>\n",
       "      <td>0.460993</td>\n",
       "      <td>NaN</td>\n",
       "      <td>NaN</td>\n",
       "      <td>0.738854</td>\n",
       "      <td>0.764331</td>\n",
       "      <td>1</td>\n",
       "      <td>1</td>\n",
       "    </tr>\n",
       "    <tr>\n",
       "      <th>9</th>\n",
       "      <td>d823e326</td>\n",
       "      <td>s001g_0001</td>\n",
       "      <td>Valencia insigne, patria venturosa,</td>\n",
       "      <td>disco_001g</td>\n",
       "      <td>Joseph Aragonés</td>\n",
       "      <td>M</td>\n",
       "      <td>17</td>\n",
       "      <td>2.0</td>\n",
       "      <td>3.0</td>\n",
       "      <td>sestet</td>\n",
       "      <td>...</td>\n",
       "      <td>NaN</td>\n",
       "      <td>NaN</td>\n",
       "      <td>0.553191</td>\n",
       "      <td>0.659574</td>\n",
       "      <td>NaN</td>\n",
       "      <td>NaN</td>\n",
       "      <td>0.541401</td>\n",
       "      <td>0.592357</td>\n",
       "      <td>1</td>\n",
       "      <td>1</td>\n",
       "    </tr>\n",
       "    <tr>\n",
       "      <th>10</th>\n",
       "      <td>d823e332</td>\n",
       "      <td>s001g_0001</td>\n",
       "      <td>Valencia insigne, patria venturosa,</td>\n",
       "      <td>disco_001g</td>\n",
       "      <td>Joseph Aragonés</td>\n",
       "      <td>M</td>\n",
       "      <td>17</td>\n",
       "      <td>3.0</td>\n",
       "      <td>3.0</td>\n",
       "      <td>sestet</td>\n",
       "      <td>...</td>\n",
       "      <td>NaN</td>\n",
       "      <td>NaN</td>\n",
       "      <td>NaN</td>\n",
       "      <td>0.652482</td>\n",
       "      <td>NaN</td>\n",
       "      <td>NaN</td>\n",
       "      <td>NaN</td>\n",
       "      <td>0.598726</td>\n",
       "      <td>9</td>\n",
       "      <td>1</td>\n",
       "    </tr>\n",
       "    <tr>\n",
       "      <th>11</th>\n",
       "      <td>d823e341</td>\n",
       "      <td>s001g_0001</td>\n",
       "      <td>Valencia insigne, patria venturosa,</td>\n",
       "      <td>disco_001g</td>\n",
       "      <td>Joseph Aragonés</td>\n",
       "      <td>M</td>\n",
       "      <td>17</td>\n",
       "      <td>1.0</td>\n",
       "      <td>4.0</td>\n",
       "      <td>sestet</td>\n",
       "      <td>...</td>\n",
       "      <td>0.477</td>\n",
       "      <td>NaN</td>\n",
       "      <td>0.460993</td>\n",
       "      <td>NaN</td>\n",
       "      <td>NaN</td>\n",
       "      <td>NaN</td>\n",
       "      <td>0.764331</td>\n",
       "      <td>NaN</td>\n",
       "      <td>1</td>\n",
       "      <td>9</td>\n",
       "    </tr>\n",
       "    <tr>\n",
       "      <th>12</th>\n",
       "      <td>d823e347</td>\n",
       "      <td>s001g_0001</td>\n",
       "      <td>Valencia insigne, patria venturosa,</td>\n",
       "      <td>disco_001g</td>\n",
       "      <td>Joseph Aragonés</td>\n",
       "      <td>M</td>\n",
       "      <td>17</td>\n",
       "      <td>2.0</td>\n",
       "      <td>4.0</td>\n",
       "      <td>sestet</td>\n",
       "      <td>...</td>\n",
       "      <td>NaN</td>\n",
       "      <td>NaN</td>\n",
       "      <td>0.659574</td>\n",
       "      <td>NaN</td>\n",
       "      <td>NaN</td>\n",
       "      <td>NaN</td>\n",
       "      <td>0.592357</td>\n",
       "      <td>NaN</td>\n",
       "      <td>1</td>\n",
       "      <td>9</td>\n",
       "    </tr>\n",
       "    <tr>\n",
       "      <th>13</th>\n",
       "      <td>d823e353</td>\n",
       "      <td>s001g_0001</td>\n",
       "      <td>Valencia insigne, patria venturosa,</td>\n",
       "      <td>disco_001g</td>\n",
       "      <td>Joseph Aragonés</td>\n",
       "      <td>M</td>\n",
       "      <td>17</td>\n",
       "      <td>3.0</td>\n",
       "      <td>4.0</td>\n",
       "      <td>sestet</td>\n",
       "      <td>...</td>\n",
       "      <td>NaN</td>\n",
       "      <td>NaN</td>\n",
       "      <td>0.652482</td>\n",
       "      <td>NaN</td>\n",
       "      <td>NaN</td>\n",
       "      <td>NaN</td>\n",
       "      <td>0.598726</td>\n",
       "      <td>NaN</td>\n",
       "      <td>1</td>\n",
       "      <td>9</td>\n",
       "    </tr>\n",
       "    <tr>\n",
       "      <th>14</th>\n",
       "      <td>d471e279</td>\n",
       "      <td>s002g_0002</td>\n",
       "      <td>¿Qué es esto Entendimiento? ¿Qué revuelta</td>\n",
       "      <td>disco_002g</td>\n",
       "      <td>Benito Arias Montano</td>\n",
       "      <td>M</td>\n",
       "      <td>16</td>\n",
       "      <td>1.0</td>\n",
       "      <td>1.0</td>\n",
       "      <td>octave</td>\n",
       "      <td>...</td>\n",
       "      <td>NaN</td>\n",
       "      <td>NaN</td>\n",
       "      <td>0.794326</td>\n",
       "      <td>0.531915</td>\n",
       "      <td>NaN</td>\n",
       "      <td>NaN</td>\n",
       "      <td>0.356688</td>\n",
       "      <td>0.554140</td>\n",
       "      <td>0</td>\n",
       "      <td>1</td>\n",
       "    </tr>\n",
       "    <tr>\n",
       "      <th>15</th>\n",
       "      <td>d471e285</td>\n",
       "      <td>s002g_0002</td>\n",
       "      <td>¿Qué es esto Entendimiento? ¿Qué revuelta</td>\n",
       "      <td>disco_002g</td>\n",
       "      <td>Benito Arias Montano</td>\n",
       "      <td>M</td>\n",
       "      <td>16</td>\n",
       "      <td>2.0</td>\n",
       "      <td>1.0</td>\n",
       "      <td>octave</td>\n",
       "      <td>...</td>\n",
       "      <td>NaN</td>\n",
       "      <td>NaN</td>\n",
       "      <td>0.687943</td>\n",
       "      <td>0.531915</td>\n",
       "      <td>NaN</td>\n",
       "      <td>NaN</td>\n",
       "      <td>0.566879</td>\n",
       "      <td>0.331210</td>\n",
       "      <td>1</td>\n",
       "      <td>0</td>\n",
       "    </tr>\n",
       "    <tr>\n",
       "      <th>16</th>\n",
       "      <td>d471e291</td>\n",
       "      <td>s002g_0002</td>\n",
       "      <td>¿Qué es esto Entendimiento? ¿Qué revuelta</td>\n",
       "      <td>disco_002g</td>\n",
       "      <td>Benito Arias Montano</td>\n",
       "      <td>M</td>\n",
       "      <td>16</td>\n",
       "      <td>3.0</td>\n",
       "      <td>1.0</td>\n",
       "      <td>octave</td>\n",
       "      <td>...</td>\n",
       "      <td>NaN</td>\n",
       "      <td>NaN</td>\n",
       "      <td>0.531915</td>\n",
       "      <td>0.435461</td>\n",
       "      <td>NaN</td>\n",
       "      <td>NaN</td>\n",
       "      <td>0.331210</td>\n",
       "      <td>0.584713</td>\n",
       "      <td>0</td>\n",
       "      <td>1</td>\n",
       "    </tr>\n",
       "    <tr>\n",
       "      <th>17</th>\n",
       "      <td>d471e297</td>\n",
       "      <td>s002g_0002</td>\n",
       "      <td>¿Qué es esto Entendimiento? ¿Qué revuelta</td>\n",
       "      <td>disco_002g</td>\n",
       "      <td>Benito Arias Montano</td>\n",
       "      <td>M</td>\n",
       "      <td>16</td>\n",
       "      <td>4.0</td>\n",
       "      <td>1.0</td>\n",
       "      <td>octave</td>\n",
       "      <td>...</td>\n",
       "      <td>NaN</td>\n",
       "      <td>NaN</td>\n",
       "      <td>0.531915</td>\n",
       "      <td>0.482270</td>\n",
       "      <td>NaN</td>\n",
       "      <td>NaN</td>\n",
       "      <td>0.554140</td>\n",
       "      <td>0.566879</td>\n",
       "      <td>1</td>\n",
       "      <td>1</td>\n",
       "    </tr>\n",
       "    <tr>\n",
       "      <th>18</th>\n",
       "      <td>d471e306</td>\n",
       "      <td>s002g_0002</td>\n",
       "      <td>¿Qué es esto Entendimiento? ¿Qué revuelta</td>\n",
       "      <td>disco_002g</td>\n",
       "      <td>Benito Arias Montano</td>\n",
       "      <td>M</td>\n",
       "      <td>16</td>\n",
       "      <td>1.0</td>\n",
       "      <td>2.0</td>\n",
       "      <td>octave</td>\n",
       "      <td>...</td>\n",
       "      <td>NaN</td>\n",
       "      <td>NaN</td>\n",
       "      <td>0.482270</td>\n",
       "      <td>0.531915</td>\n",
       "      <td>NaN</td>\n",
       "      <td>NaN</td>\n",
       "      <td>0.566879</td>\n",
       "      <td>0.554140</td>\n",
       "      <td>1</td>\n",
       "      <td>1</td>\n",
       "    </tr>\n",
       "    <tr>\n",
       "      <th>19</th>\n",
       "      <td>d471e312</td>\n",
       "      <td>s002g_0002</td>\n",
       "      <td>¿Qué es esto Entendimiento? ¿Qué revuelta</td>\n",
       "      <td>disco_002g</td>\n",
       "      <td>Benito Arias Montano</td>\n",
       "      <td>M</td>\n",
       "      <td>16</td>\n",
       "      <td>2.0</td>\n",
       "      <td>2.0</td>\n",
       "      <td>octave</td>\n",
       "      <td>...</td>\n",
       "      <td>NaN</td>\n",
       "      <td>NaN</td>\n",
       "      <td>0.435461</td>\n",
       "      <td>0.531915</td>\n",
       "      <td>NaN</td>\n",
       "      <td>NaN</td>\n",
       "      <td>0.584713</td>\n",
       "      <td>0.564331</td>\n",
       "      <td>1</td>\n",
       "      <td>1</td>\n",
       "    </tr>\n",
       "    <tr>\n",
       "      <th>20</th>\n",
       "      <td>d471e318</td>\n",
       "      <td>s002g_0002</td>\n",
       "      <td>¿Qué es esto Entendimiento? ¿Qué revuelta</td>\n",
       "      <td>disco_002g</td>\n",
       "      <td>Benito Arias Montano</td>\n",
       "      <td>M</td>\n",
       "      <td>16</td>\n",
       "      <td>3.0</td>\n",
       "      <td>2.0</td>\n",
       "      <td>octave</td>\n",
       "      <td>...</td>\n",
       "      <td>NaN</td>\n",
       "      <td>NaN</td>\n",
       "      <td>0.531915</td>\n",
       "      <td>NaN</td>\n",
       "      <td>NaN</td>\n",
       "      <td>NaN</td>\n",
       "      <td>0.564331</td>\n",
       "      <td>NaN</td>\n",
       "      <td>1</td>\n",
       "      <td>9</td>\n",
       "    </tr>\n",
       "    <tr>\n",
       "      <th>21</th>\n",
       "      <td>d471e324</td>\n",
       "      <td>s002g_0002</td>\n",
       "      <td>¿Qué es esto Entendimiento? ¿Qué revuelta</td>\n",
       "      <td>disco_002g</td>\n",
       "      <td>Benito Arias Montano</td>\n",
       "      <td>M</td>\n",
       "      <td>16</td>\n",
       "      <td>4.0</td>\n",
       "      <td>2.0</td>\n",
       "      <td>octave</td>\n",
       "      <td>...</td>\n",
       "      <td>NaN</td>\n",
       "      <td>NaN</td>\n",
       "      <td>0.446809</td>\n",
       "      <td>NaN</td>\n",
       "      <td>NaN</td>\n",
       "      <td>NaN</td>\n",
       "      <td>0.515924</td>\n",
       "      <td>NaN</td>\n",
       "      <td>1</td>\n",
       "      <td>9</td>\n",
       "    </tr>\n",
       "    <tr>\n",
       "      <th>22</th>\n",
       "      <td>d471e333</td>\n",
       "      <td>s002g_0002</td>\n",
       "      <td>¿Qué es esto Entendimiento? ¿Qué revuelta</td>\n",
       "      <td>disco_002g</td>\n",
       "      <td>Benito Arias Montano</td>\n",
       "      <td>M</td>\n",
       "      <td>16</td>\n",
       "      <td>1.0</td>\n",
       "      <td>3.0</td>\n",
       "      <td>sestet</td>\n",
       "      <td>...</td>\n",
       "      <td>NaN</td>\n",
       "      <td>NaN</td>\n",
       "      <td>NaN</td>\n",
       "      <td>0.368794</td>\n",
       "      <td>NaN</td>\n",
       "      <td>NaN</td>\n",
       "      <td>NaN</td>\n",
       "      <td>0.636943</td>\n",
       "      <td>9</td>\n",
       "      <td>1</td>\n",
       "    </tr>\n",
       "    <tr>\n",
       "      <th>23</th>\n",
       "      <td>d471e339</td>\n",
       "      <td>s002g_0002</td>\n",
       "      <td>¿Qué es esto Entendimiento? ¿Qué revuelta</td>\n",
       "      <td>disco_002g</td>\n",
       "      <td>Benito Arias Montano</td>\n",
       "      <td>M</td>\n",
       "      <td>16</td>\n",
       "      <td>2.0</td>\n",
       "      <td>3.0</td>\n",
       "      <td>sestet</td>\n",
       "      <td>...</td>\n",
       "      <td>NaN</td>\n",
       "      <td>NaN</td>\n",
       "      <td>NaN</td>\n",
       "      <td>NaN</td>\n",
       "      <td>NaN</td>\n",
       "      <td>NaN</td>\n",
       "      <td>NaN</td>\n",
       "      <td>NaN</td>\n",
       "      <td>9</td>\n",
       "      <td>9</td>\n",
       "    </tr>\n",
       "    <tr>\n",
       "      <th>24</th>\n",
       "      <td>d471e345</td>\n",
       "      <td>s002g_0002</td>\n",
       "      <td>¿Qué es esto Entendimiento? ¿Qué revuelta</td>\n",
       "      <td>disco_002g</td>\n",
       "      <td>Benito Arias Montano</td>\n",
       "      <td>M</td>\n",
       "      <td>16</td>\n",
       "      <td>3.0</td>\n",
       "      <td>3.0</td>\n",
       "      <td>sestet</td>\n",
       "      <td>...</td>\n",
       "      <td>NaN</td>\n",
       "      <td>NaN</td>\n",
       "      <td>0.510638</td>\n",
       "      <td>0.574468</td>\n",
       "      <td>NaN</td>\n",
       "      <td>NaN</td>\n",
       "      <td>0.624204</td>\n",
       "      <td>0.757962</td>\n",
       "      <td>1</td>\n",
       "      <td>1</td>\n",
       "    </tr>\n",
       "  </tbody>\n",
       "</table>\n",
       "<p>25 rows × 62 columns</p>\n",
       "</div>"
      ],
      "text/plain": [
       "          ID    SonnetID                                    Incipit  \\\n",
       "0   d823e266  s001g_0001        Valencia insigne, patria venturosa,   \n",
       "1   d823e272  s001g_0001        Valencia insigne, patria venturosa,   \n",
       "2   d823e278  s001g_0001        Valencia insigne, patria venturosa,   \n",
       "3   d823e284  s001g_0001        Valencia insigne, patria venturosa,   \n",
       "4   d823e293  s001g_0001        Valencia insigne, patria venturosa,   \n",
       "5   d823e299  s001g_0001        Valencia insigne, patria venturosa,   \n",
       "6   d823e305  s001g_0001        Valencia insigne, patria venturosa,   \n",
       "7   d823e311  s001g_0001        Valencia insigne, patria venturosa,   \n",
       "8   d823e320  s001g_0001        Valencia insigne, patria venturosa,   \n",
       "9   d823e326  s001g_0001        Valencia insigne, patria venturosa,   \n",
       "10  d823e332  s001g_0001        Valencia insigne, patria venturosa,   \n",
       "11  d823e341  s001g_0001        Valencia insigne, patria venturosa,   \n",
       "12  d823e347  s001g_0001        Valencia insigne, patria venturosa,   \n",
       "13  d823e353  s001g_0001        Valencia insigne, patria venturosa,   \n",
       "14  d471e279  s002g_0002  ¿Qué es esto Entendimiento? ¿Qué revuelta   \n",
       "15  d471e285  s002g_0002  ¿Qué es esto Entendimiento? ¿Qué revuelta   \n",
       "16  d471e291  s002g_0002  ¿Qué es esto Entendimiento? ¿Qué revuelta   \n",
       "17  d471e297  s002g_0002  ¿Qué es esto Entendimiento? ¿Qué revuelta   \n",
       "18  d471e306  s002g_0002  ¿Qué es esto Entendimiento? ¿Qué revuelta   \n",
       "19  d471e312  s002g_0002  ¿Qué es esto Entendimiento? ¿Qué revuelta   \n",
       "20  d471e318  s002g_0002  ¿Qué es esto Entendimiento? ¿Qué revuelta   \n",
       "21  d471e324  s002g_0002  ¿Qué es esto Entendimiento? ¿Qué revuelta   \n",
       "22  d471e333  s002g_0002  ¿Qué es esto Entendimiento? ¿Qué revuelta   \n",
       "23  d471e339  s002g_0002  ¿Qué es esto Entendimiento? ¿Qué revuelta   \n",
       "24  d471e345  s002g_0002  ¿Qué es esto Entendimiento? ¿Qué revuelta   \n",
       "\n",
       "      AuthorID                Author Gender Date LineNumber  StanzaNumber  \\\n",
       "0   disco_001g       Joseph Aragonés      M   17        1.0           1.0   \n",
       "1   disco_001g       Joseph Aragonés      M   17        2.0           1.0   \n",
       "2   disco_001g       Joseph Aragonés      M   17        3.0           1.0   \n",
       "3   disco_001g       Joseph Aragonés      M   17        4.0           1.0   \n",
       "4   disco_001g       Joseph Aragonés      M   17        1.0           2.0   \n",
       "5   disco_001g       Joseph Aragonés      M   17        2.0           2.0   \n",
       "6   disco_001g       Joseph Aragonés      M   17        3.0           2.0   \n",
       "7   disco_001g       Joseph Aragonés      M   17        4.0           2.0   \n",
       "8   disco_001g       Joseph Aragonés      M   17        1.0           3.0   \n",
       "9   disco_001g       Joseph Aragonés      M   17        2.0           3.0   \n",
       "10  disco_001g       Joseph Aragonés      M   17        3.0           3.0   \n",
       "11  disco_001g       Joseph Aragonés      M   17        1.0           4.0   \n",
       "12  disco_001g       Joseph Aragonés      M   17        2.0           4.0   \n",
       "13  disco_001g       Joseph Aragonés      M   17        3.0           4.0   \n",
       "14  disco_002g  Benito Arias Montano      M   16        1.0           1.0   \n",
       "15  disco_002g  Benito Arias Montano      M   16        2.0           1.0   \n",
       "16  disco_002g  Benito Arias Montano      M   16        3.0           1.0   \n",
       "17  disco_002g  Benito Arias Montano      M   16        4.0           1.0   \n",
       "18  disco_002g  Benito Arias Montano      M   16        1.0           2.0   \n",
       "19  disco_002g  Benito Arias Montano      M   16        2.0           2.0   \n",
       "20  disco_002g  Benito Arias Montano      M   16        3.0           2.0   \n",
       "21  disco_002g  Benito Arias Montano      M   16        4.0           2.0   \n",
       "22  disco_002g  Benito Arias Montano      M   16        1.0           3.0   \n",
       "23  disco_002g  Benito Arias Montano      M   16        2.0           3.0   \n",
       "24  disco_002g  Benito Arias Montano      M   16        3.0           3.0   \n",
       "\n",
       "    OctSes  ... trust_call trust_echo arousal_call arousal_echo  \\\n",
       "0   octave  ...        NaN        NaN     0.802837          NaN   \n",
       "1   octave  ...        NaN        NaN          NaN     0.615603   \n",
       "2   octave  ...        NaN        NaN     0.615603     0.690000   \n",
       "3   octave  ...        NaN        NaN          NaN     0.451064   \n",
       "4   octave  ...        NaN        NaN     0.451064     0.510638   \n",
       "5   octave  ...        NaN      0.617     0.690000     0.803500   \n",
       "6   octave  ...      0.617        NaN     0.803500          NaN   \n",
       "7   octave  ...        NaN        NaN     0.510638          NaN   \n",
       "8   sestet  ...        NaN      0.477     0.496454     0.460993   \n",
       "9   sestet  ...        NaN        NaN     0.553191     0.659574   \n",
       "10  sestet  ...        NaN        NaN          NaN     0.652482   \n",
       "11  sestet  ...      0.477        NaN     0.460993          NaN   \n",
       "12  sestet  ...        NaN        NaN     0.659574          NaN   \n",
       "13  sestet  ...        NaN        NaN     0.652482          NaN   \n",
       "14  octave  ...        NaN        NaN     0.794326     0.531915   \n",
       "15  octave  ...        NaN        NaN     0.687943     0.531915   \n",
       "16  octave  ...        NaN        NaN     0.531915     0.435461   \n",
       "17  octave  ...        NaN        NaN     0.531915     0.482270   \n",
       "18  octave  ...        NaN        NaN     0.482270     0.531915   \n",
       "19  octave  ...        NaN        NaN     0.435461     0.531915   \n",
       "20  octave  ...        NaN        NaN     0.531915          NaN   \n",
       "21  octave  ...        NaN        NaN     0.446809          NaN   \n",
       "22  sestet  ...        NaN        NaN          NaN     0.368794   \n",
       "23  sestet  ...        NaN        NaN          NaN          NaN   \n",
       "24  sestet  ...        NaN        NaN     0.510638     0.574468   \n",
       "\n",
       "   dominance_call dominance_echo valence_call valence_echo  valence_call_b  \\\n",
       "0             NaN            NaN     0.708280          NaN               1   \n",
       "1             NaN            NaN          NaN     0.540127               9   \n",
       "2             NaN         0.7630     0.540127     0.875000               1   \n",
       "3             NaN            NaN          NaN     0.815287               9   \n",
       "4             NaN            NaN     0.815287     0.796178               1   \n",
       "5          0.7630         0.7665     0.875000     0.865000               1   \n",
       "6          0.7665            NaN     0.865000          NaN               1   \n",
       "7             NaN            NaN     0.796178          NaN               1   \n",
       "8             NaN            NaN     0.738854     0.764331               1   \n",
       "9             NaN            NaN     0.541401     0.592357               1   \n",
       "10            NaN            NaN          NaN     0.598726               9   \n",
       "11            NaN            NaN     0.764331          NaN               1   \n",
       "12            NaN            NaN     0.592357          NaN               1   \n",
       "13            NaN            NaN     0.598726          NaN               1   \n",
       "14            NaN            NaN     0.356688     0.554140               0   \n",
       "15            NaN            NaN     0.566879     0.331210               1   \n",
       "16            NaN            NaN     0.331210     0.584713               0   \n",
       "17            NaN            NaN     0.554140     0.566879               1   \n",
       "18            NaN            NaN     0.566879     0.554140               1   \n",
       "19            NaN            NaN     0.584713     0.564331               1   \n",
       "20            NaN            NaN     0.564331          NaN               1   \n",
       "21            NaN            NaN     0.515924          NaN               1   \n",
       "22            NaN            NaN          NaN     0.636943               9   \n",
       "23            NaN            NaN          NaN          NaN               9   \n",
       "24            NaN            NaN     0.624204     0.757962               1   \n",
       "\n",
       "    valence_echo_b  \n",
       "0                9  \n",
       "1                1  \n",
       "2                1  \n",
       "3                1  \n",
       "4                1  \n",
       "5                1  \n",
       "6                9  \n",
       "7                9  \n",
       "8                1  \n",
       "9                1  \n",
       "10               1  \n",
       "11               9  \n",
       "12               9  \n",
       "13               9  \n",
       "14               1  \n",
       "15               0  \n",
       "16               1  \n",
       "17               1  \n",
       "18               1  \n",
       "19               1  \n",
       "20               9  \n",
       "21               9  \n",
       "22               1  \n",
       "23               9  \n",
       "24               1  \n",
       "\n",
       "[25 rows x 62 columns]"
      ]
     },
     "execution_count": 15,
     "metadata": {},
     "output_type": "execute_result"
    }
   ],
   "source": [
    "df.head(25)"
   ]
  },
  {
   "cell_type": "code",
   "execution_count": 16,
   "metadata": {},
   "outputs": [
    {
     "name": "stdout",
     "output_type": "stream",
     "text": [
      "<class 'pandas.core.frame.DataFrame'>\n",
      "RangeIndex: 80852 entries, 0 to 80851\n",
      "Data columns (total 62 columns):\n",
      " #   Column             Non-Null Count  Dtype  \n",
      "---  ------             --------------  -----  \n",
      " 0   ID                 80852 non-null  object \n",
      " 1   SonnetID           80852 non-null  object \n",
      " 2   Incipit            80852 non-null  object \n",
      " 3   AuthorID           80852 non-null  object \n",
      " 4   Author             80852 non-null  object \n",
      " 5   Gender             80852 non-null  object \n",
      " 6   Date               80852 non-null  object \n",
      " 7   LineNumber         80852 non-null  object \n",
      " 8   StanzaNumber       80852 non-null  float64\n",
      " 9   OctSes             80852 non-null  object \n",
      " 10  Text               80852 non-null  object \n",
      " 11  Call               80852 non-null  object \n",
      " 12  Echo               54521 non-null  object \n",
      " 13  Set                80786 non-null  object \n",
      " 14  Corpus             80852 non-null  object \n",
      " 15  CallLemma          80852 non-null  object \n",
      " 16  EchoLemma          80852 non-null  object \n",
      " 17  SetLemma           80786 non-null  object \n",
      " 18  call_in_vad        61609 non-null  float64\n",
      " 19  echo_in_vad        41448 non-null  float64\n",
      " 20  call_in_ei         32805 non-null  float64\n",
      " 21  echo_in_ei         22065 non-null  float64\n",
      " 22  call_wf_in_vad     991 non-null    float64\n",
      " 23  echo_wf_in_vad     639 non-null    float64\n",
      " 24  call_wf_in_ei      2155 non-null   float64\n",
      " 25  echo_wf_in_ei      1405 non-null   float64\n",
      " 26  call_in_nvad       4959 non-null   float64\n",
      " 27  echo_in_nvad       3371 non-null   float64\n",
      " 28  call_in_nei        17857 non-null  float64\n",
      " 29  echo_in_nei        11987 non-null  float64\n",
      " 30  call_wf_in_nvad    49 non-null     float64\n",
      " 31  echo_wf_in_nvad    41 non-null     float64\n",
      " 32  call_wf_in_nei     165 non-null    float64\n",
      " 33  echo_wf_in_nei     109 non-null    float64\n",
      " 34  call_in_mls        1920 non-null   float64\n",
      " 35  echo_in_mls        1267 non-null   float64\n",
      " 36  call_wf_in_mls     51 non-null     float64\n",
      " 37  echo_wf_in_mls     38 non-null     float64\n",
      " 38  anger_call         39979 non-null  float64\n",
      " 39  anger_echo         26905 non-null  float64\n",
      " 40  anticipation_call  4843 non-null   float64\n",
      " 41  anticipation_echo  3191 non-null   float64\n",
      " 42  disgust_call       38869 non-null  float64\n",
      " 43  disgust_echo       26133 non-null  float64\n",
      " 44  fear_call          41404 non-null  float64\n",
      " 45  fear_echo          27898 non-null  float64\n",
      " 46  joy_call           42713 non-null  float64\n",
      " 47  joy_echo           28574 non-null  float64\n",
      " 48  sadness_call       40204 non-null  float64\n",
      " 49  sadness_echo       27037 non-null  float64\n",
      " 50  surprise_call      3473 non-null   float64\n",
      " 51  surprise_echo      2330 non-null   float64\n",
      " 52  trust_call         5804 non-null   float64\n",
      " 53  trust_echo         3881 non-null   float64\n",
      " 54  arousal_call       67608 non-null  float64\n",
      " 55  arousal_echo       45499 non-null  float64\n",
      " 56  dominance_call     5008 non-null   float64\n",
      " 57  dominance_echo     3412 non-null   float64\n",
      " 58  valence_call       69579 non-null  float64\n",
      " 59  valence_echo       46804 non-null  float64\n",
      " 60  valence_call_b     80852 non-null  int64  \n",
      " 61  valence_echo_b     80852 non-null  int64  \n",
      "dtypes: float64(43), int64(2), object(17)\n",
      "memory usage: 38.2+ MB\n"
     ]
    }
   ],
   "source": [
    "df.info()"
   ]
  },
  {
   "cell_type": "markdown",
   "metadata": {},
   "source": [
    "## Binary values"
   ]
  },
  {
   "cell_type": "code",
   "execution_count": 17,
   "metadata": {
    "scrolled": true
   },
   "outputs": [],
   "source": [
    "os_groups = df.groupby(['SonnetID', 'OctSes', 'valence_call_b'])['valence_call_b'].aggregate('count').unstack().unstack()"
   ]
  },
  {
   "cell_type": "code",
   "execution_count": 18,
   "metadata": {
    "scrolled": true
   },
   "outputs": [
    {
     "data": {
      "text/html": [
       "<div>\n",
       "<style scoped>\n",
       "    .dataframe tbody tr th:only-of-type {\n",
       "        vertical-align: middle;\n",
       "    }\n",
       "\n",
       "    .dataframe tbody tr th {\n",
       "        vertical-align: top;\n",
       "    }\n",
       "\n",
       "    .dataframe thead tr th {\n",
       "        text-align: left;\n",
       "    }\n",
       "\n",
       "    .dataframe thead tr:last-of-type th {\n",
       "        text-align: right;\n",
       "    }\n",
       "</style>\n",
       "<table border=\"1\" class=\"dataframe\">\n",
       "  <thead>\n",
       "    <tr>\n",
       "      <th>valence_call_b</th>\n",
       "      <th colspan=\"2\" halign=\"left\">0</th>\n",
       "      <th colspan=\"2\" halign=\"left\">1</th>\n",
       "      <th colspan=\"2\" halign=\"left\">9</th>\n",
       "    </tr>\n",
       "    <tr>\n",
       "      <th>OctSes</th>\n",
       "      <th>octave</th>\n",
       "      <th>sestet</th>\n",
       "      <th>octave</th>\n",
       "      <th>sestet</th>\n",
       "      <th>octave</th>\n",
       "      <th>sestet</th>\n",
       "    </tr>\n",
       "    <tr>\n",
       "      <th>SonnetID</th>\n",
       "      <th></th>\n",
       "      <th></th>\n",
       "      <th></th>\n",
       "      <th></th>\n",
       "      <th></th>\n",
       "      <th></th>\n",
       "    </tr>\n",
       "  </thead>\n",
       "  <tbody>\n",
       "    <tr>\n",
       "      <th>AgustinDeSalazarYTorres_1</th>\n",
       "      <td>NaN</td>\n",
       "      <td>1.0</td>\n",
       "      <td>4.0</td>\n",
       "      <td>5.0</td>\n",
       "      <td>4.0</td>\n",
       "      <td>NaN</td>\n",
       "    </tr>\n",
       "    <tr>\n",
       "      <th>AgustinDeSalazarYTorres_10</th>\n",
       "      <td>4.0</td>\n",
       "      <td>3.0</td>\n",
       "      <td>4.0</td>\n",
       "      <td>3.0</td>\n",
       "      <td>NaN</td>\n",
       "      <td>NaN</td>\n",
       "    </tr>\n",
       "    <tr>\n",
       "      <th>AgustinDeSalazarYTorres_11</th>\n",
       "      <td>2.0</td>\n",
       "      <td>3.0</td>\n",
       "      <td>4.0</td>\n",
       "      <td>3.0</td>\n",
       "      <td>2.0</td>\n",
       "      <td>NaN</td>\n",
       "    </tr>\n",
       "    <tr>\n",
       "      <th>AgustinDeSalazarYTorres_12</th>\n",
       "      <td>2.0</td>\n",
       "      <td>1.0</td>\n",
       "      <td>3.0</td>\n",
       "      <td>4.0</td>\n",
       "      <td>3.0</td>\n",
       "      <td>1.0</td>\n",
       "    </tr>\n",
       "    <tr>\n",
       "      <th>AgustinDeSalazarYTorres_13</th>\n",
       "      <td>3.0</td>\n",
       "      <td>2.0</td>\n",
       "      <td>4.0</td>\n",
       "      <td>3.0</td>\n",
       "      <td>1.0</td>\n",
       "      <td>1.0</td>\n",
       "    </tr>\n",
       "    <tr>\n",
       "      <th>...</th>\n",
       "      <td>...</td>\n",
       "      <td>...</td>\n",
       "      <td>...</td>\n",
       "      <td>...</td>\n",
       "      <td>...</td>\n",
       "      <td>...</td>\n",
       "    </tr>\n",
       "    <tr>\n",
       "      <th>s485g_1012</th>\n",
       "      <td>3.0</td>\n",
       "      <td>2.0</td>\n",
       "      <td>5.0</td>\n",
       "      <td>3.0</td>\n",
       "      <td>NaN</td>\n",
       "      <td>1.0</td>\n",
       "    </tr>\n",
       "    <tr>\n",
       "      <th>s486g_1013_01</th>\n",
       "      <td>2.0</td>\n",
       "      <td>1.0</td>\n",
       "      <td>3.0</td>\n",
       "      <td>4.0</td>\n",
       "      <td>3.0</td>\n",
       "      <td>1.0</td>\n",
       "    </tr>\n",
       "    <tr>\n",
       "      <th>s486g_1013_02</th>\n",
       "      <td>4.0</td>\n",
       "      <td>1.0</td>\n",
       "      <td>3.0</td>\n",
       "      <td>5.0</td>\n",
       "      <td>1.0</td>\n",
       "      <td>NaN</td>\n",
       "    </tr>\n",
       "    <tr>\n",
       "      <th>s487g_1014</th>\n",
       "      <td>1.0</td>\n",
       "      <td>2.0</td>\n",
       "      <td>4.0</td>\n",
       "      <td>3.0</td>\n",
       "      <td>3.0</td>\n",
       "      <td>1.0</td>\n",
       "    </tr>\n",
       "    <tr>\n",
       "      <th>s488g_1015</th>\n",
       "      <td>2.0</td>\n",
       "      <td>NaN</td>\n",
       "      <td>4.0</td>\n",
       "      <td>2.0</td>\n",
       "      <td>2.0</td>\n",
       "      <td>4.0</td>\n",
       "    </tr>\n",
       "  </tbody>\n",
       "</table>\n",
       "<p>5814 rows × 6 columns</p>\n",
       "</div>"
      ],
      "text/plain": [
       "valence_call_b                  0             1             9       \n",
       "OctSes                     octave sestet octave sestet octave sestet\n",
       "SonnetID                                                            \n",
       "AgustinDeSalazarYTorres_1     NaN    1.0    4.0    5.0    4.0    NaN\n",
       "AgustinDeSalazarYTorres_10    4.0    3.0    4.0    3.0    NaN    NaN\n",
       "AgustinDeSalazarYTorres_11    2.0    3.0    4.0    3.0    2.0    NaN\n",
       "AgustinDeSalazarYTorres_12    2.0    1.0    3.0    4.0    3.0    1.0\n",
       "AgustinDeSalazarYTorres_13    3.0    2.0    4.0    3.0    1.0    1.0\n",
       "...                           ...    ...    ...    ...    ...    ...\n",
       "s485g_1012                    3.0    2.0    5.0    3.0    NaN    1.0\n",
       "s486g_1013_01                 2.0    1.0    3.0    4.0    3.0    1.0\n",
       "s486g_1013_02                 4.0    1.0    3.0    5.0    1.0    NaN\n",
       "s487g_1014                    1.0    2.0    4.0    3.0    3.0    1.0\n",
       "s488g_1015                    2.0    NaN    4.0    2.0    2.0    4.0\n",
       "\n",
       "[5814 rows x 6 columns]"
      ]
     },
     "execution_count": 18,
     "metadata": {},
     "output_type": "execute_result"
    }
   ],
   "source": [
    "os_groups"
   ]
  },
  {
   "cell_type": "code",
   "execution_count": 19,
   "metadata": {},
   "outputs": [
    {
     "data": {
      "text/plain": [
       "pandas.core.frame.DataFrame"
      ]
     },
     "execution_count": 19,
     "metadata": {},
     "output_type": "execute_result"
    }
   ],
   "source": [
    "type(os_groups)"
   ]
  },
  {
   "cell_type": "code",
   "execution_count": 20,
   "metadata": {},
   "outputs": [],
   "source": [
    "og = os_groups"
   ]
  },
  {
   "cell_type": "code",
   "execution_count": 21,
   "metadata": {
    "scrolled": true
   },
   "outputs": [
    {
     "data": {
      "text/plain": [
       "FrozenList([[0, 1, 9], ['octave', 'sestet']])"
      ]
     },
     "execution_count": 21,
     "metadata": {},
     "output_type": "execute_result"
    }
   ],
   "source": [
    "og.columns.levels"
   ]
  },
  {
   "cell_type": "code",
   "execution_count": 22,
   "metadata": {},
   "outputs": [
    {
     "data": {
      "text/plain": [
       "SonnetID\n",
       "AgustinDeSalazarYTorres_1     NaN\n",
       "AgustinDeSalazarYTorres_10    4.0\n",
       "AgustinDeSalazarYTorres_11    2.0\n",
       "AgustinDeSalazarYTorres_12    2.0\n",
       "AgustinDeSalazarYTorres_13    3.0\n",
       "                             ... \n",
       "s485g_1012                    3.0\n",
       "s486g_1013_01                 2.0\n",
       "s486g_1013_02                 4.0\n",
       "s487g_1014                    1.0\n",
       "s488g_1015                    2.0\n",
       "Name: (0, octave), Length: 5814, dtype: float64"
      ]
     },
     "execution_count": 22,
     "metadata": {},
     "output_type": "execute_result"
    }
   ],
   "source": [
    "og.loc[:, (0, 'octave')]"
   ]
  },
  {
   "cell_type": "markdown",
   "metadata": {},
   "source": [
    "Prepare data for a new dataframe with the binary value counts"
   ]
  },
  {
   "cell_type": "code",
   "execution_count": 23,
   "metadata": {},
   "outputs": [],
   "source": [
    "og_new_data =  {'octave_0': og.loc[:, (0, 'octave')],\n",
    "                'octave_1': og.loc[:, (1, 'octave')],\n",
    "                'octave_9': og.loc[:, (9, 'octave')],\n",
    "                'sestet_0': og.loc[:, (0, 'sestet')],\n",
    "                'sestet_1': og.loc[:, (1, 'sestet')],\n",
    "                'sestet_9': og.loc[:, (9, 'sestet')]}"
   ]
  },
  {
   "cell_type": "code",
   "execution_count": 24,
   "metadata": {},
   "outputs": [],
   "source": [
    "og_new_df = pd.DataFrame(og_new_data)"
   ]
  },
  {
   "cell_type": "code",
   "execution_count": 25,
   "metadata": {
    "scrolled": true
   },
   "outputs": [
    {
     "data": {
      "text/html": [
       "<div>\n",
       "<style scoped>\n",
       "    .dataframe tbody tr th:only-of-type {\n",
       "        vertical-align: middle;\n",
       "    }\n",
       "\n",
       "    .dataframe tbody tr th {\n",
       "        vertical-align: top;\n",
       "    }\n",
       "\n",
       "    .dataframe thead th {\n",
       "        text-align: right;\n",
       "    }\n",
       "</style>\n",
       "<table border=\"1\" class=\"dataframe\">\n",
       "  <thead>\n",
       "    <tr style=\"text-align: right;\">\n",
       "      <th></th>\n",
       "      <th>octave_0</th>\n",
       "      <th>octave_1</th>\n",
       "      <th>octave_9</th>\n",
       "      <th>sestet_0</th>\n",
       "      <th>sestet_1</th>\n",
       "      <th>sestet_9</th>\n",
       "    </tr>\n",
       "    <tr>\n",
       "      <th>SonnetID</th>\n",
       "      <th></th>\n",
       "      <th></th>\n",
       "      <th></th>\n",
       "      <th></th>\n",
       "      <th></th>\n",
       "      <th></th>\n",
       "    </tr>\n",
       "  </thead>\n",
       "  <tbody>\n",
       "    <tr>\n",
       "      <th>AgustinDeSalazarYTorres_1</th>\n",
       "      <td>NaN</td>\n",
       "      <td>4.0</td>\n",
       "      <td>4.0</td>\n",
       "      <td>1.0</td>\n",
       "      <td>5.0</td>\n",
       "      <td>NaN</td>\n",
       "    </tr>\n",
       "    <tr>\n",
       "      <th>AgustinDeSalazarYTorres_10</th>\n",
       "      <td>4.0</td>\n",
       "      <td>4.0</td>\n",
       "      <td>NaN</td>\n",
       "      <td>3.0</td>\n",
       "      <td>3.0</td>\n",
       "      <td>NaN</td>\n",
       "    </tr>\n",
       "    <tr>\n",
       "      <th>AgustinDeSalazarYTorres_11</th>\n",
       "      <td>2.0</td>\n",
       "      <td>4.0</td>\n",
       "      <td>2.0</td>\n",
       "      <td>3.0</td>\n",
       "      <td>3.0</td>\n",
       "      <td>NaN</td>\n",
       "    </tr>\n",
       "    <tr>\n",
       "      <th>AgustinDeSalazarYTorres_12</th>\n",
       "      <td>2.0</td>\n",
       "      <td>3.0</td>\n",
       "      <td>3.0</td>\n",
       "      <td>1.0</td>\n",
       "      <td>4.0</td>\n",
       "      <td>1.0</td>\n",
       "    </tr>\n",
       "    <tr>\n",
       "      <th>AgustinDeSalazarYTorres_13</th>\n",
       "      <td>3.0</td>\n",
       "      <td>4.0</td>\n",
       "      <td>1.0</td>\n",
       "      <td>2.0</td>\n",
       "      <td>3.0</td>\n",
       "      <td>1.0</td>\n",
       "    </tr>\n",
       "    <tr>\n",
       "      <th>...</th>\n",
       "      <td>...</td>\n",
       "      <td>...</td>\n",
       "      <td>...</td>\n",
       "      <td>...</td>\n",
       "      <td>...</td>\n",
       "      <td>...</td>\n",
       "    </tr>\n",
       "    <tr>\n",
       "      <th>s485g_1012</th>\n",
       "      <td>3.0</td>\n",
       "      <td>5.0</td>\n",
       "      <td>NaN</td>\n",
       "      <td>2.0</td>\n",
       "      <td>3.0</td>\n",
       "      <td>1.0</td>\n",
       "    </tr>\n",
       "    <tr>\n",
       "      <th>s486g_1013_01</th>\n",
       "      <td>2.0</td>\n",
       "      <td>3.0</td>\n",
       "      <td>3.0</td>\n",
       "      <td>1.0</td>\n",
       "      <td>4.0</td>\n",
       "      <td>1.0</td>\n",
       "    </tr>\n",
       "    <tr>\n",
       "      <th>s486g_1013_02</th>\n",
       "      <td>4.0</td>\n",
       "      <td>3.0</td>\n",
       "      <td>1.0</td>\n",
       "      <td>1.0</td>\n",
       "      <td>5.0</td>\n",
       "      <td>NaN</td>\n",
       "    </tr>\n",
       "    <tr>\n",
       "      <th>s487g_1014</th>\n",
       "      <td>1.0</td>\n",
       "      <td>4.0</td>\n",
       "      <td>3.0</td>\n",
       "      <td>2.0</td>\n",
       "      <td>3.0</td>\n",
       "      <td>1.0</td>\n",
       "    </tr>\n",
       "    <tr>\n",
       "      <th>s488g_1015</th>\n",
       "      <td>2.0</td>\n",
       "      <td>4.0</td>\n",
       "      <td>2.0</td>\n",
       "      <td>NaN</td>\n",
       "      <td>2.0</td>\n",
       "      <td>4.0</td>\n",
       "    </tr>\n",
       "  </tbody>\n",
       "</table>\n",
       "<p>5814 rows × 6 columns</p>\n",
       "</div>"
      ],
      "text/plain": [
       "                            octave_0  octave_1  octave_9  sestet_0  sestet_1  \\\n",
       "SonnetID                                                                       \n",
       "AgustinDeSalazarYTorres_1        NaN       4.0       4.0       1.0       5.0   \n",
       "AgustinDeSalazarYTorres_10       4.0       4.0       NaN       3.0       3.0   \n",
       "AgustinDeSalazarYTorres_11       2.0       4.0       2.0       3.0       3.0   \n",
       "AgustinDeSalazarYTorres_12       2.0       3.0       3.0       1.0       4.0   \n",
       "AgustinDeSalazarYTorres_13       3.0       4.0       1.0       2.0       3.0   \n",
       "...                              ...       ...       ...       ...       ...   \n",
       "s485g_1012                       3.0       5.0       NaN       2.0       3.0   \n",
       "s486g_1013_01                    2.0       3.0       3.0       1.0       4.0   \n",
       "s486g_1013_02                    4.0       3.0       1.0       1.0       5.0   \n",
       "s487g_1014                       1.0       4.0       3.0       2.0       3.0   \n",
       "s488g_1015                       2.0       4.0       2.0       NaN       2.0   \n",
       "\n",
       "                            sestet_9  \n",
       "SonnetID                              \n",
       "AgustinDeSalazarYTorres_1        NaN  \n",
       "AgustinDeSalazarYTorres_10       NaN  \n",
       "AgustinDeSalazarYTorres_11       NaN  \n",
       "AgustinDeSalazarYTorres_12       1.0  \n",
       "AgustinDeSalazarYTorres_13       1.0  \n",
       "...                              ...  \n",
       "s485g_1012                       1.0  \n",
       "s486g_1013_01                    1.0  \n",
       "s486g_1013_02                    NaN  \n",
       "s487g_1014                       1.0  \n",
       "s488g_1015                       4.0  \n",
       "\n",
       "[5814 rows x 6 columns]"
      ]
     },
     "execution_count": 25,
     "metadata": {},
     "output_type": "execute_result"
    }
   ],
   "source": [
    "og_new_df"
   ]
  },
  {
   "cell_type": "code",
   "execution_count": 26,
   "metadata": {},
   "outputs": [],
   "source": [
    "og_new_df = og_new_df.rename_axis('SonnetID').reset_index()"
   ]
  },
  {
   "cell_type": "code",
   "execution_count": 27,
   "metadata": {},
   "outputs": [
    {
     "data": {
      "text/plain": [
       "5814"
      ]
     },
     "execution_count": 27,
     "metadata": {},
     "output_type": "execute_result"
    }
   ],
   "source": [
    "len(og_new_df)"
   ]
  },
  {
   "cell_type": "code",
   "execution_count": 28,
   "metadata": {
    "scrolled": true
   },
   "outputs": [
    {
     "data": {
      "text/html": [
       "<div>\n",
       "<style scoped>\n",
       "    .dataframe tbody tr th:only-of-type {\n",
       "        vertical-align: middle;\n",
       "    }\n",
       "\n",
       "    .dataframe tbody tr th {\n",
       "        vertical-align: top;\n",
       "    }\n",
       "\n",
       "    .dataframe thead th {\n",
       "        text-align: right;\n",
       "    }\n",
       "</style>\n",
       "<table border=\"1\" class=\"dataframe\">\n",
       "  <thead>\n",
       "    <tr style=\"text-align: right;\">\n",
       "      <th></th>\n",
       "      <th>SonnetID</th>\n",
       "      <th>octave_0</th>\n",
       "      <th>octave_1</th>\n",
       "      <th>octave_9</th>\n",
       "      <th>sestet_0</th>\n",
       "      <th>sestet_1</th>\n",
       "      <th>sestet_9</th>\n",
       "    </tr>\n",
       "  </thead>\n",
       "  <tbody>\n",
       "    <tr>\n",
       "      <th>0</th>\n",
       "      <td>AgustinDeSalazarYTorres_1</td>\n",
       "      <td>NaN</td>\n",
       "      <td>4.0</td>\n",
       "      <td>4.0</td>\n",
       "      <td>1.0</td>\n",
       "      <td>5.0</td>\n",
       "      <td>NaN</td>\n",
       "    </tr>\n",
       "    <tr>\n",
       "      <th>1</th>\n",
       "      <td>AgustinDeSalazarYTorres_10</td>\n",
       "      <td>4.0</td>\n",
       "      <td>4.0</td>\n",
       "      <td>NaN</td>\n",
       "      <td>3.0</td>\n",
       "      <td>3.0</td>\n",
       "      <td>NaN</td>\n",
       "    </tr>\n",
       "    <tr>\n",
       "      <th>2</th>\n",
       "      <td>AgustinDeSalazarYTorres_11</td>\n",
       "      <td>2.0</td>\n",
       "      <td>4.0</td>\n",
       "      <td>2.0</td>\n",
       "      <td>3.0</td>\n",
       "      <td>3.0</td>\n",
       "      <td>NaN</td>\n",
       "    </tr>\n",
       "    <tr>\n",
       "      <th>3</th>\n",
       "      <td>AgustinDeSalazarYTorres_12</td>\n",
       "      <td>2.0</td>\n",
       "      <td>3.0</td>\n",
       "      <td>3.0</td>\n",
       "      <td>1.0</td>\n",
       "      <td>4.0</td>\n",
       "      <td>1.0</td>\n",
       "    </tr>\n",
       "    <tr>\n",
       "      <th>4</th>\n",
       "      <td>AgustinDeSalazarYTorres_13</td>\n",
       "      <td>3.0</td>\n",
       "      <td>4.0</td>\n",
       "      <td>1.0</td>\n",
       "      <td>2.0</td>\n",
       "      <td>3.0</td>\n",
       "      <td>1.0</td>\n",
       "    </tr>\n",
       "    <tr>\n",
       "      <th>...</th>\n",
       "      <td>...</td>\n",
       "      <td>...</td>\n",
       "      <td>...</td>\n",
       "      <td>...</td>\n",
       "      <td>...</td>\n",
       "      <td>...</td>\n",
       "      <td>...</td>\n",
       "    </tr>\n",
       "    <tr>\n",
       "      <th>5809</th>\n",
       "      <td>s485g_1012</td>\n",
       "      <td>3.0</td>\n",
       "      <td>5.0</td>\n",
       "      <td>NaN</td>\n",
       "      <td>2.0</td>\n",
       "      <td>3.0</td>\n",
       "      <td>1.0</td>\n",
       "    </tr>\n",
       "    <tr>\n",
       "      <th>5810</th>\n",
       "      <td>s486g_1013_01</td>\n",
       "      <td>2.0</td>\n",
       "      <td>3.0</td>\n",
       "      <td>3.0</td>\n",
       "      <td>1.0</td>\n",
       "      <td>4.0</td>\n",
       "      <td>1.0</td>\n",
       "    </tr>\n",
       "    <tr>\n",
       "      <th>5811</th>\n",
       "      <td>s486g_1013_02</td>\n",
       "      <td>4.0</td>\n",
       "      <td>3.0</td>\n",
       "      <td>1.0</td>\n",
       "      <td>1.0</td>\n",
       "      <td>5.0</td>\n",
       "      <td>NaN</td>\n",
       "    </tr>\n",
       "    <tr>\n",
       "      <th>5812</th>\n",
       "      <td>s487g_1014</td>\n",
       "      <td>1.0</td>\n",
       "      <td>4.0</td>\n",
       "      <td>3.0</td>\n",
       "      <td>2.0</td>\n",
       "      <td>3.0</td>\n",
       "      <td>1.0</td>\n",
       "    </tr>\n",
       "    <tr>\n",
       "      <th>5813</th>\n",
       "      <td>s488g_1015</td>\n",
       "      <td>2.0</td>\n",
       "      <td>4.0</td>\n",
       "      <td>2.0</td>\n",
       "      <td>NaN</td>\n",
       "      <td>2.0</td>\n",
       "      <td>4.0</td>\n",
       "    </tr>\n",
       "  </tbody>\n",
       "</table>\n",
       "<p>5814 rows × 7 columns</p>\n",
       "</div>"
      ],
      "text/plain": [
       "                        SonnetID  octave_0  octave_1  octave_9  sestet_0  \\\n",
       "0      AgustinDeSalazarYTorres_1       NaN       4.0       4.0       1.0   \n",
       "1     AgustinDeSalazarYTorres_10       4.0       4.0       NaN       3.0   \n",
       "2     AgustinDeSalazarYTorres_11       2.0       4.0       2.0       3.0   \n",
       "3     AgustinDeSalazarYTorres_12       2.0       3.0       3.0       1.0   \n",
       "4     AgustinDeSalazarYTorres_13       3.0       4.0       1.0       2.0   \n",
       "...                          ...       ...       ...       ...       ...   \n",
       "5809                  s485g_1012       3.0       5.0       NaN       2.0   \n",
       "5810               s486g_1013_01       2.0       3.0       3.0       1.0   \n",
       "5811               s486g_1013_02       4.0       3.0       1.0       1.0   \n",
       "5812                  s487g_1014       1.0       4.0       3.0       2.0   \n",
       "5813                  s488g_1015       2.0       4.0       2.0       NaN   \n",
       "\n",
       "      sestet_1  sestet_9  \n",
       "0          5.0       NaN  \n",
       "1          3.0       NaN  \n",
       "2          3.0       NaN  \n",
       "3          4.0       1.0  \n",
       "4          3.0       1.0  \n",
       "...        ...       ...  \n",
       "5809       3.0       1.0  \n",
       "5810       4.0       1.0  \n",
       "5811       5.0       NaN  \n",
       "5812       3.0       1.0  \n",
       "5813       2.0       4.0  \n",
       "\n",
       "[5814 rows x 7 columns]"
      ]
     },
     "execution_count": 28,
     "metadata": {},
     "output_type": "execute_result"
    }
   ],
   "source": [
    "og_new_df"
   ]
  },
  {
   "cell_type": "code",
   "execution_count": 29,
   "metadata": {},
   "outputs": [],
   "source": [
    "df2 = og_new_df"
   ]
  },
  {
   "cell_type": "code",
   "execution_count": 30,
   "metadata": {},
   "outputs": [],
   "source": [
    "df2.fillna(0, inplace=True)"
   ]
  },
  {
   "cell_type": "code",
   "execution_count": 31,
   "metadata": {},
   "outputs": [
    {
     "data": {
      "text/plain": [
       "5814"
      ]
     },
     "execution_count": 31,
     "metadata": {},
     "output_type": "execute_result"
    }
   ],
   "source": [
    "len(df2)"
   ]
  },
  {
   "cell_type": "code",
   "execution_count": 32,
   "metadata": {},
   "outputs": [
    {
     "data": {
      "text/html": [
       "<div>\n",
       "<style scoped>\n",
       "    .dataframe tbody tr th:only-of-type {\n",
       "        vertical-align: middle;\n",
       "    }\n",
       "\n",
       "    .dataframe tbody tr th {\n",
       "        vertical-align: top;\n",
       "    }\n",
       "\n",
       "    .dataframe thead th {\n",
       "        text-align: right;\n",
       "    }\n",
       "</style>\n",
       "<table border=\"1\" class=\"dataframe\">\n",
       "  <thead>\n",
       "    <tr style=\"text-align: right;\">\n",
       "      <th></th>\n",
       "      <th>SonnetID</th>\n",
       "      <th>octave_0</th>\n",
       "      <th>octave_1</th>\n",
       "      <th>octave_9</th>\n",
       "      <th>sestet_0</th>\n",
       "      <th>sestet_1</th>\n",
       "      <th>sestet_9</th>\n",
       "    </tr>\n",
       "  </thead>\n",
       "  <tbody>\n",
       "    <tr>\n",
       "      <th>0</th>\n",
       "      <td>AgustinDeSalazarYTorres_1</td>\n",
       "      <td>0.0</td>\n",
       "      <td>4.0</td>\n",
       "      <td>4.0</td>\n",
       "      <td>1.0</td>\n",
       "      <td>5.0</td>\n",
       "      <td>0.0</td>\n",
       "    </tr>\n",
       "    <tr>\n",
       "      <th>1</th>\n",
       "      <td>AgustinDeSalazarYTorres_10</td>\n",
       "      <td>4.0</td>\n",
       "      <td>4.0</td>\n",
       "      <td>0.0</td>\n",
       "      <td>3.0</td>\n",
       "      <td>3.0</td>\n",
       "      <td>0.0</td>\n",
       "    </tr>\n",
       "    <tr>\n",
       "      <th>2</th>\n",
       "      <td>AgustinDeSalazarYTorres_11</td>\n",
       "      <td>2.0</td>\n",
       "      <td>4.0</td>\n",
       "      <td>2.0</td>\n",
       "      <td>3.0</td>\n",
       "      <td>3.0</td>\n",
       "      <td>0.0</td>\n",
       "    </tr>\n",
       "    <tr>\n",
       "      <th>3</th>\n",
       "      <td>AgustinDeSalazarYTorres_12</td>\n",
       "      <td>2.0</td>\n",
       "      <td>3.0</td>\n",
       "      <td>3.0</td>\n",
       "      <td>1.0</td>\n",
       "      <td>4.0</td>\n",
       "      <td>1.0</td>\n",
       "    </tr>\n",
       "    <tr>\n",
       "      <th>4</th>\n",
       "      <td>AgustinDeSalazarYTorres_13</td>\n",
       "      <td>3.0</td>\n",
       "      <td>4.0</td>\n",
       "      <td>1.0</td>\n",
       "      <td>2.0</td>\n",
       "      <td>3.0</td>\n",
       "      <td>1.0</td>\n",
       "    </tr>\n",
       "    <tr>\n",
       "      <th>...</th>\n",
       "      <td>...</td>\n",
       "      <td>...</td>\n",
       "      <td>...</td>\n",
       "      <td>...</td>\n",
       "      <td>...</td>\n",
       "      <td>...</td>\n",
       "      <td>...</td>\n",
       "    </tr>\n",
       "    <tr>\n",
       "      <th>5809</th>\n",
       "      <td>s485g_1012</td>\n",
       "      <td>3.0</td>\n",
       "      <td>5.0</td>\n",
       "      <td>0.0</td>\n",
       "      <td>2.0</td>\n",
       "      <td>3.0</td>\n",
       "      <td>1.0</td>\n",
       "    </tr>\n",
       "    <tr>\n",
       "      <th>5810</th>\n",
       "      <td>s486g_1013_01</td>\n",
       "      <td>2.0</td>\n",
       "      <td>3.0</td>\n",
       "      <td>3.0</td>\n",
       "      <td>1.0</td>\n",
       "      <td>4.0</td>\n",
       "      <td>1.0</td>\n",
       "    </tr>\n",
       "    <tr>\n",
       "      <th>5811</th>\n",
       "      <td>s486g_1013_02</td>\n",
       "      <td>4.0</td>\n",
       "      <td>3.0</td>\n",
       "      <td>1.0</td>\n",
       "      <td>1.0</td>\n",
       "      <td>5.0</td>\n",
       "      <td>0.0</td>\n",
       "    </tr>\n",
       "    <tr>\n",
       "      <th>5812</th>\n",
       "      <td>s487g_1014</td>\n",
       "      <td>1.0</td>\n",
       "      <td>4.0</td>\n",
       "      <td>3.0</td>\n",
       "      <td>2.0</td>\n",
       "      <td>3.0</td>\n",
       "      <td>1.0</td>\n",
       "    </tr>\n",
       "    <tr>\n",
       "      <th>5813</th>\n",
       "      <td>s488g_1015</td>\n",
       "      <td>2.0</td>\n",
       "      <td>4.0</td>\n",
       "      <td>2.0</td>\n",
       "      <td>0.0</td>\n",
       "      <td>2.0</td>\n",
       "      <td>4.0</td>\n",
       "    </tr>\n",
       "  </tbody>\n",
       "</table>\n",
       "<p>5814 rows × 7 columns</p>\n",
       "</div>"
      ],
      "text/plain": [
       "                        SonnetID  octave_0  octave_1  octave_9  sestet_0  \\\n",
       "0      AgustinDeSalazarYTorres_1       0.0       4.0       4.0       1.0   \n",
       "1     AgustinDeSalazarYTorres_10       4.0       4.0       0.0       3.0   \n",
       "2     AgustinDeSalazarYTorres_11       2.0       4.0       2.0       3.0   \n",
       "3     AgustinDeSalazarYTorres_12       2.0       3.0       3.0       1.0   \n",
       "4     AgustinDeSalazarYTorres_13       3.0       4.0       1.0       2.0   \n",
       "...                          ...       ...       ...       ...       ...   \n",
       "5809                  s485g_1012       3.0       5.0       0.0       2.0   \n",
       "5810               s486g_1013_01       2.0       3.0       3.0       1.0   \n",
       "5811               s486g_1013_02       4.0       3.0       1.0       1.0   \n",
       "5812                  s487g_1014       1.0       4.0       3.0       2.0   \n",
       "5813                  s488g_1015       2.0       4.0       2.0       0.0   \n",
       "\n",
       "      sestet_1  sestet_9  \n",
       "0          5.0       0.0  \n",
       "1          3.0       0.0  \n",
       "2          3.0       0.0  \n",
       "3          4.0       1.0  \n",
       "4          3.0       1.0  \n",
       "...        ...       ...  \n",
       "5809       3.0       1.0  \n",
       "5810       4.0       1.0  \n",
       "5811       5.0       0.0  \n",
       "5812       3.0       1.0  \n",
       "5813       2.0       4.0  \n",
       "\n",
       "[5814 rows x 7 columns]"
      ]
     },
     "execution_count": 32,
     "metadata": {},
     "output_type": "execute_result"
    }
   ],
   "source": [
    "df2"
   ]
  },
  {
   "cell_type": "markdown",
   "metadata": {},
   "source": [
    "Number of left out sonnets given octave which does not add to 8 (or na)"
   ]
  },
  {
   "cell_type": "code",
   "execution_count": 33,
   "metadata": {},
   "outputs": [],
   "source": [
    "no_adds = df2.loc[(df2['octave_0'] + df2['octave_1'] + df2['octave_9']).isin((8, np.nan)) == False]"
   ]
  },
  {
   "cell_type": "code",
   "execution_count": 34,
   "metadata": {},
   "outputs": [
    {
     "data": {
      "text/plain": [
       "176"
      ]
     },
     "execution_count": 34,
     "metadata": {},
     "output_type": "execute_result"
    }
   ],
   "source": [
    "len(no_adds)"
   ]
  },
  {
   "cell_type": "code",
   "execution_count": 35,
   "metadata": {},
   "outputs": [
    {
     "data": {
      "text/html": [
       "<div>\n",
       "<style scoped>\n",
       "    .dataframe tbody tr th:only-of-type {\n",
       "        vertical-align: middle;\n",
       "    }\n",
       "\n",
       "    .dataframe tbody tr th {\n",
       "        vertical-align: top;\n",
       "    }\n",
       "\n",
       "    .dataframe thead th {\n",
       "        text-align: right;\n",
       "    }\n",
       "</style>\n",
       "<table border=\"1\" class=\"dataframe\">\n",
       "  <thead>\n",
       "    <tr style=\"text-align: right;\">\n",
       "      <th></th>\n",
       "      <th>SonnetID</th>\n",
       "      <th>octave_0</th>\n",
       "      <th>octave_1</th>\n",
       "      <th>octave_9</th>\n",
       "      <th>sestet_0</th>\n",
       "      <th>sestet_1</th>\n",
       "      <th>sestet_9</th>\n",
       "    </tr>\n",
       "  </thead>\n",
       "  <tbody>\n",
       "    <tr>\n",
       "      <th>71</th>\n",
       "      <td>AntonioHurtadoDeMendoza_10</td>\n",
       "      <td>1.0</td>\n",
       "      <td>6.0</td>\n",
       "      <td>0.0</td>\n",
       "      <td>5.0</td>\n",
       "      <td>1.0</td>\n",
       "      <td>0.0</td>\n",
       "    </tr>\n",
       "    <tr>\n",
       "      <th>80</th>\n",
       "      <td>AntonioHurtadoDeMendoza_7</td>\n",
       "      <td>3.0</td>\n",
       "      <td>3.0</td>\n",
       "      <td>1.0</td>\n",
       "      <td>2.0</td>\n",
       "      <td>4.0</td>\n",
       "      <td>0.0</td>\n",
       "    </tr>\n",
       "    <tr>\n",
       "      <th>111</th>\n",
       "      <td>ArgensolaBartolome_124</td>\n",
       "      <td>3.0</td>\n",
       "      <td>2.0</td>\n",
       "      <td>2.0</td>\n",
       "      <td>4.0</td>\n",
       "      <td>2.0</td>\n",
       "      <td>0.0</td>\n",
       "    </tr>\n",
       "    <tr>\n",
       "      <th>149</th>\n",
       "      <td>ArgensolaBartolome_16</td>\n",
       "      <td>1.0</td>\n",
       "      <td>5.0</td>\n",
       "      <td>0.0</td>\n",
       "      <td>1.0</td>\n",
       "      <td>5.0</td>\n",
       "      <td>0.0</td>\n",
       "    </tr>\n",
       "    <tr>\n",
       "      <th>191</th>\n",
       "      <td>ArgensolaBartolome_54</td>\n",
       "      <td>1.0</td>\n",
       "      <td>3.0</td>\n",
       "      <td>3.0</td>\n",
       "      <td>3.0</td>\n",
       "      <td>3.0</td>\n",
       "      <td>0.0</td>\n",
       "    </tr>\n",
       "    <tr>\n",
       "      <th>...</th>\n",
       "      <td>...</td>\n",
       "      <td>...</td>\n",
       "      <td>...</td>\n",
       "      <td>...</td>\n",
       "      <td>...</td>\n",
       "      <td>...</td>\n",
       "      <td>...</td>\n",
       "    </tr>\n",
       "    <tr>\n",
       "      <th>5730</th>\n",
       "      <td>s427g_0929</td>\n",
       "      <td>2.0</td>\n",
       "      <td>5.0</td>\n",
       "      <td>0.0</td>\n",
       "      <td>2.0</td>\n",
       "      <td>4.0</td>\n",
       "      <td>0.0</td>\n",
       "    </tr>\n",
       "    <tr>\n",
       "      <th>5759</th>\n",
       "      <td>s449g_0958</td>\n",
       "      <td>1.0</td>\n",
       "      <td>4.0</td>\n",
       "      <td>2.0</td>\n",
       "      <td>1.0</td>\n",
       "      <td>4.0</td>\n",
       "      <td>1.0</td>\n",
       "    </tr>\n",
       "    <tr>\n",
       "      <th>5784</th>\n",
       "      <td>s466g_0983</td>\n",
       "      <td>0.0</td>\n",
       "      <td>5.0</td>\n",
       "      <td>2.0</td>\n",
       "      <td>0.0</td>\n",
       "      <td>4.0</td>\n",
       "      <td>2.0</td>\n",
       "    </tr>\n",
       "    <tr>\n",
       "      <th>5798</th>\n",
       "      <td>s476g_1001</td>\n",
       "      <td>2.0</td>\n",
       "      <td>4.0</td>\n",
       "      <td>1.0</td>\n",
       "      <td>2.0</td>\n",
       "      <td>3.0</td>\n",
       "      <td>0.0</td>\n",
       "    </tr>\n",
       "    <tr>\n",
       "      <th>5801</th>\n",
       "      <td>s479g_1004</td>\n",
       "      <td>2.0</td>\n",
       "      <td>2.0</td>\n",
       "      <td>2.0</td>\n",
       "      <td>2.0</td>\n",
       "      <td>4.0</td>\n",
       "      <td>0.0</td>\n",
       "    </tr>\n",
       "  </tbody>\n",
       "</table>\n",
       "<p>176 rows × 7 columns</p>\n",
       "</div>"
      ],
      "text/plain": [
       "                        SonnetID  octave_0  octave_1  octave_9  sestet_0  \\\n",
       "71    AntonioHurtadoDeMendoza_10       1.0       6.0       0.0       5.0   \n",
       "80     AntonioHurtadoDeMendoza_7       3.0       3.0       1.0       2.0   \n",
       "111       ArgensolaBartolome_124       3.0       2.0       2.0       4.0   \n",
       "149        ArgensolaBartolome_16       1.0       5.0       0.0       1.0   \n",
       "191        ArgensolaBartolome_54       1.0       3.0       3.0       3.0   \n",
       "...                          ...       ...       ...       ...       ...   \n",
       "5730                  s427g_0929       2.0       5.0       0.0       2.0   \n",
       "5759                  s449g_0958       1.0       4.0       2.0       1.0   \n",
       "5784                  s466g_0983       0.0       5.0       2.0       0.0   \n",
       "5798                  s476g_1001       2.0       4.0       1.0       2.0   \n",
       "5801                  s479g_1004       2.0       2.0       2.0       2.0   \n",
       "\n",
       "      sestet_1  sestet_9  \n",
       "71         1.0       0.0  \n",
       "80         4.0       0.0  \n",
       "111        2.0       0.0  \n",
       "149        5.0       0.0  \n",
       "191        3.0       0.0  \n",
       "...        ...       ...  \n",
       "5730       4.0       0.0  \n",
       "5759       4.0       1.0  \n",
       "5784       4.0       2.0  \n",
       "5798       3.0       0.0  \n",
       "5801       4.0       0.0  \n",
       "\n",
       "[176 rows x 7 columns]"
      ]
     },
     "execution_count": 35,
     "metadata": {},
     "output_type": "execute_result"
    }
   ],
   "source": [
    "no_adds"
   ]
  },
  {
   "cell_type": "markdown",
   "metadata": {},
   "source": [
    "Number of left out sonnets given sestet which does not add to 6 (or na)"
   ]
  },
  {
   "cell_type": "code",
   "execution_count": 36,
   "metadata": {},
   "outputs": [],
   "source": [
    "df2['o_act'] = df2['octave_0'] + df2['octave_1'] + df2['octave_9']"
   ]
  },
  {
   "cell_type": "code",
   "execution_count": 37,
   "metadata": {},
   "outputs": [
    {
     "data": {
      "text/plain": [
       "8.0     5638\n",
       "7.0      159\n",
       "6.0        7\n",
       "4.0        2\n",
       "0.0        2\n",
       "2.0        2\n",
       "1.0        2\n",
       "9.0        1\n",
       "10.0       1\n",
       "Name: o_act, dtype: int64"
      ]
     },
     "execution_count": 37,
     "metadata": {},
     "output_type": "execute_result"
    }
   ],
   "source": [
    "df2['o_act'].value_counts()"
   ]
  },
  {
   "cell_type": "code",
   "execution_count": 38,
   "metadata": {},
   "outputs": [],
   "source": [
    "no_adds_sestet = df2.loc[(df2['sestet_0'] + df2['sestet_1'] + df2['sestet_9']).isin((6, np.nan)) == False]"
   ]
  },
  {
   "cell_type": "code",
   "execution_count": 39,
   "metadata": {
    "scrolled": true
   },
   "outputs": [
    {
     "data": {
      "text/plain": [
       "312"
      ]
     },
     "execution_count": 39,
     "metadata": {},
     "output_type": "execute_result"
    }
   ],
   "source": [
    "len(no_adds_sestet)"
   ]
  },
  {
   "cell_type": "code",
   "execution_count": 40,
   "metadata": {
    "scrolled": true
   },
   "outputs": [
    {
     "data": {
      "text/html": [
       "<div>\n",
       "<style scoped>\n",
       "    .dataframe tbody tr th:only-of-type {\n",
       "        vertical-align: middle;\n",
       "    }\n",
       "\n",
       "    .dataframe tbody tr th {\n",
       "        vertical-align: top;\n",
       "    }\n",
       "\n",
       "    .dataframe thead th {\n",
       "        text-align: right;\n",
       "    }\n",
       "</style>\n",
       "<table border=\"1\" class=\"dataframe\">\n",
       "  <thead>\n",
       "    <tr style=\"text-align: right;\">\n",
       "      <th></th>\n",
       "      <th>SonnetID</th>\n",
       "      <th>octave_0</th>\n",
       "      <th>octave_1</th>\n",
       "      <th>octave_9</th>\n",
       "      <th>sestet_0</th>\n",
       "      <th>sestet_1</th>\n",
       "      <th>sestet_9</th>\n",
       "      <th>o_act</th>\n",
       "    </tr>\n",
       "  </thead>\n",
       "  <tbody>\n",
       "    <tr>\n",
       "      <th>7</th>\n",
       "      <td>AgustinDeSalazarYTorres_16</td>\n",
       "      <td>2.0</td>\n",
       "      <td>5.0</td>\n",
       "      <td>1.0</td>\n",
       "      <td>2.0</td>\n",
       "      <td>2.0</td>\n",
       "      <td>1.0</td>\n",
       "      <td>8.0</td>\n",
       "    </tr>\n",
       "    <tr>\n",
       "      <th>11</th>\n",
       "      <td>AgustinDeSalazarYTorres_2</td>\n",
       "      <td>2.0</td>\n",
       "      <td>4.0</td>\n",
       "      <td>2.0</td>\n",
       "      <td>3.0</td>\n",
       "      <td>1.0</td>\n",
       "      <td>0.0</td>\n",
       "      <td>8.0</td>\n",
       "    </tr>\n",
       "    <tr>\n",
       "      <th>53</th>\n",
       "      <td>AntonioEnriquezGomez_30</td>\n",
       "      <td>3.0</td>\n",
       "      <td>4.0</td>\n",
       "      <td>1.0</td>\n",
       "      <td>3.0</td>\n",
       "      <td>2.0</td>\n",
       "      <td>0.0</td>\n",
       "      <td>8.0</td>\n",
       "    </tr>\n",
       "    <tr>\n",
       "      <th>55</th>\n",
       "      <td>AntonioEnriquezGomez_32</td>\n",
       "      <td>3.0</td>\n",
       "      <td>5.0</td>\n",
       "      <td>0.0</td>\n",
       "      <td>0.0</td>\n",
       "      <td>3.0</td>\n",
       "      <td>2.0</td>\n",
       "      <td>8.0</td>\n",
       "    </tr>\n",
       "    <tr>\n",
       "      <th>189</th>\n",
       "      <td>ArgensolaBartolome_52</td>\n",
       "      <td>2.0</td>\n",
       "      <td>3.0</td>\n",
       "      <td>3.0</td>\n",
       "      <td>2.0</td>\n",
       "      <td>2.0</td>\n",
       "      <td>0.0</td>\n",
       "      <td>8.0</td>\n",
       "    </tr>\n",
       "    <tr>\n",
       "      <th>...</th>\n",
       "      <td>...</td>\n",
       "      <td>...</td>\n",
       "      <td>...</td>\n",
       "      <td>...</td>\n",
       "      <td>...</td>\n",
       "      <td>...</td>\n",
       "      <td>...</td>\n",
       "      <td>...</td>\n",
       "    </tr>\n",
       "    <tr>\n",
       "      <th>5769</th>\n",
       "      <td>s454g_0968</td>\n",
       "      <td>2.0</td>\n",
       "      <td>4.0</td>\n",
       "      <td>2.0</td>\n",
       "      <td>1.0</td>\n",
       "      <td>2.0</td>\n",
       "      <td>2.0</td>\n",
       "      <td>8.0</td>\n",
       "    </tr>\n",
       "    <tr>\n",
       "      <th>5771</th>\n",
       "      <td>s455g_0970</td>\n",
       "      <td>1.0</td>\n",
       "      <td>6.0</td>\n",
       "      <td>1.0</td>\n",
       "      <td>1.0</td>\n",
       "      <td>5.0</td>\n",
       "      <td>2.0</td>\n",
       "      <td>8.0</td>\n",
       "    </tr>\n",
       "    <tr>\n",
       "      <th>5778</th>\n",
       "      <td>s461g_0977</td>\n",
       "      <td>3.0</td>\n",
       "      <td>5.0</td>\n",
       "      <td>0.0</td>\n",
       "      <td>1.0</td>\n",
       "      <td>2.0</td>\n",
       "      <td>1.0</td>\n",
       "      <td>8.0</td>\n",
       "    </tr>\n",
       "    <tr>\n",
       "      <th>5797</th>\n",
       "      <td>s476g_1000</td>\n",
       "      <td>1.0</td>\n",
       "      <td>6.0</td>\n",
       "      <td>1.0</td>\n",
       "      <td>1.0</td>\n",
       "      <td>4.0</td>\n",
       "      <td>0.0</td>\n",
       "      <td>8.0</td>\n",
       "    </tr>\n",
       "    <tr>\n",
       "      <th>5798</th>\n",
       "      <td>s476g_1001</td>\n",
       "      <td>2.0</td>\n",
       "      <td>4.0</td>\n",
       "      <td>1.0</td>\n",
       "      <td>2.0</td>\n",
       "      <td>3.0</td>\n",
       "      <td>0.0</td>\n",
       "      <td>7.0</td>\n",
       "    </tr>\n",
       "  </tbody>\n",
       "</table>\n",
       "<p>312 rows × 8 columns</p>\n",
       "</div>"
      ],
      "text/plain": [
       "                        SonnetID  octave_0  octave_1  octave_9  sestet_0  \\\n",
       "7     AgustinDeSalazarYTorres_16       2.0       5.0       1.0       2.0   \n",
       "11     AgustinDeSalazarYTorres_2       2.0       4.0       2.0       3.0   \n",
       "53       AntonioEnriquezGomez_30       3.0       4.0       1.0       3.0   \n",
       "55       AntonioEnriquezGomez_32       3.0       5.0       0.0       0.0   \n",
       "189        ArgensolaBartolome_52       2.0       3.0       3.0       2.0   \n",
       "...                          ...       ...       ...       ...       ...   \n",
       "5769                  s454g_0968       2.0       4.0       2.0       1.0   \n",
       "5771                  s455g_0970       1.0       6.0       1.0       1.0   \n",
       "5778                  s461g_0977       3.0       5.0       0.0       1.0   \n",
       "5797                  s476g_1000       1.0       6.0       1.0       1.0   \n",
       "5798                  s476g_1001       2.0       4.0       1.0       2.0   \n",
       "\n",
       "      sestet_1  sestet_9  o_act  \n",
       "7          2.0       1.0    8.0  \n",
       "11         1.0       0.0    8.0  \n",
       "53         2.0       0.0    8.0  \n",
       "55         3.0       2.0    8.0  \n",
       "189        2.0       0.0    8.0  \n",
       "...        ...       ...    ...  \n",
       "5769       2.0       2.0    8.0  \n",
       "5771       5.0       2.0    8.0  \n",
       "5778       2.0       1.0    8.0  \n",
       "5797       4.0       0.0    8.0  \n",
       "5798       3.0       0.0    7.0  \n",
       "\n",
       "[312 rows x 8 columns]"
      ]
     },
     "execution_count": 40,
     "metadata": {},
     "output_type": "execute_result"
    }
   ],
   "source": [
    "no_adds_sestet"
   ]
  },
  {
   "cell_type": "code",
   "execution_count": 41,
   "metadata": {},
   "outputs": [],
   "source": [
    "df2['s_act'] = df2['sestet_0'] + df2['sestet_1'] + df2['sestet_9']"
   ]
  },
  {
   "cell_type": "code",
   "execution_count": 42,
   "metadata": {},
   "outputs": [
    {
     "data": {
      "text/plain": [
       "6.0     5502\n",
       "4.0      154\n",
       "5.0      106\n",
       "9.0       15\n",
       "8.0        9\n",
       "0.0        6\n",
       "10.0       5\n",
       "3.0        5\n",
       "2.0        4\n",
       "12.0       2\n",
       "11.0       2\n",
       "1.0        1\n",
       "32.0       1\n",
       "23.0       1\n",
       "20.0       1\n",
       "Name: s_act, dtype: int64"
      ]
     },
     "execution_count": 42,
     "metadata": {},
     "output_type": "execute_result"
    }
   ],
   "source": [
    "df2['s_act'].value_counts()"
   ]
  },
  {
   "cell_type": "code",
   "execution_count": 43,
   "metadata": {},
   "outputs": [],
   "source": [
    "df2f = df2.loc[(df2['o_act'] == 8) & (df2['s_act'] == 6)]"
   ]
  },
  {
   "cell_type": "code",
   "execution_count": 181,
   "metadata": {},
   "outputs": [
    {
     "data": {
      "text/plain": [
       "0"
      ]
     },
     "execution_count": 181,
     "metadata": {},
     "output_type": "execute_result"
    }
   ],
   "source": [
    "#len(df2.loc[(df2['o_act'] != 8) | (df2['s_act'] != 6)])"
   ]
  },
  {
   "cell_type": "code",
   "execution_count": 44,
   "metadata": {},
   "outputs": [
    {
     "data": {
      "text/plain": [
       "(5814, 5355)"
      ]
     },
     "execution_count": 44,
     "metadata": {},
     "output_type": "execute_result"
    }
   ],
   "source": [
    "len(df2), len(df2f)"
   ]
  },
  {
   "cell_type": "code",
   "execution_count": 183,
   "metadata": {},
   "outputs": [
    {
     "data": {
      "text/plain": [
       "0.9210526315789473"
      ]
     },
     "execution_count": 183,
     "metadata": {},
     "output_type": "execute_result"
    }
   ],
   "source": [
    "5355/5814"
   ]
  },
  {
   "cell_type": "code",
   "execution_count": 46,
   "metadata": {},
   "outputs": [],
   "source": [
    "df2  = df2f"
   ]
  },
  {
   "cell_type": "markdown",
   "metadata": {},
   "source": [
    "Filter to keep only cases where number of rhyme-words found in lexica is above a given threshold both in the octave and in the sestet. Columns ending in *\\_0* and *\\_1* are the ones we need (the *\\_9* ending means that the ryme-word is not in the lexicon)"
   ]
  },
  {
   "cell_type": "code",
   "execution_count": 47,
   "metadata": {},
   "outputs": [],
   "source": [
    "octave_min = 6\n",
    "sestet_min = 5\n",
    "df3 = df2.loc[((df2['octave_0'] + df2['octave_1']) >= octave_min) & ((df2['sestet_0'] + df2['sestet_1']) >= sestet_min)]"
   ]
  },
  {
   "cell_type": "code",
   "execution_count": 48,
   "metadata": {},
   "outputs": [
    {
     "data": {
      "text/html": [
       "<div>\n",
       "<style scoped>\n",
       "    .dataframe tbody tr th:only-of-type {\n",
       "        vertical-align: middle;\n",
       "    }\n",
       "\n",
       "    .dataframe tbody tr th {\n",
       "        vertical-align: top;\n",
       "    }\n",
       "\n",
       "    .dataframe thead th {\n",
       "        text-align: right;\n",
       "    }\n",
       "</style>\n",
       "<table border=\"1\" class=\"dataframe\">\n",
       "  <thead>\n",
       "    <tr style=\"text-align: right;\">\n",
       "      <th></th>\n",
       "      <th>SonnetID</th>\n",
       "      <th>octave_0</th>\n",
       "      <th>octave_1</th>\n",
       "      <th>octave_9</th>\n",
       "      <th>sestet_0</th>\n",
       "      <th>sestet_1</th>\n",
       "      <th>sestet_9</th>\n",
       "      <th>o_act</th>\n",
       "      <th>s_act</th>\n",
       "    </tr>\n",
       "  </thead>\n",
       "  <tbody>\n",
       "    <tr>\n",
       "      <th>1</th>\n",
       "      <td>AgustinDeSalazarYTorres_10</td>\n",
       "      <td>4.0</td>\n",
       "      <td>4.0</td>\n",
       "      <td>0.0</td>\n",
       "      <td>3.0</td>\n",
       "      <td>3.0</td>\n",
       "      <td>0.0</td>\n",
       "      <td>8.0</td>\n",
       "      <td>6.0</td>\n",
       "    </tr>\n",
       "    <tr>\n",
       "      <th>2</th>\n",
       "      <td>AgustinDeSalazarYTorres_11</td>\n",
       "      <td>2.0</td>\n",
       "      <td>4.0</td>\n",
       "      <td>2.0</td>\n",
       "      <td>3.0</td>\n",
       "      <td>3.0</td>\n",
       "      <td>0.0</td>\n",
       "      <td>8.0</td>\n",
       "      <td>6.0</td>\n",
       "    </tr>\n",
       "    <tr>\n",
       "      <th>4</th>\n",
       "      <td>AgustinDeSalazarYTorres_13</td>\n",
       "      <td>3.0</td>\n",
       "      <td>4.0</td>\n",
       "      <td>1.0</td>\n",
       "      <td>2.0</td>\n",
       "      <td>3.0</td>\n",
       "      <td>1.0</td>\n",
       "      <td>8.0</td>\n",
       "      <td>6.0</td>\n",
       "    </tr>\n",
       "    <tr>\n",
       "      <th>5</th>\n",
       "      <td>AgustinDeSalazarYTorres_14</td>\n",
       "      <td>1.0</td>\n",
       "      <td>7.0</td>\n",
       "      <td>0.0</td>\n",
       "      <td>2.0</td>\n",
       "      <td>4.0</td>\n",
       "      <td>0.0</td>\n",
       "      <td>8.0</td>\n",
       "      <td>6.0</td>\n",
       "    </tr>\n",
       "    <tr>\n",
       "      <th>8</th>\n",
       "      <td>AgustinDeSalazarYTorres_17</td>\n",
       "      <td>1.0</td>\n",
       "      <td>5.0</td>\n",
       "      <td>2.0</td>\n",
       "      <td>2.0</td>\n",
       "      <td>4.0</td>\n",
       "      <td>0.0</td>\n",
       "      <td>8.0</td>\n",
       "      <td>6.0</td>\n",
       "    </tr>\n",
       "    <tr>\n",
       "      <th>...</th>\n",
       "      <td>...</td>\n",
       "      <td>...</td>\n",
       "      <td>...</td>\n",
       "      <td>...</td>\n",
       "      <td>...</td>\n",
       "      <td>...</td>\n",
       "      <td>...</td>\n",
       "      <td>...</td>\n",
       "      <td>...</td>\n",
       "    </tr>\n",
       "    <tr>\n",
       "      <th>5804</th>\n",
       "      <td>s482g_1007</td>\n",
       "      <td>0.0</td>\n",
       "      <td>8.0</td>\n",
       "      <td>0.0</td>\n",
       "      <td>0.0</td>\n",
       "      <td>6.0</td>\n",
       "      <td>0.0</td>\n",
       "      <td>8.0</td>\n",
       "      <td>6.0</td>\n",
       "    </tr>\n",
       "    <tr>\n",
       "      <th>5806</th>\n",
       "      <td>s483g_1009</td>\n",
       "      <td>3.0</td>\n",
       "      <td>5.0</td>\n",
       "      <td>0.0</td>\n",
       "      <td>1.0</td>\n",
       "      <td>4.0</td>\n",
       "      <td>1.0</td>\n",
       "      <td>8.0</td>\n",
       "      <td>6.0</td>\n",
       "    </tr>\n",
       "    <tr>\n",
       "      <th>5808</th>\n",
       "      <td>s484g_1011</td>\n",
       "      <td>3.0</td>\n",
       "      <td>4.0</td>\n",
       "      <td>1.0</td>\n",
       "      <td>2.0</td>\n",
       "      <td>4.0</td>\n",
       "      <td>0.0</td>\n",
       "      <td>8.0</td>\n",
       "      <td>6.0</td>\n",
       "    </tr>\n",
       "    <tr>\n",
       "      <th>5809</th>\n",
       "      <td>s485g_1012</td>\n",
       "      <td>3.0</td>\n",
       "      <td>5.0</td>\n",
       "      <td>0.0</td>\n",
       "      <td>2.0</td>\n",
       "      <td>3.0</td>\n",
       "      <td>1.0</td>\n",
       "      <td>8.0</td>\n",
       "      <td>6.0</td>\n",
       "    </tr>\n",
       "    <tr>\n",
       "      <th>5811</th>\n",
       "      <td>s486g_1013_02</td>\n",
       "      <td>4.0</td>\n",
       "      <td>3.0</td>\n",
       "      <td>1.0</td>\n",
       "      <td>1.0</td>\n",
       "      <td>5.0</td>\n",
       "      <td>0.0</td>\n",
       "      <td>8.0</td>\n",
       "      <td>6.0</td>\n",
       "    </tr>\n",
       "  </tbody>\n",
       "</table>\n",
       "<p>3902 rows × 9 columns</p>\n",
       "</div>"
      ],
      "text/plain": [
       "                        SonnetID  octave_0  octave_1  octave_9  sestet_0  \\\n",
       "1     AgustinDeSalazarYTorres_10       4.0       4.0       0.0       3.0   \n",
       "2     AgustinDeSalazarYTorres_11       2.0       4.0       2.0       3.0   \n",
       "4     AgustinDeSalazarYTorres_13       3.0       4.0       1.0       2.0   \n",
       "5     AgustinDeSalazarYTorres_14       1.0       7.0       0.0       2.0   \n",
       "8     AgustinDeSalazarYTorres_17       1.0       5.0       2.0       2.0   \n",
       "...                          ...       ...       ...       ...       ...   \n",
       "5804                  s482g_1007       0.0       8.0       0.0       0.0   \n",
       "5806                  s483g_1009       3.0       5.0       0.0       1.0   \n",
       "5808                  s484g_1011       3.0       4.0       1.0       2.0   \n",
       "5809                  s485g_1012       3.0       5.0       0.0       2.0   \n",
       "5811               s486g_1013_02       4.0       3.0       1.0       1.0   \n",
       "\n",
       "      sestet_1  sestet_9  o_act  s_act  \n",
       "1          3.0       0.0    8.0    6.0  \n",
       "2          3.0       0.0    8.0    6.0  \n",
       "4          3.0       1.0    8.0    6.0  \n",
       "5          4.0       0.0    8.0    6.0  \n",
       "8          4.0       0.0    8.0    6.0  \n",
       "...        ...       ...    ...    ...  \n",
       "5804       6.0       0.0    8.0    6.0  \n",
       "5806       4.0       1.0    8.0    6.0  \n",
       "5808       4.0       0.0    8.0    6.0  \n",
       "5809       3.0       1.0    8.0    6.0  \n",
       "5811       5.0       0.0    8.0    6.0  \n",
       "\n",
       "[3902 rows x 9 columns]"
      ]
     },
     "execution_count": 48,
     "metadata": {},
     "output_type": "execute_result"
    }
   ],
   "source": [
    "df3"
   ]
  },
  {
   "cell_type": "code",
   "execution_count": 49,
   "metadata": {},
   "outputs": [
    {
     "data": {
      "text/plain": [
       "0.7286647992530345"
      ]
     },
     "execution_count": 49,
     "metadata": {},
     "output_type": "execute_result"
    }
   ],
   "source": [
    "len(df3)/len(df2)"
   ]
  },
  {
   "cell_type": "code",
   "execution_count": 50,
   "metadata": {},
   "outputs": [],
   "source": [
    "if False:\n",
    "    df3 = df3.drop(columns=[\"xxxx\"])"
   ]
  },
  {
   "cell_type": "code",
   "execution_count": 51,
   "metadata": {
    "scrolled": true
   },
   "outputs": [
    {
     "name": "stdout",
     "output_type": "stream",
     "text": [
      "Adding column oct0_m_ses0 based on 'octave_0' - 'sestet_0'\n",
      "Adding column oct1_m_ses1 based on 'octave_1' - 'sestet_1'\n"
     ]
    },
    {
     "name": "stderr",
     "output_type": "stream",
     "text": [
      "/tmp/ipykernel_687/1544116957.py:4: SettingWithCopyWarning: \n",
      "A value is trying to be set on a copy of a slice from a DataFrame.\n",
      "Try using .loc[row_indexer,col_indexer] = value instead\n",
      "\n",
      "See the caveats in the documentation: https://pandas.pydata.org/pandas-docs/stable/user_guide/indexing.html#returning-a-view-versus-a-copy\n",
      "  df3[new_colname] = df3[f'octave_{negpos}'] - df3[f'sestet_{negpos}']\n",
      "/tmp/ipykernel_687/1544116957.py:4: SettingWithCopyWarning: \n",
      "A value is trying to be set on a copy of a slice from a DataFrame.\n",
      "Try using .loc[row_indexer,col_indexer] = value instead\n",
      "\n",
      "See the caveats in the documentation: https://pandas.pydata.org/pandas-docs/stable/user_guide/indexing.html#returning-a-view-versus-a-copy\n",
      "  df3[new_colname] = df3[f'octave_{negpos}'] - df3[f'sestet_{negpos}']\n"
     ]
    }
   ],
   "source": [
    "for negpos in (\"0\", \"1\"):\n",
    "    new_colname = f\"oct{negpos}_m_ses{negpos}\"\n",
    "    print(f\"Adding column {new_colname} based on 'octave_{negpos}' - 'sestet_{negpos}'\")\n",
    "    df3[new_colname] = df3[f'octave_{negpos}'] - df3[f'sestet_{negpos}']"
   ]
  },
  {
   "cell_type": "code",
   "execution_count": 52,
   "metadata": {
    "scrolled": false
   },
   "outputs": [
    {
     "data": {
      "text/html": [
       "<div>\n",
       "<style scoped>\n",
       "    .dataframe tbody tr th:only-of-type {\n",
       "        vertical-align: middle;\n",
       "    }\n",
       "\n",
       "    .dataframe tbody tr th {\n",
       "        vertical-align: top;\n",
       "    }\n",
       "\n",
       "    .dataframe thead th {\n",
       "        text-align: right;\n",
       "    }\n",
       "</style>\n",
       "<table border=\"1\" class=\"dataframe\">\n",
       "  <thead>\n",
       "    <tr style=\"text-align: right;\">\n",
       "      <th></th>\n",
       "      <th>SonnetID</th>\n",
       "      <th>octave_0</th>\n",
       "      <th>octave_1</th>\n",
       "      <th>octave_9</th>\n",
       "      <th>sestet_0</th>\n",
       "      <th>sestet_1</th>\n",
       "      <th>sestet_9</th>\n",
       "      <th>o_act</th>\n",
       "      <th>s_act</th>\n",
       "      <th>oct0_m_ses0</th>\n",
       "      <th>oct1_m_ses1</th>\n",
       "    </tr>\n",
       "  </thead>\n",
       "  <tbody>\n",
       "    <tr>\n",
       "      <th>1</th>\n",
       "      <td>AgustinDeSalazarYTorres_10</td>\n",
       "      <td>4.0</td>\n",
       "      <td>4.0</td>\n",
       "      <td>0.0</td>\n",
       "      <td>3.0</td>\n",
       "      <td>3.0</td>\n",
       "      <td>0.0</td>\n",
       "      <td>8.0</td>\n",
       "      <td>6.0</td>\n",
       "      <td>1.0</td>\n",
       "      <td>1.0</td>\n",
       "    </tr>\n",
       "    <tr>\n",
       "      <th>2</th>\n",
       "      <td>AgustinDeSalazarYTorres_11</td>\n",
       "      <td>2.0</td>\n",
       "      <td>4.0</td>\n",
       "      <td>2.0</td>\n",
       "      <td>3.0</td>\n",
       "      <td>3.0</td>\n",
       "      <td>0.0</td>\n",
       "      <td>8.0</td>\n",
       "      <td>6.0</td>\n",
       "      <td>-1.0</td>\n",
       "      <td>1.0</td>\n",
       "    </tr>\n",
       "    <tr>\n",
       "      <th>4</th>\n",
       "      <td>AgustinDeSalazarYTorres_13</td>\n",
       "      <td>3.0</td>\n",
       "      <td>4.0</td>\n",
       "      <td>1.0</td>\n",
       "      <td>2.0</td>\n",
       "      <td>3.0</td>\n",
       "      <td>1.0</td>\n",
       "      <td>8.0</td>\n",
       "      <td>6.0</td>\n",
       "      <td>1.0</td>\n",
       "      <td>1.0</td>\n",
       "    </tr>\n",
       "    <tr>\n",
       "      <th>5</th>\n",
       "      <td>AgustinDeSalazarYTorres_14</td>\n",
       "      <td>1.0</td>\n",
       "      <td>7.0</td>\n",
       "      <td>0.0</td>\n",
       "      <td>2.0</td>\n",
       "      <td>4.0</td>\n",
       "      <td>0.0</td>\n",
       "      <td>8.0</td>\n",
       "      <td>6.0</td>\n",
       "      <td>-1.0</td>\n",
       "      <td>3.0</td>\n",
       "    </tr>\n",
       "    <tr>\n",
       "      <th>8</th>\n",
       "      <td>AgustinDeSalazarYTorres_17</td>\n",
       "      <td>1.0</td>\n",
       "      <td>5.0</td>\n",
       "      <td>2.0</td>\n",
       "      <td>2.0</td>\n",
       "      <td>4.0</td>\n",
       "      <td>0.0</td>\n",
       "      <td>8.0</td>\n",
       "      <td>6.0</td>\n",
       "      <td>-1.0</td>\n",
       "      <td>1.0</td>\n",
       "    </tr>\n",
       "    <tr>\n",
       "      <th>...</th>\n",
       "      <td>...</td>\n",
       "      <td>...</td>\n",
       "      <td>...</td>\n",
       "      <td>...</td>\n",
       "      <td>...</td>\n",
       "      <td>...</td>\n",
       "      <td>...</td>\n",
       "      <td>...</td>\n",
       "      <td>...</td>\n",
       "      <td>...</td>\n",
       "      <td>...</td>\n",
       "    </tr>\n",
       "    <tr>\n",
       "      <th>5804</th>\n",
       "      <td>s482g_1007</td>\n",
       "      <td>0.0</td>\n",
       "      <td>8.0</td>\n",
       "      <td>0.0</td>\n",
       "      <td>0.0</td>\n",
       "      <td>6.0</td>\n",
       "      <td>0.0</td>\n",
       "      <td>8.0</td>\n",
       "      <td>6.0</td>\n",
       "      <td>0.0</td>\n",
       "      <td>2.0</td>\n",
       "    </tr>\n",
       "    <tr>\n",
       "      <th>5806</th>\n",
       "      <td>s483g_1009</td>\n",
       "      <td>3.0</td>\n",
       "      <td>5.0</td>\n",
       "      <td>0.0</td>\n",
       "      <td>1.0</td>\n",
       "      <td>4.0</td>\n",
       "      <td>1.0</td>\n",
       "      <td>8.0</td>\n",
       "      <td>6.0</td>\n",
       "      <td>2.0</td>\n",
       "      <td>1.0</td>\n",
       "    </tr>\n",
       "    <tr>\n",
       "      <th>5808</th>\n",
       "      <td>s484g_1011</td>\n",
       "      <td>3.0</td>\n",
       "      <td>4.0</td>\n",
       "      <td>1.0</td>\n",
       "      <td>2.0</td>\n",
       "      <td>4.0</td>\n",
       "      <td>0.0</td>\n",
       "      <td>8.0</td>\n",
       "      <td>6.0</td>\n",
       "      <td>1.0</td>\n",
       "      <td>0.0</td>\n",
       "    </tr>\n",
       "    <tr>\n",
       "      <th>5809</th>\n",
       "      <td>s485g_1012</td>\n",
       "      <td>3.0</td>\n",
       "      <td>5.0</td>\n",
       "      <td>0.0</td>\n",
       "      <td>2.0</td>\n",
       "      <td>3.0</td>\n",
       "      <td>1.0</td>\n",
       "      <td>8.0</td>\n",
       "      <td>6.0</td>\n",
       "      <td>1.0</td>\n",
       "      <td>2.0</td>\n",
       "    </tr>\n",
       "    <tr>\n",
       "      <th>5811</th>\n",
       "      <td>s486g_1013_02</td>\n",
       "      <td>4.0</td>\n",
       "      <td>3.0</td>\n",
       "      <td>1.0</td>\n",
       "      <td>1.0</td>\n",
       "      <td>5.0</td>\n",
       "      <td>0.0</td>\n",
       "      <td>8.0</td>\n",
       "      <td>6.0</td>\n",
       "      <td>3.0</td>\n",
       "      <td>-2.0</td>\n",
       "    </tr>\n",
       "  </tbody>\n",
       "</table>\n",
       "<p>3902 rows × 11 columns</p>\n",
       "</div>"
      ],
      "text/plain": [
       "                        SonnetID  octave_0  octave_1  octave_9  sestet_0  \\\n",
       "1     AgustinDeSalazarYTorres_10       4.0       4.0       0.0       3.0   \n",
       "2     AgustinDeSalazarYTorres_11       2.0       4.0       2.0       3.0   \n",
       "4     AgustinDeSalazarYTorres_13       3.0       4.0       1.0       2.0   \n",
       "5     AgustinDeSalazarYTorres_14       1.0       7.0       0.0       2.0   \n",
       "8     AgustinDeSalazarYTorres_17       1.0       5.0       2.0       2.0   \n",
       "...                          ...       ...       ...       ...       ...   \n",
       "5804                  s482g_1007       0.0       8.0       0.0       0.0   \n",
       "5806                  s483g_1009       3.0       5.0       0.0       1.0   \n",
       "5808                  s484g_1011       3.0       4.0       1.0       2.0   \n",
       "5809                  s485g_1012       3.0       5.0       0.0       2.0   \n",
       "5811               s486g_1013_02       4.0       3.0       1.0       1.0   \n",
       "\n",
       "      sestet_1  sestet_9  o_act  s_act  oct0_m_ses0  oct1_m_ses1  \n",
       "1          3.0       0.0    8.0    6.0          1.0          1.0  \n",
       "2          3.0       0.0    8.0    6.0         -1.0          1.0  \n",
       "4          3.0       1.0    8.0    6.0          1.0          1.0  \n",
       "5          4.0       0.0    8.0    6.0         -1.0          3.0  \n",
       "8          4.0       0.0    8.0    6.0         -1.0          1.0  \n",
       "...        ...       ...    ...    ...          ...          ...  \n",
       "5804       6.0       0.0    8.0    6.0          0.0          2.0  \n",
       "5806       4.0       1.0    8.0    6.0          2.0          1.0  \n",
       "5808       4.0       0.0    8.0    6.0          1.0          0.0  \n",
       "5809       3.0       1.0    8.0    6.0          1.0          2.0  \n",
       "5811       5.0       0.0    8.0    6.0          3.0         -2.0  \n",
       "\n",
       "[3902 rows x 11 columns]"
      ]
     },
     "execution_count": 52,
     "metadata": {},
     "output_type": "execute_result"
    }
   ],
   "source": [
    "df3"
   ]
  },
  {
   "cell_type": "code",
   "execution_count": 53,
   "metadata": {
    "scrolled": true
   },
   "outputs": [
    {
     "name": "stderr",
     "output_type": "stream",
     "text": [
      "/tmp/ipykernel_687/3832211717.py:1: SettingWithCopyWarning: \n",
      "A value is trying to be set on a copy of a slice from a DataFrame.\n",
      "Try using .loc[row_indexer,col_indexer] = value instead\n",
      "\n",
      "See the caveats in the documentation: https://pandas.pydata.org/pandas-docs/stable/user_guide/indexing.html#returning-a-view-versus-a-copy\n",
      "  df3['oct1_m_ses0'] = df3['octave_1'] - df3['sestet_0']\n",
      "/tmp/ipykernel_687/3832211717.py:2: SettingWithCopyWarning: \n",
      "A value is trying to be set on a copy of a slice from a DataFrame.\n",
      "Try using .loc[row_indexer,col_indexer] = value instead\n",
      "\n",
      "See the caveats in the documentation: https://pandas.pydata.org/pandas-docs/stable/user_guide/indexing.html#returning-a-view-versus-a-copy\n",
      "  df3['oct0_m_ses1'] = df3['octave_0'] - df3['sestet_1']\n",
      "/tmp/ipykernel_687/3832211717.py:3: SettingWithCopyWarning: \n",
      "A value is trying to be set on a copy of a slice from a DataFrame.\n",
      "Try using .loc[row_indexer,col_indexer] = value instead\n",
      "\n",
      "See the caveats in the documentation: https://pandas.pydata.org/pandas-docs/stable/user_guide/indexing.html#returning-a-view-versus-a-copy\n",
      "  df3['oct1ses1_m_oct0ses0'] = df3['octave_1'] + df3['sestet_1'] - df3['octave_0'] - df3['sestet_0']\n"
     ]
    }
   ],
   "source": [
    "df3['oct1_m_ses0'] = df3['octave_1'] - df3['sestet_0']\n",
    "df3['oct0_m_ses1'] = df3['octave_0'] - df3['sestet_1']\n",
    "df3['oct1ses1_m_oct0ses0'] = df3['octave_1'] + df3['sestet_1'] - df3['octave_0'] - df3['sestet_0']"
   ]
  },
  {
   "cell_type": "code",
   "execution_count": 54,
   "metadata": {},
   "outputs": [
    {
     "data": {
      "text/html": [
       "<div>\n",
       "<style scoped>\n",
       "    .dataframe tbody tr th:only-of-type {\n",
       "        vertical-align: middle;\n",
       "    }\n",
       "\n",
       "    .dataframe tbody tr th {\n",
       "        vertical-align: top;\n",
       "    }\n",
       "\n",
       "    .dataframe thead th {\n",
       "        text-align: right;\n",
       "    }\n",
       "</style>\n",
       "<table border=\"1\" class=\"dataframe\">\n",
       "  <thead>\n",
       "    <tr style=\"text-align: right;\">\n",
       "      <th></th>\n",
       "      <th>SonnetID</th>\n",
       "      <th>octave_0</th>\n",
       "      <th>octave_1</th>\n",
       "      <th>octave_9</th>\n",
       "      <th>sestet_0</th>\n",
       "      <th>sestet_1</th>\n",
       "      <th>sestet_9</th>\n",
       "      <th>o_act</th>\n",
       "      <th>s_act</th>\n",
       "      <th>oct0_m_ses0</th>\n",
       "      <th>oct1_m_ses1</th>\n",
       "      <th>oct1_m_ses0</th>\n",
       "      <th>oct0_m_ses1</th>\n",
       "      <th>oct1ses1_m_oct0ses0</th>\n",
       "    </tr>\n",
       "  </thead>\n",
       "  <tbody>\n",
       "    <tr>\n",
       "      <th>1</th>\n",
       "      <td>AgustinDeSalazarYTorres_10</td>\n",
       "      <td>4.0</td>\n",
       "      <td>4.0</td>\n",
       "      <td>0.0</td>\n",
       "      <td>3.0</td>\n",
       "      <td>3.0</td>\n",
       "      <td>0.0</td>\n",
       "      <td>8.0</td>\n",
       "      <td>6.0</td>\n",
       "      <td>1.0</td>\n",
       "      <td>1.0</td>\n",
       "      <td>1.0</td>\n",
       "      <td>1.0</td>\n",
       "      <td>0.0</td>\n",
       "    </tr>\n",
       "    <tr>\n",
       "      <th>2</th>\n",
       "      <td>AgustinDeSalazarYTorres_11</td>\n",
       "      <td>2.0</td>\n",
       "      <td>4.0</td>\n",
       "      <td>2.0</td>\n",
       "      <td>3.0</td>\n",
       "      <td>3.0</td>\n",
       "      <td>0.0</td>\n",
       "      <td>8.0</td>\n",
       "      <td>6.0</td>\n",
       "      <td>-1.0</td>\n",
       "      <td>1.0</td>\n",
       "      <td>1.0</td>\n",
       "      <td>-1.0</td>\n",
       "      <td>2.0</td>\n",
       "    </tr>\n",
       "    <tr>\n",
       "      <th>4</th>\n",
       "      <td>AgustinDeSalazarYTorres_13</td>\n",
       "      <td>3.0</td>\n",
       "      <td>4.0</td>\n",
       "      <td>1.0</td>\n",
       "      <td>2.0</td>\n",
       "      <td>3.0</td>\n",
       "      <td>1.0</td>\n",
       "      <td>8.0</td>\n",
       "      <td>6.0</td>\n",
       "      <td>1.0</td>\n",
       "      <td>1.0</td>\n",
       "      <td>2.0</td>\n",
       "      <td>0.0</td>\n",
       "      <td>2.0</td>\n",
       "    </tr>\n",
       "    <tr>\n",
       "      <th>5</th>\n",
       "      <td>AgustinDeSalazarYTorres_14</td>\n",
       "      <td>1.0</td>\n",
       "      <td>7.0</td>\n",
       "      <td>0.0</td>\n",
       "      <td>2.0</td>\n",
       "      <td>4.0</td>\n",
       "      <td>0.0</td>\n",
       "      <td>8.0</td>\n",
       "      <td>6.0</td>\n",
       "      <td>-1.0</td>\n",
       "      <td>3.0</td>\n",
       "      <td>5.0</td>\n",
       "      <td>-3.0</td>\n",
       "      <td>8.0</td>\n",
       "    </tr>\n",
       "    <tr>\n",
       "      <th>8</th>\n",
       "      <td>AgustinDeSalazarYTorres_17</td>\n",
       "      <td>1.0</td>\n",
       "      <td>5.0</td>\n",
       "      <td>2.0</td>\n",
       "      <td>2.0</td>\n",
       "      <td>4.0</td>\n",
       "      <td>0.0</td>\n",
       "      <td>8.0</td>\n",
       "      <td>6.0</td>\n",
       "      <td>-1.0</td>\n",
       "      <td>1.0</td>\n",
       "      <td>3.0</td>\n",
       "      <td>-3.0</td>\n",
       "      <td>6.0</td>\n",
       "    </tr>\n",
       "    <tr>\n",
       "      <th>...</th>\n",
       "      <td>...</td>\n",
       "      <td>...</td>\n",
       "      <td>...</td>\n",
       "      <td>...</td>\n",
       "      <td>...</td>\n",
       "      <td>...</td>\n",
       "      <td>...</td>\n",
       "      <td>...</td>\n",
       "      <td>...</td>\n",
       "      <td>...</td>\n",
       "      <td>...</td>\n",
       "      <td>...</td>\n",
       "      <td>...</td>\n",
       "      <td>...</td>\n",
       "    </tr>\n",
       "    <tr>\n",
       "      <th>5804</th>\n",
       "      <td>s482g_1007</td>\n",
       "      <td>0.0</td>\n",
       "      <td>8.0</td>\n",
       "      <td>0.0</td>\n",
       "      <td>0.0</td>\n",
       "      <td>6.0</td>\n",
       "      <td>0.0</td>\n",
       "      <td>8.0</td>\n",
       "      <td>6.0</td>\n",
       "      <td>0.0</td>\n",
       "      <td>2.0</td>\n",
       "      <td>8.0</td>\n",
       "      <td>-6.0</td>\n",
       "      <td>14.0</td>\n",
       "    </tr>\n",
       "    <tr>\n",
       "      <th>5806</th>\n",
       "      <td>s483g_1009</td>\n",
       "      <td>3.0</td>\n",
       "      <td>5.0</td>\n",
       "      <td>0.0</td>\n",
       "      <td>1.0</td>\n",
       "      <td>4.0</td>\n",
       "      <td>1.0</td>\n",
       "      <td>8.0</td>\n",
       "      <td>6.0</td>\n",
       "      <td>2.0</td>\n",
       "      <td>1.0</td>\n",
       "      <td>4.0</td>\n",
       "      <td>-1.0</td>\n",
       "      <td>5.0</td>\n",
       "    </tr>\n",
       "    <tr>\n",
       "      <th>5808</th>\n",
       "      <td>s484g_1011</td>\n",
       "      <td>3.0</td>\n",
       "      <td>4.0</td>\n",
       "      <td>1.0</td>\n",
       "      <td>2.0</td>\n",
       "      <td>4.0</td>\n",
       "      <td>0.0</td>\n",
       "      <td>8.0</td>\n",
       "      <td>6.0</td>\n",
       "      <td>1.0</td>\n",
       "      <td>0.0</td>\n",
       "      <td>2.0</td>\n",
       "      <td>-1.0</td>\n",
       "      <td>3.0</td>\n",
       "    </tr>\n",
       "    <tr>\n",
       "      <th>5809</th>\n",
       "      <td>s485g_1012</td>\n",
       "      <td>3.0</td>\n",
       "      <td>5.0</td>\n",
       "      <td>0.0</td>\n",
       "      <td>2.0</td>\n",
       "      <td>3.0</td>\n",
       "      <td>1.0</td>\n",
       "      <td>8.0</td>\n",
       "      <td>6.0</td>\n",
       "      <td>1.0</td>\n",
       "      <td>2.0</td>\n",
       "      <td>3.0</td>\n",
       "      <td>0.0</td>\n",
       "      <td>3.0</td>\n",
       "    </tr>\n",
       "    <tr>\n",
       "      <th>5811</th>\n",
       "      <td>s486g_1013_02</td>\n",
       "      <td>4.0</td>\n",
       "      <td>3.0</td>\n",
       "      <td>1.0</td>\n",
       "      <td>1.0</td>\n",
       "      <td>5.0</td>\n",
       "      <td>0.0</td>\n",
       "      <td>8.0</td>\n",
       "      <td>6.0</td>\n",
       "      <td>3.0</td>\n",
       "      <td>-2.0</td>\n",
       "      <td>2.0</td>\n",
       "      <td>-1.0</td>\n",
       "      <td>3.0</td>\n",
       "    </tr>\n",
       "  </tbody>\n",
       "</table>\n",
       "<p>3902 rows × 14 columns</p>\n",
       "</div>"
      ],
      "text/plain": [
       "                        SonnetID  octave_0  octave_1  octave_9  sestet_0  \\\n",
       "1     AgustinDeSalazarYTorres_10       4.0       4.0       0.0       3.0   \n",
       "2     AgustinDeSalazarYTorres_11       2.0       4.0       2.0       3.0   \n",
       "4     AgustinDeSalazarYTorres_13       3.0       4.0       1.0       2.0   \n",
       "5     AgustinDeSalazarYTorres_14       1.0       7.0       0.0       2.0   \n",
       "8     AgustinDeSalazarYTorres_17       1.0       5.0       2.0       2.0   \n",
       "...                          ...       ...       ...       ...       ...   \n",
       "5804                  s482g_1007       0.0       8.0       0.0       0.0   \n",
       "5806                  s483g_1009       3.0       5.0       0.0       1.0   \n",
       "5808                  s484g_1011       3.0       4.0       1.0       2.0   \n",
       "5809                  s485g_1012       3.0       5.0       0.0       2.0   \n",
       "5811               s486g_1013_02       4.0       3.0       1.0       1.0   \n",
       "\n",
       "      sestet_1  sestet_9  o_act  s_act  oct0_m_ses0  oct1_m_ses1  oct1_m_ses0  \\\n",
       "1          3.0       0.0    8.0    6.0          1.0          1.0          1.0   \n",
       "2          3.0       0.0    8.0    6.0         -1.0          1.0          1.0   \n",
       "4          3.0       1.0    8.0    6.0          1.0          1.0          2.0   \n",
       "5          4.0       0.0    8.0    6.0         -1.0          3.0          5.0   \n",
       "8          4.0       0.0    8.0    6.0         -1.0          1.0          3.0   \n",
       "...        ...       ...    ...    ...          ...          ...          ...   \n",
       "5804       6.0       0.0    8.0    6.0          0.0          2.0          8.0   \n",
       "5806       4.0       1.0    8.0    6.0          2.0          1.0          4.0   \n",
       "5808       4.0       0.0    8.0    6.0          1.0          0.0          2.0   \n",
       "5809       3.0       1.0    8.0    6.0          1.0          2.0          3.0   \n",
       "5811       5.0       0.0    8.0    6.0          3.0         -2.0          2.0   \n",
       "\n",
       "      oct0_m_ses1  oct1ses1_m_oct0ses0  \n",
       "1             1.0                  0.0  \n",
       "2            -1.0                  2.0  \n",
       "4             0.0                  2.0  \n",
       "5            -3.0                  8.0  \n",
       "8            -3.0                  6.0  \n",
       "...           ...                  ...  \n",
       "5804         -6.0                 14.0  \n",
       "5806         -1.0                  5.0  \n",
       "5808         -1.0                  3.0  \n",
       "5809          0.0                  3.0  \n",
       "5811         -1.0                  3.0  \n",
       "\n",
       "[3902 rows x 14 columns]"
      ]
     },
     "execution_count": 54,
     "metadata": {},
     "output_type": "execute_result"
    }
   ],
   "source": [
    "df3"
   ]
  },
  {
   "cell_type": "code",
   "execution_count": 55,
   "metadata": {},
   "outputs": [],
   "source": [
    "#df3.to_csv(f\"../../data/octave_vs_sestet_valence_binary_omin{octave_min}_smin_{sestet_min}.tsv\", index=False, sep=\"\\t\")"
   ]
  },
  {
   "cell_type": "markdown",
   "metadata": {},
   "source": [
    "## Continuous values"
   ]
  },
  {
   "cell_type": "markdown",
   "metadata": {},
   "source": [
    "### Valence"
   ]
  },
  {
   "cell_type": "code",
   "execution_count": 56,
   "metadata": {},
   "outputs": [],
   "source": [
    "os_groups_cont = df.groupby(['SonnetID', 'OctSes'])['valence_call'].aggregate('mean').unstack()"
   ]
  },
  {
   "cell_type": "code",
   "execution_count": 57,
   "metadata": {
    "scrolled": true
   },
   "outputs": [
    {
     "data": {
      "text/html": [
       "<div>\n",
       "<style scoped>\n",
       "    .dataframe tbody tr th:only-of-type {\n",
       "        vertical-align: middle;\n",
       "    }\n",
       "\n",
       "    .dataframe tbody tr th {\n",
       "        vertical-align: top;\n",
       "    }\n",
       "\n",
       "    .dataframe thead th {\n",
       "        text-align: right;\n",
       "    }\n",
       "</style>\n",
       "<table border=\"1\" class=\"dataframe\">\n",
       "  <thead>\n",
       "    <tr style=\"text-align: right;\">\n",
       "      <th>OctSes</th>\n",
       "      <th>octave</th>\n",
       "      <th>sestet</th>\n",
       "    </tr>\n",
       "    <tr>\n",
       "      <th>SonnetID</th>\n",
       "      <th></th>\n",
       "      <th></th>\n",
       "    </tr>\n",
       "  </thead>\n",
       "  <tbody>\n",
       "    <tr>\n",
       "      <th>AgustinDeSalazarYTorres_1</th>\n",
       "      <td>0.625796</td>\n",
       "      <td>0.569639</td>\n",
       "    </tr>\n",
       "    <tr>\n",
       "      <th>AgustinDeSalazarYTorres_10</th>\n",
       "      <td>0.453651</td>\n",
       "      <td>0.424204</td>\n",
       "    </tr>\n",
       "    <tr>\n",
       "      <th>AgustinDeSalazarYTorres_11</th>\n",
       "      <td>0.577928</td>\n",
       "      <td>0.439066</td>\n",
       "    </tr>\n",
       "    <tr>\n",
       "      <th>AgustinDeSalazarYTorres_12</th>\n",
       "      <td>0.558726</td>\n",
       "      <td>0.558726</td>\n",
       "    </tr>\n",
       "    <tr>\n",
       "      <th>AgustinDeSalazarYTorres_13</th>\n",
       "      <td>0.464604</td>\n",
       "      <td>0.565704</td>\n",
       "    </tr>\n",
       "    <tr>\n",
       "      <th>...</th>\n",
       "      <td>...</td>\n",
       "      <td>...</td>\n",
       "    </tr>\n",
       "    <tr>\n",
       "      <th>s485g_1012</th>\n",
       "      <td>0.503328</td>\n",
       "      <td>0.454777</td>\n",
       "    </tr>\n",
       "    <tr>\n",
       "      <th>s486g_1013_01</th>\n",
       "      <td>0.470064</td>\n",
       "      <td>0.607643</td>\n",
       "    </tr>\n",
       "    <tr>\n",
       "      <th>s486g_1013_02</th>\n",
       "      <td>0.529152</td>\n",
       "      <td>0.508280</td>\n",
       "    </tr>\n",
       "    <tr>\n",
       "      <th>s487g_1014</th>\n",
       "      <td>0.677771</td>\n",
       "      <td>0.620382</td>\n",
       "    </tr>\n",
       "    <tr>\n",
       "      <th>s488g_1015</th>\n",
       "      <td>0.579076</td>\n",
       "      <td>0.681529</td>\n",
       "    </tr>\n",
       "  </tbody>\n",
       "</table>\n",
       "<p>5814 rows × 2 columns</p>\n",
       "</div>"
      ],
      "text/plain": [
       "OctSes                        octave    sestet\n",
       "SonnetID                                      \n",
       "AgustinDeSalazarYTorres_1   0.625796  0.569639\n",
       "AgustinDeSalazarYTorres_10  0.453651  0.424204\n",
       "AgustinDeSalazarYTorres_11  0.577928  0.439066\n",
       "AgustinDeSalazarYTorres_12  0.558726  0.558726\n",
       "AgustinDeSalazarYTorres_13  0.464604  0.565704\n",
       "...                              ...       ...\n",
       "s485g_1012                  0.503328  0.454777\n",
       "s486g_1013_01               0.470064  0.607643\n",
       "s486g_1013_02               0.529152  0.508280\n",
       "s487g_1014                  0.677771  0.620382\n",
       "s488g_1015                  0.579076  0.681529\n",
       "\n",
       "[5814 rows x 2 columns]"
      ]
     },
     "execution_count": 57,
     "metadata": {},
     "output_type": "execute_result"
    }
   ],
   "source": [
    "os_groups_cont"
   ]
  },
  {
   "cell_type": "code",
   "execution_count": 58,
   "metadata": {},
   "outputs": [],
   "source": [
    "os_groups_cont = os_groups_cont.rename_axis('SonnetID').reset_index()"
   ]
  },
  {
   "cell_type": "code",
   "execution_count": 59,
   "metadata": {},
   "outputs": [],
   "source": [
    "os_groups_cont.rename(columns={\"octave\": \"octave_val\", \"sestet\": \"sestet_val\"}, inplace=True)"
   ]
  },
  {
   "cell_type": "code",
   "execution_count": 60,
   "metadata": {},
   "outputs": [
    {
     "data": {
      "text/html": [
       "<div>\n",
       "<style scoped>\n",
       "    .dataframe tbody tr th:only-of-type {\n",
       "        vertical-align: middle;\n",
       "    }\n",
       "\n",
       "    .dataframe tbody tr th {\n",
       "        vertical-align: top;\n",
       "    }\n",
       "\n",
       "    .dataframe thead th {\n",
       "        text-align: right;\n",
       "    }\n",
       "</style>\n",
       "<table border=\"1\" class=\"dataframe\">\n",
       "  <thead>\n",
       "    <tr style=\"text-align: right;\">\n",
       "      <th>OctSes</th>\n",
       "      <th>SonnetID</th>\n",
       "      <th>octave_val</th>\n",
       "      <th>sestet_val</th>\n",
       "    </tr>\n",
       "  </thead>\n",
       "  <tbody>\n",
       "    <tr>\n",
       "      <th>0</th>\n",
       "      <td>AgustinDeSalazarYTorres_1</td>\n",
       "      <td>0.625796</td>\n",
       "      <td>0.569639</td>\n",
       "    </tr>\n",
       "    <tr>\n",
       "      <th>1</th>\n",
       "      <td>AgustinDeSalazarYTorres_10</td>\n",
       "      <td>0.453651</td>\n",
       "      <td>0.424204</td>\n",
       "    </tr>\n",
       "    <tr>\n",
       "      <th>2</th>\n",
       "      <td>AgustinDeSalazarYTorres_11</td>\n",
       "      <td>0.577928</td>\n",
       "      <td>0.439066</td>\n",
       "    </tr>\n",
       "    <tr>\n",
       "      <th>3</th>\n",
       "      <td>AgustinDeSalazarYTorres_12</td>\n",
       "      <td>0.558726</td>\n",
       "      <td>0.558726</td>\n",
       "    </tr>\n",
       "    <tr>\n",
       "      <th>4</th>\n",
       "      <td>AgustinDeSalazarYTorres_13</td>\n",
       "      <td>0.464604</td>\n",
       "      <td>0.565704</td>\n",
       "    </tr>\n",
       "    <tr>\n",
       "      <th>...</th>\n",
       "      <td>...</td>\n",
       "      <td>...</td>\n",
       "      <td>...</td>\n",
       "    </tr>\n",
       "    <tr>\n",
       "      <th>5809</th>\n",
       "      <td>s485g_1012</td>\n",
       "      <td>0.503328</td>\n",
       "      <td>0.454777</td>\n",
       "    </tr>\n",
       "    <tr>\n",
       "      <th>5810</th>\n",
       "      <td>s486g_1013_01</td>\n",
       "      <td>0.470064</td>\n",
       "      <td>0.607643</td>\n",
       "    </tr>\n",
       "    <tr>\n",
       "      <th>5811</th>\n",
       "      <td>s486g_1013_02</td>\n",
       "      <td>0.529152</td>\n",
       "      <td>0.508280</td>\n",
       "    </tr>\n",
       "    <tr>\n",
       "      <th>5812</th>\n",
       "      <td>s487g_1014</td>\n",
       "      <td>0.677771</td>\n",
       "      <td>0.620382</td>\n",
       "    </tr>\n",
       "    <tr>\n",
       "      <th>5813</th>\n",
       "      <td>s488g_1015</td>\n",
       "      <td>0.579076</td>\n",
       "      <td>0.681529</td>\n",
       "    </tr>\n",
       "  </tbody>\n",
       "</table>\n",
       "<p>5814 rows × 3 columns</p>\n",
       "</div>"
      ],
      "text/plain": [
       "OctSes                    SonnetID  octave_val  sestet_val\n",
       "0        AgustinDeSalazarYTorres_1    0.625796    0.569639\n",
       "1       AgustinDeSalazarYTorres_10    0.453651    0.424204\n",
       "2       AgustinDeSalazarYTorres_11    0.577928    0.439066\n",
       "3       AgustinDeSalazarYTorres_12    0.558726    0.558726\n",
       "4       AgustinDeSalazarYTorres_13    0.464604    0.565704\n",
       "...                            ...         ...         ...\n",
       "5809                    s485g_1012    0.503328    0.454777\n",
       "5810                 s486g_1013_01    0.470064    0.607643\n",
       "5811                 s486g_1013_02    0.529152    0.508280\n",
       "5812                    s487g_1014    0.677771    0.620382\n",
       "5813                    s488g_1015    0.579076    0.681529\n",
       "\n",
       "[5814 rows x 3 columns]"
      ]
     },
     "execution_count": 60,
     "metadata": {},
     "output_type": "execute_result"
    }
   ],
   "source": [
    "os_groups_cont"
   ]
  },
  {
   "cell_type": "code",
   "execution_count": 61,
   "metadata": {
    "scrolled": true
   },
   "outputs": [
    {
     "data": {
      "text/html": [
       "<div>\n",
       "<style scoped>\n",
       "    .dataframe tbody tr th:only-of-type {\n",
       "        vertical-align: middle;\n",
       "    }\n",
       "\n",
       "    .dataframe tbody tr th {\n",
       "        vertical-align: top;\n",
       "    }\n",
       "\n",
       "    .dataframe thead th {\n",
       "        text-align: right;\n",
       "    }\n",
       "</style>\n",
       "<table border=\"1\" class=\"dataframe\">\n",
       "  <thead>\n",
       "    <tr style=\"text-align: right;\">\n",
       "      <th>OctSes</th>\n",
       "      <th>SonnetID</th>\n",
       "      <th>octave_val</th>\n",
       "      <th>sestet_val</th>\n",
       "    </tr>\n",
       "  </thead>\n",
       "  <tbody>\n",
       "    <tr>\n",
       "      <th>0</th>\n",
       "      <td>AgustinDeSalazarYTorres_1</td>\n",
       "      <td>0.625796</td>\n",
       "      <td>0.569639</td>\n",
       "    </tr>\n",
       "    <tr>\n",
       "      <th>1</th>\n",
       "      <td>AgustinDeSalazarYTorres_10</td>\n",
       "      <td>0.453651</td>\n",
       "      <td>0.424204</td>\n",
       "    </tr>\n",
       "    <tr>\n",
       "      <th>2</th>\n",
       "      <td>AgustinDeSalazarYTorres_11</td>\n",
       "      <td>0.577928</td>\n",
       "      <td>0.439066</td>\n",
       "    </tr>\n",
       "    <tr>\n",
       "      <th>3</th>\n",
       "      <td>AgustinDeSalazarYTorres_12</td>\n",
       "      <td>0.558726</td>\n",
       "      <td>0.558726</td>\n",
       "    </tr>\n",
       "    <tr>\n",
       "      <th>4</th>\n",
       "      <td>AgustinDeSalazarYTorres_13</td>\n",
       "      <td>0.464604</td>\n",
       "      <td>0.565704</td>\n",
       "    </tr>\n",
       "    <tr>\n",
       "      <th>...</th>\n",
       "      <td>...</td>\n",
       "      <td>...</td>\n",
       "      <td>...</td>\n",
       "    </tr>\n",
       "    <tr>\n",
       "      <th>5809</th>\n",
       "      <td>s485g_1012</td>\n",
       "      <td>0.503328</td>\n",
       "      <td>0.454777</td>\n",
       "    </tr>\n",
       "    <tr>\n",
       "      <th>5810</th>\n",
       "      <td>s486g_1013_01</td>\n",
       "      <td>0.470064</td>\n",
       "      <td>0.607643</td>\n",
       "    </tr>\n",
       "    <tr>\n",
       "      <th>5811</th>\n",
       "      <td>s486g_1013_02</td>\n",
       "      <td>0.529152</td>\n",
       "      <td>0.508280</td>\n",
       "    </tr>\n",
       "    <tr>\n",
       "      <th>5812</th>\n",
       "      <td>s487g_1014</td>\n",
       "      <td>0.677771</td>\n",
       "      <td>0.620382</td>\n",
       "    </tr>\n",
       "    <tr>\n",
       "      <th>5813</th>\n",
       "      <td>s488g_1015</td>\n",
       "      <td>0.579076</td>\n",
       "      <td>0.681529</td>\n",
       "    </tr>\n",
       "  </tbody>\n",
       "</table>\n",
       "<p>5814 rows × 3 columns</p>\n",
       "</div>"
      ],
      "text/plain": [
       "OctSes                    SonnetID  octave_val  sestet_val\n",
       "0        AgustinDeSalazarYTorres_1    0.625796    0.569639\n",
       "1       AgustinDeSalazarYTorres_10    0.453651    0.424204\n",
       "2       AgustinDeSalazarYTorres_11    0.577928    0.439066\n",
       "3       AgustinDeSalazarYTorres_12    0.558726    0.558726\n",
       "4       AgustinDeSalazarYTorres_13    0.464604    0.565704\n",
       "...                            ...         ...         ...\n",
       "5809                    s485g_1012    0.503328    0.454777\n",
       "5810                 s486g_1013_01    0.470064    0.607643\n",
       "5811                 s486g_1013_02    0.529152    0.508280\n",
       "5812                    s487g_1014    0.677771    0.620382\n",
       "5813                    s488g_1015    0.579076    0.681529\n",
       "\n",
       "[5814 rows x 3 columns]"
      ]
     },
     "execution_count": 61,
     "metadata": {},
     "output_type": "execute_result"
    }
   ],
   "source": [
    "os_groups_cont"
   ]
  },
  {
   "cell_type": "code",
   "execution_count": 62,
   "metadata": {
    "scrolled": false
   },
   "outputs": [
    {
     "name": "stdout",
     "output_type": "stream",
     "text": [
      "<class 'pandas.core.frame.DataFrame'>\n",
      "RangeIndex: 5814 entries, 0 to 5813\n",
      "Data columns (total 3 columns):\n",
      " #   Column      Non-Null Count  Dtype  \n",
      "---  ------      --------------  -----  \n",
      " 0   SonnetID    5814 non-null   object \n",
      " 1   octave_val  5803 non-null   float64\n",
      " 2   sestet_val  5797 non-null   float64\n",
      "dtypes: float64(2), object(1)\n",
      "memory usage: 136.4+ KB\n"
     ]
    }
   ],
   "source": [
    "os_groups_cont.info()"
   ]
  },
  {
   "cell_type": "code",
   "execution_count": 63,
   "metadata": {
    "scrolled": true
   },
   "outputs": [
    {
     "data": {
      "text/plain": [
       "array([[<AxesSubplot:title={'center':'octave_val'}>,\n",
       "        <AxesSubplot:title={'center':'sestet_val'}>]], dtype=object)"
      ]
     },
     "execution_count": 63,
     "metadata": {},
     "output_type": "execute_result"
    },
    {
     "data": {
      "image/png": "[encoded data removed]",
      "text/plain": [
       "<Figure size 432x288 with 2 Axes>"
      ]
     },
     "metadata": {
      "needs_background": "light"
     },
     "output_type": "display_data"
    }
   ],
   "source": [
    "os_groups_cont.hist(column=['octave_val', 'sestet_val'], bins=10)"
   ]
  },
  {
   "cell_type": "code",
   "execution_count": 64,
   "metadata": {
    "scrolled": true
   },
   "outputs": [
    {
     "data": {
      "text/html": [
       "<div>\n",
       "<style scoped>\n",
       "    .dataframe tbody tr th:only-of-type {\n",
       "        vertical-align: middle;\n",
       "    }\n",
       "\n",
       "    .dataframe tbody tr th {\n",
       "        vertical-align: top;\n",
       "    }\n",
       "\n",
       "    .dataframe thead th {\n",
       "        text-align: right;\n",
       "    }\n",
       "</style>\n",
       "<table border=\"1\" class=\"dataframe\">\n",
       "  <thead>\n",
       "    <tr style=\"text-align: right;\">\n",
       "      <th>OctSes</th>\n",
       "      <th>octave_val</th>\n",
       "      <th>sestet_val</th>\n",
       "    </tr>\n",
       "  </thead>\n",
       "  <tbody>\n",
       "    <tr>\n",
       "      <th>count</th>\n",
       "      <td>5803.000000</td>\n",
       "      <td>5797.000000</td>\n",
       "    </tr>\n",
       "    <tr>\n",
       "      <th>mean</th>\n",
       "      <td>0.550507</td>\n",
       "      <td>0.550323</td>\n",
       "    </tr>\n",
       "    <tr>\n",
       "      <th>std</th>\n",
       "      <td>0.091883</td>\n",
       "      <td>0.106395</td>\n",
       "    </tr>\n",
       "    <tr>\n",
       "      <th>min</th>\n",
       "      <td>0.146497</td>\n",
       "      <td>0.038217</td>\n",
       "    </tr>\n",
       "    <tr>\n",
       "      <th>25%</th>\n",
       "      <td>0.490731</td>\n",
       "      <td>0.479745</td>\n",
       "    </tr>\n",
       "    <tr>\n",
       "      <th>50%</th>\n",
       "      <td>0.554686</td>\n",
       "      <td>0.556688</td>\n",
       "    </tr>\n",
       "    <tr>\n",
       "      <th>75%</th>\n",
       "      <td>0.614192</td>\n",
       "      <td>0.626527</td>\n",
       "    </tr>\n",
       "    <tr>\n",
       "      <th>max</th>\n",
       "      <td>0.839822</td>\n",
       "      <td>0.917197</td>\n",
       "    </tr>\n",
       "  </tbody>\n",
       "</table>\n",
       "</div>"
      ],
      "text/plain": [
       "OctSes   octave_val   sestet_val\n",
       "count   5803.000000  5797.000000\n",
       "mean       0.550507     0.550323\n",
       "std        0.091883     0.106395\n",
       "min        0.146497     0.038217\n",
       "25%        0.490731     0.479745\n",
       "50%        0.554686     0.556688\n",
       "75%        0.614192     0.626527\n",
       "max        0.839822     0.917197"
      ]
     },
     "execution_count": 64,
     "metadata": {},
     "output_type": "execute_result"
    }
   ],
   "source": [
    "os_groups_cont[['octave_val', 'sestet_val']].describe(include='all')"
   ]
  },
  {
   "cell_type": "markdown",
   "metadata": {},
   "source": [
    "More extreme values in sestet may be coherent with more intensity"
   ]
  },
  {
   "cell_type": "code",
   "execution_count": 65,
   "metadata": {},
   "outputs": [],
   "source": [
    "from scipy.stats import wilcoxon, ttest_ind, mannwhitneyu"
   ]
  },
  {
   "cell_type": "code",
   "execution_count": 66,
   "metadata": {},
   "outputs": [
    {
     "data": {
      "text/plain": [
       "Ttest_indResult(statistic=0.09964919596369079, pvalue=0.9206245947324886)"
      ]
     },
     "execution_count": 66,
     "metadata": {},
     "output_type": "execute_result"
    }
   ],
   "source": [
    "ttest_ind(os_groups_cont['octave_val'], os_groups_cont['sestet_val'], nan_policy='omit', equal_var=False)"
   ]
  },
  {
   "cell_type": "code",
   "execution_count": 67,
   "metadata": {},
   "outputs": [
    {
     "data": {
      "text/plain": [
       "WilcoxonResult(statistic=8313723.5, pvalue=0.6204410814756951)"
      ]
     },
     "execution_count": 67,
     "metadata": {},
     "output_type": "execute_result"
    }
   ],
   "source": [
    "wilcoxon(os_groups_cont['octave_val'], os_groups_cont['sestet_val'], nan_policy='omit')"
   ]
  },
  {
   "cell_type": "markdown",
   "metadata": {},
   "source": [
    "#### Valence restricting to sonnets with number of available valence values in octave and sestet above a given value"
   ]
  },
  {
   "cell_type": "markdown",
   "metadata": {},
   "source": [
    "`df3` is filtered to keep only sonnets above threshold, and only cases of 8+6"
   ]
  },
  {
   "cell_type": "code",
   "execution_count": 68,
   "metadata": {},
   "outputs": [],
   "source": [
    "merge_bin_val = pd.merge(df3, os_groups_cont, on='SonnetID')"
   ]
  },
  {
   "cell_type": "code",
   "execution_count": 69,
   "metadata": {},
   "outputs": [
    {
     "data": {
      "text/plain": [
       "MannwhitneyuResult(statistic=7507818.0, pvalue=0.29144142597014544)"
      ]
     },
     "execution_count": 69,
     "metadata": {},
     "output_type": "execute_result"
    }
   ],
   "source": [
    "mannwhitneyu(merge_bin_val['octave_val'], merge_bin_val['sestet_val'], nan_policy='omit')"
   ]
  },
  {
   "cell_type": "code",
   "execution_count": 70,
   "metadata": {},
   "outputs": [
    {
     "data": {
      "text/plain": [
       "WilcoxonResult(statistic=3767699.5, pvalue=0.5917715615043528)"
      ]
     },
     "execution_count": 70,
     "metadata": {},
     "output_type": "execute_result"
    }
   ],
   "source": [
    "wilcoxon(merge_bin_val['octave_val'], merge_bin_val['sestet_val'], nan_policy='omit')"
   ]
  },
  {
   "cell_type": "code",
   "execution_count": 71,
   "metadata": {
    "scrolled": true
   },
   "outputs": [
    {
     "data": {
      "text/html": [
       "<div>\n",
       "<style scoped>\n",
       "    .dataframe tbody tr th:only-of-type {\n",
       "        vertical-align: middle;\n",
       "    }\n",
       "\n",
       "    .dataframe tbody tr th {\n",
       "        vertical-align: top;\n",
       "    }\n",
       "\n",
       "    .dataframe thead th {\n",
       "        text-align: right;\n",
       "    }\n",
       "</style>\n",
       "<table border=\"1\" class=\"dataframe\">\n",
       "  <thead>\n",
       "    <tr style=\"text-align: right;\">\n",
       "      <th></th>\n",
       "      <th>octave_val</th>\n",
       "      <th>sestet_val</th>\n",
       "    </tr>\n",
       "  </thead>\n",
       "  <tbody>\n",
       "    <tr>\n",
       "      <th>count</th>\n",
       "      <td>3902.000000</td>\n",
       "      <td>3902.000000</td>\n",
       "    </tr>\n",
       "    <tr>\n",
       "      <th>mean</th>\n",
       "      <td>0.549771</td>\n",
       "      <td>0.550188</td>\n",
       "    </tr>\n",
       "    <tr>\n",
       "      <th>std</th>\n",
       "      <td>0.089160</td>\n",
       "      <td>0.103035</td>\n",
       "    </tr>\n",
       "    <tr>\n",
       "      <th>min</th>\n",
       "      <td>0.224932</td>\n",
       "      <td>0.201901</td>\n",
       "    </tr>\n",
       "    <tr>\n",
       "      <th>25%</th>\n",
       "      <td>0.491613</td>\n",
       "      <td>0.481529</td>\n",
       "    </tr>\n",
       "    <tr>\n",
       "      <th>50%</th>\n",
       "      <td>0.554158</td>\n",
       "      <td>0.556411</td>\n",
       "    </tr>\n",
       "    <tr>\n",
       "      <th>75%</th>\n",
       "      <td>0.610190</td>\n",
       "      <td>0.624416</td>\n",
       "    </tr>\n",
       "    <tr>\n",
       "      <th>max</th>\n",
       "      <td>0.824582</td>\n",
       "      <td>0.858828</td>\n",
       "    </tr>\n",
       "  </tbody>\n",
       "</table>\n",
       "</div>"
      ],
      "text/plain": [
       "        octave_val   sestet_val\n",
       "count  3902.000000  3902.000000\n",
       "mean      0.549771     0.550188\n",
       "std       0.089160     0.103035\n",
       "min       0.224932     0.201901\n",
       "25%       0.491613     0.481529\n",
       "50%       0.554158     0.556411\n",
       "75%       0.610190     0.624416\n",
       "max       0.824582     0.858828"
      ]
     },
     "execution_count": 71,
     "metadata": {},
     "output_type": "execute_result"
    }
   ],
   "source": [
    "merge_bin_val[['octave_val', 'sestet_val']].describe(include='all')"
   ]
  },
  {
   "cell_type": "code",
   "execution_count": 72,
   "metadata": {},
   "outputs": [
    {
     "data": {
      "text/plain": [
       "3902"
      ]
     },
     "execution_count": 72,
     "metadata": {},
     "output_type": "execute_result"
    }
   ],
   "source": [
    "len(merge_bin_val)"
   ]
  },
  {
   "cell_type": "code",
   "execution_count": 252,
   "metadata": {},
   "outputs": [
    {
     "data": {
      "image/png": "[encoded data removed]",
      "text/plain": [
       "<Figure size 432x288 with 1 Axes>"
      ]
     },
     "metadata": {
      "needs_background": "light"
     },
     "output_type": "display_data"
    }
   ],
   "source": [
    "#merge_bin_val.boxplot(column=['octave_val', 'sestet_val'])\n",
    "axval = merge_bin_val.boxplot(column=['octave_val', 'sestet_val'])\n",
    "axval.set(ylim=(0.15,0.9))\n",
    "axval.set(title='Valence in octave vs. sestet')\n",
    "plt.savefig(\"../../data/valence_os.png\", dpi=300)"
   ]
  },
  {
   "cell_type": "markdown",
   "metadata": {},
   "source": [
    "Before restricting to poems where have a number of valence values higher than a threshold is below here:"
   ]
  },
  {
   "cell_type": "code",
   "execution_count": 74,
   "metadata": {},
   "outputs": [
    {
     "data": {
      "text/plain": [
       "<AxesSubplot:>"
      ]
     },
     "execution_count": 74,
     "metadata": {},
     "output_type": "execute_result"
    },
    {
     "data": {
      "image/png": "[encoded data removed]",
      "text/plain": [
       "<Figure size 432x288 with 1 Axes>"
      ]
     },
     "metadata": {
      "needs_background": "light"
     },
     "output_type": "display_data"
    }
   ],
   "source": [
    "os_groups_cont.boxplot(column=['octave_val', 'sestet_val'])"
   ]
  },
  {
   "cell_type": "markdown",
   "metadata": {},
   "source": [
    "### Arousal"
   ]
  },
  {
   "cell_type": "code",
   "execution_count": 75,
   "metadata": {},
   "outputs": [],
   "source": [
    "os_groups_aro_cont = df.groupby(['SonnetID', 'OctSes'])['arousal_call'].aggregate('mean').unstack()"
   ]
  },
  {
   "cell_type": "code",
   "execution_count": 76,
   "metadata": {},
   "outputs": [],
   "source": [
    "os_groups_aro_cont = os_groups_aro_cont.rename_axis('SonnetID').reset_index()"
   ]
  },
  {
   "cell_type": "code",
   "execution_count": 77,
   "metadata": {},
   "outputs": [],
   "source": [
    "os_groups_aro_cont.rename(columns={\"octave\": \"octave_aro\", \"sestet\": \"sestet_aro\"}, inplace=True)"
   ]
  },
  {
   "cell_type": "code",
   "execution_count": 78,
   "metadata": {
    "scrolled": true
   },
   "outputs": [
    {
     "data": {
      "text/html": [
       "<div>\n",
       "<style scoped>\n",
       "    .dataframe tbody tr th:only-of-type {\n",
       "        vertical-align: middle;\n",
       "    }\n",
       "\n",
       "    .dataframe tbody tr th {\n",
       "        vertical-align: top;\n",
       "    }\n",
       "\n",
       "    .dataframe thead th {\n",
       "        text-align: right;\n",
       "    }\n",
       "</style>\n",
       "<table border=\"1\" class=\"dataframe\">\n",
       "  <thead>\n",
       "    <tr style=\"text-align: right;\">\n",
       "      <th>OctSes</th>\n",
       "      <th>SonnetID</th>\n",
       "      <th>octave_aro</th>\n",
       "      <th>sestet_aro</th>\n",
       "    </tr>\n",
       "  </thead>\n",
       "  <tbody>\n",
       "    <tr>\n",
       "      <th>0</th>\n",
       "      <td>AgustinDeSalazarYTorres_1</td>\n",
       "      <td>0.418440</td>\n",
       "      <td>0.520095</td>\n",
       "    </tr>\n",
       "    <tr>\n",
       "      <th>1</th>\n",
       "      <td>AgustinDeSalazarYTorres_10</td>\n",
       "      <td>0.617110</td>\n",
       "      <td>0.604019</td>\n",
       "    </tr>\n",
       "    <tr>\n",
       "      <th>2</th>\n",
       "      <td>AgustinDeSalazarYTorres_11</td>\n",
       "      <td>0.514401</td>\n",
       "      <td>0.690307</td>\n",
       "    </tr>\n",
       "    <tr>\n",
       "      <th>3</th>\n",
       "      <td>AgustinDeSalazarYTorres_12</td>\n",
       "      <td>0.480567</td>\n",
       "      <td>0.591489</td>\n",
       "    </tr>\n",
       "    <tr>\n",
       "      <th>4</th>\n",
       "      <td>AgustinDeSalazarYTorres_13</td>\n",
       "      <td>0.570415</td>\n",
       "      <td>0.576409</td>\n",
       "    </tr>\n",
       "    <tr>\n",
       "      <th>...</th>\n",
       "      <td>...</td>\n",
       "      <td>...</td>\n",
       "      <td>...</td>\n",
       "    </tr>\n",
       "    <tr>\n",
       "      <th>5809</th>\n",
       "      <td>s485g_1012</td>\n",
       "      <td>0.628194</td>\n",
       "      <td>0.634894</td>\n",
       "    </tr>\n",
       "    <tr>\n",
       "      <th>5810</th>\n",
       "      <td>s486g_1013_01</td>\n",
       "      <td>0.520567</td>\n",
       "      <td>0.521418</td>\n",
       "    </tr>\n",
       "    <tr>\n",
       "      <th>5811</th>\n",
       "      <td>s486g_1013_02</td>\n",
       "      <td>0.505437</td>\n",
       "      <td>0.603546</td>\n",
       "    </tr>\n",
       "    <tr>\n",
       "      <th>5812</th>\n",
       "      <td>s487g_1014</td>\n",
       "      <td>0.532023</td>\n",
       "      <td>0.584681</td>\n",
       "    </tr>\n",
       "    <tr>\n",
       "      <th>5813</th>\n",
       "      <td>s488g_1015</td>\n",
       "      <td>0.591518</td>\n",
       "      <td>0.570922</td>\n",
       "    </tr>\n",
       "  </tbody>\n",
       "</table>\n",
       "<p>5814 rows × 3 columns</p>\n",
       "</div>"
      ],
      "text/plain": [
       "OctSes                    SonnetID  octave_aro  sestet_aro\n",
       "0        AgustinDeSalazarYTorres_1    0.418440    0.520095\n",
       "1       AgustinDeSalazarYTorres_10    0.617110    0.604019\n",
       "2       AgustinDeSalazarYTorres_11    0.514401    0.690307\n",
       "3       AgustinDeSalazarYTorres_12    0.480567    0.591489\n",
       "4       AgustinDeSalazarYTorres_13    0.570415    0.576409\n",
       "...                            ...         ...         ...\n",
       "5809                    s485g_1012    0.628194    0.634894\n",
       "5810                 s486g_1013_01    0.520567    0.521418\n",
       "5811                 s486g_1013_02    0.505437    0.603546\n",
       "5812                    s487g_1014    0.532023    0.584681\n",
       "5813                    s488g_1015    0.591518    0.570922\n",
       "\n",
       "[5814 rows x 3 columns]"
      ]
     },
     "execution_count": 78,
     "metadata": {},
     "output_type": "execute_result"
    }
   ],
   "source": [
    "os_groups_aro_cont"
   ]
  },
  {
   "cell_type": "code",
   "execution_count": 79,
   "metadata": {
    "scrolled": true
   },
   "outputs": [
    {
     "data": {
      "text/plain": [
       "array([[<AxesSubplot:title={'center':'octave_aro'}>,\n",
       "        <AxesSubplot:title={'center':'sestet_aro'}>]], dtype=object)"
      ]
     },
     "execution_count": 79,
     "metadata": {},
     "output_type": "execute_result"
    },
    {
     "data": {
      "image/png": "[encoded data removed]",
      "text/plain": [
       "<Figure size 432x288 with 2 Axes>"
      ]
     },
     "metadata": {
      "needs_background": "light"
     },
     "output_type": "display_data"
    }
   ],
   "source": [
    "os_groups_aro_cont.hist(column=['octave_aro', 'sestet_aro'], bins=10)"
   ]
  },
  {
   "cell_type": "code",
   "execution_count": 80,
   "metadata": {},
   "outputs": [
    {
     "data": {
      "text/html": [
       "<div>\n",
       "<style scoped>\n",
       "    .dataframe tbody tr th:only-of-type {\n",
       "        vertical-align: middle;\n",
       "    }\n",
       "\n",
       "    .dataframe tbody tr th {\n",
       "        vertical-align: top;\n",
       "    }\n",
       "\n",
       "    .dataframe thead th {\n",
       "        text-align: right;\n",
       "    }\n",
       "</style>\n",
       "<table border=\"1\" class=\"dataframe\">\n",
       "  <thead>\n",
       "    <tr style=\"text-align: right;\">\n",
       "      <th>OctSes</th>\n",
       "      <th>octave_aro</th>\n",
       "      <th>sestet_aro</th>\n",
       "    </tr>\n",
       "  </thead>\n",
       "  <tbody>\n",
       "    <tr>\n",
       "      <th>count</th>\n",
       "      <td>5803.000000</td>\n",
       "      <td>5796.000000</td>\n",
       "    </tr>\n",
       "    <tr>\n",
       "      <th>mean</th>\n",
       "      <td>0.559036</td>\n",
       "      <td>0.567289</td>\n",
       "    </tr>\n",
       "    <tr>\n",
       "      <th>std</th>\n",
       "      <td>0.069385</td>\n",
       "      <td>0.078913</td>\n",
       "    </tr>\n",
       "    <tr>\n",
       "      <th>min</th>\n",
       "      <td>0.297872</td>\n",
       "      <td>0.278684</td>\n",
       "    </tr>\n",
       "    <tr>\n",
       "      <th>25%</th>\n",
       "      <td>0.511677</td>\n",
       "      <td>0.513475</td>\n",
       "    </tr>\n",
       "    <tr>\n",
       "      <th>50%</th>\n",
       "      <td>0.555556</td>\n",
       "      <td>0.565025</td>\n",
       "    </tr>\n",
       "    <tr>\n",
       "      <th>75%</th>\n",
       "      <td>0.603850</td>\n",
       "      <td>0.617021</td>\n",
       "    </tr>\n",
       "    <tr>\n",
       "      <th>max</th>\n",
       "      <td>0.845390</td>\n",
       "      <td>0.926241</td>\n",
       "    </tr>\n",
       "  </tbody>\n",
       "</table>\n",
       "</div>"
      ],
      "text/plain": [
       "OctSes   octave_aro   sestet_aro\n",
       "count   5803.000000  5796.000000\n",
       "mean       0.559036     0.567289\n",
       "std        0.069385     0.078913\n",
       "min        0.297872     0.278684\n",
       "25%        0.511677     0.513475\n",
       "50%        0.555556     0.565025\n",
       "75%        0.603850     0.617021\n",
       "max        0.845390     0.926241"
      ]
     },
     "execution_count": 80,
     "metadata": {},
     "output_type": "execute_result"
    }
   ],
   "source": [
    "os_groups_aro_cont[['octave_aro', 'sestet_aro']].describe(include='all')"
   ]
  },
  {
   "cell_type": "code",
   "execution_count": 81,
   "metadata": {},
   "outputs": [],
   "source": [
    "from scipy.stats import ttest_ind, mannwhitneyu, levene"
   ]
  },
  {
   "cell_type": "code",
   "execution_count": 82,
   "metadata": {},
   "outputs": [],
   "source": [
    "def repna(x):\n",
    "    return "
   ]
  },
  {
   "cell_type": "code",
   "execution_count": 83,
   "metadata": {},
   "outputs": [
    {
     "data": {
      "text/plain": [
       "0.5590364932567575"
      ]
     },
     "execution_count": 83,
     "metadata": {},
     "output_type": "execute_result"
    }
   ],
   "source": [
    "np.mean(os_groups_aro_cont['octave_aro'])"
   ]
  },
  {
   "cell_type": "code",
   "execution_count": 84,
   "metadata": {},
   "outputs": [
    {
     "data": {
      "text/plain": [
       "LeveneResult(statistic=74.41467141134197, pvalue=7.15138261513861e-18)"
      ]
     },
     "execution_count": 84,
     "metadata": {},
     "output_type": "execute_result"
    }
   ],
   "source": [
    "levene(os_groups_aro_cont['octave_aro'].apply(lambda x:x if not pd.isna(x) else np.mean(os_groups_aro_cont['octave_aro'])), os_groups_aro_cont['sestet_aro'].apply(lambda x:x if not pd.isna(x) else np.mean(os_groups_aro_cont['sestet_aro'])), center= 'mean')"
   ]
  },
  {
   "cell_type": "code",
   "execution_count": 85,
   "metadata": {},
   "outputs": [
    {
     "data": {
      "text/plain": [
       "Ttest_indResult(statistic=-5.981382951029345, pvalue=2.2777468960097984e-09)"
      ]
     },
     "execution_count": 85,
     "metadata": {},
     "output_type": "execute_result"
    }
   ],
   "source": [
    "ttest_ind(os_groups_aro_cont['octave_aro'], os_groups_aro_cont['sestet_aro'], nan_policy='omit')"
   ]
  },
  {
   "cell_type": "code",
   "execution_count": 86,
   "metadata": {},
   "outputs": [
    {
     "data": {
      "text/plain": [
       "Ttest_indResult(statistic=-5.980920963525428, pvalue=2.2853024788610114e-09)"
      ]
     },
     "execution_count": 86,
     "metadata": {},
     "output_type": "execute_result"
    }
   ],
   "source": [
    "ttest_ind(os_groups_aro_cont['octave_aro'], os_groups_aro_cont['sestet_aro'], nan_policy='omit', equal_var=False)"
   ]
  },
  {
   "cell_type": "code",
   "execution_count": 87,
   "metadata": {},
   "outputs": [
    {
     "data": {
      "text/plain": [
       "WilcoxonResult(statistic=7638914.0, pvalue=5.732372436436034e-09)"
      ]
     },
     "execution_count": 87,
     "metadata": {},
     "output_type": "execute_result"
    }
   ],
   "source": [
    "wilcoxon(os_groups_aro_cont['octave_aro'], os_groups_aro_cont['sestet_aro'], nan_policy='omit')"
   ]
  },
  {
   "cell_type": "code",
   "execution_count": 88,
   "metadata": {},
   "outputs": [
    {
     "data": {
      "text/plain": [
       "MannwhitneyuResult(statistic=15777341.5, pvalue=8.100682052291474e-09)"
      ]
     },
     "execution_count": 88,
     "metadata": {},
     "output_type": "execute_result"
    }
   ],
   "source": [
    "mannwhitneyu(os_groups_aro_cont['octave_aro'], os_groups_aro_cont['sestet_aro'], nan_policy='omit')"
   ]
  },
  {
   "cell_type": "code",
   "execution_count": 89,
   "metadata": {},
   "outputs": [
    {
     "data": {
      "text/plain": [
       "11"
      ]
     },
     "execution_count": 89,
     "metadata": {},
     "output_type": "execute_result"
    }
   ],
   "source": [
    "os_groups_aro_cont['octave_aro'].isna().sum()"
   ]
  },
  {
   "cell_type": "code",
   "execution_count": 90,
   "metadata": {},
   "outputs": [
    {
     "data": {
      "text/plain": [
       "18"
      ]
     },
     "execution_count": 90,
     "metadata": {},
     "output_type": "execute_result"
    }
   ],
   "source": [
    "os_groups_aro_cont['sestet_aro'].isna().sum()"
   ]
  },
  {
   "cell_type": "markdown",
   "metadata": {},
   "source": [
    "#### Arousal when number of rhyme-words in the sonnet present in lexica above a given threshold"
   ]
  },
  {
   "cell_type": "code",
   "execution_count": 91,
   "metadata": {},
   "outputs": [
    {
     "data": {
      "text/plain": [
       "0         True\n",
       "1        False\n",
       "2         True\n",
       "3        False\n",
       "4         True\n",
       "         ...  \n",
       "80847     True\n",
       "80848     True\n",
       "80849     True\n",
       "80850     True\n",
       "80851     True\n",
       "Name: arousal_call, Length: 80852, dtype: bool"
      ]
     },
     "execution_count": 91,
     "metadata": {},
     "output_type": "execute_result"
    }
   ],
   "source": [
    "df['arousal_call'].notna()"
   ]
  },
  {
   "cell_type": "code",
   "execution_count": 92,
   "metadata": {},
   "outputs": [],
   "source": [
    "df['aro_call_b'] = np.where(df['arousal_call'].notna(), 1, 0)"
   ]
  },
  {
   "cell_type": "code",
   "execution_count": 93,
   "metadata": {
    "scrolled": true
   },
   "outputs": [],
   "source": [
    "os_aro_groups = df.groupby(['SonnetID', 'OctSes', 'aro_call_b'])['aro_call_b'].aggregate('count').unstack().unstack()"
   ]
  },
  {
   "cell_type": "code",
   "execution_count": 94,
   "metadata": {
    "scrolled": true
   },
   "outputs": [
    {
     "data": {
      "text/html": [
       "<div>\n",
       "<style scoped>\n",
       "    .dataframe tbody tr th:only-of-type {\n",
       "        vertical-align: middle;\n",
       "    }\n",
       "\n",
       "    .dataframe tbody tr th {\n",
       "        vertical-align: top;\n",
       "    }\n",
       "\n",
       "    .dataframe thead tr th {\n",
       "        text-align: left;\n",
       "    }\n",
       "\n",
       "    .dataframe thead tr:last-of-type th {\n",
       "        text-align: right;\n",
       "    }\n",
       "</style>\n",
       "<table border=\"1\" class=\"dataframe\">\n",
       "  <thead>\n",
       "    <tr>\n",
       "      <th>aro_call_b</th>\n",
       "      <th colspan=\"2\" halign=\"left\">0</th>\n",
       "      <th colspan=\"2\" halign=\"left\">1</th>\n",
       "    </tr>\n",
       "    <tr>\n",
       "      <th>OctSes</th>\n",
       "      <th>octave</th>\n",
       "      <th>sestet</th>\n",
       "      <th>octave</th>\n",
       "      <th>sestet</th>\n",
       "    </tr>\n",
       "    <tr>\n",
       "      <th>SonnetID</th>\n",
       "      <th></th>\n",
       "      <th></th>\n",
       "      <th></th>\n",
       "      <th></th>\n",
       "    </tr>\n",
       "  </thead>\n",
       "  <tbody>\n",
       "    <tr>\n",
       "      <th>AgustinDeSalazarYTorres_1</th>\n",
       "      <td>4.0</td>\n",
       "      <td>NaN</td>\n",
       "      <td>4.0</td>\n",
       "      <td>6.0</td>\n",
       "    </tr>\n",
       "    <tr>\n",
       "      <th>AgustinDeSalazarYTorres_10</th>\n",
       "      <td>NaN</td>\n",
       "      <td>NaN</td>\n",
       "      <td>8.0</td>\n",
       "      <td>6.0</td>\n",
       "    </tr>\n",
       "    <tr>\n",
       "      <th>AgustinDeSalazarYTorres_11</th>\n",
       "      <td>2.0</td>\n",
       "      <td>NaN</td>\n",
       "      <td>6.0</td>\n",
       "      <td>6.0</td>\n",
       "    </tr>\n",
       "    <tr>\n",
       "      <th>AgustinDeSalazarYTorres_12</th>\n",
       "      <td>3.0</td>\n",
       "      <td>1.0</td>\n",
       "      <td>5.0</td>\n",
       "      <td>5.0</td>\n",
       "    </tr>\n",
       "    <tr>\n",
       "      <th>AgustinDeSalazarYTorres_13</th>\n",
       "      <td>1.0</td>\n",
       "      <td>1.0</td>\n",
       "      <td>7.0</td>\n",
       "      <td>5.0</td>\n",
       "    </tr>\n",
       "    <tr>\n",
       "      <th>...</th>\n",
       "      <td>...</td>\n",
       "      <td>...</td>\n",
       "      <td>...</td>\n",
       "      <td>...</td>\n",
       "    </tr>\n",
       "    <tr>\n",
       "      <th>s485g_1012</th>\n",
       "      <td>NaN</td>\n",
       "      <td>1.0</td>\n",
       "      <td>8.0</td>\n",
       "      <td>5.0</td>\n",
       "    </tr>\n",
       "    <tr>\n",
       "      <th>s486g_1013_01</th>\n",
       "      <td>3.0</td>\n",
       "      <td>1.0</td>\n",
       "      <td>5.0</td>\n",
       "      <td>5.0</td>\n",
       "    </tr>\n",
       "    <tr>\n",
       "      <th>s486g_1013_02</th>\n",
       "      <td>2.0</td>\n",
       "      <td>NaN</td>\n",
       "      <td>6.0</td>\n",
       "      <td>6.0</td>\n",
       "    </tr>\n",
       "    <tr>\n",
       "      <th>s487g_1014</th>\n",
       "      <td>4.0</td>\n",
       "      <td>1.0</td>\n",
       "      <td>4.0</td>\n",
       "      <td>5.0</td>\n",
       "    </tr>\n",
       "    <tr>\n",
       "      <th>s488g_1015</th>\n",
       "      <td>3.0</td>\n",
       "      <td>4.0</td>\n",
       "      <td>5.0</td>\n",
       "      <td>2.0</td>\n",
       "    </tr>\n",
       "  </tbody>\n",
       "</table>\n",
       "<p>5814 rows × 4 columns</p>\n",
       "</div>"
      ],
      "text/plain": [
       "aro_call_b                      0             1       \n",
       "OctSes                     octave sestet octave sestet\n",
       "SonnetID                                              \n",
       "AgustinDeSalazarYTorres_1     4.0    NaN    4.0    6.0\n",
       "AgustinDeSalazarYTorres_10    NaN    NaN    8.0    6.0\n",
       "AgustinDeSalazarYTorres_11    2.0    NaN    6.0    6.0\n",
       "AgustinDeSalazarYTorres_12    3.0    1.0    5.0    5.0\n",
       "AgustinDeSalazarYTorres_13    1.0    1.0    7.0    5.0\n",
       "...                           ...    ...    ...    ...\n",
       "s485g_1012                    NaN    1.0    8.0    5.0\n",
       "s486g_1013_01                 3.0    1.0    5.0    5.0\n",
       "s486g_1013_02                 2.0    NaN    6.0    6.0\n",
       "s487g_1014                    4.0    1.0    4.0    5.0\n",
       "s488g_1015                    3.0    4.0    5.0    2.0\n",
       "\n",
       "[5814 rows x 4 columns]"
      ]
     },
     "execution_count": 94,
     "metadata": {},
     "output_type": "execute_result"
    }
   ],
   "source": [
    "os_aro_groups"
   ]
  },
  {
   "cell_type": "code",
   "execution_count": 95,
   "metadata": {},
   "outputs": [],
   "source": [
    "oag = os_aro_groups"
   ]
  },
  {
   "cell_type": "code",
   "execution_count": 96,
   "metadata": {
    "scrolled": true
   },
   "outputs": [
    {
     "data": {
      "text/plain": [
       "FrozenList([[0, 1], ['octave', 'sestet']])"
      ]
     },
     "execution_count": 96,
     "metadata": {},
     "output_type": "execute_result"
    }
   ],
   "source": [
    "oag.columns.levels"
   ]
  },
  {
   "cell_type": "code",
   "execution_count": 97,
   "metadata": {},
   "outputs": [
    {
     "data": {
      "text/plain": [
       "SonnetID\n",
       "AgustinDeSalazarYTorres_1     4.0\n",
       "AgustinDeSalazarYTorres_10    NaN\n",
       "AgustinDeSalazarYTorres_11    2.0\n",
       "AgustinDeSalazarYTorres_12    3.0\n",
       "AgustinDeSalazarYTorres_13    1.0\n",
       "                             ... \n",
       "s485g_1012                    NaN\n",
       "s486g_1013_01                 3.0\n",
       "s486g_1013_02                 2.0\n",
       "s487g_1014                    4.0\n",
       "s488g_1015                    3.0\n",
       "Name: (0, octave), Length: 5814, dtype: float64"
      ]
     },
     "execution_count": 97,
     "metadata": {},
     "output_type": "execute_result"
    }
   ],
   "source": [
    "oag.loc[:, (0, 'octave')]"
   ]
  },
  {
   "cell_type": "markdown",
   "metadata": {},
   "source": [
    "Prepare data for a new dataframe with the binary value counts"
   ]
  },
  {
   "cell_type": "code",
   "execution_count": 98,
   "metadata": {},
   "outputs": [],
   "source": [
    "oag_new_data =  {'octave_aro_0': oag.loc[:, (0, 'octave')],\n",
    "                 'octave_aro_1': oag.loc[:, (1, 'octave')],\n",
    "                 'sestet_aro_0': oag.loc[:, (0, 'sestet')],\n",
    "                 'sestet_aro_1': oag.loc[:, (1, 'sestet')]}"
   ]
  },
  {
   "cell_type": "code",
   "execution_count": 99,
   "metadata": {},
   "outputs": [],
   "source": [
    "oag_new_df = pd.DataFrame(oag_new_data)"
   ]
  },
  {
   "cell_type": "code",
   "execution_count": 100,
   "metadata": {
    "scrolled": true
   },
   "outputs": [
    {
     "data": {
      "text/html": [
       "<div>\n",
       "<style scoped>\n",
       "    .dataframe tbody tr th:only-of-type {\n",
       "        vertical-align: middle;\n",
       "    }\n",
       "\n",
       "    .dataframe tbody tr th {\n",
       "        vertical-align: top;\n",
       "    }\n",
       "\n",
       "    .dataframe thead th {\n",
       "        text-align: right;\n",
       "    }\n",
       "</style>\n",
       "<table border=\"1\" class=\"dataframe\">\n",
       "  <thead>\n",
       "    <tr style=\"text-align: right;\">\n",
       "      <th></th>\n",
       "      <th>octave_aro_0</th>\n",
       "      <th>octave_aro_1</th>\n",
       "      <th>sestet_aro_0</th>\n",
       "      <th>sestet_aro_1</th>\n",
       "    </tr>\n",
       "    <tr>\n",
       "      <th>SonnetID</th>\n",
       "      <th></th>\n",
       "      <th></th>\n",
       "      <th></th>\n",
       "      <th></th>\n",
       "    </tr>\n",
       "  </thead>\n",
       "  <tbody>\n",
       "    <tr>\n",
       "      <th>AgustinDeSalazarYTorres_1</th>\n",
       "      <td>4.0</td>\n",
       "      <td>4.0</td>\n",
       "      <td>NaN</td>\n",
       "      <td>6.0</td>\n",
       "    </tr>\n",
       "    <tr>\n",
       "      <th>AgustinDeSalazarYTorres_10</th>\n",
       "      <td>NaN</td>\n",
       "      <td>8.0</td>\n",
       "      <td>NaN</td>\n",
       "      <td>6.0</td>\n",
       "    </tr>\n",
       "    <tr>\n",
       "      <th>AgustinDeSalazarYTorres_11</th>\n",
       "      <td>2.0</td>\n",
       "      <td>6.0</td>\n",
       "      <td>NaN</td>\n",
       "      <td>6.0</td>\n",
       "    </tr>\n",
       "    <tr>\n",
       "      <th>AgustinDeSalazarYTorres_12</th>\n",
       "      <td>3.0</td>\n",
       "      <td>5.0</td>\n",
       "      <td>1.0</td>\n",
       "      <td>5.0</td>\n",
       "    </tr>\n",
       "    <tr>\n",
       "      <th>AgustinDeSalazarYTorres_13</th>\n",
       "      <td>1.0</td>\n",
       "      <td>7.0</td>\n",
       "      <td>1.0</td>\n",
       "      <td>5.0</td>\n",
       "    </tr>\n",
       "    <tr>\n",
       "      <th>...</th>\n",
       "      <td>...</td>\n",
       "      <td>...</td>\n",
       "      <td>...</td>\n",
       "      <td>...</td>\n",
       "    </tr>\n",
       "    <tr>\n",
       "      <th>s485g_1012</th>\n",
       "      <td>NaN</td>\n",
       "      <td>8.0</td>\n",
       "      <td>1.0</td>\n",
       "      <td>5.0</td>\n",
       "    </tr>\n",
       "    <tr>\n",
       "      <th>s486g_1013_01</th>\n",
       "      <td>3.0</td>\n",
       "      <td>5.0</td>\n",
       "      <td>1.0</td>\n",
       "      <td>5.0</td>\n",
       "    </tr>\n",
       "    <tr>\n",
       "      <th>s486g_1013_02</th>\n",
       "      <td>2.0</td>\n",
       "      <td>6.0</td>\n",
       "      <td>NaN</td>\n",
       "      <td>6.0</td>\n",
       "    </tr>\n",
       "    <tr>\n",
       "      <th>s487g_1014</th>\n",
       "      <td>4.0</td>\n",
       "      <td>4.0</td>\n",
       "      <td>1.0</td>\n",
       "      <td>5.0</td>\n",
       "    </tr>\n",
       "    <tr>\n",
       "      <th>s488g_1015</th>\n",
       "      <td>3.0</td>\n",
       "      <td>5.0</td>\n",
       "      <td>4.0</td>\n",
       "      <td>2.0</td>\n",
       "    </tr>\n",
       "  </tbody>\n",
       "</table>\n",
       "<p>5814 rows × 4 columns</p>\n",
       "</div>"
      ],
      "text/plain": [
       "                            octave_aro_0  octave_aro_1  sestet_aro_0  \\\n",
       "SonnetID                                                               \n",
       "AgustinDeSalazarYTorres_1            4.0           4.0           NaN   \n",
       "AgustinDeSalazarYTorres_10           NaN           8.0           NaN   \n",
       "AgustinDeSalazarYTorres_11           2.0           6.0           NaN   \n",
       "AgustinDeSalazarYTorres_12           3.0           5.0           1.0   \n",
       "AgustinDeSalazarYTorres_13           1.0           7.0           1.0   \n",
       "...                                  ...           ...           ...   \n",
       "s485g_1012                           NaN           8.0           1.0   \n",
       "s486g_1013_01                        3.0           5.0           1.0   \n",
       "s486g_1013_02                        2.0           6.0           NaN   \n",
       "s487g_1014                           4.0           4.0           1.0   \n",
       "s488g_1015                           3.0           5.0           4.0   \n",
       "\n",
       "                            sestet_aro_1  \n",
       "SonnetID                                  \n",
       "AgustinDeSalazarYTorres_1            6.0  \n",
       "AgustinDeSalazarYTorres_10           6.0  \n",
       "AgustinDeSalazarYTorres_11           6.0  \n",
       "AgustinDeSalazarYTorres_12           5.0  \n",
       "AgustinDeSalazarYTorres_13           5.0  \n",
       "...                                  ...  \n",
       "s485g_1012                           5.0  \n",
       "s486g_1013_01                        5.0  \n",
       "s486g_1013_02                        6.0  \n",
       "s487g_1014                           5.0  \n",
       "s488g_1015                           2.0  \n",
       "\n",
       "[5814 rows x 4 columns]"
      ]
     },
     "execution_count": 100,
     "metadata": {},
     "output_type": "execute_result"
    }
   ],
   "source": [
    "oag_new_df"
   ]
  },
  {
   "cell_type": "code",
   "execution_count": 101,
   "metadata": {},
   "outputs": [],
   "source": [
    "oag_new_df = oag_new_df.rename_axis('SonnetID').reset_index()"
   ]
  },
  {
   "cell_type": "code",
   "execution_count": 102,
   "metadata": {
    "scrolled": true
   },
   "outputs": [
    {
     "data": {
      "text/html": [
       "<div>\n",
       "<style scoped>\n",
       "    .dataframe tbody tr th:only-of-type {\n",
       "        vertical-align: middle;\n",
       "    }\n",
       "\n",
       "    .dataframe tbody tr th {\n",
       "        vertical-align: top;\n",
       "    }\n",
       "\n",
       "    .dataframe thead th {\n",
       "        text-align: right;\n",
       "    }\n",
       "</style>\n",
       "<table border=\"1\" class=\"dataframe\">\n",
       "  <thead>\n",
       "    <tr style=\"text-align: right;\">\n",
       "      <th></th>\n",
       "      <th>SonnetID</th>\n",
       "      <th>octave_aro_0</th>\n",
       "      <th>octave_aro_1</th>\n",
       "      <th>sestet_aro_0</th>\n",
       "      <th>sestet_aro_1</th>\n",
       "    </tr>\n",
       "  </thead>\n",
       "  <tbody>\n",
       "    <tr>\n",
       "      <th>0</th>\n",
       "      <td>AgustinDeSalazarYTorres_1</td>\n",
       "      <td>4.0</td>\n",
       "      <td>4.0</td>\n",
       "      <td>NaN</td>\n",
       "      <td>6.0</td>\n",
       "    </tr>\n",
       "    <tr>\n",
       "      <th>1</th>\n",
       "      <td>AgustinDeSalazarYTorres_10</td>\n",
       "      <td>NaN</td>\n",
       "      <td>8.0</td>\n",
       "      <td>NaN</td>\n",
       "      <td>6.0</td>\n",
       "    </tr>\n",
       "    <tr>\n",
       "      <th>2</th>\n",
       "      <td>AgustinDeSalazarYTorres_11</td>\n",
       "      <td>2.0</td>\n",
       "      <td>6.0</td>\n",
       "      <td>NaN</td>\n",
       "      <td>6.0</td>\n",
       "    </tr>\n",
       "    <tr>\n",
       "      <th>3</th>\n",
       "      <td>AgustinDeSalazarYTorres_12</td>\n",
       "      <td>3.0</td>\n",
       "      <td>5.0</td>\n",
       "      <td>1.0</td>\n",
       "      <td>5.0</td>\n",
       "    </tr>\n",
       "    <tr>\n",
       "      <th>4</th>\n",
       "      <td>AgustinDeSalazarYTorres_13</td>\n",
       "      <td>1.0</td>\n",
       "      <td>7.0</td>\n",
       "      <td>1.0</td>\n",
       "      <td>5.0</td>\n",
       "    </tr>\n",
       "    <tr>\n",
       "      <th>...</th>\n",
       "      <td>...</td>\n",
       "      <td>...</td>\n",
       "      <td>...</td>\n",
       "      <td>...</td>\n",
       "      <td>...</td>\n",
       "    </tr>\n",
       "    <tr>\n",
       "      <th>5809</th>\n",
       "      <td>s485g_1012</td>\n",
       "      <td>NaN</td>\n",
       "      <td>8.0</td>\n",
       "      <td>1.0</td>\n",
       "      <td>5.0</td>\n",
       "    </tr>\n",
       "    <tr>\n",
       "      <th>5810</th>\n",
       "      <td>s486g_1013_01</td>\n",
       "      <td>3.0</td>\n",
       "      <td>5.0</td>\n",
       "      <td>1.0</td>\n",
       "      <td>5.0</td>\n",
       "    </tr>\n",
       "    <tr>\n",
       "      <th>5811</th>\n",
       "      <td>s486g_1013_02</td>\n",
       "      <td>2.0</td>\n",
       "      <td>6.0</td>\n",
       "      <td>NaN</td>\n",
       "      <td>6.0</td>\n",
       "    </tr>\n",
       "    <tr>\n",
       "      <th>5812</th>\n",
       "      <td>s487g_1014</td>\n",
       "      <td>4.0</td>\n",
       "      <td>4.0</td>\n",
       "      <td>1.0</td>\n",
       "      <td>5.0</td>\n",
       "    </tr>\n",
       "    <tr>\n",
       "      <th>5813</th>\n",
       "      <td>s488g_1015</td>\n",
       "      <td>3.0</td>\n",
       "      <td>5.0</td>\n",
       "      <td>4.0</td>\n",
       "      <td>2.0</td>\n",
       "    </tr>\n",
       "  </tbody>\n",
       "</table>\n",
       "<p>5814 rows × 5 columns</p>\n",
       "</div>"
      ],
      "text/plain": [
       "                        SonnetID  octave_aro_0  octave_aro_1  sestet_aro_0  \\\n",
       "0      AgustinDeSalazarYTorres_1           4.0           4.0           NaN   \n",
       "1     AgustinDeSalazarYTorres_10           NaN           8.0           NaN   \n",
       "2     AgustinDeSalazarYTorres_11           2.0           6.0           NaN   \n",
       "3     AgustinDeSalazarYTorres_12           3.0           5.0           1.0   \n",
       "4     AgustinDeSalazarYTorres_13           1.0           7.0           1.0   \n",
       "...                          ...           ...           ...           ...   \n",
       "5809                  s485g_1012           NaN           8.0           1.0   \n",
       "5810               s486g_1013_01           3.0           5.0           1.0   \n",
       "5811               s486g_1013_02           2.0           6.0           NaN   \n",
       "5812                  s487g_1014           4.0           4.0           1.0   \n",
       "5813                  s488g_1015           3.0           5.0           4.0   \n",
       "\n",
       "      sestet_aro_1  \n",
       "0              6.0  \n",
       "1              6.0  \n",
       "2              6.0  \n",
       "3              5.0  \n",
       "4              5.0  \n",
       "...            ...  \n",
       "5809           5.0  \n",
       "5810           5.0  \n",
       "5811           6.0  \n",
       "5812           5.0  \n",
       "5813           2.0  \n",
       "\n",
       "[5814 rows x 5 columns]"
      ]
     },
     "execution_count": 102,
     "metadata": {},
     "output_type": "execute_result"
    }
   ],
   "source": [
    "oag_new_df"
   ]
  },
  {
   "cell_type": "code",
   "execution_count": 103,
   "metadata": {},
   "outputs": [],
   "source": [
    "df2_aro = oag_new_df"
   ]
  },
  {
   "cell_type": "code",
   "execution_count": 104,
   "metadata": {},
   "outputs": [],
   "source": [
    "df2_aro.fillna(0, inplace=True)"
   ]
  },
  {
   "cell_type": "code",
   "execution_count": 105,
   "metadata": {},
   "outputs": [
    {
     "data": {
      "text/plain": [
       "5814"
      ]
     },
     "execution_count": 105,
     "metadata": {},
     "output_type": "execute_result"
    }
   ],
   "source": [
    "len(df2_aro)"
   ]
  },
  {
   "cell_type": "code",
   "execution_count": 106,
   "metadata": {},
   "outputs": [
    {
     "data": {
      "text/html": [
       "<div>\n",
       "<style scoped>\n",
       "    .dataframe tbody tr th:only-of-type {\n",
       "        vertical-align: middle;\n",
       "    }\n",
       "\n",
       "    .dataframe tbody tr th {\n",
       "        vertical-align: top;\n",
       "    }\n",
       "\n",
       "    .dataframe thead th {\n",
       "        text-align: right;\n",
       "    }\n",
       "</style>\n",
       "<table border=\"1\" class=\"dataframe\">\n",
       "  <thead>\n",
       "    <tr style=\"text-align: right;\">\n",
       "      <th></th>\n",
       "      <th>SonnetID</th>\n",
       "      <th>octave_aro_0</th>\n",
       "      <th>octave_aro_1</th>\n",
       "      <th>sestet_aro_0</th>\n",
       "      <th>sestet_aro_1</th>\n",
       "    </tr>\n",
       "  </thead>\n",
       "  <tbody>\n",
       "    <tr>\n",
       "      <th>0</th>\n",
       "      <td>AgustinDeSalazarYTorres_1</td>\n",
       "      <td>4.0</td>\n",
       "      <td>4.0</td>\n",
       "      <td>0.0</td>\n",
       "      <td>6.0</td>\n",
       "    </tr>\n",
       "    <tr>\n",
       "      <th>1</th>\n",
       "      <td>AgustinDeSalazarYTorres_10</td>\n",
       "      <td>0.0</td>\n",
       "      <td>8.0</td>\n",
       "      <td>0.0</td>\n",
       "      <td>6.0</td>\n",
       "    </tr>\n",
       "    <tr>\n",
       "      <th>2</th>\n",
       "      <td>AgustinDeSalazarYTorres_11</td>\n",
       "      <td>2.0</td>\n",
       "      <td>6.0</td>\n",
       "      <td>0.0</td>\n",
       "      <td>6.0</td>\n",
       "    </tr>\n",
       "    <tr>\n",
       "      <th>3</th>\n",
       "      <td>AgustinDeSalazarYTorres_12</td>\n",
       "      <td>3.0</td>\n",
       "      <td>5.0</td>\n",
       "      <td>1.0</td>\n",
       "      <td>5.0</td>\n",
       "    </tr>\n",
       "    <tr>\n",
       "      <th>4</th>\n",
       "      <td>AgustinDeSalazarYTorres_13</td>\n",
       "      <td>1.0</td>\n",
       "      <td>7.0</td>\n",
       "      <td>1.0</td>\n",
       "      <td>5.0</td>\n",
       "    </tr>\n",
       "    <tr>\n",
       "      <th>...</th>\n",
       "      <td>...</td>\n",
       "      <td>...</td>\n",
       "      <td>...</td>\n",
       "      <td>...</td>\n",
       "      <td>...</td>\n",
       "    </tr>\n",
       "    <tr>\n",
       "      <th>5809</th>\n",
       "      <td>s485g_1012</td>\n",
       "      <td>0.0</td>\n",
       "      <td>8.0</td>\n",
       "      <td>1.0</td>\n",
       "      <td>5.0</td>\n",
       "    </tr>\n",
       "    <tr>\n",
       "      <th>5810</th>\n",
       "      <td>s486g_1013_01</td>\n",
       "      <td>3.0</td>\n",
       "      <td>5.0</td>\n",
       "      <td>1.0</td>\n",
       "      <td>5.0</td>\n",
       "    </tr>\n",
       "    <tr>\n",
       "      <th>5811</th>\n",
       "      <td>s486g_1013_02</td>\n",
       "      <td>2.0</td>\n",
       "      <td>6.0</td>\n",
       "      <td>0.0</td>\n",
       "      <td>6.0</td>\n",
       "    </tr>\n",
       "    <tr>\n",
       "      <th>5812</th>\n",
       "      <td>s487g_1014</td>\n",
       "      <td>4.0</td>\n",
       "      <td>4.0</td>\n",
       "      <td>1.0</td>\n",
       "      <td>5.0</td>\n",
       "    </tr>\n",
       "    <tr>\n",
       "      <th>5813</th>\n",
       "      <td>s488g_1015</td>\n",
       "      <td>3.0</td>\n",
       "      <td>5.0</td>\n",
       "      <td>4.0</td>\n",
       "      <td>2.0</td>\n",
       "    </tr>\n",
       "  </tbody>\n",
       "</table>\n",
       "<p>5814 rows × 5 columns</p>\n",
       "</div>"
      ],
      "text/plain": [
       "                        SonnetID  octave_aro_0  octave_aro_1  sestet_aro_0  \\\n",
       "0      AgustinDeSalazarYTorres_1           4.0           4.0           0.0   \n",
       "1     AgustinDeSalazarYTorres_10           0.0           8.0           0.0   \n",
       "2     AgustinDeSalazarYTorres_11           2.0           6.0           0.0   \n",
       "3     AgustinDeSalazarYTorres_12           3.0           5.0           1.0   \n",
       "4     AgustinDeSalazarYTorres_13           1.0           7.0           1.0   \n",
       "...                          ...           ...           ...           ...   \n",
       "5809                  s485g_1012           0.0           8.0           1.0   \n",
       "5810               s486g_1013_01           3.0           5.0           1.0   \n",
       "5811               s486g_1013_02           2.0           6.0           0.0   \n",
       "5812                  s487g_1014           4.0           4.0           1.0   \n",
       "5813                  s488g_1015           3.0           5.0           4.0   \n",
       "\n",
       "      sestet_aro_1  \n",
       "0              6.0  \n",
       "1              6.0  \n",
       "2              6.0  \n",
       "3              5.0  \n",
       "4              5.0  \n",
       "...            ...  \n",
       "5809           5.0  \n",
       "5810           5.0  \n",
       "5811           6.0  \n",
       "5812           5.0  \n",
       "5813           2.0  \n",
       "\n",
       "[5814 rows x 5 columns]"
      ]
     },
     "execution_count": 106,
     "metadata": {},
     "output_type": "execute_result"
    }
   ],
   "source": [
    "df2_aro"
   ]
  },
  {
   "cell_type": "markdown",
   "metadata": {},
   "source": [
    "Number of left out sonnets given octave which does not add to 8 (or na)"
   ]
  },
  {
   "cell_type": "code",
   "execution_count": 107,
   "metadata": {},
   "outputs": [],
   "source": [
    "no_adds_aro = df2_aro.loc[(df2_aro['octave_aro_0'] + df2_aro['octave_aro_1']).isin((8, np.nan)) == False]"
   ]
  },
  {
   "cell_type": "code",
   "execution_count": 108,
   "metadata": {},
   "outputs": [
    {
     "data": {
      "text/plain": [
       "176"
      ]
     },
     "execution_count": 108,
     "metadata": {},
     "output_type": "execute_result"
    }
   ],
   "source": [
    "len(no_adds_aro)"
   ]
  },
  {
   "cell_type": "markdown",
   "metadata": {},
   "source": [
    "Number of left out sonnets given sestet which does not add to 6 (or na)"
   ]
  },
  {
   "cell_type": "code",
   "execution_count": 109,
   "metadata": {},
   "outputs": [],
   "source": [
    "no_adds_aro_sestet = df2_aro.loc[(df2_aro['sestet_aro_0'] + df2_aro['sestet_aro_1']).isin((6, np.nan)) == False]"
   ]
  },
  {
   "cell_type": "code",
   "execution_count": 110,
   "metadata": {
    "scrolled": true
   },
   "outputs": [
    {
     "data": {
      "text/plain": [
       "312"
      ]
     },
     "execution_count": 110,
     "metadata": {},
     "output_type": "execute_result"
    }
   ],
   "source": [
    "len(no_adds_sestet)"
   ]
  },
  {
   "cell_type": "markdown",
   "metadata": {},
   "source": [
    "Filter to keep only 8+6 cases"
   ]
  },
  {
   "cell_type": "code",
   "execution_count": 168,
   "metadata": {},
   "outputs": [],
   "source": [
    "df2_aro['o_act_aro'] = df2_aro['octave_aro_0'] + df2_aro['octave_aro_1']\n",
    "df2_aro['s_act_aro'] = df2_aro['sestet_aro_0'] + df2_aro['sestet_aro_1']"
   ]
  },
  {
   "cell_type": "code",
   "execution_count": 171,
   "metadata": {
    "scrolled": true
   },
   "outputs": [
    {
     "data": {
      "text/plain": [
       "8.0     5638\n",
       "7.0      159\n",
       "6.0        7\n",
       "4.0        2\n",
       "0.0        2\n",
       "2.0        2\n",
       "1.0        2\n",
       "9.0        1\n",
       "10.0       1\n",
       "Name: o_act_aro, dtype: int64"
      ]
     },
     "execution_count": 171,
     "metadata": {},
     "output_type": "execute_result"
    }
   ],
   "source": [
    "df2_aro['o_act_aro'].value_counts()"
   ]
  },
  {
   "cell_type": "code",
   "execution_count": 172,
   "metadata": {
    "scrolled": true
   },
   "outputs": [
    {
     "data": {
      "text/plain": [
       "6.0     5502\n",
       "4.0      154\n",
       "5.0      106\n",
       "9.0       15\n",
       "8.0        9\n",
       "0.0        6\n",
       "10.0       5\n",
       "3.0        5\n",
       "2.0        4\n",
       "12.0       2\n",
       "11.0       2\n",
       "1.0        1\n",
       "32.0       1\n",
       "23.0       1\n",
       "20.0       1\n",
       "Name: s_act_aro, dtype: int64"
      ]
     },
     "execution_count": 172,
     "metadata": {},
     "output_type": "execute_result"
    }
   ],
   "source": [
    "df2_aro['s_act_aro'].value_counts()"
   ]
  },
  {
   "cell_type": "code",
   "execution_count": null,
   "metadata": {},
   "outputs": [],
   "source": [
    "#df2f = df2.loc[(df2['o_act'] == 8) & (df2['s_act'] == 6)]"
   ]
  },
  {
   "cell_type": "code",
   "execution_count": 173,
   "metadata": {},
   "outputs": [],
   "source": [
    "df2f_aro = df2_aro.loc[(df2_aro['o_act_aro'] == 8) & (df2_aro['s_act_aro'] == 6)]"
   ]
  },
  {
   "cell_type": "code",
   "execution_count": 180,
   "metadata": {},
   "outputs": [
    {
     "data": {
      "text/plain": [
       "459"
      ]
     },
     "execution_count": 180,
     "metadata": {},
     "output_type": "execute_result"
    }
   ],
   "source": [
    "len(df2_aro.loc[(df2_aro['o_act_aro'] != 8) | (df2_aro['s_act_aro'] != 6)])"
   ]
  },
  {
   "cell_type": "code",
   "execution_count": 174,
   "metadata": {},
   "outputs": [
    {
     "data": {
      "text/plain": [
       "(5814, 5355)"
      ]
     },
     "execution_count": 174,
     "metadata": {},
     "output_type": "execute_result"
    }
   ],
   "source": [
    "len(df2_aro), len(df2f_aro)"
   ]
  },
  {
   "cell_type": "markdown",
   "metadata": {},
   "source": [
    "**RENAME df2f_aro as df2_aro (keep a backup though) and run the rest (perhaps not the write-out)**"
   ]
  },
  {
   "cell_type": "code",
   "execution_count": 184,
   "metadata": {},
   "outputs": [],
   "source": [
    "df2f_aro_bkp = df2f_aro"
   ]
  },
  {
   "cell_type": "code",
   "execution_count": 185,
   "metadata": {},
   "outputs": [],
   "source": [
    "df2_aro = df2f_aro"
   ]
  },
  {
   "cell_type": "markdown",
   "metadata": {},
   "source": [
    "Filter to keep only cases where number of rhyme-words found in lexica is above a given threshold both in the octave and in the sestet. Columns ending in *\\_0* and *\\_1* are the ones we need (the *\\_9* ending means that the ryme-word is not in the lexicon)"
   ]
  },
  {
   "cell_type": "code",
   "execution_count": 186,
   "metadata": {},
   "outputs": [],
   "source": [
    "octave_aro_min = 6\n",
    "sestet_aro_min = 4\n",
    "df3_aro = df2_aro.loc[(df2_aro['octave_aro_1'] >= octave_aro_min) & (df2_aro['sestet_aro_1'] >= sestet_aro_min)]"
   ]
  },
  {
   "cell_type": "code",
   "execution_count": 187,
   "metadata": {},
   "outputs": [
    {
     "data": {
      "text/html": [
       "<div>\n",
       "<style scoped>\n",
       "    .dataframe tbody tr th:only-of-type {\n",
       "        vertical-align: middle;\n",
       "    }\n",
       "\n",
       "    .dataframe tbody tr th {\n",
       "        vertical-align: top;\n",
       "    }\n",
       "\n",
       "    .dataframe thead th {\n",
       "        text-align: right;\n",
       "    }\n",
       "</style>\n",
       "<table border=\"1\" class=\"dataframe\">\n",
       "  <thead>\n",
       "    <tr style=\"text-align: right;\">\n",
       "      <th></th>\n",
       "      <th>SonnetID</th>\n",
       "      <th>octave_aro_0</th>\n",
       "      <th>octave_aro_1</th>\n",
       "      <th>sestet_aro_0</th>\n",
       "      <th>sestet_aro_1</th>\n",
       "      <th>o_act_aro</th>\n",
       "      <th>s_act_aro</th>\n",
       "    </tr>\n",
       "  </thead>\n",
       "  <tbody>\n",
       "    <tr>\n",
       "      <th>1</th>\n",
       "      <td>AgustinDeSalazarYTorres_10</td>\n",
       "      <td>0.0</td>\n",
       "      <td>8.0</td>\n",
       "      <td>0.0</td>\n",
       "      <td>6.0</td>\n",
       "      <td>8.0</td>\n",
       "      <td>6.0</td>\n",
       "    </tr>\n",
       "    <tr>\n",
       "      <th>2</th>\n",
       "      <td>AgustinDeSalazarYTorres_11</td>\n",
       "      <td>2.0</td>\n",
       "      <td>6.0</td>\n",
       "      <td>0.0</td>\n",
       "      <td>6.0</td>\n",
       "      <td>8.0</td>\n",
       "      <td>6.0</td>\n",
       "    </tr>\n",
       "    <tr>\n",
       "      <th>4</th>\n",
       "      <td>AgustinDeSalazarYTorres_13</td>\n",
       "      <td>1.0</td>\n",
       "      <td>7.0</td>\n",
       "      <td>1.0</td>\n",
       "      <td>5.0</td>\n",
       "      <td>8.0</td>\n",
       "      <td>6.0</td>\n",
       "    </tr>\n",
       "    <tr>\n",
       "      <th>5</th>\n",
       "      <td>AgustinDeSalazarYTorres_14</td>\n",
       "      <td>0.0</td>\n",
       "      <td>8.0</td>\n",
       "      <td>1.0</td>\n",
       "      <td>5.0</td>\n",
       "      <td>8.0</td>\n",
       "      <td>6.0</td>\n",
       "    </tr>\n",
       "    <tr>\n",
       "      <th>8</th>\n",
       "      <td>AgustinDeSalazarYTorres_17</td>\n",
       "      <td>2.0</td>\n",
       "      <td>6.0</td>\n",
       "      <td>1.0</td>\n",
       "      <td>5.0</td>\n",
       "      <td>8.0</td>\n",
       "      <td>6.0</td>\n",
       "    </tr>\n",
       "    <tr>\n",
       "      <th>...</th>\n",
       "      <td>...</td>\n",
       "      <td>...</td>\n",
       "      <td>...</td>\n",
       "      <td>...</td>\n",
       "      <td>...</td>\n",
       "      <td>...</td>\n",
       "      <td>...</td>\n",
       "    </tr>\n",
       "    <tr>\n",
       "      <th>5806</th>\n",
       "      <td>s483g_1009</td>\n",
       "      <td>0.0</td>\n",
       "      <td>8.0</td>\n",
       "      <td>1.0</td>\n",
       "      <td>5.0</td>\n",
       "      <td>8.0</td>\n",
       "      <td>6.0</td>\n",
       "    </tr>\n",
       "    <tr>\n",
       "      <th>5807</th>\n",
       "      <td>s483g_1010</td>\n",
       "      <td>2.0</td>\n",
       "      <td>6.0</td>\n",
       "      <td>2.0</td>\n",
       "      <td>4.0</td>\n",
       "      <td>8.0</td>\n",
       "      <td>6.0</td>\n",
       "    </tr>\n",
       "    <tr>\n",
       "      <th>5808</th>\n",
       "      <td>s484g_1011</td>\n",
       "      <td>1.0</td>\n",
       "      <td>7.0</td>\n",
       "      <td>0.0</td>\n",
       "      <td>6.0</td>\n",
       "      <td>8.0</td>\n",
       "      <td>6.0</td>\n",
       "    </tr>\n",
       "    <tr>\n",
       "      <th>5809</th>\n",
       "      <td>s485g_1012</td>\n",
       "      <td>0.0</td>\n",
       "      <td>8.0</td>\n",
       "      <td>1.0</td>\n",
       "      <td>5.0</td>\n",
       "      <td>8.0</td>\n",
       "      <td>6.0</td>\n",
       "    </tr>\n",
       "    <tr>\n",
       "      <th>5811</th>\n",
       "      <td>s486g_1013_02</td>\n",
       "      <td>2.0</td>\n",
       "      <td>6.0</td>\n",
       "      <td>0.0</td>\n",
       "      <td>6.0</td>\n",
       "      <td>8.0</td>\n",
       "      <td>6.0</td>\n",
       "    </tr>\n",
       "  </tbody>\n",
       "</table>\n",
       "<p>4173 rows × 7 columns</p>\n",
       "</div>"
      ],
      "text/plain": [
       "                        SonnetID  octave_aro_0  octave_aro_1  sestet_aro_0  \\\n",
       "1     AgustinDeSalazarYTorres_10           0.0           8.0           0.0   \n",
       "2     AgustinDeSalazarYTorres_11           2.0           6.0           0.0   \n",
       "4     AgustinDeSalazarYTorres_13           1.0           7.0           1.0   \n",
       "5     AgustinDeSalazarYTorres_14           0.0           8.0           1.0   \n",
       "8     AgustinDeSalazarYTorres_17           2.0           6.0           1.0   \n",
       "...                          ...           ...           ...           ...   \n",
       "5806                  s483g_1009           0.0           8.0           1.0   \n",
       "5807                  s483g_1010           2.0           6.0           2.0   \n",
       "5808                  s484g_1011           1.0           7.0           0.0   \n",
       "5809                  s485g_1012           0.0           8.0           1.0   \n",
       "5811               s486g_1013_02           2.0           6.0           0.0   \n",
       "\n",
       "      sestet_aro_1  o_act_aro  s_act_aro  \n",
       "1              6.0        8.0        6.0  \n",
       "2              6.0        8.0        6.0  \n",
       "4              5.0        8.0        6.0  \n",
       "5              5.0        8.0        6.0  \n",
       "8              5.0        8.0        6.0  \n",
       "...            ...        ...        ...  \n",
       "5806           5.0        8.0        6.0  \n",
       "5807           4.0        8.0        6.0  \n",
       "5808           6.0        8.0        6.0  \n",
       "5809           5.0        8.0        6.0  \n",
       "5811           6.0        8.0        6.0  \n",
       "\n",
       "[4173 rows x 7 columns]"
      ]
     },
     "execution_count": 187,
     "metadata": {},
     "output_type": "execute_result"
    }
   ],
   "source": [
    "df3_aro"
   ]
  },
  {
   "cell_type": "code",
   "execution_count": 188,
   "metadata": {},
   "outputs": [
    {
     "data": {
      "text/plain": [
       "0.7792717086834734"
      ]
     },
     "execution_count": 188,
     "metadata": {},
     "output_type": "execute_result"
    }
   ],
   "source": [
    "len(df3_aro)/len(df2_aro)"
   ]
  },
  {
   "cell_type": "markdown",
   "metadata": {},
   "source": [
    "Merge the dataframes so that keep only IDs in df3_aro (i. e. count above threshold), but with continuous average values for arousal"
   ]
  },
  {
   "cell_type": "code",
   "execution_count": 189,
   "metadata": {
    "scrolled": true
   },
   "outputs": [
    {
     "data": {
      "text/html": [
       "<div>\n",
       "<style scoped>\n",
       "    .dataframe tbody tr th:only-of-type {\n",
       "        vertical-align: middle;\n",
       "    }\n",
       "\n",
       "    .dataframe tbody tr th {\n",
       "        vertical-align: top;\n",
       "    }\n",
       "\n",
       "    .dataframe thead th {\n",
       "        text-align: right;\n",
       "    }\n",
       "</style>\n",
       "<table border=\"1\" class=\"dataframe\">\n",
       "  <thead>\n",
       "    <tr style=\"text-align: right;\">\n",
       "      <th>OctSes</th>\n",
       "      <th>SonnetID</th>\n",
       "      <th>octave_aro</th>\n",
       "      <th>sestet_aro</th>\n",
       "    </tr>\n",
       "  </thead>\n",
       "  <tbody>\n",
       "    <tr>\n",
       "      <th>0</th>\n",
       "      <td>AgustinDeSalazarYTorres_1</td>\n",
       "      <td>0.418440</td>\n",
       "      <td>0.520095</td>\n",
       "    </tr>\n",
       "    <tr>\n",
       "      <th>1</th>\n",
       "      <td>AgustinDeSalazarYTorres_10</td>\n",
       "      <td>0.617110</td>\n",
       "      <td>0.604019</td>\n",
       "    </tr>\n",
       "    <tr>\n",
       "      <th>2</th>\n",
       "      <td>AgustinDeSalazarYTorres_11</td>\n",
       "      <td>0.514401</td>\n",
       "      <td>0.690307</td>\n",
       "    </tr>\n",
       "    <tr>\n",
       "      <th>3</th>\n",
       "      <td>AgustinDeSalazarYTorres_12</td>\n",
       "      <td>0.480567</td>\n",
       "      <td>0.591489</td>\n",
       "    </tr>\n",
       "    <tr>\n",
       "      <th>4</th>\n",
       "      <td>AgustinDeSalazarYTorres_13</td>\n",
       "      <td>0.570415</td>\n",
       "      <td>0.576409</td>\n",
       "    </tr>\n",
       "    <tr>\n",
       "      <th>...</th>\n",
       "      <td>...</td>\n",
       "      <td>...</td>\n",
       "      <td>...</td>\n",
       "    </tr>\n",
       "    <tr>\n",
       "      <th>5809</th>\n",
       "      <td>s485g_1012</td>\n",
       "      <td>0.628194</td>\n",
       "      <td>0.634894</td>\n",
       "    </tr>\n",
       "    <tr>\n",
       "      <th>5810</th>\n",
       "      <td>s486g_1013_01</td>\n",
       "      <td>0.520567</td>\n",
       "      <td>0.521418</td>\n",
       "    </tr>\n",
       "    <tr>\n",
       "      <th>5811</th>\n",
       "      <td>s486g_1013_02</td>\n",
       "      <td>0.505437</td>\n",
       "      <td>0.603546</td>\n",
       "    </tr>\n",
       "    <tr>\n",
       "      <th>5812</th>\n",
       "      <td>s487g_1014</td>\n",
       "      <td>0.532023</td>\n",
       "      <td>0.584681</td>\n",
       "    </tr>\n",
       "    <tr>\n",
       "      <th>5813</th>\n",
       "      <td>s488g_1015</td>\n",
       "      <td>0.591518</td>\n",
       "      <td>0.570922</td>\n",
       "    </tr>\n",
       "  </tbody>\n",
       "</table>\n",
       "<p>5814 rows × 3 columns</p>\n",
       "</div>"
      ],
      "text/plain": [
       "OctSes                    SonnetID  octave_aro  sestet_aro\n",
       "0        AgustinDeSalazarYTorres_1    0.418440    0.520095\n",
       "1       AgustinDeSalazarYTorres_10    0.617110    0.604019\n",
       "2       AgustinDeSalazarYTorres_11    0.514401    0.690307\n",
       "3       AgustinDeSalazarYTorres_12    0.480567    0.591489\n",
       "4       AgustinDeSalazarYTorres_13    0.570415    0.576409\n",
       "...                            ...         ...         ...\n",
       "5809                    s485g_1012    0.628194    0.634894\n",
       "5810                 s486g_1013_01    0.520567    0.521418\n",
       "5811                 s486g_1013_02    0.505437    0.603546\n",
       "5812                    s487g_1014    0.532023    0.584681\n",
       "5813                    s488g_1015    0.591518    0.570922\n",
       "\n",
       "[5814 rows x 3 columns]"
      ]
     },
     "execution_count": 189,
     "metadata": {},
     "output_type": "execute_result"
    }
   ],
   "source": [
    "os_groups_aro_cont"
   ]
  },
  {
   "cell_type": "code",
   "execution_count": 190,
   "metadata": {},
   "outputs": [
    {
     "data": {
      "text/plain": [
       "<AxesSubplot:>"
      ]
     },
     "execution_count": 190,
     "metadata": {},
     "output_type": "execute_result"
    },
    {
     "data": {
      "image/png": "[encoded data removed]",
      "text/plain": [
       "<Figure size 432x288 with 1 Axes>"
      ]
     },
     "metadata": {
      "needs_background": "light"
     },
     "output_type": "display_data"
    }
   ],
   "source": [
    "os_groups_aro_cont.boxplot(column=['octave_aro', 'sestet_aro'])"
   ]
  },
  {
   "cell_type": "code",
   "execution_count": 191,
   "metadata": {},
   "outputs": [
    {
     "data": {
      "text/html": [
       "<div>\n",
       "<style scoped>\n",
       "    .dataframe tbody tr th:only-of-type {\n",
       "        vertical-align: middle;\n",
       "    }\n",
       "\n",
       "    .dataframe tbody tr th {\n",
       "        vertical-align: top;\n",
       "    }\n",
       "\n",
       "    .dataframe thead th {\n",
       "        text-align: right;\n",
       "    }\n",
       "</style>\n",
       "<table border=\"1\" class=\"dataframe\">\n",
       "  <thead>\n",
       "    <tr style=\"text-align: right;\">\n",
       "      <th>OctSes</th>\n",
       "      <th>octave_aro</th>\n",
       "      <th>sestet_aro</th>\n",
       "    </tr>\n",
       "  </thead>\n",
       "  <tbody>\n",
       "    <tr>\n",
       "      <th>count</th>\n",
       "      <td>5803.000000</td>\n",
       "      <td>5796.000000</td>\n",
       "    </tr>\n",
       "    <tr>\n",
       "      <th>mean</th>\n",
       "      <td>0.559036</td>\n",
       "      <td>0.567289</td>\n",
       "    </tr>\n",
       "    <tr>\n",
       "      <th>std</th>\n",
       "      <td>0.069385</td>\n",
       "      <td>0.078913</td>\n",
       "    </tr>\n",
       "    <tr>\n",
       "      <th>min</th>\n",
       "      <td>0.297872</td>\n",
       "      <td>0.278684</td>\n",
       "    </tr>\n",
       "    <tr>\n",
       "      <th>25%</th>\n",
       "      <td>0.511677</td>\n",
       "      <td>0.513475</td>\n",
       "    </tr>\n",
       "    <tr>\n",
       "      <th>50%</th>\n",
       "      <td>0.555556</td>\n",
       "      <td>0.565025</td>\n",
       "    </tr>\n",
       "    <tr>\n",
       "      <th>75%</th>\n",
       "      <td>0.603850</td>\n",
       "      <td>0.617021</td>\n",
       "    </tr>\n",
       "    <tr>\n",
       "      <th>max</th>\n",
       "      <td>0.845390</td>\n",
       "      <td>0.926241</td>\n",
       "    </tr>\n",
       "  </tbody>\n",
       "</table>\n",
       "</div>"
      ],
      "text/plain": [
       "OctSes   octave_aro   sestet_aro\n",
       "count   5803.000000  5796.000000\n",
       "mean       0.559036     0.567289\n",
       "std        0.069385     0.078913\n",
       "min        0.297872     0.278684\n",
       "25%        0.511677     0.513475\n",
       "50%        0.555556     0.565025\n",
       "75%        0.603850     0.617021\n",
       "max        0.845390     0.926241"
      ]
     },
     "execution_count": 191,
     "metadata": {},
     "output_type": "execute_result"
    }
   ],
   "source": [
    "os_groups_aro_cont[['octave_aro', 'sestet_aro']].describe(include='all')"
   ]
  },
  {
   "cell_type": "markdown",
   "metadata": {},
   "source": [
    "`df3_aro` is the one filtered according to min recognized rhyme-words in O and S"
   ]
  },
  {
   "cell_type": "code",
   "execution_count": 192,
   "metadata": {},
   "outputs": [],
   "source": [
    "merge_bin_aro = pd.merge(df3_aro, os_groups_aro_cont, on='SonnetID')"
   ]
  },
  {
   "cell_type": "code",
   "execution_count": 193,
   "metadata": {},
   "outputs": [
    {
     "data": {
      "text/html": [
       "<div>\n",
       "<style scoped>\n",
       "    .dataframe tbody tr th:only-of-type {\n",
       "        vertical-align: middle;\n",
       "    }\n",
       "\n",
       "    .dataframe tbody tr th {\n",
       "        vertical-align: top;\n",
       "    }\n",
       "\n",
       "    .dataframe thead th {\n",
       "        text-align: right;\n",
       "    }\n",
       "</style>\n",
       "<table border=\"1\" class=\"dataframe\">\n",
       "  <thead>\n",
       "    <tr style=\"text-align: right;\">\n",
       "      <th></th>\n",
       "      <th>SonnetID</th>\n",
       "      <th>octave_aro_0</th>\n",
       "      <th>octave_aro_1</th>\n",
       "      <th>sestet_aro_0</th>\n",
       "      <th>sestet_aro_1</th>\n",
       "      <th>o_act_aro</th>\n",
       "      <th>s_act_aro</th>\n",
       "      <th>octave_aro</th>\n",
       "      <th>sestet_aro</th>\n",
       "    </tr>\n",
       "  </thead>\n",
       "  <tbody>\n",
       "    <tr>\n",
       "      <th>0</th>\n",
       "      <td>AgustinDeSalazarYTorres_10</td>\n",
       "      <td>0.0</td>\n",
       "      <td>8.0</td>\n",
       "      <td>0.0</td>\n",
       "      <td>6.0</td>\n",
       "      <td>8.0</td>\n",
       "      <td>6.0</td>\n",
       "      <td>0.617110</td>\n",
       "      <td>0.604019</td>\n",
       "    </tr>\n",
       "    <tr>\n",
       "      <th>1</th>\n",
       "      <td>AgustinDeSalazarYTorres_11</td>\n",
       "      <td>2.0</td>\n",
       "      <td>6.0</td>\n",
       "      <td>0.0</td>\n",
       "      <td>6.0</td>\n",
       "      <td>8.0</td>\n",
       "      <td>6.0</td>\n",
       "      <td>0.514401</td>\n",
       "      <td>0.690307</td>\n",
       "    </tr>\n",
       "    <tr>\n",
       "      <th>2</th>\n",
       "      <td>AgustinDeSalazarYTorres_13</td>\n",
       "      <td>1.0</td>\n",
       "      <td>7.0</td>\n",
       "      <td>1.0</td>\n",
       "      <td>5.0</td>\n",
       "      <td>8.0</td>\n",
       "      <td>6.0</td>\n",
       "      <td>0.570415</td>\n",
       "      <td>0.576409</td>\n",
       "    </tr>\n",
       "    <tr>\n",
       "      <th>3</th>\n",
       "      <td>AgustinDeSalazarYTorres_14</td>\n",
       "      <td>0.0</td>\n",
       "      <td>8.0</td>\n",
       "      <td>1.0</td>\n",
       "      <td>5.0</td>\n",
       "      <td>8.0</td>\n",
       "      <td>6.0</td>\n",
       "      <td>0.531915</td>\n",
       "      <td>0.556028</td>\n",
       "    </tr>\n",
       "    <tr>\n",
       "      <th>4</th>\n",
       "      <td>AgustinDeSalazarYTorres_17</td>\n",
       "      <td>2.0</td>\n",
       "      <td>6.0</td>\n",
       "      <td>1.0</td>\n",
       "      <td>5.0</td>\n",
       "      <td>8.0</td>\n",
       "      <td>6.0</td>\n",
       "      <td>0.488180</td>\n",
       "      <td>0.514894</td>\n",
       "    </tr>\n",
       "    <tr>\n",
       "      <th>...</th>\n",
       "      <td>...</td>\n",
       "      <td>...</td>\n",
       "      <td>...</td>\n",
       "      <td>...</td>\n",
       "      <td>...</td>\n",
       "      <td>...</td>\n",
       "      <td>...</td>\n",
       "      <td>...</td>\n",
       "      <td>...</td>\n",
       "    </tr>\n",
       "    <tr>\n",
       "      <th>4168</th>\n",
       "      <td>s483g_1009</td>\n",
       "      <td>0.0</td>\n",
       "      <td>8.0</td>\n",
       "      <td>1.0</td>\n",
       "      <td>5.0</td>\n",
       "      <td>8.0</td>\n",
       "      <td>6.0</td>\n",
       "      <td>0.525709</td>\n",
       "      <td>0.483688</td>\n",
       "    </tr>\n",
       "    <tr>\n",
       "      <th>4169</th>\n",
       "      <td>s483g_1010</td>\n",
       "      <td>2.0</td>\n",
       "      <td>6.0</td>\n",
       "      <td>2.0</td>\n",
       "      <td>4.0</td>\n",
       "      <td>8.0</td>\n",
       "      <td>6.0</td>\n",
       "      <td>0.483452</td>\n",
       "      <td>0.521631</td>\n",
       "    </tr>\n",
       "    <tr>\n",
       "      <th>4170</th>\n",
       "      <td>s484g_1011</td>\n",
       "      <td>1.0</td>\n",
       "      <td>7.0</td>\n",
       "      <td>0.0</td>\n",
       "      <td>6.0</td>\n",
       "      <td>8.0</td>\n",
       "      <td>6.0</td>\n",
       "      <td>0.512503</td>\n",
       "      <td>0.604492</td>\n",
       "    </tr>\n",
       "    <tr>\n",
       "      <th>4171</th>\n",
       "      <td>s485g_1012</td>\n",
       "      <td>0.0</td>\n",
       "      <td>8.0</td>\n",
       "      <td>1.0</td>\n",
       "      <td>5.0</td>\n",
       "      <td>8.0</td>\n",
       "      <td>6.0</td>\n",
       "      <td>0.628194</td>\n",
       "      <td>0.634894</td>\n",
       "    </tr>\n",
       "    <tr>\n",
       "      <th>4172</th>\n",
       "      <td>s486g_1013_02</td>\n",
       "      <td>2.0</td>\n",
       "      <td>6.0</td>\n",
       "      <td>0.0</td>\n",
       "      <td>6.0</td>\n",
       "      <td>8.0</td>\n",
       "      <td>6.0</td>\n",
       "      <td>0.505437</td>\n",
       "      <td>0.603546</td>\n",
       "    </tr>\n",
       "  </tbody>\n",
       "</table>\n",
       "<p>4173 rows × 9 columns</p>\n",
       "</div>"
      ],
      "text/plain": [
       "                        SonnetID  octave_aro_0  octave_aro_1  sestet_aro_0  \\\n",
       "0     AgustinDeSalazarYTorres_10           0.0           8.0           0.0   \n",
       "1     AgustinDeSalazarYTorres_11           2.0           6.0           0.0   \n",
       "2     AgustinDeSalazarYTorres_13           1.0           7.0           1.0   \n",
       "3     AgustinDeSalazarYTorres_14           0.0           8.0           1.0   \n",
       "4     AgustinDeSalazarYTorres_17           2.0           6.0           1.0   \n",
       "...                          ...           ...           ...           ...   \n",
       "4168                  s483g_1009           0.0           8.0           1.0   \n",
       "4169                  s483g_1010           2.0           6.0           2.0   \n",
       "4170                  s484g_1011           1.0           7.0           0.0   \n",
       "4171                  s485g_1012           0.0           8.0           1.0   \n",
       "4172               s486g_1013_02           2.0           6.0           0.0   \n",
       "\n",
       "      sestet_aro_1  o_act_aro  s_act_aro  octave_aro  sestet_aro  \n",
       "0              6.0        8.0        6.0    0.617110    0.604019  \n",
       "1              6.0        8.0        6.0    0.514401    0.690307  \n",
       "2              5.0        8.0        6.0    0.570415    0.576409  \n",
       "3              5.0        8.0        6.0    0.531915    0.556028  \n",
       "4              5.0        8.0        6.0    0.488180    0.514894  \n",
       "...            ...        ...        ...         ...         ...  \n",
       "4168           5.0        8.0        6.0    0.525709    0.483688  \n",
       "4169           4.0        8.0        6.0    0.483452    0.521631  \n",
       "4170           6.0        8.0        6.0    0.512503    0.604492  \n",
       "4171           5.0        8.0        6.0    0.628194    0.634894  \n",
       "4172           6.0        8.0        6.0    0.505437    0.603546  \n",
       "\n",
       "[4173 rows x 9 columns]"
      ]
     },
     "execution_count": 193,
     "metadata": {},
     "output_type": "execute_result"
    }
   ],
   "source": [
    "merge_bin_aro"
   ]
  },
  {
   "cell_type": "code",
   "execution_count": 194,
   "metadata": {},
   "outputs": [
    {
     "data": {
      "text/plain": [
       "MannwhitneyuResult(statistic=8240896.5, pvalue=2.2882461260321075e-05)"
      ]
     },
     "execution_count": 194,
     "metadata": {},
     "output_type": "execute_result"
    }
   ],
   "source": [
    "mannwhitneyu(merge_bin_aro['octave_aro'], merge_bin_aro['sestet_aro'], nan_policy='omit')"
   ]
  },
  {
   "cell_type": "code",
   "execution_count": 195,
   "metadata": {},
   "outputs": [
    {
     "data": {
      "text/plain": [
       "WilcoxonResult(statistic=4030865.5, pvalue=3.204472979815397e-05)"
      ]
     },
     "execution_count": 195,
     "metadata": {},
     "output_type": "execute_result"
    }
   ],
   "source": [
    "wilcoxon(merge_bin_aro['octave_aro'], merge_bin_aro['sestet_aro'], nan_policy='omit')"
   ]
  },
  {
   "cell_type": "code",
   "execution_count": 196,
   "metadata": {},
   "outputs": [
    {
     "data": {
      "text/html": [
       "<div>\n",
       "<style scoped>\n",
       "    .dataframe tbody tr th:only-of-type {\n",
       "        vertical-align: middle;\n",
       "    }\n",
       "\n",
       "    .dataframe tbody tr th {\n",
       "        vertical-align: top;\n",
       "    }\n",
       "\n",
       "    .dataframe thead th {\n",
       "        text-align: right;\n",
       "    }\n",
       "</style>\n",
       "<table border=\"1\" class=\"dataframe\">\n",
       "  <thead>\n",
       "    <tr style=\"text-align: right;\">\n",
       "      <th></th>\n",
       "      <th>octave_aro</th>\n",
       "      <th>sestet_aro</th>\n",
       "    </tr>\n",
       "  </thead>\n",
       "  <tbody>\n",
       "    <tr>\n",
       "      <th>count</th>\n",
       "      <td>4173.000000</td>\n",
       "      <td>4173.000000</td>\n",
       "    </tr>\n",
       "    <tr>\n",
       "      <th>mean</th>\n",
       "      <td>0.561987</td>\n",
       "      <td>0.569075</td>\n",
       "    </tr>\n",
       "    <tr>\n",
       "      <th>std</th>\n",
       "      <td>0.066895</td>\n",
       "      <td>0.077405</td>\n",
       "    </tr>\n",
       "    <tr>\n",
       "      <th>min</th>\n",
       "      <td>0.342452</td>\n",
       "      <td>0.319149</td>\n",
       "    </tr>\n",
       "    <tr>\n",
       "      <th>25%</th>\n",
       "      <td>0.516515</td>\n",
       "      <td>0.514389</td>\n",
       "    </tr>\n",
       "    <tr>\n",
       "      <th>50%</th>\n",
       "      <td>0.558629</td>\n",
       "      <td>0.567338</td>\n",
       "    </tr>\n",
       "    <tr>\n",
       "      <th>75%</th>\n",
       "      <td>0.605978</td>\n",
       "      <td>0.618440</td>\n",
       "    </tr>\n",
       "    <tr>\n",
       "      <th>max</th>\n",
       "      <td>0.785579</td>\n",
       "      <td>0.859858</td>\n",
       "    </tr>\n",
       "  </tbody>\n",
       "</table>\n",
       "</div>"
      ],
      "text/plain": [
       "        octave_aro   sestet_aro\n",
       "count  4173.000000  4173.000000\n",
       "mean      0.561987     0.569075\n",
       "std       0.066895     0.077405\n",
       "min       0.342452     0.319149\n",
       "25%       0.516515     0.514389\n",
       "50%       0.558629     0.567338\n",
       "75%       0.605978     0.618440\n",
       "max       0.785579     0.859858"
      ]
     },
     "execution_count": 196,
     "metadata": {},
     "output_type": "execute_result"
    }
   ],
   "source": [
    "merge_bin_aro[['octave_aro', 'sestet_aro']].describe(include='all')"
   ]
  },
  {
   "cell_type": "code",
   "execution_count": 235,
   "metadata": {
    "scrolled": false
   },
   "outputs": [
    {
     "data": {
      "text/plain": [
       "<AxesSubplot:>"
      ]
     },
     "execution_count": 235,
     "metadata": {},
     "output_type": "execute_result"
    },
    {
     "data": {
      "image/png": "[encoded data removed]",
      "text/plain": [
       "<Figure size 432x288 with 1 Axes>"
      ]
     },
     "metadata": {
      "needs_background": "light"
     },
     "output_type": "display_data"
    }
   ],
   "source": [
    "merge_bin_aro.boxplot(column=['octave_aro', 'sestet_aro'])"
   ]
  },
  {
   "cell_type": "code",
   "execution_count": 253,
   "metadata": {},
   "outputs": [
    {
     "data": {
      "image/png": "[encoded data removed]",
      "text/plain": [
       "<Figure size 432x288 with 1 Axes>"
      ]
     },
     "metadata": {
      "needs_background": "light"
     },
     "output_type": "display_data"
    }
   ],
   "source": [
    "ax = merge_bin_aro.boxplot(column=['octave_aro', 'sestet_aro'])\n",
    "ax.set(ylim=(0.15,0.9))\n",
    "ax.set(title='Arousal in octave vs. sestet')\n",
    "plt.savefig(\"../../data/arousal_os.png\", dpi=300)"
   ]
  },
  {
   "cell_type": "code",
   "execution_count": 234,
   "metadata": {},
   "outputs": [],
   "source": [
    "plt.ylim = (0, 1)"
   ]
  },
  {
   "cell_type": "code",
   "execution_count": 222,
   "metadata": {},
   "outputs": [],
   "source": [
    "from matplotlib import pyplot as plt\n",
    "import seaborn as sns"
   ]
  },
  {
   "cell_type": "code",
   "execution_count": 244,
   "metadata": {},
   "outputs": [
    {
     "data": {
      "text/plain": [
       "[(0.2, 0.9)]"
      ]
     },
     "execution_count": 244,
     "metadata": {},
     "output_type": "execute_result"
    },
    {
     "data": {
      "image/png": "[encoded data removed]",
      "text/plain": [
       "<Figure size 432x288 with 1 Axes>"
      ]
     },
     "metadata": {
      "needs_background": "light"
     },
     "output_type": "display_data"
    }
   ],
   "source": [
    "axsb = sns.boxplot(data=merge_bin_aro[['octave_aro', 'sestet_aro']], width=0.2)\n",
    "axsb.set(ylim=(0.2,0.9))"
   ]
  },
  {
   "cell_type": "code",
   "execution_count": null,
   "metadata": {},
   "outputs": [],
   "source": []
  },
  {
   "cell_type": "markdown",
   "metadata": {},
   "source": [
    "### Dominance"
   ]
  },
  {
   "cell_type": "code",
   "execution_count": 123,
   "metadata": {},
   "outputs": [],
   "source": [
    "os_groups_dom_cont = df.groupby(['SonnetID', 'OctSes'])['dominance_call'].aggregate('mean').unstack()"
   ]
  },
  {
   "cell_type": "code",
   "execution_count": 124,
   "metadata": {},
   "outputs": [],
   "source": [
    "os_groups_dom_cont = os_groups_dom_cont.rename_axis('SonnetID').reset_index()"
   ]
  },
  {
   "cell_type": "code",
   "execution_count": 125,
   "metadata": {},
   "outputs": [],
   "source": [
    "os_groups_dom_cont.rename(columns={\"octave\": \"octave_dom\", \"sestet\": \"sestet_dom\"}, inplace=True)"
   ]
  },
  {
   "cell_type": "code",
   "execution_count": 126,
   "metadata": {
    "scrolled": true
   },
   "outputs": [
    {
     "data": {
      "text/html": [
       "<div>\n",
       "<style scoped>\n",
       "    .dataframe tbody tr th:only-of-type {\n",
       "        vertical-align: middle;\n",
       "    }\n",
       "\n",
       "    .dataframe tbody tr th {\n",
       "        vertical-align: top;\n",
       "    }\n",
       "\n",
       "    .dataframe thead th {\n",
       "        text-align: right;\n",
       "    }\n",
       "</style>\n",
       "<table border=\"1\" class=\"dataframe\">\n",
       "  <thead>\n",
       "    <tr style=\"text-align: right;\">\n",
       "      <th>OctSes</th>\n",
       "      <th>SonnetID</th>\n",
       "      <th>octave_dom</th>\n",
       "      <th>sestet_dom</th>\n",
       "    </tr>\n",
       "  </thead>\n",
       "  <tbody>\n",
       "    <tr>\n",
       "      <th>0</th>\n",
       "      <td>AgustinDeSalazarYTorres_1</td>\n",
       "      <td>NaN</td>\n",
       "      <td>NaN</td>\n",
       "    </tr>\n",
       "    <tr>\n",
       "      <th>1</th>\n",
       "      <td>AgustinDeSalazarYTorres_10</td>\n",
       "      <td>0.885000</td>\n",
       "      <td>NaN</td>\n",
       "    </tr>\n",
       "    <tr>\n",
       "      <th>2</th>\n",
       "      <td>AgustinDeSalazarYTorres_11</td>\n",
       "      <td>0.352000</td>\n",
       "      <td>NaN</td>\n",
       "    </tr>\n",
       "    <tr>\n",
       "      <th>3</th>\n",
       "      <td>AgustinDeSalazarYTorres_12</td>\n",
       "      <td>NaN</td>\n",
       "      <td>NaN</td>\n",
       "    </tr>\n",
       "    <tr>\n",
       "      <th>4</th>\n",
       "      <td>AgustinDeSalazarYTorres_13</td>\n",
       "      <td>NaN</td>\n",
       "      <td>0.87</td>\n",
       "    </tr>\n",
       "    <tr>\n",
       "      <th>...</th>\n",
       "      <td>...</td>\n",
       "      <td>...</td>\n",
       "      <td>...</td>\n",
       "    </tr>\n",
       "    <tr>\n",
       "      <th>5809</th>\n",
       "      <td>s485g_1012</td>\n",
       "      <td>0.833000</td>\n",
       "      <td>NaN</td>\n",
       "    </tr>\n",
       "    <tr>\n",
       "      <th>5810</th>\n",
       "      <td>s486g_1013_01</td>\n",
       "      <td>NaN</td>\n",
       "      <td>NaN</td>\n",
       "    </tr>\n",
       "    <tr>\n",
       "      <th>5811</th>\n",
       "      <td>s486g_1013_02</td>\n",
       "      <td>NaN</td>\n",
       "      <td>NaN</td>\n",
       "    </tr>\n",
       "    <tr>\n",
       "      <th>5812</th>\n",
       "      <td>s487g_1014</td>\n",
       "      <td>0.484000</td>\n",
       "      <td>NaN</td>\n",
       "    </tr>\n",
       "    <tr>\n",
       "      <th>5813</th>\n",
       "      <td>s488g_1015</td>\n",
       "      <td>0.500375</td>\n",
       "      <td>NaN</td>\n",
       "    </tr>\n",
       "  </tbody>\n",
       "</table>\n",
       "<p>5814 rows × 3 columns</p>\n",
       "</div>"
      ],
      "text/plain": [
       "OctSes                    SonnetID  octave_dom  sestet_dom\n",
       "0        AgustinDeSalazarYTorres_1         NaN         NaN\n",
       "1       AgustinDeSalazarYTorres_10    0.885000         NaN\n",
       "2       AgustinDeSalazarYTorres_11    0.352000         NaN\n",
       "3       AgustinDeSalazarYTorres_12         NaN         NaN\n",
       "4       AgustinDeSalazarYTorres_13         NaN        0.87\n",
       "...                            ...         ...         ...\n",
       "5809                    s485g_1012    0.833000         NaN\n",
       "5810                 s486g_1013_01         NaN         NaN\n",
       "5811                 s486g_1013_02         NaN         NaN\n",
       "5812                    s487g_1014    0.484000         NaN\n",
       "5813                    s488g_1015    0.500375         NaN\n",
       "\n",
       "[5814 rows x 3 columns]"
      ]
     },
     "execution_count": 126,
     "metadata": {},
     "output_type": "execute_result"
    }
   ],
   "source": [
    "os_groups_dom_cont"
   ]
  },
  {
   "cell_type": "code",
   "execution_count": 127,
   "metadata": {},
   "outputs": [
    {
     "data": {
      "text/html": [
       "<div>\n",
       "<style scoped>\n",
       "    .dataframe tbody tr th:only-of-type {\n",
       "        vertical-align: middle;\n",
       "    }\n",
       "\n",
       "    .dataframe tbody tr th {\n",
       "        vertical-align: top;\n",
       "    }\n",
       "\n",
       "    .dataframe thead th {\n",
       "        text-align: right;\n",
       "    }\n",
       "</style>\n",
       "<table border=\"1\" class=\"dataframe\">\n",
       "  <thead>\n",
       "    <tr style=\"text-align: right;\">\n",
       "      <th>OctSes</th>\n",
       "      <th>octave_dom</th>\n",
       "      <th>sestet_dom</th>\n",
       "    </tr>\n",
       "  </thead>\n",
       "  <tbody>\n",
       "    <tr>\n",
       "      <th>count</th>\n",
       "      <td>2332.000000</td>\n",
       "      <td>1575.000000</td>\n",
       "    </tr>\n",
       "    <tr>\n",
       "      <th>mean</th>\n",
       "      <td>0.526420</td>\n",
       "      <td>0.525970</td>\n",
       "    </tr>\n",
       "    <tr>\n",
       "      <th>std</th>\n",
       "      <td>0.177109</td>\n",
       "      <td>0.178475</td>\n",
       "    </tr>\n",
       "    <tr>\n",
       "      <th>min</th>\n",
       "      <td>0.109000</td>\n",
       "      <td>0.098000</td>\n",
       "    </tr>\n",
       "    <tr>\n",
       "      <th>25%</th>\n",
       "      <td>0.388000</td>\n",
       "      <td>0.379000</td>\n",
       "    </tr>\n",
       "    <tr>\n",
       "      <th>50%</th>\n",
       "      <td>0.527250</td>\n",
       "      <td>0.528000</td>\n",
       "    </tr>\n",
       "    <tr>\n",
       "      <th>75%</th>\n",
       "      <td>0.634500</td>\n",
       "      <td>0.634000</td>\n",
       "    </tr>\n",
       "    <tr>\n",
       "      <th>max</th>\n",
       "      <td>0.904000</td>\n",
       "      <td>0.904000</td>\n",
       "    </tr>\n",
       "  </tbody>\n",
       "</table>\n",
       "</div>"
      ],
      "text/plain": [
       "OctSes   octave_dom   sestet_dom\n",
       "count   2332.000000  1575.000000\n",
       "mean       0.526420     0.525970\n",
       "std        0.177109     0.178475\n",
       "min        0.109000     0.098000\n",
       "25%        0.388000     0.379000\n",
       "50%        0.527250     0.528000\n",
       "75%        0.634500     0.634000\n",
       "max        0.904000     0.904000"
      ]
     },
     "execution_count": 127,
     "metadata": {},
     "output_type": "execute_result"
    }
   ],
   "source": [
    "os_groups_dom_cont[['octave_dom', 'sestet_dom']].describe(include='all')"
   ]
  },
  {
   "cell_type": "code",
   "execution_count": 128,
   "metadata": {},
   "outputs": [
    {
     "data": {
      "text/plain": [
       "'1.8.1'"
      ]
     },
     "execution_count": 128,
     "metadata": {},
     "output_type": "execute_result"
    }
   ],
   "source": [
    "import scipy\n",
    "scipy.__version__"
   ]
  },
  {
   "cell_type": "code",
   "execution_count": 129,
   "metadata": {},
   "outputs": [
    {
     "data": {
      "text/plain": [
       "Ttest_indResult(statistic=0.0775692125389478, pvalue=0.9381747074500822)"
      ]
     },
     "execution_count": 129,
     "metadata": {},
     "output_type": "execute_result"
    }
   ],
   "source": [
    "ttest_ind(os_groups_dom_cont['octave_dom'], os_groups_dom_cont['sestet_dom'], nan_policy='omit')"
   ]
  },
  {
   "cell_type": "code",
   "execution_count": 130,
   "metadata": {},
   "outputs": [
    {
     "data": {
      "text/plain": [
       "Ttest_indResult(statistic=0.07745382151223738, pvalue=0.9382671373050028)"
      ]
     },
     "execution_count": 130,
     "metadata": {},
     "output_type": "execute_result"
    }
   ],
   "source": [
    "ttest_ind(os_groups_dom_cont['octave_dom'], os_groups_dom_cont['sestet_dom'], nan_policy='omit', equal_var=False)"
   ]
  },
  {
   "cell_type": "code",
   "execution_count": 131,
   "metadata": {},
   "outputs": [
    {
     "data": {
      "text/plain": [
       "WilcoxonResult(statistic=nan, pvalue=nan)"
      ]
     },
     "execution_count": 131,
     "metadata": {},
     "output_type": "execute_result"
    }
   ],
   "source": [
    "wilcoxon(os_groups_dom_cont['octave_dom'], os_groups_dom_cont['sestet_dom'])"
   ]
  },
  {
   "cell_type": "code",
   "execution_count": 132,
   "metadata": {},
   "outputs": [
    {
     "data": {
      "text/plain": [
       "WilcoxonResult(statistic=92850.0, pvalue=0.40614048090642985)"
      ]
     },
     "execution_count": 132,
     "metadata": {},
     "output_type": "execute_result"
    }
   ],
   "source": [
    "wilcoxon(os_groups_dom_cont['octave_dom'], os_groups_dom_cont['sestet_dom'], nan_policy='omit')"
   ]
  },
  {
   "cell_type": "code",
   "execution_count": 133,
   "metadata": {},
   "outputs": [
    {
     "data": {
      "text/plain": [
       "MannwhitneyuResult(statistic=nan, pvalue=nan)"
      ]
     },
     "execution_count": 133,
     "metadata": {},
     "output_type": "execute_result"
    }
   ],
   "source": [
    "mannwhitneyu(os_groups_dom_cont['octave_dom'], os_groups_dom_cont['sestet_dom'])"
   ]
  },
  {
   "cell_type": "code",
   "execution_count": 134,
   "metadata": {},
   "outputs": [
    {
     "data": {
      "text/plain": [
       "MannwhitneyuResult(statistic=24267549.0, pvalue=0.0)"
      ]
     },
     "execution_count": 134,
     "metadata": {},
     "output_type": "execute_result"
    }
   ],
   "source": [
    "mannwhitneyu(os_groups_dom_cont['octave_dom'].apply(lambda x:x if not pd.isna(x) else np.mean(os_groups_dom_cont['octave_dom'])),\n",
    "             os_groups_dom_cont['sestet_dom'].apply(lambda x:x if not pd.isna(x) else np.mean(os_groups_dom_cont['sestet_dom'])))"
   ]
  },
  {
   "cell_type": "code",
   "execution_count": 135,
   "metadata": {},
   "outputs": [
    {
     "data": {
      "text/plain": [
       "4239"
      ]
     },
     "execution_count": 135,
     "metadata": {},
     "output_type": "execute_result"
    }
   ],
   "source": [
    "os_groups_dom_cont['sestet_dom'].isna().sum()"
   ]
  },
  {
   "cell_type": "code",
   "execution_count": 136,
   "metadata": {},
   "outputs": [
    {
     "data": {
      "text/plain": [
       "3482"
      ]
     },
     "execution_count": 136,
     "metadata": {},
     "output_type": "execute_result"
    }
   ],
   "source": [
    "os_groups_dom_cont['octave_dom'].isna().sum()"
   ]
  },
  {
   "cell_type": "code",
   "execution_count": 137,
   "metadata": {},
   "outputs": [],
   "source": [
    "os_groups_dom_cont_both_notna = os_groups_dom_cont.loc[~(os_groups_dom_cont['octave_dom'].isna())\n",
    "                                                       & ~(os_groups_dom_cont['sestet_dom'].isna())]"
   ]
  },
  {
   "cell_type": "code",
   "execution_count": 138,
   "metadata": {},
   "outputs": [
    {
     "data": {
      "text/plain": [
       "624"
      ]
     },
     "execution_count": 138,
     "metadata": {},
     "output_type": "execute_result"
    }
   ],
   "source": [
    "len(os_groups_dom_cont_both_notna)"
   ]
  },
  {
   "cell_type": "code",
   "execution_count": 139,
   "metadata": {},
   "outputs": [
    {
     "data": {
      "text/html": [
       "<div>\n",
       "<style scoped>\n",
       "    .dataframe tbody tr th:only-of-type {\n",
       "        vertical-align: middle;\n",
       "    }\n",
       "\n",
       "    .dataframe tbody tr th {\n",
       "        vertical-align: top;\n",
       "    }\n",
       "\n",
       "    .dataframe thead th {\n",
       "        text-align: right;\n",
       "    }\n",
       "</style>\n",
       "<table border=\"1\" class=\"dataframe\">\n",
       "  <thead>\n",
       "    <tr style=\"text-align: right;\">\n",
       "      <th>OctSes</th>\n",
       "      <th>SonnetID</th>\n",
       "      <th>octave_dom</th>\n",
       "      <th>sestet_dom</th>\n",
       "    </tr>\n",
       "  </thead>\n",
       "  <tbody>\n",
       "    <tr>\n",
       "      <th>14</th>\n",
       "      <td>AgustinDeSalazarYTorres_22</td>\n",
       "      <td>0.657000</td>\n",
       "      <td>0.46300</td>\n",
       "    </tr>\n",
       "    <tr>\n",
       "      <th>26</th>\n",
       "      <td>AgustinDeSalazarYTorres_6</td>\n",
       "      <td>0.204000</td>\n",
       "      <td>0.88500</td>\n",
       "    </tr>\n",
       "    <tr>\n",
       "      <th>27</th>\n",
       "      <td>AgustinDeSalazarYTorres_7</td>\n",
       "      <td>0.578000</td>\n",
       "      <td>0.52925</td>\n",
       "    </tr>\n",
       "    <tr>\n",
       "      <th>29</th>\n",
       "      <td>AgustinDeSalazarYTorres_9</td>\n",
       "      <td>0.620125</td>\n",
       "      <td>0.36800</td>\n",
       "    </tr>\n",
       "    <tr>\n",
       "      <th>33</th>\n",
       "      <td>AntonioEnriquezGomez_12</td>\n",
       "      <td>0.746000</td>\n",
       "      <td>0.78800</td>\n",
       "    </tr>\n",
       "    <tr>\n",
       "      <th>...</th>\n",
       "      <td>...</td>\n",
       "      <td>...</td>\n",
       "      <td>...</td>\n",
       "    </tr>\n",
       "    <tr>\n",
       "      <th>5764</th>\n",
       "      <td>s450g_0963</td>\n",
       "      <td>0.515000</td>\n",
       "      <td>0.32700</td>\n",
       "    </tr>\n",
       "    <tr>\n",
       "      <th>5768</th>\n",
       "      <td>s454g_0967</td>\n",
       "      <td>0.354000</td>\n",
       "      <td>0.35200</td>\n",
       "    </tr>\n",
       "    <tr>\n",
       "      <th>5771</th>\n",
       "      <td>s455g_0970</td>\n",
       "      <td>0.429000</td>\n",
       "      <td>0.37300</td>\n",
       "    </tr>\n",
       "    <tr>\n",
       "      <th>5795</th>\n",
       "      <td>s474g_0998</td>\n",
       "      <td>0.409000</td>\n",
       "      <td>0.39200</td>\n",
       "    </tr>\n",
       "    <tr>\n",
       "      <th>5803</th>\n",
       "      <td>s481g_1006</td>\n",
       "      <td>0.885000</td>\n",
       "      <td>0.70200</td>\n",
       "    </tr>\n",
       "  </tbody>\n",
       "</table>\n",
       "<p>624 rows × 3 columns</p>\n",
       "</div>"
      ],
      "text/plain": [
       "OctSes                    SonnetID  octave_dom  sestet_dom\n",
       "14      AgustinDeSalazarYTorres_22    0.657000     0.46300\n",
       "26       AgustinDeSalazarYTorres_6    0.204000     0.88500\n",
       "27       AgustinDeSalazarYTorres_7    0.578000     0.52925\n",
       "29       AgustinDeSalazarYTorres_9    0.620125     0.36800\n",
       "33         AntonioEnriquezGomez_12    0.746000     0.78800\n",
       "...                            ...         ...         ...\n",
       "5764                    s450g_0963    0.515000     0.32700\n",
       "5768                    s454g_0967    0.354000     0.35200\n",
       "5771                    s455g_0970    0.429000     0.37300\n",
       "5795                    s474g_0998    0.409000     0.39200\n",
       "5803                    s481g_1006    0.885000     0.70200\n",
       "\n",
       "[624 rows x 3 columns]"
      ]
     },
     "execution_count": 139,
     "metadata": {},
     "output_type": "execute_result"
    }
   ],
   "source": [
    "os_groups_dom_cont_both_notna"
   ]
  },
  {
   "cell_type": "code",
   "execution_count": 140,
   "metadata": {},
   "outputs": [
    {
     "data": {
      "text/plain": [
       "MannwhitneyuResult(statistic=200005.5, pvalue=0.4034213427020439)"
      ]
     },
     "execution_count": 140,
     "metadata": {},
     "output_type": "execute_result"
    }
   ],
   "source": [
    "mannwhitneyu(os_groups_dom_cont_both_notna['octave_dom'], os_groups_dom_cont_both_notna['sestet_dom'])"
   ]
  },
  {
   "cell_type": "code",
   "execution_count": 141,
   "metadata": {},
   "outputs": [
    {
     "data": {
      "text/plain": [
       "WilcoxonResult(statistic=92850.0, pvalue=0.40614048090642985)"
      ]
     },
     "execution_count": 141,
     "metadata": {},
     "output_type": "execute_result"
    }
   ],
   "source": [
    "wilcoxon(os_groups_dom_cont_both_notna['octave_dom'], os_groups_dom_cont_both_notna['sestet_dom'])\n"
   ]
  },
  {
   "cell_type": "markdown",
   "metadata": {},
   "source": [
    "no significance if we take cases where both are not nan and anyway there weren't many cases with both covered per sonnet, so analysis was not even warranted"
   ]
  },
  {
   "cell_type": "markdown",
   "metadata": {},
   "source": [
    "## Merge binary with continuous"
   ]
  },
  {
   "cell_type": "markdown",
   "metadata": {},
   "source": [
    "- `df3` has binary values, can now merge with matrices that have continuous scores for valence and arousal.\n",
    "- `merge_bin_aro` (for arousal) is already restricted to cases we we have more arousal values than a given threshold in the octave and sestet respectively"
   ]
  },
  {
   "cell_type": "code",
   "execution_count": 198,
   "metadata": {},
   "outputs": [],
   "source": [
    "merge_bin_val_final = pd.merge(df3, os_groups_cont, on='SonnetID')"
   ]
  },
  {
   "cell_type": "code",
   "execution_count": 199,
   "metadata": {},
   "outputs": [],
   "source": [
    "merge_bin_val_aro_final = pd.merge(merge_bin_val_final, merge_bin_aro, on='SonnetID', how='outer', indicator=True)"
   ]
  },
  {
   "cell_type": "code",
   "execution_count": 200,
   "metadata": {
    "scrolled": true
   },
   "outputs": [
    {
     "data": {
      "text/html": [
       "<div>\n",
       "<style scoped>\n",
       "    .dataframe tbody tr th:only-of-type {\n",
       "        vertical-align: middle;\n",
       "    }\n",
       "\n",
       "    .dataframe tbody tr th {\n",
       "        vertical-align: top;\n",
       "    }\n",
       "\n",
       "    .dataframe thead th {\n",
       "        text-align: right;\n",
       "    }\n",
       "</style>\n",
       "<table border=\"1\" class=\"dataframe\">\n",
       "  <thead>\n",
       "    <tr style=\"text-align: right;\">\n",
       "      <th></th>\n",
       "      <th>SonnetID</th>\n",
       "      <th>octave_0</th>\n",
       "      <th>octave_1</th>\n",
       "      <th>octave_9</th>\n",
       "      <th>sestet_0</th>\n",
       "      <th>sestet_1</th>\n",
       "      <th>sestet_9</th>\n",
       "      <th>o_act</th>\n",
       "      <th>s_act</th>\n",
       "      <th>oct0_m_ses0</th>\n",
       "      <th>...</th>\n",
       "      <th>sestet_val</th>\n",
       "      <th>octave_aro_0</th>\n",
       "      <th>octave_aro_1</th>\n",
       "      <th>sestet_aro_0</th>\n",
       "      <th>sestet_aro_1</th>\n",
       "      <th>o_act_aro</th>\n",
       "      <th>s_act_aro</th>\n",
       "      <th>octave_aro</th>\n",
       "      <th>sestet_aro</th>\n",
       "      <th>_merge</th>\n",
       "    </tr>\n",
       "  </thead>\n",
       "  <tbody>\n",
       "    <tr>\n",
       "      <th>0</th>\n",
       "      <td>AgustinDeSalazarYTorres_10</td>\n",
       "      <td>4.0</td>\n",
       "      <td>4.0</td>\n",
       "      <td>0.0</td>\n",
       "      <td>3.0</td>\n",
       "      <td>3.0</td>\n",
       "      <td>0.0</td>\n",
       "      <td>8.0</td>\n",
       "      <td>6.0</td>\n",
       "      <td>1.0</td>\n",
       "      <td>...</td>\n",
       "      <td>0.424204</td>\n",
       "      <td>0.0</td>\n",
       "      <td>8.0</td>\n",
       "      <td>0.0</td>\n",
       "      <td>6.0</td>\n",
       "      <td>8.0</td>\n",
       "      <td>6.0</td>\n",
       "      <td>0.617110</td>\n",
       "      <td>0.604019</td>\n",
       "      <td>both</td>\n",
       "    </tr>\n",
       "    <tr>\n",
       "      <th>1</th>\n",
       "      <td>AgustinDeSalazarYTorres_11</td>\n",
       "      <td>2.0</td>\n",
       "      <td>4.0</td>\n",
       "      <td>2.0</td>\n",
       "      <td>3.0</td>\n",
       "      <td>3.0</td>\n",
       "      <td>0.0</td>\n",
       "      <td>8.0</td>\n",
       "      <td>6.0</td>\n",
       "      <td>-1.0</td>\n",
       "      <td>...</td>\n",
       "      <td>0.439066</td>\n",
       "      <td>2.0</td>\n",
       "      <td>6.0</td>\n",
       "      <td>0.0</td>\n",
       "      <td>6.0</td>\n",
       "      <td>8.0</td>\n",
       "      <td>6.0</td>\n",
       "      <td>0.514401</td>\n",
       "      <td>0.690307</td>\n",
       "      <td>both</td>\n",
       "    </tr>\n",
       "    <tr>\n",
       "      <th>2</th>\n",
       "      <td>AgustinDeSalazarYTorres_13</td>\n",
       "      <td>3.0</td>\n",
       "      <td>4.0</td>\n",
       "      <td>1.0</td>\n",
       "      <td>2.0</td>\n",
       "      <td>3.0</td>\n",
       "      <td>1.0</td>\n",
       "      <td>8.0</td>\n",
       "      <td>6.0</td>\n",
       "      <td>1.0</td>\n",
       "      <td>...</td>\n",
       "      <td>0.565704</td>\n",
       "      <td>1.0</td>\n",
       "      <td>7.0</td>\n",
       "      <td>1.0</td>\n",
       "      <td>5.0</td>\n",
       "      <td>8.0</td>\n",
       "      <td>6.0</td>\n",
       "      <td>0.570415</td>\n",
       "      <td>0.576409</td>\n",
       "      <td>both</td>\n",
       "    </tr>\n",
       "    <tr>\n",
       "      <th>3</th>\n",
       "      <td>AgustinDeSalazarYTorres_14</td>\n",
       "      <td>1.0</td>\n",
       "      <td>7.0</td>\n",
       "      <td>0.0</td>\n",
       "      <td>2.0</td>\n",
       "      <td>4.0</td>\n",
       "      <td>0.0</td>\n",
       "      <td>8.0</td>\n",
       "      <td>6.0</td>\n",
       "      <td>-1.0</td>\n",
       "      <td>...</td>\n",
       "      <td>0.491109</td>\n",
       "      <td>0.0</td>\n",
       "      <td>8.0</td>\n",
       "      <td>1.0</td>\n",
       "      <td>5.0</td>\n",
       "      <td>8.0</td>\n",
       "      <td>6.0</td>\n",
       "      <td>0.531915</td>\n",
       "      <td>0.556028</td>\n",
       "      <td>both</td>\n",
       "    </tr>\n",
       "    <tr>\n",
       "      <th>4</th>\n",
       "      <td>AgustinDeSalazarYTorres_17</td>\n",
       "      <td>1.0</td>\n",
       "      <td>5.0</td>\n",
       "      <td>2.0</td>\n",
       "      <td>2.0</td>\n",
       "      <td>4.0</td>\n",
       "      <td>0.0</td>\n",
       "      <td>8.0</td>\n",
       "      <td>6.0</td>\n",
       "      <td>-1.0</td>\n",
       "      <td>...</td>\n",
       "      <td>0.565685</td>\n",
       "      <td>2.0</td>\n",
       "      <td>6.0</td>\n",
       "      <td>1.0</td>\n",
       "      <td>5.0</td>\n",
       "      <td>8.0</td>\n",
       "      <td>6.0</td>\n",
       "      <td>0.488180</td>\n",
       "      <td>0.514894</td>\n",
       "      <td>both</td>\n",
       "    </tr>\n",
       "    <tr>\n",
       "      <th>...</th>\n",
       "      <td>...</td>\n",
       "      <td>...</td>\n",
       "      <td>...</td>\n",
       "      <td>...</td>\n",
       "      <td>...</td>\n",
       "      <td>...</td>\n",
       "      <td>...</td>\n",
       "      <td>...</td>\n",
       "      <td>...</td>\n",
       "      <td>...</td>\n",
       "      <td>...</td>\n",
       "      <td>...</td>\n",
       "      <td>...</td>\n",
       "      <td>...</td>\n",
       "      <td>...</td>\n",
       "      <td>...</td>\n",
       "      <td>...</td>\n",
       "      <td>...</td>\n",
       "      <td>...</td>\n",
       "      <td>...</td>\n",
       "      <td>...</td>\n",
       "    </tr>\n",
       "    <tr>\n",
       "      <th>4377</th>\n",
       "      <td>s452g_0965</td>\n",
       "      <td>NaN</td>\n",
       "      <td>NaN</td>\n",
       "      <td>NaN</td>\n",
       "      <td>NaN</td>\n",
       "      <td>NaN</td>\n",
       "      <td>NaN</td>\n",
       "      <td>NaN</td>\n",
       "      <td>NaN</td>\n",
       "      <td>NaN</td>\n",
       "      <td>...</td>\n",
       "      <td>NaN</td>\n",
       "      <td>0.0</td>\n",
       "      <td>8.0</td>\n",
       "      <td>2.0</td>\n",
       "      <td>4.0</td>\n",
       "      <td>8.0</td>\n",
       "      <td>6.0</td>\n",
       "      <td>0.568972</td>\n",
       "      <td>0.710284</td>\n",
       "      <td>right_only</td>\n",
       "    </tr>\n",
       "    <tr>\n",
       "      <th>4378</th>\n",
       "      <td>s456g_0971</td>\n",
       "      <td>NaN</td>\n",
       "      <td>NaN</td>\n",
       "      <td>NaN</td>\n",
       "      <td>NaN</td>\n",
       "      <td>NaN</td>\n",
       "      <td>NaN</td>\n",
       "      <td>NaN</td>\n",
       "      <td>NaN</td>\n",
       "      <td>NaN</td>\n",
       "      <td>...</td>\n",
       "      <td>NaN</td>\n",
       "      <td>0.0</td>\n",
       "      <td>8.0</td>\n",
       "      <td>2.0</td>\n",
       "      <td>4.0</td>\n",
       "      <td>8.0</td>\n",
       "      <td>6.0</td>\n",
       "      <td>0.646809</td>\n",
       "      <td>0.506028</td>\n",
       "      <td>right_only</td>\n",
       "    </tr>\n",
       "    <tr>\n",
       "      <th>4379</th>\n",
       "      <td>s457g_0973</td>\n",
       "      <td>NaN</td>\n",
       "      <td>NaN</td>\n",
       "      <td>NaN</td>\n",
       "      <td>NaN</td>\n",
       "      <td>NaN</td>\n",
       "      <td>NaN</td>\n",
       "      <td>NaN</td>\n",
       "      <td>NaN</td>\n",
       "      <td>NaN</td>\n",
       "      <td>...</td>\n",
       "      <td>NaN</td>\n",
       "      <td>1.0</td>\n",
       "      <td>7.0</td>\n",
       "      <td>2.0</td>\n",
       "      <td>4.0</td>\n",
       "      <td>8.0</td>\n",
       "      <td>6.0</td>\n",
       "      <td>0.589866</td>\n",
       "      <td>0.578014</td>\n",
       "      <td>right_only</td>\n",
       "    </tr>\n",
       "    <tr>\n",
       "      <th>4380</th>\n",
       "      <td>s472g_0994</td>\n",
       "      <td>NaN</td>\n",
       "      <td>NaN</td>\n",
       "      <td>NaN</td>\n",
       "      <td>NaN</td>\n",
       "      <td>NaN</td>\n",
       "      <td>NaN</td>\n",
       "      <td>NaN</td>\n",
       "      <td>NaN</td>\n",
       "      <td>NaN</td>\n",
       "      <td>...</td>\n",
       "      <td>NaN</td>\n",
       "      <td>1.0</td>\n",
       "      <td>7.0</td>\n",
       "      <td>2.0</td>\n",
       "      <td>4.0</td>\n",
       "      <td>8.0</td>\n",
       "      <td>6.0</td>\n",
       "      <td>0.519240</td>\n",
       "      <td>0.548582</td>\n",
       "      <td>right_only</td>\n",
       "    </tr>\n",
       "    <tr>\n",
       "      <th>4381</th>\n",
       "      <td>s483g_1010</td>\n",
       "      <td>NaN</td>\n",
       "      <td>NaN</td>\n",
       "      <td>NaN</td>\n",
       "      <td>NaN</td>\n",
       "      <td>NaN</td>\n",
       "      <td>NaN</td>\n",
       "      <td>NaN</td>\n",
       "      <td>NaN</td>\n",
       "      <td>NaN</td>\n",
       "      <td>...</td>\n",
       "      <td>NaN</td>\n",
       "      <td>2.0</td>\n",
       "      <td>6.0</td>\n",
       "      <td>2.0</td>\n",
       "      <td>4.0</td>\n",
       "      <td>8.0</td>\n",
       "      <td>6.0</td>\n",
       "      <td>0.483452</td>\n",
       "      <td>0.521631</td>\n",
       "      <td>right_only</td>\n",
       "    </tr>\n",
       "  </tbody>\n",
       "</table>\n",
       "<p>4382 rows × 25 columns</p>\n",
       "</div>"
      ],
      "text/plain": [
       "                        SonnetID  octave_0  octave_1  octave_9  sestet_0  \\\n",
       "0     AgustinDeSalazarYTorres_10       4.0       4.0       0.0       3.0   \n",
       "1     AgustinDeSalazarYTorres_11       2.0       4.0       2.0       3.0   \n",
       "2     AgustinDeSalazarYTorres_13       3.0       4.0       1.0       2.0   \n",
       "3     AgustinDeSalazarYTorres_14       1.0       7.0       0.0       2.0   \n",
       "4     AgustinDeSalazarYTorres_17       1.0       5.0       2.0       2.0   \n",
       "...                          ...       ...       ...       ...       ...   \n",
       "4377                  s452g_0965       NaN       NaN       NaN       NaN   \n",
       "4378                  s456g_0971       NaN       NaN       NaN       NaN   \n",
       "4379                  s457g_0973       NaN       NaN       NaN       NaN   \n",
       "4380                  s472g_0994       NaN       NaN       NaN       NaN   \n",
       "4381                  s483g_1010       NaN       NaN       NaN       NaN   \n",
       "\n",
       "      sestet_1  sestet_9  o_act  s_act  oct0_m_ses0  ...  sestet_val  \\\n",
       "0          3.0       0.0    8.0    6.0          1.0  ...    0.424204   \n",
       "1          3.0       0.0    8.0    6.0         -1.0  ...    0.439066   \n",
       "2          3.0       1.0    8.0    6.0          1.0  ...    0.565704   \n",
       "3          4.0       0.0    8.0    6.0         -1.0  ...    0.491109   \n",
       "4          4.0       0.0    8.0    6.0         -1.0  ...    0.565685   \n",
       "...        ...       ...    ...    ...          ...  ...         ...   \n",
       "4377       NaN       NaN    NaN    NaN          NaN  ...         NaN   \n",
       "4378       NaN       NaN    NaN    NaN          NaN  ...         NaN   \n",
       "4379       NaN       NaN    NaN    NaN          NaN  ...         NaN   \n",
       "4380       NaN       NaN    NaN    NaN          NaN  ...         NaN   \n",
       "4381       NaN       NaN    NaN    NaN          NaN  ...         NaN   \n",
       "\n",
       "      octave_aro_0  octave_aro_1  sestet_aro_0  sestet_aro_1  o_act_aro  \\\n",
       "0              0.0           8.0           0.0           6.0        8.0   \n",
       "1              2.0           6.0           0.0           6.0        8.0   \n",
       "2              1.0           7.0           1.0           5.0        8.0   \n",
       "3              0.0           8.0           1.0           5.0        8.0   \n",
       "4              2.0           6.0           1.0           5.0        8.0   \n",
       "...            ...           ...           ...           ...        ...   \n",
       "4377           0.0           8.0           2.0           4.0        8.0   \n",
       "4378           0.0           8.0           2.0           4.0        8.0   \n",
       "4379           1.0           7.0           2.0           4.0        8.0   \n",
       "4380           1.0           7.0           2.0           4.0        8.0   \n",
       "4381           2.0           6.0           2.0           4.0        8.0   \n",
       "\n",
       "      s_act_aro  octave_aro  sestet_aro      _merge  \n",
       "0           6.0    0.617110    0.604019        both  \n",
       "1           6.0    0.514401    0.690307        both  \n",
       "2           6.0    0.570415    0.576409        both  \n",
       "3           6.0    0.531915    0.556028        both  \n",
       "4           6.0    0.488180    0.514894        both  \n",
       "...         ...         ...         ...         ...  \n",
       "4377        6.0    0.568972    0.710284  right_only  \n",
       "4378        6.0    0.646809    0.506028  right_only  \n",
       "4379        6.0    0.589866    0.578014  right_only  \n",
       "4380        6.0    0.519240    0.548582  right_only  \n",
       "4381        6.0    0.483452    0.521631  right_only  \n",
       "\n",
       "[4382 rows x 25 columns]"
      ]
     },
     "execution_count": 200,
     "metadata": {},
     "output_type": "execute_result"
    }
   ],
   "source": [
    "merge_bin_val_aro_final"
   ]
  },
  {
   "cell_type": "markdown",
   "metadata": {},
   "source": [
    "Adding some more columns that we may sort with"
   ]
  },
  {
   "cell_type": "code",
   "execution_count": 201,
   "metadata": {},
   "outputs": [],
   "source": [
    "mf = merge_bin_val_aro_final\n",
    "mf['octval_m_sesval'] = mf['octave_val'] - mf['sestet_val']\n",
    "mf['octaro_m_sesaro'] = mf['octave_aro'] - mf['sestet_aro']"
   ]
  },
  {
   "cell_type": "code",
   "execution_count": 202,
   "metadata": {
    "scrolled": false
   },
   "outputs": [
    {
     "data": {
      "text/html": [
       "<div>\n",
       "<style scoped>\n",
       "    .dataframe tbody tr th:only-of-type {\n",
       "        vertical-align: middle;\n",
       "    }\n",
       "\n",
       "    .dataframe tbody tr th {\n",
       "        vertical-align: top;\n",
       "    }\n",
       "\n",
       "    .dataframe thead th {\n",
       "        text-align: right;\n",
       "    }\n",
       "</style>\n",
       "<table border=\"1\" class=\"dataframe\">\n",
       "  <thead>\n",
       "    <tr style=\"text-align: right;\">\n",
       "      <th></th>\n",
       "      <th>SonnetID</th>\n",
       "      <th>octave_0</th>\n",
       "      <th>octave_1</th>\n",
       "      <th>octave_9</th>\n",
       "      <th>sestet_0</th>\n",
       "      <th>sestet_1</th>\n",
       "      <th>sestet_9</th>\n",
       "      <th>o_act</th>\n",
       "      <th>s_act</th>\n",
       "      <th>oct0_m_ses0</th>\n",
       "      <th>...</th>\n",
       "      <th>octave_aro_1</th>\n",
       "      <th>sestet_aro_0</th>\n",
       "      <th>sestet_aro_1</th>\n",
       "      <th>o_act_aro</th>\n",
       "      <th>s_act_aro</th>\n",
       "      <th>octave_aro</th>\n",
       "      <th>sestet_aro</th>\n",
       "      <th>_merge</th>\n",
       "      <th>octval_m_sesval</th>\n",
       "      <th>octaro_m_sesaro</th>\n",
       "    </tr>\n",
       "  </thead>\n",
       "  <tbody>\n",
       "    <tr>\n",
       "      <th>0</th>\n",
       "      <td>AgustinDeSalazarYTorres_10</td>\n",
       "      <td>4.0</td>\n",
       "      <td>4.0</td>\n",
       "      <td>0.0</td>\n",
       "      <td>3.0</td>\n",
       "      <td>3.0</td>\n",
       "      <td>0.0</td>\n",
       "      <td>8.0</td>\n",
       "      <td>6.0</td>\n",
       "      <td>1.0</td>\n",
       "      <td>...</td>\n",
       "      <td>8.0</td>\n",
       "      <td>0.0</td>\n",
       "      <td>6.0</td>\n",
       "      <td>8.0</td>\n",
       "      <td>6.0</td>\n",
       "      <td>0.617110</td>\n",
       "      <td>0.604019</td>\n",
       "      <td>both</td>\n",
       "      <td>0.029447</td>\n",
       "      <td>0.013091</td>\n",
       "    </tr>\n",
       "    <tr>\n",
       "      <th>1</th>\n",
       "      <td>AgustinDeSalazarYTorres_11</td>\n",
       "      <td>2.0</td>\n",
       "      <td>4.0</td>\n",
       "      <td>2.0</td>\n",
       "      <td>3.0</td>\n",
       "      <td>3.0</td>\n",
       "      <td>0.0</td>\n",
       "      <td>8.0</td>\n",
       "      <td>6.0</td>\n",
       "      <td>-1.0</td>\n",
       "      <td>...</td>\n",
       "      <td>6.0</td>\n",
       "      <td>0.0</td>\n",
       "      <td>6.0</td>\n",
       "      <td>8.0</td>\n",
       "      <td>6.0</td>\n",
       "      <td>0.514401</td>\n",
       "      <td>0.690307</td>\n",
       "      <td>both</td>\n",
       "      <td>0.138862</td>\n",
       "      <td>-0.175907</td>\n",
       "    </tr>\n",
       "    <tr>\n",
       "      <th>2</th>\n",
       "      <td>AgustinDeSalazarYTorres_13</td>\n",
       "      <td>3.0</td>\n",
       "      <td>4.0</td>\n",
       "      <td>1.0</td>\n",
       "      <td>2.0</td>\n",
       "      <td>3.0</td>\n",
       "      <td>1.0</td>\n",
       "      <td>8.0</td>\n",
       "      <td>6.0</td>\n",
       "      <td>1.0</td>\n",
       "      <td>...</td>\n",
       "      <td>7.0</td>\n",
       "      <td>1.0</td>\n",
       "      <td>5.0</td>\n",
       "      <td>8.0</td>\n",
       "      <td>6.0</td>\n",
       "      <td>0.570415</td>\n",
       "      <td>0.576409</td>\n",
       "      <td>both</td>\n",
       "      <td>-0.101100</td>\n",
       "      <td>-0.005993</td>\n",
       "    </tr>\n",
       "    <tr>\n",
       "      <th>3</th>\n",
       "      <td>AgustinDeSalazarYTorres_14</td>\n",
       "      <td>1.0</td>\n",
       "      <td>7.0</td>\n",
       "      <td>0.0</td>\n",
       "      <td>2.0</td>\n",
       "      <td>4.0</td>\n",
       "      <td>0.0</td>\n",
       "      <td>8.0</td>\n",
       "      <td>6.0</td>\n",
       "      <td>-1.0</td>\n",
       "      <td>...</td>\n",
       "      <td>8.0</td>\n",
       "      <td>1.0</td>\n",
       "      <td>5.0</td>\n",
       "      <td>8.0</td>\n",
       "      <td>6.0</td>\n",
       "      <td>0.531915</td>\n",
       "      <td>0.556028</td>\n",
       "      <td>both</td>\n",
       "      <td>0.136757</td>\n",
       "      <td>-0.024113</td>\n",
       "    </tr>\n",
       "    <tr>\n",
       "      <th>4</th>\n",
       "      <td>AgustinDeSalazarYTorres_17</td>\n",
       "      <td>1.0</td>\n",
       "      <td>5.0</td>\n",
       "      <td>2.0</td>\n",
       "      <td>2.0</td>\n",
       "      <td>4.0</td>\n",
       "      <td>0.0</td>\n",
       "      <td>8.0</td>\n",
       "      <td>6.0</td>\n",
       "      <td>-1.0</td>\n",
       "      <td>...</td>\n",
       "      <td>6.0</td>\n",
       "      <td>1.0</td>\n",
       "      <td>5.0</td>\n",
       "      <td>8.0</td>\n",
       "      <td>6.0</td>\n",
       "      <td>0.488180</td>\n",
       "      <td>0.514894</td>\n",
       "      <td>both</td>\n",
       "      <td>0.020303</td>\n",
       "      <td>-0.026714</td>\n",
       "    </tr>\n",
       "    <tr>\n",
       "      <th>...</th>\n",
       "      <td>...</td>\n",
       "      <td>...</td>\n",
       "      <td>...</td>\n",
       "      <td>...</td>\n",
       "      <td>...</td>\n",
       "      <td>...</td>\n",
       "      <td>...</td>\n",
       "      <td>...</td>\n",
       "      <td>...</td>\n",
       "      <td>...</td>\n",
       "      <td>...</td>\n",
       "      <td>...</td>\n",
       "      <td>...</td>\n",
       "      <td>...</td>\n",
       "      <td>...</td>\n",
       "      <td>...</td>\n",
       "      <td>...</td>\n",
       "      <td>...</td>\n",
       "      <td>...</td>\n",
       "      <td>...</td>\n",
       "      <td>...</td>\n",
       "    </tr>\n",
       "    <tr>\n",
       "      <th>4377</th>\n",
       "      <td>s452g_0965</td>\n",
       "      <td>NaN</td>\n",
       "      <td>NaN</td>\n",
       "      <td>NaN</td>\n",
       "      <td>NaN</td>\n",
       "      <td>NaN</td>\n",
       "      <td>NaN</td>\n",
       "      <td>NaN</td>\n",
       "      <td>NaN</td>\n",
       "      <td>NaN</td>\n",
       "      <td>...</td>\n",
       "      <td>8.0</td>\n",
       "      <td>2.0</td>\n",
       "      <td>4.0</td>\n",
       "      <td>8.0</td>\n",
       "      <td>6.0</td>\n",
       "      <td>0.568972</td>\n",
       "      <td>0.710284</td>\n",
       "      <td>right_only</td>\n",
       "      <td>NaN</td>\n",
       "      <td>-0.141312</td>\n",
       "    </tr>\n",
       "    <tr>\n",
       "      <th>4378</th>\n",
       "      <td>s456g_0971</td>\n",
       "      <td>NaN</td>\n",
       "      <td>NaN</td>\n",
       "      <td>NaN</td>\n",
       "      <td>NaN</td>\n",
       "      <td>NaN</td>\n",
       "      <td>NaN</td>\n",
       "      <td>NaN</td>\n",
       "      <td>NaN</td>\n",
       "      <td>NaN</td>\n",
       "      <td>...</td>\n",
       "      <td>8.0</td>\n",
       "      <td>2.0</td>\n",
       "      <td>4.0</td>\n",
       "      <td>8.0</td>\n",
       "      <td>6.0</td>\n",
       "      <td>0.646809</td>\n",
       "      <td>0.506028</td>\n",
       "      <td>right_only</td>\n",
       "      <td>NaN</td>\n",
       "      <td>0.140780</td>\n",
       "    </tr>\n",
       "    <tr>\n",
       "      <th>4379</th>\n",
       "      <td>s457g_0973</td>\n",
       "      <td>NaN</td>\n",
       "      <td>NaN</td>\n",
       "      <td>NaN</td>\n",
       "      <td>NaN</td>\n",
       "      <td>NaN</td>\n",
       "      <td>NaN</td>\n",
       "      <td>NaN</td>\n",
       "      <td>NaN</td>\n",
       "      <td>NaN</td>\n",
       "      <td>...</td>\n",
       "      <td>7.0</td>\n",
       "      <td>2.0</td>\n",
       "      <td>4.0</td>\n",
       "      <td>8.0</td>\n",
       "      <td>6.0</td>\n",
       "      <td>0.589866</td>\n",
       "      <td>0.578014</td>\n",
       "      <td>right_only</td>\n",
       "      <td>NaN</td>\n",
       "      <td>0.011852</td>\n",
       "    </tr>\n",
       "    <tr>\n",
       "      <th>4380</th>\n",
       "      <td>s472g_0994</td>\n",
       "      <td>NaN</td>\n",
       "      <td>NaN</td>\n",
       "      <td>NaN</td>\n",
       "      <td>NaN</td>\n",
       "      <td>NaN</td>\n",
       "      <td>NaN</td>\n",
       "      <td>NaN</td>\n",
       "      <td>NaN</td>\n",
       "      <td>NaN</td>\n",
       "      <td>...</td>\n",
       "      <td>7.0</td>\n",
       "      <td>2.0</td>\n",
       "      <td>4.0</td>\n",
       "      <td>8.0</td>\n",
       "      <td>6.0</td>\n",
       "      <td>0.519240</td>\n",
       "      <td>0.548582</td>\n",
       "      <td>right_only</td>\n",
       "      <td>NaN</td>\n",
       "      <td>-0.029341</td>\n",
       "    </tr>\n",
       "    <tr>\n",
       "      <th>4381</th>\n",
       "      <td>s483g_1010</td>\n",
       "      <td>NaN</td>\n",
       "      <td>NaN</td>\n",
       "      <td>NaN</td>\n",
       "      <td>NaN</td>\n",
       "      <td>NaN</td>\n",
       "      <td>NaN</td>\n",
       "      <td>NaN</td>\n",
       "      <td>NaN</td>\n",
       "      <td>NaN</td>\n",
       "      <td>...</td>\n",
       "      <td>6.0</td>\n",
       "      <td>2.0</td>\n",
       "      <td>4.0</td>\n",
       "      <td>8.0</td>\n",
       "      <td>6.0</td>\n",
       "      <td>0.483452</td>\n",
       "      <td>0.521631</td>\n",
       "      <td>right_only</td>\n",
       "      <td>NaN</td>\n",
       "      <td>-0.038180</td>\n",
       "    </tr>\n",
       "  </tbody>\n",
       "</table>\n",
       "<p>4382 rows × 27 columns</p>\n",
       "</div>"
      ],
      "text/plain": [
       "                        SonnetID  octave_0  octave_1  octave_9  sestet_0  \\\n",
       "0     AgustinDeSalazarYTorres_10       4.0       4.0       0.0       3.0   \n",
       "1     AgustinDeSalazarYTorres_11       2.0       4.0       2.0       3.0   \n",
       "2     AgustinDeSalazarYTorres_13       3.0       4.0       1.0       2.0   \n",
       "3     AgustinDeSalazarYTorres_14       1.0       7.0       0.0       2.0   \n",
       "4     AgustinDeSalazarYTorres_17       1.0       5.0       2.0       2.0   \n",
       "...                          ...       ...       ...       ...       ...   \n",
       "4377                  s452g_0965       NaN       NaN       NaN       NaN   \n",
       "4378                  s456g_0971       NaN       NaN       NaN       NaN   \n",
       "4379                  s457g_0973       NaN       NaN       NaN       NaN   \n",
       "4380                  s472g_0994       NaN       NaN       NaN       NaN   \n",
       "4381                  s483g_1010       NaN       NaN       NaN       NaN   \n",
       "\n",
       "      sestet_1  sestet_9  o_act  s_act  oct0_m_ses0  ...  octave_aro_1  \\\n",
       "0          3.0       0.0    8.0    6.0          1.0  ...           8.0   \n",
       "1          3.0       0.0    8.0    6.0         -1.0  ...           6.0   \n",
       "2          3.0       1.0    8.0    6.0          1.0  ...           7.0   \n",
       "3          4.0       0.0    8.0    6.0         -1.0  ...           8.0   \n",
       "4          4.0       0.0    8.0    6.0         -1.0  ...           6.0   \n",
       "...        ...       ...    ...    ...          ...  ...           ...   \n",
       "4377       NaN       NaN    NaN    NaN          NaN  ...           8.0   \n",
       "4378       NaN       NaN    NaN    NaN          NaN  ...           8.0   \n",
       "4379       NaN       NaN    NaN    NaN          NaN  ...           7.0   \n",
       "4380       NaN       NaN    NaN    NaN          NaN  ...           7.0   \n",
       "4381       NaN       NaN    NaN    NaN          NaN  ...           6.0   \n",
       "\n",
       "      sestet_aro_0  sestet_aro_1  o_act_aro  s_act_aro  octave_aro  \\\n",
       "0              0.0           6.0        8.0        6.0    0.617110   \n",
       "1              0.0           6.0        8.0        6.0    0.514401   \n",
       "2              1.0           5.0        8.0        6.0    0.570415   \n",
       "3              1.0           5.0        8.0        6.0    0.531915   \n",
       "4              1.0           5.0        8.0        6.0    0.488180   \n",
       "...            ...           ...        ...        ...         ...   \n",
       "4377           2.0           4.0        8.0        6.0    0.568972   \n",
       "4378           2.0           4.0        8.0        6.0    0.646809   \n",
       "4379           2.0           4.0        8.0        6.0    0.589866   \n",
       "4380           2.0           4.0        8.0        6.0    0.519240   \n",
       "4381           2.0           4.0        8.0        6.0    0.483452   \n",
       "\n",
       "      sestet_aro      _merge  octval_m_sesval  octaro_m_sesaro  \n",
       "0       0.604019        both         0.029447         0.013091  \n",
       "1       0.690307        both         0.138862        -0.175907  \n",
       "2       0.576409        both        -0.101100        -0.005993  \n",
       "3       0.556028        both         0.136757        -0.024113  \n",
       "4       0.514894        both         0.020303        -0.026714  \n",
       "...          ...         ...              ...              ...  \n",
       "4377    0.710284  right_only              NaN        -0.141312  \n",
       "4378    0.506028  right_only              NaN         0.140780  \n",
       "4379    0.578014  right_only              NaN         0.011852  \n",
       "4380    0.548582  right_only              NaN        -0.029341  \n",
       "4381    0.521631  right_only              NaN        -0.038180  \n",
       "\n",
       "[4382 rows x 27 columns]"
      ]
     },
     "execution_count": 202,
     "metadata": {},
     "output_type": "execute_result"
    }
   ],
   "source": [
    "mf"
   ]
  },
  {
   "cell_type": "code",
   "execution_count": 203,
   "metadata": {
    "scrolled": false
   },
   "outputs": [
    {
     "data": {
      "text/plain": [
       "Index(['SonnetID', 'octave_0', 'octave_1', 'octave_9', 'sestet_0', 'sestet_1',\n",
       "       'sestet_9', 'o_act', 's_act', 'oct0_m_ses0', 'oct1_m_ses1',\n",
       "       'oct1_m_ses0', 'oct0_m_ses1', 'oct1ses1_m_oct0ses0', 'octave_val',\n",
       "       'sestet_val', 'octave_aro_0', 'octave_aro_1', 'sestet_aro_0',\n",
       "       'sestet_aro_1', 'o_act_aro', 's_act_aro', 'octave_aro', 'sestet_aro',\n",
       "       '_merge', 'octval_m_sesval', 'octaro_m_sesaro'],\n",
       "      dtype='object')"
      ]
     },
     "execution_count": 203,
     "metadata": {},
     "output_type": "execute_result"
    }
   ],
   "source": [
    "mf.columns"
   ]
  },
  {
   "cell_type": "code",
   "execution_count": 204,
   "metadata": {},
   "outputs": [
    {
     "name": "stdout",
     "output_type": "stream",
     "text": [
      "-0.5207843144798054\n",
      "-0.5207843144798054\n",
      "-0.49656391592862414\n",
      "-0.49656391592862414\n",
      "-0.3450175558262216\n",
      "-0.3450175558262216\n"
     ]
    }
   ],
   "source": [
    "for method in ('pearson', 'spearman', 'kendall'):\n",
    "    print(mf.sestet_val.corr(mf.sestet_aro, method=method))\n",
    "    print(mf.loc[mf['_merge'] == 'both', 'sestet_val'].corr(mf.loc[mf['_merge'] == 'both', 'sestet_aro'], method=method))"
   ]
  },
  {
   "cell_type": "code",
   "execution_count": 205,
   "metadata": {},
   "outputs": [
    {
     "name": "stdout",
     "output_type": "stream",
     "text": [
      "-0.5029329257099283\n",
      "-0.5029329257099283\n",
      "-0.48627432164936946\n",
      "-0.48627432164936946\n",
      "-0.3365986301166242\n",
      "-0.3365986301166242\n"
     ]
    }
   ],
   "source": [
    "for method in ('pearson', 'spearman', 'kendall'):\n",
    "    print(mf.octave_val.corr(mf.octave_aro, method=method))\n",
    "    print(mf.loc[mf['_merge'] == 'both', 'octave_val'].corr(mf.loc[mf['_merge'] == 'both', 'octave_aro'], method=method))    "
   ]
  },
  {
   "cell_type": "code",
   "execution_count": 206,
   "metadata": {},
   "outputs": [
    {
     "name": "stdout",
     "output_type": "stream",
     "text": [
      "0.12449506756668571\n",
      "0.12646531582405748\n",
      "0.08445187624263573\n"
     ]
    }
   ],
   "source": [
    "for method in ('pearson', 'spearman', 'kendall'):\n",
    "    print(mf.octave_val.corr(mf.sestet_val, method=method))"
   ]
  },
  {
   "cell_type": "code",
   "execution_count": 207,
   "metadata": {},
   "outputs": [
    {
     "name": "stdout",
     "output_type": "stream",
     "text": [
      "0.10150731224002933\n",
      "0.10312239369856563\n",
      "0.06892084872011887\n"
     ]
    }
   ],
   "source": [
    "for method in ('pearson', 'spearman', 'kendall'):\n",
    "    print(mf.octave_aro.corr(mf.sestet_aro, method=method))"
   ]
  },
  {
   "cell_type": "code",
   "execution_count": 208,
   "metadata": {},
   "outputs": [
    {
     "data": {
      "text/plain": [
       "3693"
      ]
     },
     "execution_count": 208,
     "metadata": {},
     "output_type": "execute_result"
    }
   ],
   "source": [
    "len(mf.loc[mf['_merge'] == 'both', 'sestet_val'])"
   ]
  },
  {
   "cell_type": "code",
   "execution_count": 209,
   "metadata": {},
   "outputs": [
    {
     "data": {
      "text/plain": [
       "4382"
      ]
     },
     "execution_count": 209,
     "metadata": {},
     "output_type": "execute_result"
    }
   ],
   "source": [
    "len(mf)"
   ]
  },
  {
   "cell_type": "code",
   "execution_count": 210,
   "metadata": {},
   "outputs": [],
   "source": [
    "newcols = ['SonnetID', '_merge', 'octave_0', 'octave_1', 'octave_9', 'sestet_0', 'sestet_1', 'sestet_9',\n",
    "           'octave_aro_0', 'octave_aro_1', 'sestet_aro_0', 'sestet_aro_1',\n",
    "           'oct1_m_ses1', 'oct0_m_ses0', 'oct1_m_ses0', 'oct0_m_ses1', 'oct1ses1_m_oct0ses0',\n",
    "           'octave_val', 'sestet_val', 'octave_aro', 'sestet_aro', 'octval_m_sesval', 'octaro_m_sesaro']"
   ]
  },
  {
   "cell_type": "code",
   "execution_count": 212,
   "metadata": {},
   "outputs": [],
   "source": [
    "assert len(newcols) == len(mf.columns)-4"
   ]
  },
  {
   "cell_type": "code",
   "execution_count": 214,
   "metadata": {},
   "outputs": [
    {
     "data": {
      "text/plain": [
       "(23, 27)"
      ]
     },
     "execution_count": 214,
     "metadata": {},
     "output_type": "execute_result"
    }
   ],
   "source": [
    "len(newcols), len(mf.columns)"
   ]
  },
  {
   "cell_type": "code",
   "execution_count": 215,
   "metadata": {},
   "outputs": [],
   "source": [
    "mf_reordered = mf[newcols]"
   ]
  },
  {
   "cell_type": "code",
   "execution_count": 216,
   "metadata": {},
   "outputs": [],
   "source": [
    "newcols_renamer = {'SonnetID': 'sID',\n",
    "                   '_merge': '_m',\n",
    "                   'octave_0': 'o0',\n",
    "                   'octave_1': 'o1',\n",
    "                   'octave_9': 'o9',\n",
    "                   'sestet_0': 's0',\n",
    "                   'sestet_1': 's1',\n",
    "                   'sestet_9': 's9',\n",
    "                   'octave_aro_0': 'oa0',\n",
    "                   'octave_aro_1': 'oa1',\n",
    "                   'sestet_aro_0': 'sa0',\n",
    "                   'sestet_aro_1': 'sa1',\n",
    "                   'oct1_m_ses1': 'oms1',\n",
    "                   'oct0_m_ses0': 'oms0',\n",
    "                   'oct1_m_ses0': 'oms10',\n",
    "                   'oct0_m_ses1': 'oms01',\n",
    "                   'oct1ses1_m_oct0ses0': 'o1s1mo0s0',\n",
    "                   'octave_val': 'ov',\n",
    "                   'sestet_val': 'sv',\n",
    "                   'octave_aro': 'oa',\n",
    "                   'sestet_aro': 'sa',\n",
    "                   'octval_m_sesval': 'omsv',\n",
    "                   'octaro_m_sesaro': 'omsa'}"
   ]
  },
  {
   "cell_type": "code",
   "execution_count": 217,
   "metadata": {},
   "outputs": [
    {
     "name": "stderr",
     "output_type": "stream",
     "text": [
      "/tmp/ipykernel_687/1950040083.py:1: SettingWithCopyWarning: \n",
      "A value is trying to be set on a copy of a slice from a DataFrame\n",
      "\n",
      "See the caveats in the documentation: https://pandas.pydata.org/pandas-docs/stable/user_guide/indexing.html#returning-a-view-versus-a-copy\n",
      "  mf_reordered.rename(columns=newcols_renamer, inplace=True)\n"
     ]
    }
   ],
   "source": [
    "mf_reordered.rename(columns=newcols_renamer, inplace=True)"
   ]
  },
  {
   "cell_type": "code",
   "execution_count": 218,
   "metadata": {},
   "outputs": [],
   "source": [
    "#octave_min, octave_aro_min\n",
    "if True:\n",
    "    mf_reordered.round(4).to_csv(f\"../../data/octave_vs_sestet_merged_octvalmin{octave_min}_sesvalmin_{sestet_min}_\" +\n",
    "              f\"octaromin_{octave_aro_min}_sesaromin_{sestet_aro_min}_only_86_new.tsv\",\n",
    "              index=False, sep=\"\\t\")"
   ]
  },
  {
   "cell_type": "markdown",
   "metadata": {},
   "source": [
    "- left_only: valency counts passed the threshold, arousal didn't\n",
    "- right only: arousal counts passed the threshold, valence didn't"
   ]
  }
 ],
 "metadata": {
  "kernelspec": {
   "display_name": "Python 3 (ipykernel)",
   "language": "python",
   "name": "python3"
  },
  "language_info": {
   "codemirror_mode": {
    "name": "ipython",
    "version": 3
   },
   "file_extension": ".py",
   "mimetype": "text/x-python",
   "name": "python",
   "nbconvert_exporter": "python",
   "pygments_lexer": "ipython3",
   "version": "3.9.12"
  }
 },
 "nbformat": 4,
 "nbformat_minor": 4
}
