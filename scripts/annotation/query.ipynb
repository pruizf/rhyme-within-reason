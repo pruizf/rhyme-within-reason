{
 "cells": [
  {
   "cell_type": "markdown",
   "metadata": {},
   "source": [
    "## Queries into dataset"
   ]
  },
  {
   "cell_type": "code",
   "execution_count": 1,
   "metadata": {},
   "outputs": [],
   "source": [
    "import pandas as pd\n",
    "import re"
   ]
  },
  {
   "cell_type": "code",
   "execution_count": 2,
   "metadata": {
    "scrolled": false
   },
   "outputs": [
    {
     "name": "stderr",
     "output_type": "stream",
     "text": [
      "/home/ruizfabo/anaconda3/lib/python3.7/site-packages/IPython/core/interactiveshell.py:3331: DtypeWarning: Columns (7) have mixed types.Specify dtype option on import or set low_memory=False.\n",
      "  exec(code_obj, self.user_global_ns, self.user_ns)\n"
     ]
    }
   ],
   "source": [
    "cdf = pd.read_csv(\"../../data/dataframe-all_lem_sets_emos_with_nrc.tsv\", sep=\"\\t\")\n"
   ]
  },
  {
   "cell_type": "markdown",
   "metadata": {},
   "source": [
    "## Individual poems"
   ]
  },
  {
   "cell_type": "code",
   "execution_count": 4,
   "metadata": {},
   "outputs": [],
   "source": [
    "def format_sonnet(st):\n",
    "    st = re.sub(r\"#+\", \"\\n\\n\", st)\n",
    "    st = re.sub(r\"~+\", \"\\n\", st)\n",
    "    return st"
   ]
  },
  {
   "cell_type": "code",
   "execution_count": 31,
   "metadata": {},
   "outputs": [],
   "source": [
    "myid = 'LopeDeVega_767'\n",
    "myso = cdf.loc[cdf['SonnetID'] == myid]\n",
    "mytext = cdf.loc[cdf['SonnetID'] == myid].iloc[0]['Text']"
   ]
  },
  {
   "cell_type": "code",
   "execution_count": 32,
   "metadata": {
    "scrolled": false
   },
   "outputs": [
    {
     "name": "stdout",
     "output_type": "stream",
     "text": [
      "¿Puedo creer que aquesto es verdad? Puedo,\n",
      "si miro que es mujer. Diana hermosa \n",
      "pidió mi mano, y la color de rosa \n",
      "al dársela, robó del rostro el miedo.\n",
      "\n",
      "Tembló; yo lo sentí; dudoso quedo.\n",
      "¿Qué haré? Seguir mi suerte venturosa,\n",
      "si bien, por ser la empresa tan dudosa,\n",
      "niego al temor lo que al valor concedo.\n",
      "\n",
      "Mas dejar a Marcela es caso injusto;\n",
      "que las mujeres no es razón que esperen \n",
      "de nuestra obligación tanto disgusto.\n",
      "\n",
      "Pero si ellas nos dejan cuando quieren \n",
      "por cualquier interés o nuevo gusto,\n",
      "mueran también como los hombres mueren.\n"
     ]
    }
   ],
   "source": [
    "print(format_sonnet(mytext))"
   ]
  },
  {
   "cell_type": "markdown",
   "metadata": {},
   "source": [
    "Create call-echo signatures"
   ]
  },
  {
   "cell_type": "code",
   "execution_count": 3,
   "metadata": {},
   "outputs": [],
   "source": [
    "cdf['sig'] = cdf[['valence_call_b', 'valence_echo_b']].apply(lambda row: ''.join(row.values.astype(str)), axis=1)"
   ]
  },
  {
   "cell_type": "markdown",
   "metadata": {},
   "source": [
    "## Working with rhyme-echo signatures"
   ]
  },
  {
   "cell_type": "markdown",
   "metadata": {},
   "source": [
    "Extract only sonnet id and signature"
   ]
  },
  {
   "cell_type": "code",
   "execution_count": 4,
   "metadata": {},
   "outputs": [],
   "source": [
    "sdf = cdf[['SonnetID', 'sig']]"
   ]
  },
  {
   "cell_type": "code",
   "execution_count": 5,
   "metadata": {},
   "outputs": [],
   "source": [
    "# https://stackoverflow.com/a/24112443/16449778\n",
    "\n",
    "sdfg = sdf.groupby(['SonnetID']).aggregate(lambda tdf: tdf.unique().tolist())"
   ]
  },
  {
   "cell_type": "code",
   "execution_count": 6,
   "metadata": {},
   "outputs": [],
   "source": [
    "sdfg['sigsort'] = sdfg['sig'].apply(sorted)"
   ]
  },
  {
   "cell_type": "markdown",
   "metadata": {},
   "source": [
    "Extract poems with only two types of signatures to see if they include missing values (9)"
   ]
  },
  {
   "cell_type": "code",
   "execution_count": 7,
   "metadata": {
    "scrolled": true
   },
   "outputs": [
    {
     "data": {
      "text/html": [
       "<div>\n",
       "<style scoped>\n",
       "    .dataframe tbody tr th:only-of-type {\n",
       "        vertical-align: middle;\n",
       "    }\n",
       "\n",
       "    .dataframe tbody tr th {\n",
       "        vertical-align: top;\n",
       "    }\n",
       "\n",
       "    .dataframe thead th {\n",
       "        text-align: right;\n",
       "    }\n",
       "</style>\n",
       "<table border=\"1\" class=\"dataframe\">\n",
       "  <thead>\n",
       "    <tr style=\"text-align: right;\">\n",
       "      <th></th>\n",
       "      <th>sigsort</th>\n",
       "    </tr>\n",
       "    <tr>\n",
       "      <th>SonnetID</th>\n",
       "      <th></th>\n",
       "    </tr>\n",
       "  </thead>\n",
       "  <tbody>\n",
       "    <tr>\n",
       "      <th>CristobalDeVirues_4</th>\n",
       "      <td>[11, 19]</td>\n",
       "    </tr>\n",
       "    <tr>\n",
       "      <th>FernandoDeHerrera_209</th>\n",
       "      <td>[01, 19]</td>\n",
       "    </tr>\n",
       "    <tr>\n",
       "      <th>FernandoDeHerrera_260</th>\n",
       "      <td>[11, 19]</td>\n",
       "    </tr>\n",
       "    <tr>\n",
       "      <th>Gongora_67</th>\n",
       "      <td>[19, 99]</td>\n",
       "    </tr>\n",
       "    <tr>\n",
       "      <th>HernandodeAcunya_22</th>\n",
       "      <td>[11, 19]</td>\n",
       "    </tr>\n",
       "    <tr>\n",
       "      <th>HernandodeAcunya_83</th>\n",
       "      <td>[11, 19]</td>\n",
       "    </tr>\n",
       "    <tr>\n",
       "      <th>LopeDeVega_1131</th>\n",
       "      <td>[00, 09]</td>\n",
       "    </tr>\n",
       "    <tr>\n",
       "      <th>LopeDeVega_677</th>\n",
       "      <td>[11, 19]</td>\n",
       "    </tr>\n",
       "    <tr>\n",
       "      <th>LopeDeVega_86</th>\n",
       "      <td>[11, 19]</td>\n",
       "    </tr>\n",
       "    <tr>\n",
       "      <th>MiraDeAmescua_17</th>\n",
       "      <td>[11, 19]</td>\n",
       "    </tr>\n",
       "    <tr>\n",
       "      <th>s217g_0457_03</th>\n",
       "      <td>[11, 19]</td>\n",
       "    </tr>\n",
       "    <tr>\n",
       "      <th>s347g_0806</th>\n",
       "      <td>[11, 19]</td>\n",
       "    </tr>\n",
       "    <tr>\n",
       "      <th>s482g_1007</th>\n",
       "      <td>[11, 19]</td>\n",
       "    </tr>\n",
       "  </tbody>\n",
       "</table>\n",
       "</div>"
      ],
      "text/plain": [
       "                        sigsort\n",
       "SonnetID                       \n",
       "CristobalDeVirues_4    [11, 19]\n",
       "FernandoDeHerrera_209  [01, 19]\n",
       "FernandoDeHerrera_260  [11, 19]\n",
       "Gongora_67             [19, 99]\n",
       "HernandodeAcunya_22    [11, 19]\n",
       "HernandodeAcunya_83    [11, 19]\n",
       "LopeDeVega_1131        [00, 09]\n",
       "LopeDeVega_677         [11, 19]\n",
       "LopeDeVega_86          [11, 19]\n",
       "MiraDeAmescua_17       [11, 19]\n",
       "s217g_0457_03          [11, 19]\n",
       "s347g_0806             [11, 19]\n",
       "s482g_1007             [11, 19]"
      ]
     },
     "execution_count": 7,
     "metadata": {},
     "output_type": "execute_result"
    }
   ],
   "source": [
    "sdfg.loc[sdfg['sigsort'].apply(len) == 2][['sigsort']]"
   ]
  },
  {
   "cell_type": "markdown",
   "metadata": {},
   "source": [
    "No poem with no missing values"
   ]
  }
 ],
 "metadata": {
  "kernelspec": {
   "display_name": "Python 3",
   "language": "python",
   "name": "python3"
  },
  "language_info": {
   "codemirror_mode": {
    "name": "ipython",
    "version": 3
   },
   "file_extension": ".py",
   "mimetype": "text/x-python",
   "name": "python",
   "nbconvert_exporter": "python",
   "pygments_lexer": "ipython3",
   "version": "3.7.7"
  }
 },
 "nbformat": 4,
 "nbformat_minor": 4
}
